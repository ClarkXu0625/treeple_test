{
 "cells": [
  {
   "cell_type": "code",
   "execution_count": 15,
   "metadata": {},
   "outputs": [],
   "source": [
    "import numpy as np\n",
    "import time\n",
    "import pandas as pd\n",
    "from sklearn.model_selection import train_test_split\n",
    "from sklearn.metrics import accuracy_score\n",
    "from treeple.datasets import make_trunk_classification\n",
    "import ydf"
   ]
  },
  {
   "cell_type": "code",
   "execution_count": 10,
   "metadata": {},
   "outputs": [],
   "source": [
    "def prepare_dataframe(X, y):\n",
    "    df = pd.DataFrame(X)\n",
    "    df.columns = [str(i) for i in df.columns]  # Convert column names to strings\n",
    "    df[\"target\"] = y.astype(int)  # Append target column\n",
    "\n",
    "    return df\n",
    "\n",
    "\n",
    "n_samples = 1000\n",
    "n_dim = 1784\n",
    "X, y = make_trunk_classification(n_samples=n_samples, n_dim=n_dim, n_informative=600, seed=0)\n",
    "\n",
    "\n",
    "# Train-Test Split (80/20)\n",
    "X_train, X_test, y_train, y_test = train_test_split(X, y, test_size=0.2, random_state=42, stratify=y)\n"
   ]
  },
  {
   "cell_type": "markdown",
   "metadata": {},
   "source": [
    "# YDF"
   ]
  },
  {
   "cell_type": "markdown",
   "metadata": {},
   "source": [
    "Checklist for things need to take care of\n",
    "- honest\n",
    "- bootstrap\n",
    "- missing_value\n",
    "- oblique\n",
    "- sparse oblique\n",
    "- "
   ]
  },
  {
   "cell_type": "markdown",
   "metadata": {},
   "source": [
    "## YDF hyperparameters\n",
    "adapt_bootstrap_size_ratio_for_maximum_training_duration\n",
    "allow_na_conditions\n",
    "bootstrap_size_ratio\n",
    "bootstrap_training_dataset\n",
    "categorical_algorithm\n",
    "categorical_set_split_greedy_sampling\n",
    "categorical_set_split_max_num_items\n",
    "categorical_set_split_min_item_frequency\n",
    "compute_oob_performances\n",
    "compute_oob_variable_importances\n",
    "growing_strategy\n",
    "honest\n",
    "honest_fixed_separation\n",
    "honest_ratio_leaf_examples\n",
    "in_split_min_examples_check\n",
    "keep_non_leaf_label_distribution\n",
    "max_depth\n",
    "max_num_nodes\n",
    "maximum_model_size_in_memory_in_bytes\n",
    "maximum_training_duration_seconds\n",
    "mhld_oblique_max_num_attributes\n",
    "mhld_oblique_sample_attributes\n",
    "min_examples\n",
    "missing_value_policy\n",
    "num_candidate_attributes\n",
    "num_candidate_attributes_ratio\n",
    "num_oob_variable_importances_permutations\n",
    "num_trees\n",
    "pure_serving_model\n",
    "random_seed\n",
    "sampling_with_replacement\n",
    "sorting_strategy\n",
    "sparse_oblique_max_num_projections\n",
    "sparse_oblique_normalization\n",
    "sparse_oblique_num_projections_exponent\n",
    "sparse_oblique_projection_density_factor\n",
    "sparse_oblique_weights\n",
    "split_axis\n",
    "uplift_min_examples_in_treatment\n",
    "uplift_split_score\n",
    "winner_take_all"
   ]
  },
  {
   "cell_type": "markdown",
   "metadata": {},
   "source": [
    "https://ydf.readthedocs.io/en/stable/py_api/RandomForestLearner/"
   ]
  },
  {
   "cell_type": "code",
   "execution_count": 54,
   "metadata": {},
   "outputs": [],
   "source": [
    "params_ydf = {}\n",
    "params_ydf[\"label\"] = 'target'\n",
    "params_ydf[\"task\"] = \"CLASSIFICATION\"\n",
    "params_ydf[\"weights\"] = None\n",
    "params_ydf[\"ranking_group\"] = None\n",
    "params_ydf[\"uplift_treatment\"] = None\n",
    "params_ydf[\"features\"] = None\n",
    "params_ydf[\"include_all_columns\"] = False\n",
    "params_ydf[\"max_vocab_count\"] = 2000\n",
    "params_ydf[\"min_vocab_frequency\"] = 5\n",
    "params_ydf[\"discretize_numerical_columns\"] = False\n",
    "params_ydf[\"num_discretized_numerical_bins\"] = 255\n",
    "params_ydf[\"max_num_scanned_rows_to_infer_semantic\"] = 100000\n",
    "params_ydf[\"max_num_scanned_rows_to_compute_statistics\"] = 100000\n",
    "params_ydf[\"data_spec\"] = None\n",
    "params_ydf[\"adapt_bootstrap_size_ratio_for_maximum_training_duration\"] = False\n",
    "params_ydf[\"allow_na_conditions\"] = False\n",
    "params_ydf[\"bootstrap_size_ratio\"] = 1.0\n",
    "params_ydf[\"bootstrap_training_dataset\"] = True\n",
    "params_ydf[\"categorical_algorithm\"] = \"RANDOM\"\n",
    "params_ydf[\"categorical_set_split_greedy_sampling\"] = 0.1\n",
    "params_ydf[\"categorical_set_split_max_num_items\"] = -1\n",
    "params_ydf[\"categorical_set_split_min_item_frequency\"] = 1\n",
    "params_ydf[\"compute_oob_performances\"] = True\n",
    "params_ydf[\"compute_oob_variable_importances\"] = False\n",
    "params_ydf[\"growing_strategy\"] = \"LOCAL\"\n",
    "params_ydf[\"honest\"] = False\n",
    "params_ydf[\"honest_fixed_separation\"] = False\n",
    "params_ydf[\"honest_ratio_leaf_examples\"] = 0.5\n",
    "params_ydf[\"in_split_min_examples_check\"] = True\n",
    "params_ydf[\"keep_non_leaf_label_distribution\"] = True\n",
    "params_ydf[\"max_depth\"] = MAX_DEPTH\n",
    "params_ydf[\"max_num_nodes\"] = -1.0 ###\n",
    "params_ydf[\"maximum_model_size_in_memory_in_bytes\"] = -1.0\n",
    "params_ydf[\"maximum_training_duration_seconds\"] = -1.0\n",
    "# params_ydf[\"mhld_oblique_max_num_attributes\"] = None\n",
    "# params_ydf[\"mhld_oblique_sample_attributes\"] = None\n",
    "params_ydf[\"min_examples\"] = 5\n",
    "params_ydf[\"missing_value_policy\"] = \"GLOBAL_IMPUTATION\"\n",
    "params_ydf[\"num_candidate_attributes\"] = 0\n",
    "# params_ydf[\"num_candidate_attributes_ratio\"] = None\n",
    "params_ydf[\"num_oob_variable_importances_permutations\"] = 1\n",
    "params_ydf[\"num_trees\"] = N_ESTIMATORS\n",
    "# params_ydf[\"numerical_vector_sequence_num_examples\"] = 1000\n",
    "# params_ydf[\"numerical_vector_sequence_num_random_anchors\"] = 100\n",
    "params_ydf[\"pure_serving_model\"] = False\n",
    "params_ydf[\"random_seed\"] = RANDOM_SEED\n",
    "params_ydf[\"sampling_with_replacement\"] = True\n",
    "params_ydf[\"sorting_strategy\"] = \"PRESORT\"\n",
    "# params_ydf[\"sparse_oblique_max_num_features\"] = None\n",
    "# params_ydf[\"sparse_oblique_max_num_projections\"] = None\n",
    "# params_ydf[\"sparse_oblique_normalization\"] = None\n",
    "# params_ydf[\"sparse_oblique_num_projections_exponent\"] = None\n",
    "# params_ydf[\"sparse_oblique_projection_density_factor\"] = None\n",
    "# params_ydf[\"sparse_oblique_weights\"] = None\n",
    "# params_ydf[\"sparse_oblique_weights_integer_maximum\"] = None\n",
    "# params_ydf[\"sparse_oblique_weights_integer_minimum\"] = None\n",
    "# params_ydf[\"sparse_oblique_weights_power_of_two_max_exponent\"] = None\n",
    "# params_ydf[\"sparse_oblique_weights_power_of_two_min_exponent\"] = None\n",
    "params_ydf[\"split_axis\"] = \"AXIS_ALIGNED\"\n",
    "params_ydf[\"uplift_min_examples_in_treatment\"] = 5\n",
    "params_ydf[\"uplift_split_score\"] = \"KULLBACK_LEIBLER\"\n",
    "params_ydf[\"winner_take_all\"] = True\n",
    "# params_ydf[\"working_dir\"] = None\n",
    "# params_ydf[\"num_threads\"] = None\n",
    "# params_ydf[\"tuner\"] = None\n",
    "# params_ydf[\"feature_selector\"] = None\n",
    "\n"
   ]
  },
  {
   "cell_type": "code",
   "execution_count": 65,
   "metadata": {},
   "outputs": [],
   "source": [
    "# Shared hyperparameters that used for both models\n",
    "MAX_DEPTH = 10\n",
    "N_ESTIMATORS = 500\n",
    "RANDOM_SEED = 42\n",
    "N_JOBS=-1\n",
    "BOOTSTRAP = True\n",
    "\n",
    "### ydf ###\n",
    "params_ydf = dict()\n",
    "params_ydf[\"label\"] = \"target\"\n",
    "params_ydf[\"max_depth\"] = MAX_DEPTH\n",
    "params_ydf[\"num_trees\"] = N_ESTIMATORS\n",
    "params_ydf[\"random_seed\"] = RANDOM_SEED\n",
    "params_ydf[\"honest\"] = False\n",
    "params_ydf[\"bootstrap_size_ratio\"] = 1.0\n",
    "params_ydf[\"bootstrap_training_dataset\"] = BOOTSTRAP\n",
    "params_ydf[\"categorical_algorithm\"] = \"RANDOM\" ###\n",
    "params_ydf[\"split_axis\"] = \"SPARSE_OBLIQUE\"\n",
    "params_ydf[\"sparse_oblique_max_num_projections\"] = 100\n",
    "\n",
    "### treeple ObliqueRandomForestClassifier ###\n",
    "params_treeple = {}\n",
    "params_treeple[\"n_estimators\"] = N_ESTIMATORS\n",
    "params_treeple[\"criterion\"] = \"entropy\"\n",
    "params_treeple[\"max_depth\"] = None\n",
    "params_treeple[\"min_samples_split\"] = 2\n",
    "params_treeple[\"min_samples_leaf\"] = 1\n",
    "params_treeple[\"min_weight_fraction_leaf\"] = 0.0\n",
    "params_treeple[\"max_features\"] = 100    #\"sqrt\"\n",
    "params_treeple[\"max_leaf_nodes\"] = None\n",
    "params_treeple[\"min_impurity_decrease\"] = 0.0\n",
    "params_treeple[\"bootstrap\"] = BOOTSTRAP\n",
    "params_treeple[\"oob_score\"] = False\n",
    "params_treeple[\"n_jobs\"] = N_JOBS\n",
    "params_treeple[\"random_state\"] = None\n",
    "params_treeple[\"verbose\"] = 0\n",
    "params_treeple[\"warm_start\"] = False\n",
    "params_treeple[\"class_weight\"] = None\n",
    "params_treeple[\"max_samples\"] = None\n",
    "params_treeple[\"feature_combinations\"] = None\n"
   ]
  },
  {
   "cell_type": "code",
   "execution_count": 68,
   "metadata": {},
   "outputs": [
    {
     "name": "stdout",
     "output_type": "stream",
     "text": [
      "Train model on 800 examples\n",
      "Model trained in 0:00:05.675697\n",
      "YDF | Dim: 1784 | Accuracy: 0.8100 | Train Time: 5.7766 sec\n"
     ]
    }
   ],
   "source": [
    "# # --- Train YDF ---\n",
    "    \n",
    "df_train = prepare_dataframe(X_train, y_train)\n",
    "df_test = prepare_dataframe(X_test, y_test)\n",
    "\n",
    "learner = ydf.RandomForestLearner(**params_ydf)\n",
    "start_time = time.time()\n",
    "ydf_model = learner.train(df_train)\n",
    "time_ydf = time.time() - start_time\n",
    "y_pred = ydf_model.predict(df_test)\n",
    "y_pred = (y_pred >= 0.5).astype(int) \n",
    "\n",
    "acc_ydf = accuracy_score(y_test, y_pred)\n",
    "\n",
    "print(f\"YDF | Dim: {n_dim} | Accuracy: {acc_ydf:.4f} | Train Time: {time_ydf:.4f} sec\")\n"
   ]
  },
  {
   "cell_type": "markdown",
   "metadata": {},
   "source": [
    "# Treeple"
   ]
  },
  {
   "cell_type": "code",
   "execution_count": null,
   "metadata": {},
   "outputs": [],
   "source": [
    "\n",
    "### treeple HonestForestClassifier ###\n",
    "params_treeple = dict()\n",
    "params_treeple[\"n_estimators\"] = 100\n",
    "params_treeple[\"criterion\"] = \"entropy\"  ###\n",
    "params_treeple[\"splitter\"] = \"best\"\n",
    "params_treeple[\"max_depth\"] = MAX_DEPTH\n",
    "params_treeple[\"min_samples_split\"] = 2\n",
    "params_treeple[\"min_samples_leaf\"] = 1\n",
    "params_treeple[\"min_weight_fraction_leaf\"] = 0.0\n",
    "params_treeple[\"max_features\"] = \"sqrt\"\n",
    "params_treeple[\"max_leaf_nodes\"] = None\n",
    "params_treeple[\"min_impurity_decrease\"] = 0.0\n",
    "params_treeple[\"bootstrap\"] = True\n",
    "params_treeple[\"oob_score\"] = False\n",
    "params_treeple[\"n_jobs\"] = None\n",
    "params_treeple[\"random_state\"] = None\n",
    "params_treeple[\"verbose\"] = 0\n",
    "params_treeple[\"warm_start\"] = False\n",
    "params_treeple[\"class_weight\"] = None\n",
    "params_treeple[\"ccp_alpha\"] = 0.0\n",
    "params_treeple[\"max_samples\"] = None\n",
    "params_treeple[\"honest_prior\"] = \"ignore\"\n",
    "params_treeple[\"honest_fraction\"] = 0.5\n",
    "params_treeple[\"honest_method\"] = \"apply\"\n",
    "params_treeple[\"tree_estimator\"] = None\n",
    "params_treeple[\"stratify\"] = False\n"
   ]
  },
  {
   "cell_type": "code",
   "execution_count": 34,
   "metadata": {},
   "outputs": [],
   "source": [
    "\n",
    "def train_and_evaluate(model, model_name, X_train, X_test, y_train, y_test):\n",
    "    \"\"\"\n",
    "    Train a given model and evaluate its accuracy and training time.\n",
    "    \"\"\"\n",
    "    start_time = time.time()\n",
    "    model.fit(X_train, y_train)\n",
    "    train_time = time.time() - start_time\n",
    "\n",
    "    y_pred = model.predict(X_test)\n",
    "    if isinstance(y_pred[0], np.ndarray):  # Some models return probabilities\n",
    "        y_pred = np.argmax(y_pred, axis=1)\n",
    "\n",
    "    accuracy = accuracy_score(y_test, y_pred)\n",
    "    print(f\"{model_name}: Accuracy = {accuracy:.4f}, Training Time = {train_time:.4f} sec\")\n",
    "    \n",
    "    return accuracy, train_time"
   ]
  },
  {
   "cell_type": "code",
   "execution_count": 69,
   "metadata": {},
   "outputs": [
    {
     "name": "stdout",
     "output_type": "stream",
     "text": [
      "Treeple: Accuracy = 0.8350, Training Time = 3.4786 sec\n"
     ]
    }
   ],
   "source": [
    "from treeple import ObliqueRandomForestClassifier\n",
    "\n",
    "treeple_model = ObliqueRandomForestClassifier(**params_treeple)\n",
    "acc_treeple, time_treeple = train_and_evaluate(treeple_model, \"Treeple\", X_train, X_test, y_train, y_test)"
   ]
  },
  {
   "cell_type": "markdown",
   "metadata": {},
   "source": []
  }
 ],
 "metadata": {
  "kernelspec": {
   "display_name": "treeple",
   "language": "python",
   "name": "python3"
  },
  "language_info": {
   "codemirror_mode": {
    "name": "ipython",
    "version": 3
   },
   "file_extension": ".py",
   "mimetype": "text/x-python",
   "name": "python",
   "nbconvert_exporter": "python",
   "pygments_lexer": "ipython3",
   "version": "3.10.16"
  }
 },
 "nbformat": 4,
 "nbformat_minor": 2
}
