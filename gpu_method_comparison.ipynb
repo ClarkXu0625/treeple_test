{
 "cells": [
  {
   "cell_type": "code",
   "execution_count": 10,
   "metadata": {},
   "outputs": [],
   "source": [
    "import numpy as np\n",
    "import time\n",
    "import xgboost as xgb\n",
    "import lightgbm as lgb\n",
    "import catboost as cb\n",
    "import ydf\n",
    "import pandas as pd\n",
    "from sklearn.model_selection import train_test_split\n",
    "from sklearn.metrics import accuracy_score\n",
    "from treeple.datasets import make_trunk_classification\n",
    "\n",
    "\n",
    "def train_and_evaluate(model, model_name, X_train, X_test, y_train, y_test):\n",
    "    \"\"\"\n",
    "    Train a given model and evaluate its accuracy and training time.\n",
    "    \"\"\"\n",
    "    start_time = time.time()\n",
    "    model.fit(X_train, y_train)\n",
    "    train_time = time.time() - start_time\n",
    "\n",
    "    y_pred = model.predict(X_test)\n",
    "    if isinstance(y_pred[0], np.ndarray):  # Some models return probabilities\n",
    "        y_pred = np.argmax(y_pred, axis=1)\n",
    "\n",
    "    accuracy = accuracy_score(y_test, y_pred)\n",
    "    print(f\"{model_name}: Accuracy = {accuracy:.4f}, Training Time = {train_time:.4f} sec\")\n",
    "    \n",
    "    return accuracy, train_time"
   ]
  },
  {
   "cell_type": "code",
   "execution_count": 9,
   "metadata": {},
   "outputs": [],
   "source": [
    "n_samples = 1000\n",
    "n_dim = 784\n",
    "X, y = make_trunk_classification(n_samples=n_samples, n_dim=n_dim, n_informative=600, seed=0)\n",
    "\n",
    "\n",
    "# Train-Test Split (80/20)\n",
    "X_train, X_test, y_train, y_test = train_test_split(X, y, test_size=0.2, random_state=42, stratify=y)\n"
   ]
  },
  {
   "cell_type": "code",
   "execution_count": null,
   "metadata": {},
   "outputs": [],
   "source": []
  },
  {
   "cell_type": "markdown",
   "metadata": {},
   "source": [
    "# xgboost\n",
    "\n",
    "https://xgboost.readthedocs.io/en/stable/tutorials/rf.html\n",
    "\n",
    "XGBoost is normally used to train gradient-boosted decision trees and other gradient boosted models. Random Forests use the same model representation and inference, as gradient-boosted decision trees, but a different training algorithm. One can use XGBoost to train a standalone random forest or use random forest as a base model for gradient boosting. Here we focus on training standalone random forest."
   ]
  },
  {
   "cell_type": "code",
   "execution_count": null,
   "metadata": {},
   "outputs": [
    {
     "name": "stdout",
     "output_type": "stream",
     "text": [
      "xgboost: Accuracy = 0.7500, Training Time = 2.2643 sec\n"
     ]
    }
   ],
   "source": [
    "start_time = time.time()\n",
    "xgb_model = xgb.XGBRFRegressor(random_state=42).fit(\n",
    "    X_train, y_train)\n",
    "train_time = time.time() - start_time\n",
    "y_pred = xgb_model.predict(X_test)\n",
    "\n",
    "y_pred = (y_pred >= 0.5).astype(int)  # Assign class 1 if prediction >= 0.5, else class 0\n",
    "\n",
    "accuracy = accuracy_score(y_test, y_pred)\n",
    "print(f\"xgboost: Accuracy = {accuracy:.4f}, Training Time = {train_time:.4f} sec\")"
   ]
  },
  {
   "cell_type": "markdown",
   "metadata": {},
   "source": [
    "# LightGBM"
   ]
  },
  {
   "cell_type": "code",
   "execution_count": null,
   "metadata": {},
   "outputs": [],
   "source": [
    "lgbm_model = lgb.LGBMClassifier(boosting_type='rf', random_state=42)"
   ]
  },
  {
   "cell_type": "code",
   "execution_count": null,
   "metadata": {},
   "outputs": [],
   "source": [
    "\n",
    "\n",
    "\n",
    "\n",
    "# XGBoost\n",
    "xgb_model = xgb.XGBRFRegressor(n_estimators=100, max_depth=6, learning_rate=0.1, use_label_encoder=False, eval_metric='logloss', tree_method=\"hist\")\n",
    "acc_xgb, time_xgb = train_and_evaluate(xgb_model, \"XGBoost\")\n",
    "\n",
    "# LightGBM\n",
    "lgb_model = lgb.LGBMClassifier(n_estimators=100, max_depth=6, learning_rate=0.1)\n",
    "acc_lgb, time_lgb = train_and_evaluate(lgb_model, \"LightGBM\")\n",
    "\n",
    "# CatBoost (doesn't require one-hot encoding)\n",
    "cb_model = cb.CatBoostClassifier(n_estimators=100, depth=6, learning_rate=0.1, verbose=0)\n",
    "acc_cb, time_cb = train_and_evaluate(cb_model, \"CatBoost\")\n",
    "\n",
    "# YDF \n",
    "ydf_model = ydf.GradientBoostedTreesLearner().train(X_train).train(X_train)\n"
   ]
  },
  {
   "cell_type": "code",
   "execution_count": null,
   "metadata": {},
   "outputs": [],
   "source": [
    "\n",
    "results = np.array([\n",
    "    [\"XGBoost\", acc_xgb, time_xgb],\n",
    "    [\"LightGBM\", acc_lgb, time_lgb],\n",
    "    [\"CatBoost\", acc_cb, time_cb],\n",
    "    [\"YDF\", acc_ydf, train_time_ydf]\n",
    "])\n",
    "\n",
    "np.savetxt(\"./result/trunk_simulation_results.txt\", results, fmt=\"%s\", delimiter=\",\", header=\"Model,Accuracy,Training_Time\", comments=\"\")\n",
    "print(\"\\nResults saved to ./result/trunk_simulation_results.txt\")\n",
    "\n",
    "# --- Step 5: Plot Accuracy vs. Training Time ---\n",
    "import matplotlib.pyplot as plt\n",
    "\n",
    "model_names = [\"XGBoost\", \"LightGBM\", \"CatBoost\", \"YDF\"]\n",
    "accuracies = [acc_xgb, acc_lgb, acc_cb, acc_ydf]\n",
    "train_times = [time_xgb, time_lgb, time_cb, train_time_ydf]\n",
    "\n",
    "plt.figure(figsize=(10, 6))\n",
    "plt.scatter(train_times, accuracies, color=[\"red\", \"blue\", \"green\", \"purple\"], s=100)\n",
    "\n",
    "for i, name in enumerate(model_names):\n",
    "    plt.text(train_times[i], accuracies[i], name, fontsize=12, ha='right')\n",
    "\n",
    "plt.xlabel(\"Training Time (sec)\", fontsize=16)\n",
    "plt.ylabel(\"Accuracy\", fontsize=16)\n",
    "plt.title(\"Trunk Simulation: Accuracy vs. Training Time for Boosting Models\", fontsize=18)\n",
    "plt.grid(True)\n",
    "plt.show()\n"
   ]
  }
 ],
 "metadata": {
  "kernelspec": {
   "display_name": "treeple_new",
   "language": "python",
   "name": "python3"
  },
  "language_info": {
   "codemirror_mode": {
    "name": "ipython",
    "version": 3
   },
   "file_extension": ".py",
   "mimetype": "text/x-python",
   "name": "python",
   "nbconvert_exporter": "python",
   "pygments_lexer": "ipython3",
   "version": "3.10.16"
  }
 },
 "nbformat": 4,
 "nbformat_minor": 2
}
