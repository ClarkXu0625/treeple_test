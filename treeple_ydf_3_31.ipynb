{
 "cells": [
  {
   "cell_type": "code",
   "execution_count": 1,
   "metadata": {},
   "outputs": [],
   "source": [
    "import numpy as np\n",
    "import time\n",
    "import pandas as pd\n",
    "from sklearn.model_selection import train_test_split\n",
    "from sklearn.metrics import accuracy_score\n",
    "from treeple.datasets import make_trunk_classification\n",
    "import ydf\n",
    "import matplotlib.pyplot as plt\n",
    "from treeple import ObliqueRandomForestClassifier\n",
    "from sklearn.metrics import confusion_matrix, f1_score\n",
    "from sklearn.metrics import ConfusionMatrixDisplay\n"
   ]
  },
  {
   "cell_type": "code",
   "execution_count": 2,
   "metadata": {},
   "outputs": [],
   "source": [
    "def prepare_dataframe(X, y):\n",
    "    df = pd.DataFrame(X)\n",
    "    df.columns = [str(i) for i in df.columns]  # Convert column names to strings\n",
    "    df[\"target\"] = y.astype(int)  # Append target column\n",
    "\n",
    "    return df"
   ]
  },
  {
   "cell_type": "code",
   "execution_count": 3,
   "metadata": {},
   "outputs": [],
   "source": [
    "def plot_confusion(conf_matrix):\n",
    "    disp_treeple = ConfusionMatrixDisplay(confusion_matrix=conf_matrix)\n",
    "    disp_treeple.plot()\n",
    "    plt.title(\"Confusion Matrix for Treeple Predictions vs YDF Predictions\")\n",
    "    plt.xlabel(\"treeple_pred\")\n",
    "    plt.ylabel(\"YDF_pred\")\n",
    "    plt.show()"
   ]
  },
  {
   "cell_type": "code",
   "execution_count": null,
   "metadata": {},
   "outputs": [],
   "source": [
    "\n",
    "def train_and_evaluate(model, model_name, X_train, X_test, y_train, y_test):\n",
    "    \"\"\"\n",
    "    Train a given model and evaluate its accuracy and training time.\n",
    "    \"\"\"\n",
    "    start_time = time.time()\n",
    "    model.fit(X_train, y_train)\n",
    "    train_time = time.time() - start_time\n",
    "\n",
    "    y_pred = model.predict(X_test)\n",
    "    if isinstance(y_pred[0], np.ndarray):  # Some models return probabilities\n",
    "        y_pred = np.argmax(y_pred, axis=1)\n",
    "\n",
    "    accuracy = accuracy_score(y_test, y_pred)\n",
    "    print(f\"{model_name}: Accuracy = {accuracy:.4f}, Training Time = {train_time:.4f} sec\")\n",
    "    \n",
    "    return accuracy, train_time, y_pred"
   ]
  },
  {
   "cell_type": "code",
   "execution_count": 4,
   "metadata": {},
   "outputs": [],
   "source": [
    "def train_ydf(X_train, y_train, X_test, y_test, params_ydf, n_dim=500):\n",
    "    df_train = prepare_dataframe(X_train, y_train)\n",
    "    df_test = prepare_dataframe(X_test, y_test)\n",
    "\n",
    "    learner = ydf.RandomForestLearner(**params_ydf)\n",
    "    start_time = time.time()\n",
    "    ydf_model = learner.train(df_train)\n",
    "    time_ydf = time.time() - start_time\n",
    "    y_pred = ydf_model.predict(df_test)\n",
    "    y_pred_class = (y_pred >= 0.5).astype(int) \n",
    "\n",
    "    acc_ydf = accuracy_score(y_test, y_pred_class)\n",
    "\n",
    "    print(f\"YDF | n_dim: {n_dim} | n_tree: {params_ydf['num_trees']} | Accuracy: {acc_ydf:.4f} | Train Time: {time_ydf:.4f} sec\")\n",
    "    return acc_ydf, time_ydf, y_pred_class"
   ]
  },
  {
   "cell_type": "code",
   "execution_count": null,
   "metadata": {},
   "outputs": [],
   "source": [
    "def compare_confusion_matrix(n_tree, n_dim, n_samples, params_treeple1, params_ydf1):\n",
    "    n_tree = 100\n",
    "    n_dim = 200\n",
    "    n_samples = 2000\n",
    "    X, y = make_trunk_classification(n_samples=n_samples, n_dim=n_dim, n_informative=600, seed=0)\n",
    "\n",
    "    X_train, X_test, y_train, y_test = train_test_split(X, y, test_size=0.2, random_state=42, stratify=y)\n",
    "\n",
    "    params_treeple = params_treeple1.copy()  # Copy the original params for treeple\n",
    "    params_ydf = params_ydf1.copy()  # Copy the original params for ydf\n",
    "    params_treeple[\"n_estimators\"] = n_tree\n",
    "    params_ydf[\"num_trees\"] = n_tree\n",
    "\n",
    "    # treeple\n",
    "    treeple_model = ObliqueRandomForestClassifier(**params_treeple)\n",
    "    acc_treeple, time_treeple, pred_treeple = train_and_evaluate(treeple_model, \"Treeple\", X_train, X_test, y_train, y_test)\n",
    "\n",
    "    # ydf\n",
    "    acc_ydf, time_ydf, y_pred_class = train_ydf(X_train, y_train, X_test, y_test, params_ydf, n_dim=n_dim)\n",
    "\n",
    "\n",
    "    conf_matrix_ydf = confusion_matrix(pred_treeple, y_pred_class)\n",
    "    print(\"Confusion Matrix for YDF Predictions:\")\n",
    "    print(conf_matrix_ydf)\n"
   ]
  },
  {
   "cell_type": "code",
   "execution_count": null,
   "metadata": {},
   "outputs": [],
   "source": [
    "# Shared hyperparameters that used for both models\n",
    "MAX_DEPTH = 10\n",
    "N_ESTIMATORS = 1000\n",
    "RANDOM_SEED = 42\n",
    "N_JOBS=-1\n",
    "BOOTSTRAP = True\n",
    "\n",
    "### ydf ###\n",
    "params_ydf = dict()\n",
    "params_ydf[\"label\"] = \"target\"\n",
    "params_ydf[\"max_depth\"] = MAX_DEPTH\n",
    "params_ydf[\"num_trees\"] = N_ESTIMATORS\n",
    "params_ydf[\"random_seed\"] = RANDOM_SEED\n",
    "params_ydf[\"honest\"] = False\n",
    "params_ydf[\"bootstrap_size_ratio\"] = 1.0\n",
    "params_ydf[\"bootstrap_training_dataset\"] = BOOTSTRAP\n",
    "params_ydf[\"categorical_algorithm\"] = \"ONE_HOT\"\n",
    "params_ydf[\"split_axis\"] = \"SPARSE_OBLIQUE\"\n",
    "params_ydf[\"compute_oob_performances\"] = False\n",
    "params_ydf[\"compute_oob_variable_importances\"] = False\n",
    "params_ydf[\"max_num_nodes\"] = None\n",
    "params_ydf[\"growing_strategy\"] = \"BEST_FIRST_GLOBAL\"\n",
    "params_ydf[\"num_candidate_attributes\"] = 1  #0 equivalent to sqrt max_features in treeple\n",
    "params_ydf[\"sorting_strategy\"] = \"IN_NODE\" ###\n",
    "# sparse oblique params\n",
    "params_ydf[\"sparse_oblique_weights\"] = \"CONTINUOUS\"\n",
    "params_ydf[\"sparse_oblique_projection_density_factor\"] = 1.0\n",
    "params_ydf[\"sparse_oblique_normalization\"] = \"MIN_MAX\"\n",
    "params_ydf[\"sparse_oblique_max_num_projections\"] = 6000 # modify this, find in sourse code in treeple\n",
    "params_ydf[\"sparse_oblique_num_projections_exponent\"] = 1.0   #2.0\n",
    "params_ydf[\"sampling_with_replacement\"] = False\n",
    "\n",
    "### treeple ObliqueRandomForestClassifier ###\n",
    "params_treeple = {}\n",
    "params_treeple[\"n_estimators\"] = N_ESTIMATORS\n",
    "params_treeple[\"criterion\"] = \"entropy\"\n",
    "params_treeple[\"max_depth\"] = None\n",
    "params_treeple[\"min_samples_split\"] = 2\n",
    "params_treeple[\"min_samples_leaf\"] = 1\n",
    "params_treeple[\"min_weight_fraction_leaf\"] = 0.0\n",
    "params_treeple[\"max_features\"] = 1.0 #\"sqrt\" #100\n",
    "params_treeple[\"max_leaf_nodes\"] = None\n",
    "params_treeple[\"min_impurity_decrease\"] = 0.0\n",
    "params_treeple[\"bootstrap\"] = BOOTSTRAP\n",
    "params_treeple[\"oob_score\"] = False\n",
    "params_treeple[\"n_jobs\"] = N_JOBS\n",
    "params_treeple[\"random_state\"] = RANDOM_SEED\n",
    "params_treeple[\"verbose\"] = 0\n",
    "params_treeple[\"warm_start\"] = False\n",
    "params_treeple[\"class_weight\"] = None\n",
    "params_treeple[\"max_samples\"] = None\n",
    "params_treeple[\"feature_combinations\"] = 1.0\n"
   ]
  },
  {
   "cell_type": "code",
   "execution_count": null,
   "metadata": {},
   "outputs": [],
   "source": [
    "# # --- Train YDF ---\n",
    "\n",
    "n_samples = 1000\n",
    "n_dim = 1784\n",
    "X, y = make_trunk_classification(n_samples=n_samples, n_dim=n_dim, n_informative=600, seed=0)\n"
   ]
  },
  {
   "cell_type": "code",
   "execution_count": null,
   "metadata": {},
   "outputs": [],
   "source": [
    "\n",
    "compare_confusion_matrix(100, 200, 2000, params_treeple, params_ydf)"
   ]
  }
 ],
 "metadata": {
  "kernelspec": {
   "display_name": "catboost_env",
   "language": "python",
   "name": "python3"
  },
  "language_info": {
   "codemirror_mode": {
    "name": "ipython",
    "version": 3
   },
   "file_extension": ".py",
   "mimetype": "text/x-python",
   "name": "python",
   "nbconvert_exporter": "python",
   "pygments_lexer": "ipython3",
   "version": "3.10.16"
  }
 },
 "nbformat": 4,
 "nbformat_minor": 2
}
