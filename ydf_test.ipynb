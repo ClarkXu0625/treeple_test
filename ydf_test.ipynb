{
 "cells": [
  {
   "cell_type": "code",
   "execution_count": 1,
   "metadata": {},
   "outputs": [],
   "source": [
    "import yggdrasilDecisionForests.yggdrasil_decision_forests as ydf\n"
   ]
  },
  {
   "cell_type": "code",
   "execution_count": 1,
   "metadata": {},
   "outputs": [],
   "source": [
    "import ydf"
   ]
  },
  {
   "cell_type": "code",
   "execution_count": 2,
   "metadata": {},
   "outputs": [],
   "source": [
    "import treeple\n",
    "from treeple.datasets import make_trunk_classification\n",
    "import pandas as pd\n",
    "import time\n",
    "from sklearn.metrics import accuracy_score\n",
    "from sklearn.model_selection import train_test_split"
   ]
  },
  {
   "cell_type": "code",
   "execution_count": 5,
   "metadata": {},
   "outputs": [],
   "source": [
    "def prepare_dataframe(X, y):\n",
    "    df = pd.DataFrame(X)\n",
    "    df.columns = [str(i) for i in df.columns]  # Convert column names to strings\n",
    "    df[\"target\"] = y.astype(int)  # Append target column\n",
    "\n",
    "    return df\n",
    "\n",
    "def train_ydf(X_train, y_train, X_test, y_test, params_ydf, n_dim=500):\n",
    "    df_train = prepare_dataframe(X_train, y_train)\n",
    "    df_test = prepare_dataframe(X_test, y_test)\n",
    "\n",
    "    learner = ydf.RandomForestLearner(**params_ydf)\n",
    "    start_time = time.time()\n",
    "    ydf_model = learner.train(df_train)\n",
    "    time_ydf = time.time() - start_time\n",
    "    y_pred = ydf_model.predict(df_test)\n",
    "    y_pred_class = (y_pred >= 0.5).astype(int) \n",
    "\n",
    "    acc_ydf = accuracy_score(y_test, y_pred_class)\n",
    "\n",
    "    print(f\"YDF | n_dim: {n_dim} | n_tree: {params_ydf['num_trees']} | Accuracy: {acc_ydf:.4f} | Train Time: {time_ydf:.4f} sec\")\n",
    "    return acc_ydf, time_ydf, y_pred_class"
   ]
  },
  {
   "cell_type": "code",
   "execution_count": 3,
   "metadata": {},
   "outputs": [],
   "source": [
    "MAX_DEPTH = 10\n",
    "N_ESTIMATORS = 300\n",
    "RANDOM_SEED = 42\n",
    "N_JOBS=-1\n",
    "BOOTSTRAP = True\n",
    "MAX_FEATURE = 100\n",
    "FEATURE_COMBINATIONS = 1.0\n",
    "\n",
    "params_ydf = dict()\n",
    "params_ydf[\"label\"] = \"target\"\n",
    "params_ydf[\"max_depth\"] = MAX_DEPTH\n",
    "params_ydf[\"num_trees\"] = N_ESTIMATORS\n",
    "params_ydf[\"random_seed\"] = RANDOM_SEED\n",
    "params_ydf[\"honest\"] = False\n",
    "params_ydf[\"bootstrap_size_ratio\"] = 1.0\n",
    "params_ydf[\"bootstrap_training_dataset\"] = BOOTSTRAP\n",
    "params_ydf[\"categorical_algorithm\"] = \"ONE_HOT\"\n",
    "params_ydf[\"compute_oob_performances\"] = False  #oob_score\n",
    "params_ydf[\"compute_oob_variable_importances\"] = False  ## oob_score\n",
    "params_ydf[\"in_split_min_examples_check\"] = True\n",
    "params_ydf[\"min_examples\"] = 1    #min_samples_leaf\n",
    "params_ydf[\"keep_non_leaf_label_distribution\"] = True   # not sure\n",
    "params_ydf[\"max_num_nodes\"] = None\n",
    "params_ydf[\"growing_strategy\"] = \"BEST_FIRST_GLOBAL\"\n",
    "# params_ydf[\"num_candidate_attributes\"] = -1  #0 equivalent to sqrt max_features in treeple\n",
    "params_ydf[\"num_candidate_attributes_ratio\"] = 1.0\n",
    "params_ydf[\"sorting_strategy\"] = \"IN_NODE\" ###\n",
    "# sparse oblique params\n",
    "params_ydf[\"split_axis\"] = \"SPARSE_OBLIQUE\"\n",
    "params_ydf[\"sparse_oblique_weights\"] = \"CONTINUOUS\"\n",
    "params_ydf[\"sparse_oblique_projection_density_factor\"] = FEATURE_COMBINATIONS\n",
    "params_ydf[\"sparse_oblique_normalization\"] = \"MIN_MAX\"\n",
    "params_ydf[\"sparse_oblique_max_num_projections\"] = MAX_FEATURE # modify this, find in sourse code in treeple\n",
    "params_ydf[\"sparse_oblique_num_projections_exponent\"] = 1.0   #2.0\n",
    "params_ydf[\"sampling_with_replacement\"] = False"
   ]
  },
  {
   "cell_type": "code",
   "execution_count": 6,
   "metadata": {},
   "outputs": [
    {
     "name": "stderr",
     "output_type": "stream",
     "text": [
      "c:\\Users\\clark\\anaconda3\\envs\\catboost_env\\lib\\site-packages\\treeple\\datasets\\hyppo.py:515: RuntimeWarning: Number of informative dimensions {n_informative} must be less than number of dimensions, 100. Setting n_informative to n_dim.\n",
      "  warnings.warn(\n"
     ]
    }
   ],
   "source": [
    "n_samples=2000\n",
    "num_dim=100\n",
    "X, y = make_trunk_classification(n_samples=n_samples, n_dim=num_dim, n_informative=600, seed=0)\n",
    "X_train, X_test, y_train, y_test = train_test_split(X, y, test_size=0.2, random_state=42, stratify=y)\n",
    "\n",
    "df_train = prepare_dataframe(X_train, y_train)\n",
    "df_test = prepare_dataframe(X_test, y_test)"
   ]
  },
  {
   "cell_type": "code",
   "execution_count": 13,
   "metadata": {},
   "outputs": [
    {
     "ename": "AttributeError",
     "evalue": "module 'yggdrasilDecisionForests.yggdrasil_decision_forests' has no attribute 'RandomForestLearner'",
     "output_type": "error",
     "traceback": [
      "\u001b[0;31m---------------------------------------------------------------------------\u001b[0m",
      "\u001b[0;31mAttributeError\u001b[0m                            Traceback (most recent call last)",
      "Cell \u001b[0;32mIn[13], line 1\u001b[0m\n\u001b[0;32m----> 1\u001b[0m learner \u001b[38;5;241m=\u001b[39m \u001b[43mydf\u001b[49m\u001b[38;5;241;43m.\u001b[39;49m\u001b[43mRandomForestLearner\u001b[49m(\u001b[38;5;241m*\u001b[39m\u001b[38;5;241m*\u001b[39mparams_ydf)\n\u001b[1;32m      2\u001b[0m start_time \u001b[38;5;241m=\u001b[39m time\u001b[38;5;241m.\u001b[39mtime()\n\u001b[1;32m      3\u001b[0m ydf_model \u001b[38;5;241m=\u001b[39m learner\u001b[38;5;241m.\u001b[39mtrain(df_train)\n",
      "\u001b[0;31mAttributeError\u001b[0m: module 'yggdrasilDecisionForests.yggdrasil_decision_forests' has no attribute 'RandomForestLearner'"
     ]
    }
   ],
   "source": [
    "learner = ydf.RandomForestLearner(**params_ydf)\n",
    "start_time = time.time()\n",
    "ydf_model = learner.train(df_train)\n",
    "time_ydf = time.time() - start_time\n",
    "pred_ydf = ydf_model.predict(df_test)\n",
    "pred_ydf = (pred_ydf >= 0.5).astype(int) \n",
    "\n",
    "acc_ydf = accuracy_score(y_test, pred_ydf)\n",
    "acc_ydf"
   ]
  },
  {
   "cell_type": "code",
   "execution_count": 13,
   "metadata": {},
   "outputs": [
    {
     "name": "stdout",
     "output_type": "stream",
     "text": [
      "Train model on 1600 examples\n",
      "Model trained in 0:00:01.237819\n"
     ]
    },
    {
     "data": {
      "text/plain": [
       "<ydf.model.random_forest_model.random_forest_model.RandomForestModel at 0x1392895bf10>"
      ]
     },
     "execution_count": 13,
     "metadata": {},
     "output_type": "execute_result"
    }
   ],
   "source": [
    "learner = ydf.RandomForestLearner(**params_ydf)\n",
    "learner.train(df_train)\n",
    "\n"
   ]
  },
  {
   "cell_type": "code",
   "execution_count": null,
   "metadata": {},
   "outputs": [
    {
     "ename": "TypeError",
     "evalue": "GenericModel.__init__() got an unexpected keyword argument 'label'",
     "output_type": "error",
     "traceback": [
      "\u001b[1;31m---------------------------------------------------------------------------\u001b[0m",
      "\u001b[1;31mTypeError\u001b[0m                                 Traceback (most recent call last)",
      "Cell \u001b[1;32mIn[16], line 1\u001b[0m\n\u001b[1;32m----> 1\u001b[0m model \u001b[38;5;241m=\u001b[39m \u001b[43mydf\u001b[49m\u001b[38;5;241;43m.\u001b[39;49m\u001b[43mRandomForestModel\u001b[49m\u001b[43m(\u001b[49m\u001b[43mlabel\u001b[49m\u001b[38;5;241;43m=\u001b[39;49m\u001b[38;5;124;43m\"\u001b[39;49m\u001b[38;5;124;43mtarget\u001b[39;49m\u001b[38;5;124;43m\"\u001b[39;49m\u001b[43m,\u001b[49m\u001b[43m \u001b[49m\u001b[43msparse_oblique\u001b[49m\u001b[38;5;241;43m=\u001b[39;49m\u001b[38;5;28;43;01mTrue\u001b[39;49;00m\u001b[43m)\u001b[49m\n",
      "\u001b[1;31mTypeError\u001b[0m: GenericModel.__init__() got an unexpected keyword argument 'label'"
     ]
    }
   ],
   "source": [
    "model = ydf.RandomForestModel(sparse_oblique=True)\n"
   ]
  },
  {
   "cell_type": "code",
   "execution_count": null,
   "metadata": {},
   "outputs": [
    {
     "ename": "ModuleNotFoundError",
     "evalue": "No module named 'yggdrasil_decision_forests.python'",
     "output_type": "error",
     "traceback": [
      "\u001b[1;31m---------------------------------------------------------------------------\u001b[0m",
      "\u001b[1;31mModuleNotFoundError\u001b[0m                       Traceback (most recent call last)",
      "Cell \u001b[1;32mIn[17], line 1\u001b[0m\n\u001b[1;32m----> 1\u001b[0m \u001b[38;5;28;01mimport\u001b[39;00m\u001b[38;5;250m \u001b[39m\u001b[38;5;21;01myggdrasil_decision_forests\u001b[39;00m\u001b[38;5;21;01m.\u001b[39;00m\u001b[38;5;21;01mpython\u001b[39;00m\u001b[38;5;21;01m.\u001b[39;00m\u001b[38;5;21;01mydf\u001b[39;00m\u001b[38;5;250m \u001b[39m\u001b[38;5;28;01mas\u001b[39;00m\u001b[38;5;250m \u001b[39m\u001b[38;5;21;01mydf\u001b[39;00m\n",
      "\u001b[1;31mModuleNotFoundError\u001b[0m: No module named 'yggdrasil_decision_forests.python'"
     ]
    }
   ],
   "source": [
    "import .yggdrasil_decision_forests.python.ydf as ydf"
   ]
  },
  {
   "cell_type": "code",
   "execution_count": 19,
   "metadata": {},
   "outputs": [
    {
     "ename": "ModuleNotFoundError",
     "evalue": "No module named 'ydf.learner.generic_learner_test'",
     "output_type": "error",
     "traceback": [
      "\u001b[1;31m---------------------------------------------------------------------------\u001b[0m",
      "\u001b[1;31mModuleNotFoundError\u001b[0m                       Traceback (most recent call last)",
      "Cell \u001b[1;32mIn[19], line 2\u001b[0m\n\u001b[0;32m      1\u001b[0m \u001b[38;5;28;01mimport\u001b[39;00m\u001b[38;5;250m \u001b[39m\u001b[38;5;21;01mydf\u001b[39;00m\u001b[38;5;21;01m.\u001b[39;00m\u001b[38;5;21;01mlearner\u001b[39;00m\n\u001b[1;32m----> 2\u001b[0m \u001b[38;5;28;01mfrom\u001b[39;00m\u001b[38;5;250m \u001b[39m\u001b[38;5;21;01mydf\u001b[39;00m\u001b[38;5;21;01m.\u001b[39;00m\u001b[38;5;21;01mlearner\u001b[39;00m\u001b[38;5;21;01m.\u001b[39;00m\u001b[38;5;21;01mgeneric_learner_test\u001b[39;00m\u001b[38;5;250m \u001b[39m\u001b[38;5;28;01mimport\u001b[39;00m DatasetFormatsTest\n",
      "\u001b[1;31mModuleNotFoundError\u001b[0m: No module named 'ydf.learner.generic_learner_test'"
     ]
    }
   ],
   "source": [
    "import ydf.learner\n",
    "from ydf.learner.generic_learner_test import DatasetFormatsTest"
   ]
  }
 ],
 "metadata": {
  "kernelspec": {
   "display_name": "catboost_env",
   "language": "python",
   "name": "python3"
  },
  "language_info": {
   "codemirror_mode": {
    "name": "ipython",
    "version": 3
   },
   "file_extension": ".py",
   "mimetype": "text/x-python",
   "name": "python",
   "nbconvert_exporter": "python",
   "pygments_lexer": "ipython3",
   "version": "3.10.16"
  }
 },
 "nbformat": 4,
 "nbformat_minor": 2
}
