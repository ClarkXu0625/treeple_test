{
 "cells": [
  {
   "cell_type": "code",
   "execution_count": 1,
   "metadata": {},
   "outputs": [],
   "source": [
    "import yggdrasilDecisionForests.yggdrasil_decision_forests as ydf\n"
   ]
  },
  {
   "cell_type": "markdown",
   "metadata": {},
   "source": [
    "treeple1 environment"
   ]
  },
  {
   "cell_type": "code",
   "execution_count": 2,
   "metadata": {},
   "outputs": [
    {
     "name": "stdout",
     "output_type": "stream",
     "text": [
      "Collecting ydf\n",
      "  Downloading ydf-0.11.0-cp310-cp310-macosx_12_0_arm64.whl.metadata (3.5 kB)\n",
      "Requirement already satisfied: numpy in /Users/apple/opt/miniconda3/envs/treeple1/lib/python3.10/site-packages (from ydf) (2.2.4)\n",
      "Collecting absl_py (from ydf)\n",
      "  Downloading absl_py-2.2.2-py3-none-any.whl.metadata (2.6 kB)\n",
      "Collecting protobuf<6.0.0,>=5.29.1 (from ydf)\n",
      "  Downloading protobuf-5.29.4-cp38-abi3-macosx_10_9_universal2.whl.metadata (592 bytes)\n",
      "Downloading ydf-0.11.0-cp310-cp310-macosx_12_0_arm64.whl (8.9 MB)\n",
      "\u001b[2K   \u001b[90m━━━━━━━━━━━━━━━━━━━━━━━━━━━━━━━━━━━━━━━━\u001b[0m \u001b[32m8.9/8.9 MB\u001b[0m \u001b[31m41.5 MB/s\u001b[0m eta \u001b[36m0:00:00\u001b[0ma \u001b[36m0:00:01\u001b[0m\n",
      "\u001b[?25hDownloading protobuf-5.29.4-cp38-abi3-macosx_10_9_universal2.whl (417 kB)\n",
      "Downloading absl_py-2.2.2-py3-none-any.whl (135 kB)\n",
      "Installing collected packages: protobuf, absl_py, ydf\n",
      "Successfully installed absl_py-2.2.2 protobuf-5.29.4 ydf-0.11.0\n"
     ]
    }
   ],
   "source": [
    "! pip install ydf"
   ]
  },
  {
   "cell_type": "code",
   "execution_count": 1,
   "metadata": {},
   "outputs": [],
   "source": [
    "import ydf"
   ]
  },
  {
   "cell_type": "code",
   "execution_count": 4,
   "metadata": {},
   "outputs": [
    {
     "name": "stdout",
     "output_type": "stream",
     "text": [
      "Collecting pandas\n",
      "  Using cached pandas-2.2.3-cp310-cp310-macosx_11_0_arm64.whl.metadata (89 kB)\n",
      "Requirement already satisfied: numpy>=1.22.4 in /Users/apple/opt/miniconda3/envs/treeple1/lib/python3.10/site-packages (from pandas) (2.2.4)\n",
      "Requirement already satisfied: python-dateutil>=2.8.2 in /Users/apple/opt/miniconda3/envs/treeple1/lib/python3.10/site-packages (from pandas) (2.9.0.post0)\n",
      "Collecting pytz>=2020.1 (from pandas)\n",
      "  Using cached pytz-2025.2-py2.py3-none-any.whl.metadata (22 kB)\n",
      "Collecting tzdata>=2022.7 (from pandas)\n",
      "  Using cached tzdata-2025.2-py2.py3-none-any.whl.metadata (1.4 kB)\n",
      "Requirement already satisfied: six>=1.5 in /Users/apple/opt/miniconda3/envs/treeple1/lib/python3.10/site-packages (from python-dateutil>=2.8.2->pandas) (1.17.0)\n",
      "Using cached pandas-2.2.3-cp310-cp310-macosx_11_0_arm64.whl (11.3 MB)\n",
      "Using cached pytz-2025.2-py2.py3-none-any.whl (509 kB)\n",
      "Using cached tzdata-2025.2-py2.py3-none-any.whl (347 kB)\n",
      "Installing collected packages: pytz, tzdata, pandas\n",
      "Successfully installed pandas-2.2.3 pytz-2025.2 tzdata-2025.2\n"
     ]
    }
   ],
   "source": [
    "! pip install pandas"
   ]
  },
  {
   "cell_type": "code",
   "execution_count": 2,
   "metadata": {},
   "outputs": [],
   "source": [
    "import treeple\n",
    "from treeple.datasets import make_trunk_classification\n",
    "import pandas as pd\n",
    "import time\n",
    "from sklearn.metrics import accuracy_score\n",
    "from sklearn.model_selection import train_test_split"
   ]
  },
  {
   "cell_type": "code",
   "execution_count": 3,
   "metadata": {},
   "outputs": [],
   "source": [
    "def prepare_dataframe(X, y):\n",
    "    df = pd.DataFrame(X)\n",
    "    df.columns = [str(i) for i in df.columns]  # Convert column names to strings\n",
    "    df[\"target\"] = y.astype(int)  # Append target column\n",
    "\n",
    "    return df\n",
    "\n",
    "def train_ydf(X_train, y_train, X_test, y_test, params_ydf, n_dim=500):\n",
    "    df_train = prepare_dataframe(X_train, y_train)\n",
    "    df_test = prepare_dataframe(X_test, y_test)\n",
    "\n",
    "    learner = ydf.RandomForestLearner(**params_ydf)\n",
    "    start_time = time.time()\n",
    "    ydf_model = learner.train(df_train)\n",
    "    time_ydf = time.time() - start_time\n",
    "    y_pred = ydf_model.predict(df_test)\n",
    "    y_pred_class = (y_pred >= 0.5).astype(int) \n",
    "\n",
    "    acc_ydf = accuracy_score(y_test, y_pred_class)\n",
    "\n",
    "    print(f\"YDF | n_dim: {n_dim} | n_tree: {params_ydf['num_trees']} | Accuracy: {acc_ydf:.4f} | Train Time: {time_ydf:.4f} sec\")\n",
    "    return acc_ydf, time_ydf, y_pred_class"
   ]
  },
  {
   "cell_type": "code",
   "execution_count": 4,
   "metadata": {},
   "outputs": [],
   "source": [
    "MAX_DEPTH = 10\n",
    "N_ESTIMATORS = 300\n",
    "RANDOM_SEED = 42\n",
    "N_JOBS=-1\n",
    "BOOTSTRAP = True\n",
    "MAX_FEATURE = 100\n",
    "FEATURE_COMBINATIONS = 1.0\n",
    "\n",
    "params_ydf = dict()\n",
    "params_ydf[\"label\"] = \"target\"\n",
    "params_ydf[\"max_depth\"] = MAX_DEPTH\n",
    "params_ydf[\"num_trees\"] = N_ESTIMATORS\n",
    "params_ydf[\"random_seed\"] = RANDOM_SEED\n",
    "params_ydf[\"honest\"] = False\n",
    "params_ydf[\"bootstrap_size_ratio\"] = 1.0\n",
    "params_ydf[\"bootstrap_training_dataset\"] = BOOTSTRAP\n",
    "params_ydf[\"categorical_algorithm\"] = \"ONE_HOT\"\n",
    "params_ydf[\"compute_oob_performances\"] = False  #oob_score\n",
    "params_ydf[\"compute_oob_variable_importances\"] = False  ## oob_score\n",
    "params_ydf[\"in_split_min_examples_check\"] = True\n",
    "params_ydf[\"min_examples\"] = 1    #min_samples_leaf\n",
    "params_ydf[\"keep_non_leaf_label_distribution\"] = True   # not sure\n",
    "params_ydf[\"max_num_nodes\"] = None\n",
    "params_ydf[\"growing_strategy\"] = \"BEST_FIRST_GLOBAL\"\n",
    "# params_ydf[\"num_candidate_attributes\"] = -1  #0 equivalent to sqrt max_features in treeple\n",
    "params_ydf[\"num_candidate_attributes_ratio\"] = 1.0\n",
    "params_ydf[\"sorting_strategy\"] = \"IN_NODE\" ###\n",
    "# sparse oblique params\n",
    "params_ydf[\"split_axis\"] = \"SPARSE_OBLIQUE\"\n",
    "params_ydf[\"sparse_oblique_weights\"] = \"CONTINUOUS\"\n",
    "params_ydf[\"sparse_oblique_projection_density_factor\"] = FEATURE_COMBINATIONS\n",
    "params_ydf[\"sparse_oblique_normalization\"] = \"MIN_MAX\"\n",
    "params_ydf[\"sparse_oblique_max_num_projections\"] = MAX_FEATURE # modify this, find in sourse code in treeple\n",
    "params_ydf[\"sparse_oblique_num_projections_exponent\"] = 1.0   #2.0\n",
    "params_ydf[\"sampling_with_replacement\"] = False"
   ]
  },
  {
   "cell_type": "code",
   "execution_count": 36,
   "metadata": {},
   "outputs": [
    {
     "name": "stderr",
     "output_type": "stream",
     "text": [
      "c:\\Users\\clark\\anaconda3\\envs\\catboost_env\\lib\\site-packages\\treeple\\datasets\\hyppo.py:515: RuntimeWarning: Number of informative dimensions {n_informative} must be less than number of dimensions, 10. Setting n_informative to n_dim.\n",
      "  warnings.warn(\n"
     ]
    }
   ],
   "source": [
    "n_samples=2000\n",
    "num_dim=10\n",
    "X, y = make_trunk_classification(n_samples=n_samples, n_dim=num_dim, n_informative=600, seed=0)\n",
    "X_train, X_test, y_train, y_test = train_test_split(X, y, test_size=0.2, random_state=42, stratify=y)\n",
    "\n",
    "df_train = prepare_dataframe(X_train, y_train)\n",
    "df_test = prepare_dataframe(X_test, y_test)"
   ]
  },
  {
   "cell_type": "code",
   "execution_count": 37,
   "metadata": {},
   "outputs": [
    {
     "name": "stdout",
     "output_type": "stream",
     "text": [
      "Train model on 1600 examples\n",
      "Model trained in 0:00:00.122748\n"
     ]
    },
    {
     "data": {
      "text/plain": [
       "0.74"
      ]
     },
     "execution_count": 37,
     "metadata": {},
     "output_type": "execute_result"
    }
   ],
   "source": [
    "learner = ydf.RandomForestLearner(**params_ydf)\n",
    "start_time = time.time()\n",
    "ydf_model = learner.train(df_train)\n",
    "time_ydf = time.time() - start_time\n",
    "pred_ydf = ydf_model.predict(df_test)\n",
    "pred_ydf = (pred_ydf >= 0.5).astype(int) \n",
    "\n",
    "acc_ydf = accuracy_score(y_test, pred_ydf)\n",
    "acc_ydf"
   ]
  },
  {
   "cell_type": "code",
   "execution_count": 38,
   "metadata": {},
   "outputs": [
    {
     "data": {
      "text/plain": [
       "{'better_defaultv1': HyperparameterTemplate(name='better_default', version=1, parameters={'winner_take_all': True}, description='A configuration that is generally better than the default parameters without being more expensive.'),\n",
       " 'benchmark_rank1v1': HyperparameterTemplate(name='benchmark_rank1', version=1, parameters={'winner_take_all': True, 'categorical_algorithm': 'RANDOM', 'split_axis': 'SPARSE_OBLIQUE', 'sparse_oblique_normalization': 'MIN_MAX', 'sparse_oblique_num_projections_exponent': 1.0}, description='Top ranking hyper-parameters on our benchmark slightly modified to run in reasonable time.')}"
      ]
     },
     "execution_count": 38,
     "metadata": {},
     "output_type": "execute_result"
    }
   ],
   "source": [
    "learner.hyperparameter_templates()"
   ]
  },
  {
   "cell_type": "code",
   "execution_count": 39,
   "metadata": {},
   "outputs": [
    {
     "data": {
      "text/html": [
       "\n",
       "<style>\n",
       "\n",
       ".tab_block .header {\n",
       "    flex-direction: row;\n",
       "    display: flex;\n",
       "}\n",
       "\n",
       ".tab_block .header .tab {\n",
       "    cursor: pointer;\n",
       "    background-color: #F6F5F5;\n",
       "    text-decoration: none;\n",
       "    text-align: center;\n",
       "    padding: 4px 12px;\n",
       "    color: black;\n",
       "}\n",
       "\n",
       ".tab_block .header .tab.selected {\n",
       "    border-bottom: 2px solid #2F80ED;\n",
       "}\n",
       "\n",
       ".tab_block .header .tab:hover {\n",
       "    text-decoration: none;\n",
       "    background-color: #DCDCDC;\n",
       "}\n",
       "\n",
       ".tab_block .body .tab_content {\n",
       "    display: none;\n",
       "    padding: 5px;\n",
       "}\n",
       "\n",
       ".tab_block .body .tab_content.selected {\n",
       "    display: block;\n",
       "}\n",
       "\n",
       ".ydf_pre {\n",
       "    font-size: medium;\n",
       "}\n",
       "\n",
       "\n",
       "\n",
       ".variable_importance {\n",
       "}\n",
       "\n",
       ".variable_importance select {\n",
       "}\n",
       "\n",
       ".variable_importance .content {\n",
       "  display: none;\n",
       "}\n",
       "\n",
       ".variable_importance .content.selected {\n",
       "  display: block;\n",
       "}\n",
       "\n",
       ".ydf_tuning_table {\n",
       "  border-collapse: collapse;\n",
       "  border: 1px solid lightgray;\n",
       "}\n",
       "\n",
       ".ydf_tuning_table th {\n",
       "  background-color: #ededed;\n",
       "  font-weight: bold;\n",
       "  text-align: left;\n",
       "  padding: 3px 4px;\n",
       "  border: 1px solid lightgray;\n",
       "}\n",
       "\n",
       ".ydf_tuning_table td {\n",
       "  text-align: right;\n",
       "  padding: 3px 4px;\n",
       "  border: 1px solid lightgray;\n",
       "}\n",
       "\n",
       ".ydf_tuning_table .best {\n",
       "  background-color: khaki;\n",
       "}\n",
       "\n",
       "</style>\n",
       "\n",
       "<script>\n",
       "\n",
       "function ydfShowTab(block_id, item) {\n",
       "    const block = document.getElementById(block_id);\n",
       "    \n",
       "    \n",
       "    console.log(\"HIDE first of:\",block.getElementsByClassName(\"tab selected\"));\n",
       "    console.log(\"HIDE first of:\",block.getElementsByClassName(\"tab_content selected\"));\n",
       "    \n",
       "    block.getElementsByClassName(\"tab selected\")[0].classList.remove(\"selected\");\n",
       "    block.getElementsByClassName(\"tab_content selected\")[0].classList.remove(\"selected\");\n",
       "    document.getElementById(block_id + \"_\" + item).classList.add(\"selected\");\n",
       "    document.getElementById(block_id + \"_body_\" + item).classList.add(\"selected\");\n",
       "}\n",
       "  \n",
       "\n",
       "function ydfShowVariableImportance(block_id) {\n",
       "    const block = document.getElementById(block_id);\n",
       "    const item = block.getElementsByTagName(\"select\")[0].value;\n",
       "    block.getElementsByClassName(\"content selected\")[0].classList.remove(\"selected\");\n",
       "    document.getElementById(block_id + \"_body_\" + item).classList.add(\"selected\");\n",
       "}\n",
       "\n",
       "</script>\n",
       "  <div class=\"tab_block\" id=\"8513-7c5f-3afc-c0b5\"><div class=\"header\"><a id=\"8513-7c5f-3afc-c0b5_model\" class=\"tab selected\" onclick=\"ydfShowTab('8513-7c5f-3afc-c0b5', 'model')\">Model</a><a id=\"8513-7c5f-3afc-c0b5_dataspec\" class=\"tab\" onclick=\"ydfShowTab('8513-7c5f-3afc-c0b5', 'dataspec')\">Dataspec</a><a id=\"8513-7c5f-3afc-c0b5_training\" class=\"tab\" onclick=\"ydfShowTab('8513-7c5f-3afc-c0b5', 'training')\">Training</a><a id=\"8513-7c5f-3afc-c0b5_variable_importance\" class=\"tab\" onclick=\"ydfShowTab('8513-7c5f-3afc-c0b5', 'variable_importance')\">Variable importances</a><a id=\"8513-7c5f-3afc-c0b5_structure\" class=\"tab\" onclick=\"ydfShowTab('8513-7c5f-3afc-c0b5', 'structure')\">Structure</a></div><div class=\"body\"><div id=\"8513-7c5f-3afc-c0b5_body_model\" class=\"tab_content selected\"><b>Name</b> : RANDOM_FOREST<br><b>Task</b> : CLASSIFICATION<br><b>Label</b> : target<br><b>Features (10)</b> : 0 1 2 3 4 5 6 7 8 9<br><b>Weights</b> : None<br><b>Trained with tuner</b> : No<br><b>Model size</b> : 5473 kB<br></div><div id=\"8513-7c5f-3afc-c0b5_body_dataspec\" class=\"tab_content\"><pre class=\"ydf_pre\">Number of records: 1600\n",
       "Number of columns: 11\n",
       "\n",
       "Number of columns by type:\n",
       "\tNUMERICAL: 10 (90.9091%)\n",
       "\tCATEGORICAL: 1 (9.09091%)\n",
       "\n",
       "Columns:\n",
       "\n",
       "NUMERICAL: 10 (90.9091%)\n",
       "\t1: &quot;0&quot; NUMERICAL mean:0.502061 min:-3.38852 max:3.77264 sd:1.09263 dtype:DTYPE_FLOAT64\n",
       "\t2: &quot;1&quot; NUMERICAL mean:0.322305 min:-3.55544 max:4.2879 sd:1.05141 dtype:DTYPE_FLOAT64\n",
       "\t3: &quot;2&quot; NUMERICAL mean:0.268462 min:-3.21311 max:3.50855 sd:1.01281 dtype:DTYPE_FLOAT64\n",
       "\t4: &quot;3&quot; NUMERICAL mean:0.286252 min:-3.68027 max:3.75951 sd:1.04368 dtype:DTYPE_FLOAT64\n",
       "\t5: &quot;4&quot; NUMERICAL mean:0.207512 min:-3.22563 max:3.66142 sd:1.03913 dtype:DTYPE_FLOAT64\n",
       "\t6: &quot;5&quot; NUMERICAL mean:0.174191 min:-3.59298 max:3.76071 sd:1.03551 dtype:DTYPE_FLOAT64\n",
       "\t7: &quot;6&quot; NUMERICAL mean:0.231069 min:-3.301 max:4.44457 sd:1.02444 dtype:DTYPE_FLOAT64\n",
       "\t8: &quot;7&quot; NUMERICAL mean:0.131372 min:-2.94063 max:3.27575 sd:1.00651 dtype:DTYPE_FLOAT64\n",
       "\t9: &quot;8&quot; NUMERICAL mean:0.150404 min:-2.8846 max:3.32408 sd:1.02536 dtype:DTYPE_FLOAT64\n",
       "\t10: &quot;9&quot; NUMERICAL mean:0.145796 min:-2.95179 max:3.26021 sd:1.02171 dtype:DTYPE_FLOAT64\n",
       "\n",
       "CATEGORICAL: 1 (9.09091%)\n",
       "\t0: &quot;target&quot; CATEGORICAL has-dict vocab-size:3 zero-ood-items most-frequent:&quot;0&quot; 800 (50%) dtype:DTYPE_INT32\n",
       "\n",
       "Terminology:\n",
       "\tnas: Number of non-available (i.e. missing) values.\n",
       "\tood: Out of dictionary.\n",
       "\tmanually-defined: Attribute whose type is manually defined by the user, i.e., the type was not automatically inferred.\n",
       "\ttokenized: The attribute value is obtained through tokenization.\n",
       "\thas-dict: The attribute is attached to a string dictionary e.g. a categorical attribute stored as a string.\n",
       "\tvocab-size: Number of unique values.\n",
       "</pre></div><div id=\"8513-7c5f-3afc-c0b5_body_training\" class=\"tab_content\"><p>The following evaluation is computed on the validation or out-of-bag dataset.</p><p>The Random Forest does not have out-of-bag evaluation training logs. Train the model with compute_oob_performances=True to compute the training logs. Make sure the training logs have not been removed with pure_serving_model=True.</p></div><div id=\"8513-7c5f-3afc-c0b5_body_variable_importance\" class=\"tab_content\"><p><a target=\"_blank\" href=\"https://ydf.readthedocs.io/en/latest/cli_user_manual#variable-importances\">Variable importances</a> measure the importance of an input feature for a model.</p><div id=\"8513-7c5f-3afc-c0b5_vi\" class=\"variable_importance\"><select onchange=\"ydfShowVariableImportance('8513-7c5f-3afc-c0b5_vi')\"><option value=\"INV_MEAN_MIN_DEPTH\">INV_MEAN_MIN_DEPTH</option><option value=\"NUM_AS_ROOT\">NUM_AS_ROOT</option><option value=\"NUM_NODES\">NUM_NODES</option><option value=\"SUM_SCORE\">SUM_SCORE</option></select><div id=\"8513-7c5f-3afc-c0b5_vi_body_INV_MEAN_MIN_DEPTH\" class=\"content selected\"><pre class=\"ydf_pre\">    1. &quot;0&quot;  0.654561 ################\n",
       "    2. &quot;1&quot;  0.385301 #######\n",
       "    3. &quot;2&quot;  0.217671 #\n",
       "    4. &quot;3&quot;  0.191606 #\n",
       "    5. &quot;5&quot;  0.174546 \n",
       "    6. &quot;4&quot;  0.173178 \n",
       "    7. &quot;8&quot;  0.167113 \n",
       "    8. &quot;6&quot;  0.165219 \n",
       "    9. &quot;7&quot;  0.161307 \n",
       "   10. &quot;9&quot;  0.156584 \n",
       "</pre></div><div id=\"8513-7c5f-3afc-c0b5_vi_body_NUM_AS_ROOT\" class=\"content\"><pre class=\"ydf_pre\">    1. &quot;0&quot; 197.000000 ################\n",
       "    2. &quot;1&quot; 77.000000 ######\n",
       "    3. &quot;2&quot; 16.000000 #\n",
       "    4. &quot;4&quot;  5.000000 \n",
       "    5. &quot;3&quot;  4.000000 \n",
       "    6. &quot;5&quot;  1.000000 \n",
       "</pre></div><div id=\"8513-7c5f-3afc-c0b5_vi_body_NUM_NODES\" class=\"content\"><pre class=\"ydf_pre\">    1. &quot;0&quot; 2141.000000 ################\n",
       "    2. &quot;1&quot; 1667.000000 ############\n",
       "    3. &quot;2&quot; 1216.000000 ########\n",
       "    4. &quot;3&quot; 873.000000 #####\n",
       "    5. &quot;5&quot; 733.000000 ####\n",
       "    6. &quot;4&quot; 711.000000 ####\n",
       "    7. &quot;6&quot; 552.000000 ###\n",
       "    8. &quot;8&quot; 521.000000 ##\n",
       "    9. &quot;7&quot; 404.000000 #\n",
       "   10. &quot;9&quot; 182.000000 \n",
       "</pre></div><div id=\"8513-7c5f-3afc-c0b5_vi_body_SUM_SCORE\" class=\"content\"><pre class=\"ydf_pre\">    1. &quot;0&quot; 52743.649128 ################\n",
       "    2. &quot;1&quot; 29269.989217 ########\n",
       "    3. &quot;2&quot; 12864.732583 ###\n",
       "    4. &quot;3&quot; 9611.201792 ##\n",
       "    5. &quot;5&quot; 6355.380947 #\n",
       "    6. &quot;4&quot; 6071.434080 #\n",
       "    7. &quot;6&quot; 4519.444936 #\n",
       "    8. &quot;8&quot; 4339.849579 \n",
       "    9. &quot;7&quot; 3004.166105 \n",
       "   10. &quot;9&quot; 1174.968443 \n",
       "</pre></div></div><p>Those variable importances are computed during training. More, and possibly more informative, variable importances are available when analyzing a model on a test dataset.</p></div><div id=\"8513-7c5f-3afc-c0b5_body_structure\" class=\"tab_content\"><b>Num trees</b> : 300<br><p>Only printing the first tree.</p><pre class=\"ydf_pre\">Tree #0:\n",
       "    &quot;0&quot;x0.107361+&quot;3&quot;x0.130053&gt;=0.061469 [s:0.0711152 n:1600 np:909 miss:0] ; val:&quot;0&quot; prob:[0.5, 0.5]\n",
       "        ├─(pos)─ &quot;1&quot;x1&gt;=-0.46826 [s:0.0388418 n:909 np:733 miss:0] ; val:&quot;1&quot; prob:[0.337734, 0.662266]\n",
       "        |        ├─(pos)─ &quot;1&quot;x1&gt;=1.42398 [s:0.0231343 n:733 np:147 miss:0] ; val:&quot;1&quot; prob:[0.271487, 0.728513]\n",
       "        |        |        ├─(pos)─ &quot;0&quot;x-0.0283943+&quot;4&quot;x-0.0740031+&quot;7&quot;x-0.0418252&gt;=-0.034061 [s:0.0399877 n:147 np:53 miss:0] ; val:&quot;1&quot; prob:[0.0952381, 0.904762]\n",
       "        |        |        |        ├─(pos)─ &quot;8&quot;x1&gt;=0.497143 [s:0.114369 n:53 np:20 miss:0] ; val:&quot;1&quot; prob:[0.207547, 0.792453]\n",
       "        |        |        |        |        ├─(pos)─ val:&quot;1&quot; prob:[0, 1]\n",
       "        |        |        |        |        └─(neg)─ val:&quot;1&quot; prob:[0.333333, 0.666667]\n",
       "        |        |        |        └─(neg)─ val:&quot;1&quot; prob:[0.0319149, 0.968085]\n",
       "        |        |        └─(neg)─ &quot;0&quot;x1&gt;=1.1825 [s:0.0296487 n:586 np:244 miss:0] ; val:&quot;1&quot; prob:[0.3157, 0.6843]\n",
       "        |        |                 ├─(pos)─ &quot;2&quot;x1&gt;=-1.45857 [s:0.0388832 n:244 np:234 miss:0] ; val:&quot;1&quot; prob:[0.184426, 0.815574]\n",
       "        |        |                 |        ├─(pos)─ &quot;3&quot;x0.0756233+&quot;8&quot;x0.0405004&gt;=-0.00658054 [s:0.040275 n:234 np:187 miss:0] ; val:&quot;1&quot; prob:[0.15812, 0.84188]\n",
       "        |        |                 |        |        ├─(pos)─ &quot;6&quot;x1&gt;=-0.966318 [s:0.0327012 n:187 np:169 miss:0] ; val:&quot;1&quot; prob:[0.101604, 0.898396]\n",
       "        |        |                 |        |        |        ├─(pos)─ val:&quot;1&quot; prob:[0.0710059, 0.928994]\n",
       "        |        |                 |        |        |        └─(neg)─ val:&quot;1&quot; prob:[0.388889, 0.611111]\n",
       "        |        |                 |        |        └─(neg)─ val:&quot;1&quot; prob:[0.382979, 0.617021]\n",
       "        |        |                 |        └─(neg)─ val:&quot;0&quot; prob:[0.8, 0.2]\n",
       "        |        |                 └─(neg)─ &quot;0&quot;x0.0915803+&quot;5&quot;x0.0319958+&quot;9&quot;x0.0298916&gt;=0.00778269 [s:0.033914 n:342 np:244 miss:0] ; val:&quot;1&quot; prob:[0.409357, 0.590643]\n",
       "        |        |                          ├─(pos)─ val:&quot;1&quot; prob:[0.327869, 0.672131]\n",
       "        |        |                          └─(neg)─ val:&quot;0&quot; prob:[0.612245, 0.387755]\n",
       "        |        └─(neg)─ &quot;0&quot;x1&gt;=0.369423 [s:0.0813421 n:176 np:129 miss:0] ; val:&quot;0&quot; prob:[0.613636, 0.386364]\n",
       "        |                 ├─(pos)─ &quot;2&quot;x0.121057+&quot;5&quot;x-0.116783+&quot;6&quot;x-0.083472&gt;=-0.322783 [s:0.0576491 n:129 np:119 miss:0] ; val:&quot;0&quot; prob:[0.503876, 0.496124]\n",
       "        |                 |        ├─(pos)─ &quot;0&quot;x1&gt;=1.80165 [s:0.055733 n:119 np:28 miss:0] ; val:&quot;0&quot; prob:[0.546218, 0.453782]\n",
       "        |                 |        |        ├─(pos)─ val:&quot;1&quot; prob:[0.25, 0.75]\n",
       "        |                 |        |        └─(neg)─ val:&quot;0&quot; prob:[0.637363, 0.362637]\n",
       "        |                 |        └─(neg)─ val:&quot;1&quot; prob:[0, 1]\n",
       "        |                 └─(neg)─ &quot;6&quot;x1&gt;=0.855131 [s:0.137656 n:47 np:11 miss:0] ; val:&quot;0&quot; prob:[0.914894, 0.0851064]\n",
       "        |                          ├─(pos)─ val:&quot;0&quot; prob:[0.636364, 0.363636]\n",
       "        |                          └─(neg)─ val:&quot;0&quot; prob:[1, 0]\n",
       "        └─(neg)─ &quot;0&quot;x-0.03473+&quot;1&quot;x-0.0160048+&quot;3&quot;x0.0159592+&quot;8&quot;x-0.0331171&gt;=-0.0585874 [s:0.0437221 n:691 np:581 miss:0] ; val:&quot;0&quot; prob:[0.713459, 0.286541]\n",
       "                 ├─(pos)─ &quot;1&quot;x1&gt;=0.938739 [s:0.0297888 n:581 np:112 miss:0] ; val:&quot;0&quot; prob:[0.774527, 0.225473]\n",
       "                 |        ├─(pos)─ &quot;2&quot;x1&gt;=0.452205 [s:0.0539254 n:112 np:45 miss:0] ; val:&quot;0&quot; prob:[0.553571, 0.446429]\n",
       "                 |        |        ├─(pos)─ val:&quot;1&quot; prob:[0.355556, 0.644444]\n",
       "                 |        |        └─(neg)─ &quot;0&quot;x0.0553553+&quot;7&quot;x0.106776&gt;=-0.0836261 [s:0.139559 n:67 np:47 miss:0] ; val:&quot;0&quot; prob:[0.686567, 0.313433]\n",
       "                 |        |                 ├─(pos)─ &quot;4&quot;x0.07949+&quot;6&quot;x0.0302014&gt;=0.0710609 [s:0.153902 n:47 np:14 miss:0] ; val:&quot;0&quot; prob:[0.553191, 0.446809]\n",
       "                 |        |                 |        ├─(pos)─ &quot;3&quot;x1&gt;=-0.813719 [s:0.410116 n:14 np:12 miss:0] ; val:&quot;1&quot; prob:[0.142857, 0.857143]\n",
       "                 |        |                 |        |        ├─(pos)─ val:&quot;1&quot; prob:[0, 1]\n",
       "                 |        |                 |        |        └─(neg)─ val:&quot;0&quot; prob:[1, 0]\n",
       "                 |        |                 |        └─(neg)─ &quot;0&quot;x1&gt;=-0.0545769 [s:0.164368 n:33 np:11 miss:0] ; val:&quot;0&quot; prob:[0.727273, 0.272727]\n",
       "                 |        |                 |                 ├─(pos)─ val:&quot;1&quot; prob:[0.363636, 0.636364]\n",
       "                 |        |                 |                 └─(neg)─ val:&quot;0&quot; prob:[0.909091, 0.0909091]\n",
       "                 |        |                 └─(neg)─ val:&quot;0&quot; prob:[1, 0]\n",
       "                 |        └─(neg)─ &quot;0&quot;x1&gt;=0.367218 [s:0.0265581 n:469 np:95 miss:0] ; val:&quot;0&quot; prob:[0.827292, 0.172708]\n",
       "                 |                 ├─(pos)─ &quot;4&quot;x1&gt;=-0.309395 [s:0.0943542 n:95 np:66 miss:0] ; val:&quot;0&quot; prob:[0.642105, 0.357895]\n",
       "                 |                 |        ├─(pos)─ &quot;3&quot;x0.0420187+&quot;5&quot;x0.0594281+&quot;7&quot;x0.0891722&gt;=0.134849 [s:0.0966858 n:66 np:8 miss:0] ; val:&quot;0&quot; prob:[0.515152, 0.484848]\n",
       "                 |                 |        |        ├─(pos)─ val:&quot;1&quot; prob:[0, 1]\n",
       "                 |                 |        |        └─(neg)─ &quot;2&quot;x1&gt;=0.53836 [s:0.107196 n:58 np:17 miss:0] ; val:&quot;0&quot; prob:[0.586207, 0.413793]\n",
       "                 |                 |        |                 ├─(pos)─ val:&quot;1&quot; prob:[0.235294, 0.764706]\n",
       "                 |                 |        |                 └─(neg)─ val:&quot;0&quot; prob:[0.731707, 0.268293]\n",
       "                 |                 |        └─(neg)─ val:&quot;0&quot; prob:[0.931034, 0.0689655]\n",
       "                 |                 └─(neg)─ &quot;1&quot;x1&gt;=-0.297373 [s:0.0239497 n:374 np:208 miss:0] ; val:&quot;0&quot; prob:[0.874332, 0.125668]\n",
       "                 |                          ├─(pos)─ &quot;0&quot;x1&gt;=-1.12092 [s:0.0487767 n:208 np:165 miss:0] ; val:&quot;0&quot; prob:[0.8125, 0.1875]\n",
       "                 |                          |        ├─(pos)─ &quot;4&quot;x1&gt;=0.987311 [s:0.0410343 n:165 np:29 miss:0] ; val:&quot;0&quot; prob:[0.763636, 0.236364]\n",
       "                 |                          |        |        ├─(pos)─ val:&quot;1&quot; prob:[0.482759, 0.517241]\n",
       "                 |                          |        |        └─(neg)─ val:&quot;0&quot; prob:[0.823529, 0.176471]\n",
       "                 |                          |        └─(neg)─ val:&quot;0&quot; prob:[1, 0]\n",
       "                 |                          └─(neg)─ val:&quot;0&quot; prob:[0.951807, 0.0481928]\n",
       "                 └─(neg)─ &quot;2&quot;x1&gt;=-0.914304 [s:0.0554965 n:110 np:95 miss:0] ; val:&quot;1&quot; prob:[0.390909, 0.609091]\n",
       "                          ├─(pos)─ &quot;4&quot;x0.0167804+&quot;8&quot;x0.0510698&gt;=0.0667835 [s:0.0644152 n:95 np:42 miss:0] ; val:&quot;1&quot; prob:[0.326316, 0.673684]\n",
       "                          |        ├─(pos)─ val:&quot;1&quot; prob:[0.142857, 0.857143]\n",
       "                          |        └─(neg)─ val:&quot;1&quot; prob:[0.471698, 0.528302]\n",
       "                          └─(neg)─ val:&quot;0&quot; prob:[0.8, 0.2]\n",
       "</pre></div></div></div>"
      ],
      "text/plain": [
       "<ydf.utils.html.HtmlNotebookDisplay at 0x29e391f4e20>"
      ]
     },
     "execution_count": 39,
     "metadata": {},
     "output_type": "execute_result"
    }
   ],
   "source": [
    "ydf_model.describe()"
   ]
  },
  {
   "cell_type": "code",
   "execution_count": 9,
   "metadata": {},
   "outputs": [],
   "source": [
    "ydf_model.save(\"saved_model/\")"
   ]
  },
  {
   "cell_type": "code",
   "execution_count": 40,
   "metadata": {},
   "outputs": [
    {
     "data": {
      "text/plain": [
       "columns {\n",
       "  type: CATEGORICAL\n",
       "  name: \"target\"\n",
       "  categorical {\n",
       "    number_of_unique_values: 3\n",
       "    items {\n",
       "      key: \"<OOD>\"\n",
       "      value {\n",
       "        index: 0\n",
       "        count: 0\n",
       "      }\n",
       "    }\n",
       "    items {\n",
       "      key: \"1\"\n",
       "      value {\n",
       "        index: 2\n",
       "        count: 800\n",
       "      }\n",
       "    }\n",
       "    items {\n",
       "      key: \"0\"\n",
       "      value {\n",
       "        index: 1\n",
       "        count: 800\n",
       "      }\n",
       "    }\n",
       "  }\n",
       "  count_nas: 0\n",
       "  dtype: DTYPE_INT32\n",
       "}\n",
       "columns {\n",
       "  type: NUMERICAL\n",
       "  name: \"0\"\n",
       "  numerical {\n",
       "    mean: 0.50206137866509382\n",
       "    min_value: -3.38852024\n",
       "    max_value: 3.77264\n",
       "    standard_deviation: 1.0926331375419041\n",
       "  }\n",
       "  count_nas: 0\n",
       "  dtype: DTYPE_FLOAT64\n",
       "}\n",
       "columns {\n",
       "  type: NUMERICAL\n",
       "  name: \"1\"\n",
       "  numerical {\n",
       "    mean: 0.32230514054055676\n",
       "    min_value: -3.55543637\n",
       "    max_value: 4.28789711\n",
       "    standard_deviation: 1.051411575474217\n",
       "  }\n",
       "  count_nas: 0\n",
       "  dtype: DTYPE_FLOAT64\n",
       "}\n",
       "columns {\n",
       "  type: NUMERICAL\n",
       "  name: \"2\"\n",
       "  numerical {\n",
       "    mean: 0.26846194128011119\n",
       "    min_value: -3.21311045\n",
       "    max_value: 3.50855422\n",
       "    standard_deviation: 1.0128059698575358\n",
       "  }\n",
       "  count_nas: 0\n",
       "  dtype: DTYPE_FLOAT64\n",
       "}\n",
       "columns {\n",
       "  type: NUMERICAL\n",
       "  name: \"3\"\n",
       "  numerical {\n",
       "    mean: 0.28625233119288168\n",
       "    min_value: -3.68026924\n",
       "    max_value: 3.75951433\n",
       "    standard_deviation: 1.0436835337427068\n",
       "  }\n",
       "  count_nas: 0\n",
       "  dtype: DTYPE_FLOAT64\n",
       "}\n",
       "columns {\n",
       "  type: NUMERICAL\n",
       "  name: \"4\"\n",
       "  numerical {\n",
       "    mean: 0.20751221119404362\n",
       "    min_value: -3.22562599\n",
       "    max_value: 3.66141701\n",
       "    standard_deviation: 1.03913163614251\n",
       "  }\n",
       "  count_nas: 0\n",
       "  dtype: DTYPE_FLOAT64\n",
       "}\n",
       "columns {\n",
       "  type: NUMERICAL\n",
       "  name: \"5\"\n",
       "  numerical {\n",
       "    mean: 0.17419139885603271\n",
       "    min_value: -3.59297848\n",
       "    max_value: 3.76071167\n",
       "    standard_deviation: 1.0355138971033688\n",
       "  }\n",
       "  count_nas: 0\n",
       "  dtype: DTYPE_FLOAT64\n",
       "}\n",
       "columns {\n",
       "  type: NUMERICAL\n",
       "  name: \"6\"\n",
       "  numerical {\n",
       "    mean: 0.231068709487663\n",
       "    min_value: -3.30099964\n",
       "    max_value: 4.44456625\n",
       "    standard_deviation: 1.0244386802598802\n",
       "  }\n",
       "  count_nas: 0\n",
       "  dtype: DTYPE_FLOAT64\n",
       "}\n",
       "columns {\n",
       "  type: NUMERICAL\n",
       "  name: \"7\"\n",
       "  numerical {\n",
       "    mean: 0.13137161141085016\n",
       "    min_value: -2.94062662\n",
       "    max_value: 3.27574754\n",
       "    standard_deviation: 1.0065058698712079\n",
       "  }\n",
       "  count_nas: 0\n",
       "  dtype: DTYPE_FLOAT64\n",
       "}\n",
       "columns {\n",
       "  type: NUMERICAL\n",
       "  name: \"8\"\n",
       "  numerical {\n",
       "    mean: 0.15040449838524184\n",
       "    min_value: -2.88460422\n",
       "    max_value: 3.32408166\n",
       "    standard_deviation: 1.025363305675411\n",
       "  }\n",
       "  count_nas: 0\n",
       "  dtype: DTYPE_FLOAT64\n",
       "}\n",
       "columns {\n",
       "  type: NUMERICAL\n",
       "  name: \"9\"\n",
       "  numerical {\n",
       "    mean: 0.14579614931055404\n",
       "    min_value: -2.9517889\n",
       "    max_value: 3.26021481\n",
       "    standard_deviation: 1.0217133681736286\n",
       "  }\n",
       "  count_nas: 0\n",
       "  dtype: DTYPE_FLOAT64\n",
       "}\n",
       "created_num_rows: 1600"
      ]
     },
     "execution_count": 40,
     "metadata": {},
     "output_type": "execute_result"
    }
   ],
   "source": [
    "ydf_model.data_spec()"
   ]
  },
  {
   "cell_type": "code",
   "execution_count": 41,
   "metadata": {},
   "outputs": [
    {
     "data": {
      "text/plain": [
       "Tree(root=NonLeaf(value=ProbabilityValue(num_examples=1600.0, probability=[0.5, 0.5]), condition=NumericalSparseObliqueCondition(missing=False, score=0.053251296281814575, attributes=[2, 5, 6], weights=[-0.052857689559459686, -0.12740656733512878, -0.0796140506863594], threshold=-0.044604748487472534), pos_child=NonLeaf(value=ProbabilityValue(num_examples=742.0, probability=[0.6738544474393531, 0.3261455525606469]), condition=NumericalSparseObliqueCondition(missing=False, score=0.040539998561143875, attributes=[1, 3], weights=[-0.0028991461731493473, -0.08910401165485382], threshold=-0.008685402572154999), pos_child=NonLeaf(value=ProbabilityValue(num_examples=342.0, probability=[0.8157894736842105, 0.18421052631578946]), condition=NumericalSparseObliqueCondition(missing=False, score=0.04142618179321289, attributes=[4], weights=[1.0], threshold=0.04757502302527428), pos_child=NonLeaf(value=ProbabilityValue(num_examples=183.0, probability=[0.7158469945355191, 0.28415300546448086]), condition=NumericalSparseObliqueCondition(missing=False, score=0.05151515081524849, attributes=[1], weights=[1.0], threshold=1.35428786277771), pos_child=Leaf(value=ProbabilityValue(num_examples=28.0, probability=[0.35714285714285715, 0.6428571428571429])), neg_child=NonLeaf(value=ProbabilityValue(num_examples=155.0, probability=[0.7806451612903226, 0.21935483870967742]), condition=NumericalSparseObliqueCondition(missing=False, score=0.043083686381578445, attributes=[8], weights=[1.0], threshold=0.16874529421329498), pos_child=Leaf(value=ProbabilityValue(num_examples=67.0, probability=[0.6417910447761194, 0.3582089552238806])), neg_child=Leaf(value=ProbabilityValue(num_examples=88.0, probability=[0.8863636363636364, 0.11363636363636363])))), neg_child=NonLeaf(value=ProbabilityValue(num_examples=159.0, probability=[0.9308176100628931, 0.06918238993710692]), condition=NumericalSparseObliqueCondition(missing=False, score=0.04968751594424248, attributes=[1], weights=[1.0], threshold=0.45125338435173035), pos_child=Leaf(value=ProbabilityValue(num_examples=57.0, probability=[0.8245614035087719, 0.17543859649122806])), neg_child=Leaf(value=ProbabilityValue(num_examples=102.0, probability=[0.9901960784313726, 0.00980392156862745])))), neg_child=NonLeaf(value=ProbabilityValue(num_examples=400.0, probability=[0.5525, 0.4475]), condition=NumericalSparseObliqueCondition(missing=False, score=0.07897112518548965, attributes=[1], weights=[1.0], threshold=-0.016433682292699814), pos_child=NonLeaf(value=ProbabilityValue(num_examples=274.0, probability=[0.4233576642335766, 0.5766423357664233]), condition=NumericalSparseObliqueCondition(missing=False, score=0.037852559238672256, attributes=[4], weights=[1.0], threshold=1.8432660102844238), pos_child=Leaf(value=ProbabilityValue(num_examples=18.0, probability=[0.0, 1.0])), neg_child=NonLeaf(value=ProbabilityValue(num_examples=256.0, probability=[0.453125, 0.546875]), condition=NumericalSparseObliqueCondition(missing=False, score=0.061811093240976334, attributes=[1, 2], weights=[-0.09883705526590347, -0.07697541266679764], threshold=-0.11890518665313721), pos_child=NonLeaf(value=ProbabilityValue(num_examples=146.0, probability=[0.6027397260273972, 0.3972602739726027]), condition=NumericalSparseObliqueCondition(missing=False, score=0.04984378069639206, attributes=[9], weights=[1.0], threshold=0.571755051612854), pos_child=Leaf(value=ProbabilityValue(num_examples=40.0, probability=[0.35, 0.65])), neg_child=NonLeaf(value=ProbabilityValue(num_examples=106.0, probability=[0.6981132075471698, 0.3018867924528302]), condition=NumericalSparseObliqueCondition(missing=False, score=0.06550544500350952, attributes=[6], weights=[1.0], threshold=-0.3191224932670593), pos_child=NonLeaf(value=ProbabilityValue(num_examples=58.0, probability=[0.5517241379310345, 0.4482758620689655]), condition=NumericalSparseObliqueCondition(missing=False, score=0.09043369442224503, attributes=[8], weights=[1.0], threshold=1.4181190729141235), pos_child=Leaf(value=ProbabilityValue(num_examples=6.0, probability=[0.0, 1.0])), neg_child=Leaf(value=ProbabilityValue(num_examples=52.0, probability=[0.6153846153846154, 0.38461538461538464]))), neg_child=Leaf(value=ProbabilityValue(num_examples=48.0, probability=[0.875, 0.125])))), neg_child=Leaf(value=ProbabilityValue(num_examples=110.0, probability=[0.2545454545454545, 0.7454545454545455])))), neg_child=NonLeaf(value=ProbabilityValue(num_examples=126.0, probability=[0.8333333333333334, 0.16666666666666666]), condition=NumericalSparseObliqueCondition(missing=False, score=0.09502603113651276, attributes=[2, 7], weights=[0.07720298320055008, 0.034438133239746094], threshold=-0.03132244944572449), pos_child=Leaf(value=ProbabilityValue(num_examples=76.0, probability=[0.7236842105263158, 0.27631578947368424])), neg_child=Leaf(value=ProbabilityValue(num_examples=50.0, probability=[1.0, 0.0]))))), neg_child=NonLeaf(value=ProbabilityValue(num_examples=858.0, probability=[0.34965034965034963, 0.6503496503496503]), condition=NumericalSparseObliqueCondition(missing=False, score=0.027874784544110298, attributes=[2], weights=[1.0], threshold=0.8453803062438965), pos_child=NonLeaf(value=ProbabilityValue(num_examples=354.0, probability=[0.2175141242937853, 0.7824858757062146]), condition=NumericalSparseObliqueCondition(missing=False, score=0.02652428299188614, attributes=[3], weights=[1.0], threshold=0.36735761165618896), pos_child=NonLeaf(value=ProbabilityValue(num_examples=187.0, probability=[0.12834224598930483, 0.8716577540106952]), condition=NumericalSparseObliqueCondition(missing=False, score=0.034788746386766434, attributes=[8], weights=[1.0], threshold=0.052107613533735275), pos_child=Leaf(value=ProbabilityValue(num_examples=110.0, probability=[0.05454545454545454, 0.9454545454545454])), neg_child=NonLeaf(value=ProbabilityValue(num_examples=77.0, probability=[0.23376623376623376, 0.7662337662337663]), condition=NumericalSparseObliqueCondition(missing=False, score=0.0974007099866867, attributes=[1], weights=[1.0], threshold=1.5059001445770264), pos_child=Leaf(value=ProbabilityValue(num_examples=23.0, probability=[0.0, 1.0])), neg_child=Leaf(value=ProbabilityValue(num_examples=54.0, probability=[0.3333333333333333, 0.6666666666666666])))), neg_child=NonLeaf(value=ProbabilityValue(num_examples=167.0, probability=[0.31736526946107785, 0.6826347305389222]), condition=NumericalSparseObliqueCondition(missing=False, score=0.044118430465459824, attributes=[8], weights=[1.0], threshold=1.3117594718933105), pos_child=Leaf(value=ProbabilityValue(num_examples=18.0, probability=[0.0, 1.0])), neg_child=NonLeaf(value=ProbabilityValue(num_examples=149.0, probability=[0.35570469798657717, 0.6442953020134228]), condition=NumericalSparseObliqueCondition(missing=False, score=0.05618910863995552, attributes=[1], weights=[1.0], threshold=-0.4843793213367462), pos_child=Leaf(value=ProbabilityValue(num_examples=124.0, probability=[0.28225806451612906, 0.717741935483871])), neg_child=NonLeaf(value=ProbabilityValue(num_examples=25.0, probability=[0.72, 0.28]), condition=NumericalSparseObliqueCondition(missing=False, score=0.40225911140441895, attributes=[7], weights=[1.0], threshold=0.1774005889892578), pos_child=Leaf(value=ProbabilityValue(num_examples=9.0, probability=[0.2222222222222222, 0.7777777777777778])), neg_child=Leaf(value=ProbabilityValue(num_examples=16.0, probability=[1.0, 0.0])))))), neg_child=NonLeaf(value=ProbabilityValue(num_examples=504.0, probability=[0.44246031746031744, 0.5575396825396826]), condition=NumericalSparseObliqueCondition(missing=False, score=0.1158423200249672, attributes=[1, 10], weights=[-0.07999606430530548, 0.006484793499112129], threshold=-0.0791228711605072), pos_child=NonLeaf(value=ProbabilityValue(num_examples=328.0, probability=[0.6097560975609756, 0.3902439024390244]), condition=NumericalSparseObliqueCondition(missing=False, score=0.028349151834845543, attributes=[5, 7], weights=[0.009386907331645489, -0.0715119019150734], threshold=-0.03691401332616806), pos_child=NonLeaf(value=ProbabilityValue(num_examples=218.0, probability=[0.6926605504587156, 0.3073394495412844]), condition=NumericalSparseObliqueCondition(missing=False, score=0.03084687888622284, attributes=[3], weights=[1.0], threshold=0.43099790811538696), pos_child=NonLeaf(value=ProbabilityValue(num_examples=90.0, probability=[0.5555555555555556, 0.4444444444444444]), condition=NumericalSparseObliqueCondition(missing=False, score=0.05859161913394928, attributes=[1, 6], weights=[-0.03025365248322487, 0.0007749254582449794], threshold=-0.006809590384364128), pos_child=Leaf(value=ProbabilityValue(num_examples=57.0, probability=[0.6842105263157895, 0.3157894736842105])), neg_child=NonLeaf(value=ProbabilityValue(num_examples=33.0, probability=[0.3333333333333333, 0.6666666666666666]), condition=NumericalSparseObliqueCondition(missing=False, score=0.19565846025943756, attributes=[4, 6], weights=[-0.02392345294356346, -0.03987818583846092], threshold=0.0512404665350914), pos_child=Leaf(value=ProbabilityValue(num_examples=5.0, probability=[1.0, 0.0])), neg_child=Leaf(value=ProbabilityValue(num_examples=28.0, probability=[0.21428571428571427, 0.7857142857142857])))), neg_child=NonLeaf(value=ProbabilityValue(num_examples=128.0, probability=[0.7890625, 0.2109375]), condition=NumericalSparseObliqueCondition(missing=False, score=0.04465324804186821, attributes=[5, 9, 10], weights=[0.06085674837231636, 0.15212242305278778, 0.10847906768321991], threshold=0.294242799282074), pos_child=Leaf(value=ProbabilityValue(num_examples=22.0, probability=[0.5, 0.5])), neg_child=Leaf(value=ProbabilityValue(num_examples=106.0, probability=[0.8490566037735849, 0.1509433962264151])))), neg_child=NonLeaf(value=ProbabilityValue(num_examples=110.0, probability=[0.44545454545454544, 0.5545454545454546]), condition=NumericalSparseObliqueCondition(missing=False, score=0.10557600855827332, attributes=[1], weights=[1.0], threshold=-0.9217144250869751), pos_child=NonLeaf(value=ProbabilityValue(num_examples=97.0, probability=[0.3711340206185567, 0.6288659793814433]), condition=NumericalSparseObliqueCondition(missing=False, score=0.06482472270727158, attributes=[3], weights=[1.0], threshold=-1.5358127355575562), pos_child=Leaf(value=ProbabilityValue(num_examples=91.0, probability=[0.32967032967032966, 0.6703296703296703])), neg_child=Leaf(value=ProbabilityValue(num_examples=6.0, probability=[1.0, 0.0]))), neg_child=Leaf(value=ProbabilityValue(num_examples=13.0, probability=[1.0, 0.0])))), neg_child=NonLeaf(value=ProbabilityValue(num_examples=176.0, probability=[0.13068181818181818, 0.8693181818181818]), condition=NumericalSparseObliqueCondition(missing=False, score=0.0358642041683197, attributes=[1, 4, 9], weights=[0.09697337448596954, 0.10095655918121338, 0.06477552652359009], threshold=0.09215907752513885), pos_child=Leaf(value=ProbabilityValue(num_examples=149.0, probability=[0.087248322147651, 0.912751677852349])), neg_child=NonLeaf(value=ProbabilityValue(num_examples=27.0, probability=[0.37037037037037035, 0.6296296296296297]), condition=NumericalSparseObliqueCondition(missing=False, score=0.2011781483888626, attributes=[3, 6], weights=[0.0841446965932846, -0.05701976642012596], threshold=-0.014998072758316994), pos_child=Leaf(value=ProbabilityValue(num_examples=9.0, probability=[0.0, 1.0])), neg_child=Leaf(value=ProbabilityValue(num_examples=18.0, probability=[0.5555555555555556, 0.4444444444444444]))))))))"
      ]
     },
     "execution_count": 41,
     "metadata": {},
     "output_type": "execute_result"
    }
   ],
   "source": [
    "ydf_tree = ydf_model.get_tree(1)\n",
    "ydf_tree"
   ]
  },
  {
   "cell_type": "code",
   "execution_count": 43,
   "metadata": {},
   "outputs": [
    {
     "data": {
      "text/plain": [
       "NonLeaf(value=ProbabilityValue(num_examples=1600.0, probability=[0.5, 0.5]), condition=NumericalSparseObliqueCondition(missing=False, score=0.053251296281814575, attributes=[2, 5, 6], weights=[-0.052857689559459686, -0.12740656733512878, -0.0796140506863594], threshold=-0.044604748487472534), pos_child=NonLeaf(value=ProbabilityValue(num_examples=742.0, probability=[0.6738544474393531, 0.3261455525606469]), condition=NumericalSparseObliqueCondition(missing=False, score=0.040539998561143875, attributes=[1, 3], weights=[-0.0028991461731493473, -0.08910401165485382], threshold=-0.008685402572154999), pos_child=NonLeaf(value=ProbabilityValue(num_examples=342.0, probability=[0.8157894736842105, 0.18421052631578946]), condition=NumericalSparseObliqueCondition(missing=False, score=0.04142618179321289, attributes=[4], weights=[1.0], threshold=0.04757502302527428), pos_child=NonLeaf(value=ProbabilityValue(num_examples=183.0, probability=[0.7158469945355191, 0.28415300546448086]), condition=NumericalSparseObliqueCondition(missing=False, score=0.05151515081524849, attributes=[1], weights=[1.0], threshold=1.35428786277771), pos_child=Leaf(value=ProbabilityValue(num_examples=28.0, probability=[0.35714285714285715, 0.6428571428571429])), neg_child=NonLeaf(value=ProbabilityValue(num_examples=155.0, probability=[0.7806451612903226, 0.21935483870967742]), condition=NumericalSparseObliqueCondition(missing=False, score=0.043083686381578445, attributes=[8], weights=[1.0], threshold=0.16874529421329498), pos_child=Leaf(value=ProbabilityValue(num_examples=67.0, probability=[0.6417910447761194, 0.3582089552238806])), neg_child=Leaf(value=ProbabilityValue(num_examples=88.0, probability=[0.8863636363636364, 0.11363636363636363])))), neg_child=NonLeaf(value=ProbabilityValue(num_examples=159.0, probability=[0.9308176100628931, 0.06918238993710692]), condition=NumericalSparseObliqueCondition(missing=False, score=0.04968751594424248, attributes=[1], weights=[1.0], threshold=0.45125338435173035), pos_child=Leaf(value=ProbabilityValue(num_examples=57.0, probability=[0.8245614035087719, 0.17543859649122806])), neg_child=Leaf(value=ProbabilityValue(num_examples=102.0, probability=[0.9901960784313726, 0.00980392156862745])))), neg_child=NonLeaf(value=ProbabilityValue(num_examples=400.0, probability=[0.5525, 0.4475]), condition=NumericalSparseObliqueCondition(missing=False, score=0.07897112518548965, attributes=[1], weights=[1.0], threshold=-0.016433682292699814), pos_child=NonLeaf(value=ProbabilityValue(num_examples=274.0, probability=[0.4233576642335766, 0.5766423357664233]), condition=NumericalSparseObliqueCondition(missing=False, score=0.037852559238672256, attributes=[4], weights=[1.0], threshold=1.8432660102844238), pos_child=Leaf(value=ProbabilityValue(num_examples=18.0, probability=[0.0, 1.0])), neg_child=NonLeaf(value=ProbabilityValue(num_examples=256.0, probability=[0.453125, 0.546875]), condition=NumericalSparseObliqueCondition(missing=False, score=0.061811093240976334, attributes=[1, 2], weights=[-0.09883705526590347, -0.07697541266679764], threshold=-0.11890518665313721), pos_child=NonLeaf(value=ProbabilityValue(num_examples=146.0, probability=[0.6027397260273972, 0.3972602739726027]), condition=NumericalSparseObliqueCondition(missing=False, score=0.04984378069639206, attributes=[9], weights=[1.0], threshold=0.571755051612854), pos_child=Leaf(value=ProbabilityValue(num_examples=40.0, probability=[0.35, 0.65])), neg_child=NonLeaf(value=ProbabilityValue(num_examples=106.0, probability=[0.6981132075471698, 0.3018867924528302]), condition=NumericalSparseObliqueCondition(missing=False, score=0.06550544500350952, attributes=[6], weights=[1.0], threshold=-0.3191224932670593), pos_child=NonLeaf(value=ProbabilityValue(num_examples=58.0, probability=[0.5517241379310345, 0.4482758620689655]), condition=NumericalSparseObliqueCondition(missing=False, score=0.09043369442224503, attributes=[8], weights=[1.0], threshold=1.4181190729141235), pos_child=Leaf(value=ProbabilityValue(num_examples=6.0, probability=[0.0, 1.0])), neg_child=Leaf(value=ProbabilityValue(num_examples=52.0, probability=[0.6153846153846154, 0.38461538461538464]))), neg_child=Leaf(value=ProbabilityValue(num_examples=48.0, probability=[0.875, 0.125])))), neg_child=Leaf(value=ProbabilityValue(num_examples=110.0, probability=[0.2545454545454545, 0.7454545454545455])))), neg_child=NonLeaf(value=ProbabilityValue(num_examples=126.0, probability=[0.8333333333333334, 0.16666666666666666]), condition=NumericalSparseObliqueCondition(missing=False, score=0.09502603113651276, attributes=[2, 7], weights=[0.07720298320055008, 0.034438133239746094], threshold=-0.03132244944572449), pos_child=Leaf(value=ProbabilityValue(num_examples=76.0, probability=[0.7236842105263158, 0.27631578947368424])), neg_child=Leaf(value=ProbabilityValue(num_examples=50.0, probability=[1.0, 0.0]))))), neg_child=NonLeaf(value=ProbabilityValue(num_examples=858.0, probability=[0.34965034965034963, 0.6503496503496503]), condition=NumericalSparseObliqueCondition(missing=False, score=0.027874784544110298, attributes=[2], weights=[1.0], threshold=0.8453803062438965), pos_child=NonLeaf(value=ProbabilityValue(num_examples=354.0, probability=[0.2175141242937853, 0.7824858757062146]), condition=NumericalSparseObliqueCondition(missing=False, score=0.02652428299188614, attributes=[3], weights=[1.0], threshold=0.36735761165618896), pos_child=NonLeaf(value=ProbabilityValue(num_examples=187.0, probability=[0.12834224598930483, 0.8716577540106952]), condition=NumericalSparseObliqueCondition(missing=False, score=0.034788746386766434, attributes=[8], weights=[1.0], threshold=0.052107613533735275), pos_child=Leaf(value=ProbabilityValue(num_examples=110.0, probability=[0.05454545454545454, 0.9454545454545454])), neg_child=NonLeaf(value=ProbabilityValue(num_examples=77.0, probability=[0.23376623376623376, 0.7662337662337663]), condition=NumericalSparseObliqueCondition(missing=False, score=0.0974007099866867, attributes=[1], weights=[1.0], threshold=1.5059001445770264), pos_child=Leaf(value=ProbabilityValue(num_examples=23.0, probability=[0.0, 1.0])), neg_child=Leaf(value=ProbabilityValue(num_examples=54.0, probability=[0.3333333333333333, 0.6666666666666666])))), neg_child=NonLeaf(value=ProbabilityValue(num_examples=167.0, probability=[0.31736526946107785, 0.6826347305389222]), condition=NumericalSparseObliqueCondition(missing=False, score=0.044118430465459824, attributes=[8], weights=[1.0], threshold=1.3117594718933105), pos_child=Leaf(value=ProbabilityValue(num_examples=18.0, probability=[0.0, 1.0])), neg_child=NonLeaf(value=ProbabilityValue(num_examples=149.0, probability=[0.35570469798657717, 0.6442953020134228]), condition=NumericalSparseObliqueCondition(missing=False, score=0.05618910863995552, attributes=[1], weights=[1.0], threshold=-0.4843793213367462), pos_child=Leaf(value=ProbabilityValue(num_examples=124.0, probability=[0.28225806451612906, 0.717741935483871])), neg_child=NonLeaf(value=ProbabilityValue(num_examples=25.0, probability=[0.72, 0.28]), condition=NumericalSparseObliqueCondition(missing=False, score=0.40225911140441895, attributes=[7], weights=[1.0], threshold=0.1774005889892578), pos_child=Leaf(value=ProbabilityValue(num_examples=9.0, probability=[0.2222222222222222, 0.7777777777777778])), neg_child=Leaf(value=ProbabilityValue(num_examples=16.0, probability=[1.0, 0.0])))))), neg_child=NonLeaf(value=ProbabilityValue(num_examples=504.0, probability=[0.44246031746031744, 0.5575396825396826]), condition=NumericalSparseObliqueCondition(missing=False, score=0.1158423200249672, attributes=[1, 10], weights=[-0.07999606430530548, 0.006484793499112129], threshold=-0.0791228711605072), pos_child=NonLeaf(value=ProbabilityValue(num_examples=328.0, probability=[0.6097560975609756, 0.3902439024390244]), condition=NumericalSparseObliqueCondition(missing=False, score=0.028349151834845543, attributes=[5, 7], weights=[0.009386907331645489, -0.0715119019150734], threshold=-0.03691401332616806), pos_child=NonLeaf(value=ProbabilityValue(num_examples=218.0, probability=[0.6926605504587156, 0.3073394495412844]), condition=NumericalSparseObliqueCondition(missing=False, score=0.03084687888622284, attributes=[3], weights=[1.0], threshold=0.43099790811538696), pos_child=NonLeaf(value=ProbabilityValue(num_examples=90.0, probability=[0.5555555555555556, 0.4444444444444444]), condition=NumericalSparseObliqueCondition(missing=False, score=0.05859161913394928, attributes=[1, 6], weights=[-0.03025365248322487, 0.0007749254582449794], threshold=-0.006809590384364128), pos_child=Leaf(value=ProbabilityValue(num_examples=57.0, probability=[0.6842105263157895, 0.3157894736842105])), neg_child=NonLeaf(value=ProbabilityValue(num_examples=33.0, probability=[0.3333333333333333, 0.6666666666666666]), condition=NumericalSparseObliqueCondition(missing=False, score=0.19565846025943756, attributes=[4, 6], weights=[-0.02392345294356346, -0.03987818583846092], threshold=0.0512404665350914), pos_child=Leaf(value=ProbabilityValue(num_examples=5.0, probability=[1.0, 0.0])), neg_child=Leaf(value=ProbabilityValue(num_examples=28.0, probability=[0.21428571428571427, 0.7857142857142857])))), neg_child=NonLeaf(value=ProbabilityValue(num_examples=128.0, probability=[0.7890625, 0.2109375]), condition=NumericalSparseObliqueCondition(missing=False, score=0.04465324804186821, attributes=[5, 9, 10], weights=[0.06085674837231636, 0.15212242305278778, 0.10847906768321991], threshold=0.294242799282074), pos_child=Leaf(value=ProbabilityValue(num_examples=22.0, probability=[0.5, 0.5])), neg_child=Leaf(value=ProbabilityValue(num_examples=106.0, probability=[0.8490566037735849, 0.1509433962264151])))), neg_child=NonLeaf(value=ProbabilityValue(num_examples=110.0, probability=[0.44545454545454544, 0.5545454545454546]), condition=NumericalSparseObliqueCondition(missing=False, score=0.10557600855827332, attributes=[1], weights=[1.0], threshold=-0.9217144250869751), pos_child=NonLeaf(value=ProbabilityValue(num_examples=97.0, probability=[0.3711340206185567, 0.6288659793814433]), condition=NumericalSparseObliqueCondition(missing=False, score=0.06482472270727158, attributes=[3], weights=[1.0], threshold=-1.5358127355575562), pos_child=Leaf(value=ProbabilityValue(num_examples=91.0, probability=[0.32967032967032966, 0.6703296703296703])), neg_child=Leaf(value=ProbabilityValue(num_examples=6.0, probability=[1.0, 0.0]))), neg_child=Leaf(value=ProbabilityValue(num_examples=13.0, probability=[1.0, 0.0])))), neg_child=NonLeaf(value=ProbabilityValue(num_examples=176.0, probability=[0.13068181818181818, 0.8693181818181818]), condition=NumericalSparseObliqueCondition(missing=False, score=0.0358642041683197, attributes=[1, 4, 9], weights=[0.09697337448596954, 0.10095655918121338, 0.06477552652359009], threshold=0.09215907752513885), pos_child=Leaf(value=ProbabilityValue(num_examples=149.0, probability=[0.087248322147651, 0.912751677852349])), neg_child=NonLeaf(value=ProbabilityValue(num_examples=27.0, probability=[0.37037037037037035, 0.6296296296296297]), condition=NumericalSparseObliqueCondition(missing=False, score=0.2011781483888626, attributes=[3, 6], weights=[0.0841446965932846, -0.05701976642012596], threshold=-0.014998072758316994), pos_child=Leaf(value=ProbabilityValue(num_examples=9.0, probability=[0.0, 1.0])), neg_child=Leaf(value=ProbabilityValue(num_examples=18.0, probability=[0.5555555555555556, 0.4444444444444444])))))))"
      ]
     },
     "execution_count": 43,
     "metadata": {},
     "output_type": "execute_result"
    }
   ],
   "source": [
    "ydf_root = ydf_tree.root\n",
    "ydf_root"
   ]
  },
  {
   "cell_type": "code",
   "execution_count": 44,
   "metadata": {},
   "outputs": [
    {
     "data": {
      "text/plain": [
       "NonLeaf(value=ProbabilityValue(num_examples=858.0, probability=[0.34965034965034963, 0.6503496503496503]), condition=NumericalSparseObliqueCondition(missing=False, score=0.027874784544110298, attributes=[2], weights=[1.0], threshold=0.8453803062438965), pos_child=NonLeaf(value=ProbabilityValue(num_examples=354.0, probability=[0.2175141242937853, 0.7824858757062146]), condition=NumericalSparseObliqueCondition(missing=False, score=0.02652428299188614, attributes=[3], weights=[1.0], threshold=0.36735761165618896), pos_child=NonLeaf(value=ProbabilityValue(num_examples=187.0, probability=[0.12834224598930483, 0.8716577540106952]), condition=NumericalSparseObliqueCondition(missing=False, score=0.034788746386766434, attributes=[8], weights=[1.0], threshold=0.052107613533735275), pos_child=Leaf(value=ProbabilityValue(num_examples=110.0, probability=[0.05454545454545454, 0.9454545454545454])), neg_child=NonLeaf(value=ProbabilityValue(num_examples=77.0, probability=[0.23376623376623376, 0.7662337662337663]), condition=NumericalSparseObliqueCondition(missing=False, score=0.0974007099866867, attributes=[1], weights=[1.0], threshold=1.5059001445770264), pos_child=Leaf(value=ProbabilityValue(num_examples=23.0, probability=[0.0, 1.0])), neg_child=Leaf(value=ProbabilityValue(num_examples=54.0, probability=[0.3333333333333333, 0.6666666666666666])))), neg_child=NonLeaf(value=ProbabilityValue(num_examples=167.0, probability=[0.31736526946107785, 0.6826347305389222]), condition=NumericalSparseObliqueCondition(missing=False, score=0.044118430465459824, attributes=[8], weights=[1.0], threshold=1.3117594718933105), pos_child=Leaf(value=ProbabilityValue(num_examples=18.0, probability=[0.0, 1.0])), neg_child=NonLeaf(value=ProbabilityValue(num_examples=149.0, probability=[0.35570469798657717, 0.6442953020134228]), condition=NumericalSparseObliqueCondition(missing=False, score=0.05618910863995552, attributes=[1], weights=[1.0], threshold=-0.4843793213367462), pos_child=Leaf(value=ProbabilityValue(num_examples=124.0, probability=[0.28225806451612906, 0.717741935483871])), neg_child=NonLeaf(value=ProbabilityValue(num_examples=25.0, probability=[0.72, 0.28]), condition=NumericalSparseObliqueCondition(missing=False, score=0.40225911140441895, attributes=[7], weights=[1.0], threshold=0.1774005889892578), pos_child=Leaf(value=ProbabilityValue(num_examples=9.0, probability=[0.2222222222222222, 0.7777777777777778])), neg_child=Leaf(value=ProbabilityValue(num_examples=16.0, probability=[1.0, 0.0])))))), neg_child=NonLeaf(value=ProbabilityValue(num_examples=504.0, probability=[0.44246031746031744, 0.5575396825396826]), condition=NumericalSparseObliqueCondition(missing=False, score=0.1158423200249672, attributes=[1, 10], weights=[-0.07999606430530548, 0.006484793499112129], threshold=-0.0791228711605072), pos_child=NonLeaf(value=ProbabilityValue(num_examples=328.0, probability=[0.6097560975609756, 0.3902439024390244]), condition=NumericalSparseObliqueCondition(missing=False, score=0.028349151834845543, attributes=[5, 7], weights=[0.009386907331645489, -0.0715119019150734], threshold=-0.03691401332616806), pos_child=NonLeaf(value=ProbabilityValue(num_examples=218.0, probability=[0.6926605504587156, 0.3073394495412844]), condition=NumericalSparseObliqueCondition(missing=False, score=0.03084687888622284, attributes=[3], weights=[1.0], threshold=0.43099790811538696), pos_child=NonLeaf(value=ProbabilityValue(num_examples=90.0, probability=[0.5555555555555556, 0.4444444444444444]), condition=NumericalSparseObliqueCondition(missing=False, score=0.05859161913394928, attributes=[1, 6], weights=[-0.03025365248322487, 0.0007749254582449794], threshold=-0.006809590384364128), pos_child=Leaf(value=ProbabilityValue(num_examples=57.0, probability=[0.6842105263157895, 0.3157894736842105])), neg_child=NonLeaf(value=ProbabilityValue(num_examples=33.0, probability=[0.3333333333333333, 0.6666666666666666]), condition=NumericalSparseObliqueCondition(missing=False, score=0.19565846025943756, attributes=[4, 6], weights=[-0.02392345294356346, -0.03987818583846092], threshold=0.0512404665350914), pos_child=Leaf(value=ProbabilityValue(num_examples=5.0, probability=[1.0, 0.0])), neg_child=Leaf(value=ProbabilityValue(num_examples=28.0, probability=[0.21428571428571427, 0.7857142857142857])))), neg_child=NonLeaf(value=ProbabilityValue(num_examples=128.0, probability=[0.7890625, 0.2109375]), condition=NumericalSparseObliqueCondition(missing=False, score=0.04465324804186821, attributes=[5, 9, 10], weights=[0.06085674837231636, 0.15212242305278778, 0.10847906768321991], threshold=0.294242799282074), pos_child=Leaf(value=ProbabilityValue(num_examples=22.0, probability=[0.5, 0.5])), neg_child=Leaf(value=ProbabilityValue(num_examples=106.0, probability=[0.8490566037735849, 0.1509433962264151])))), neg_child=NonLeaf(value=ProbabilityValue(num_examples=110.0, probability=[0.44545454545454544, 0.5545454545454546]), condition=NumericalSparseObliqueCondition(missing=False, score=0.10557600855827332, attributes=[1], weights=[1.0], threshold=-0.9217144250869751), pos_child=NonLeaf(value=ProbabilityValue(num_examples=97.0, probability=[0.3711340206185567, 0.6288659793814433]), condition=NumericalSparseObliqueCondition(missing=False, score=0.06482472270727158, attributes=[3], weights=[1.0], threshold=-1.5358127355575562), pos_child=Leaf(value=ProbabilityValue(num_examples=91.0, probability=[0.32967032967032966, 0.6703296703296703])), neg_child=Leaf(value=ProbabilityValue(num_examples=6.0, probability=[1.0, 0.0]))), neg_child=Leaf(value=ProbabilityValue(num_examples=13.0, probability=[1.0, 0.0])))), neg_child=NonLeaf(value=ProbabilityValue(num_examples=176.0, probability=[0.13068181818181818, 0.8693181818181818]), condition=NumericalSparseObliqueCondition(missing=False, score=0.0358642041683197, attributes=[1, 4, 9], weights=[0.09697337448596954, 0.10095655918121338, 0.06477552652359009], threshold=0.09215907752513885), pos_child=Leaf(value=ProbabilityValue(num_examples=149.0, probability=[0.087248322147651, 0.912751677852349])), neg_child=NonLeaf(value=ProbabilityValue(num_examples=27.0, probability=[0.37037037037037035, 0.6296296296296297]), condition=NumericalSparseObliqueCondition(missing=False, score=0.2011781483888626, attributes=[3, 6], weights=[0.0841446965932846, -0.05701976642012596], threshold=-0.014998072758316994), pos_child=Leaf(value=ProbabilityValue(num_examples=9.0, probability=[0.0, 1.0])), neg_child=Leaf(value=ProbabilityValue(num_examples=18.0, probability=[0.5555555555555556, 0.4444444444444444]))))))"
      ]
     },
     "execution_count": 44,
     "metadata": {},
     "output_type": "execute_result"
    }
   ],
   "source": [
    "ydf_root.neg_child"
   ]
  },
  {
   "cell_type": "code",
   "execution_count": 45,
   "metadata": {},
   "outputs": [],
   "source": [
    "root_str = str(ydf_root)"
   ]
  },
  {
   "cell_type": "code",
   "execution_count": null,
   "metadata": {},
   "outputs": [
    {
     "name": "stdout",
     "output_type": "stream",
     "text": [
      "Projection matrix dimension: 98\n",
      "Projection matrix (dense):\n",
      "[[ 0.          1.          0.          0.          0.          0.\n",
      "   0.          0.          0.          0.          0.          0.\n",
      "   0.          0.          0.          0.          0.          0.\n",
      "   0.          0.          0.          0.          0.          0.\n",
      "   0.          0.          0.          0.          0.          0.\n",
      "   0.          0.          0.          0.          0.          0.\n",
      "   0.          0.          0.          0.          0.          0.\n",
      "   0.          0.          0.          0.          0.          0.\n",
      "   0.          0.          0.          0.          0.          0.\n",
      "   0.          0.          0.          0.          0.          0.\n",
      "   0.          0.          0.          0.          0.          0.\n",
      "   0.          0.          0.          0.          0.          0.\n",
      "   0.          0.          0.          0.          0.          0.\n",
      "   0.          0.          0.          0.          0.          0.\n",
      "   0.          0.          0.          0.          0.          0.\n",
      "   0.          0.          0.          0.          0.          0.\n",
      "   0.          0.        ]\n",
      " [ 0.          0.          0.         -0.12418516  0.          0.\n",
      "   0.          0.          0.          0.          0.          0.\n",
      "   0.          0.          0.          0.          0.          0.\n",
      "   0.          0.          0.          0.          0.          0.\n",
      "   0.          0.          0.          0.          0.          0.\n",
      "   0.          0.          0.          0.          0.          0.\n",
      "   0.          0.          0.          0.          0.          0.\n",
      "   0.          0.          0.          0.          0.          0.\n",
      "   0.          0.          0.          0.          0.          0.\n",
      "   0.          0.          0.          0.          0.          0.\n",
      "   0.          0.          0.          0.          0.          0.\n",
      "   0.          0.          0.          0.          0.          0.\n",
      "   0.          0.          0.          0.          0.          0.\n",
      "   0.          0.          0.          0.          0.          0.\n",
      "   0.          0.          0.          0.          0.          0.\n",
      "   0.          0.          0.          0.          0.          0.\n",
      "   0.          0.06292982]]\n"
     ]
    }
   ],
   "source": [
    "import re\n",
    "import numpy as np\n",
    "from scipy.sparse import lil_matrix\n",
    "\n",
    "def extract_projections(tree_str):\n",
    "    \n",
    "    attr_blocks = re.findall(r'attributes=\\[([0-9,\\s]+)\\]\\s*,\\s*weights=\\[([0-9eE+.\\-,\\s]+)\\]', tree_str)\n",
    "\n",
    "    projection_rows = []\n",
    "    max_feature_index = -1\n",
    "\n",
    "    for attr_str, weight_str in attr_blocks:\n",
    "        attrs = [int(i.strip()) for i in attr_str.split(',') if i.strip()]\n",
    "        weights = [float(w.strip()) for w in weight_str.split(',') if w.strip()]\n",
    "        \n",
    "        if len(attrs) != len(weights):\n",
    "            raise ValueError(f\"Mismatched attributes and weights: {attrs}, {weights}\")\n",
    "        \n",
    "        # Track the maximum feature index\n",
    "        if attrs:\n",
    "            max_feature_index = max(max_feature_index, max(attrs))\n",
    "        \n",
    "        projection_rows.append((attrs, weights))\n",
    "\n",
    "    # Projection dimension = max feature index + 1\n",
    "    proj_dim = max_feature_index + 1\n",
    "\n",
    "    # Initialize sparse projection matrix\n",
    "    projection_matrix = lil_matrix((len(projection_rows), proj_dim))\n",
    "    for i, (attrs, weights) in enumerate(projection_rows):\n",
    "        for j, attr in enumerate(attrs):\n",
    "            projection_matrix[i, attr] = weights[j]\n",
    "\n",
    "    return projection_matrix, proj_dim\n",
    "\n",
    "# Example usage\n",
    "tree_str = \"\"\"NonLeaf(value=ProbabilityValue(num_examples=1600.0, probability=[0.5, 0.5]), condition=NumericalSparseObliqueCondition(missing=False, score=0.08932534605264664, attributes=[1], weights=[1.0], threshold=0.49017471075057983), pos_child=NonLeaf(value=ProbabilityValue(num_examples=799.0, probability=[0.29161451814768463, 0.7083854818523154]), condition=NumericalSparseObliqueCondition(missing=False, score=0.02758214995265007, attributes=[3, 97], weights=[-0.12418515980243683, 0.06292982399463654], threshold=-0.024221843108534813), ...\"\"\"\n",
    "\n",
    "projection_matrix, dimension = extract_projections(tree_str)\n",
    "\n",
    "print(\"Projection matrix dimension:\", dimension)\n",
    "print(\"Projection matrix (dense):\")\n",
    "print(projection_matrix.toarray())  # Optional: use `.toarray()` to convert sparse to dense\n"
   ]
  },
  {
   "cell_type": "code",
   "execution_count": 46,
   "metadata": {},
   "outputs": [
    {
     "data": {
      "text/plain": [
       "(30, 11)"
      ]
     },
     "execution_count": 46,
     "metadata": {},
     "output_type": "execute_result"
    }
   ],
   "source": [
    "projection_matrix, proj_dim = extract_projections(root_str)\n",
    "projection_matrix.shape"
   ]
  },
  {
   "cell_type": "code",
   "execution_count": 47,
   "metadata": {},
   "outputs": [
    {
     "data": {
      "text/plain": [
       "(17, 11)"
      ]
     },
     "execution_count": 47,
     "metadata": {},
     "output_type": "execute_result"
    }
   ],
   "source": [
    "projection_matrix2, proj_dim2 = extract_projections(str(ydf_root.neg_child))\n",
    "projection_matrix2.shape"
   ]
  },
  {
   "cell_type": "code",
   "execution_count": 48,
   "metadata": {},
   "outputs": [
    {
     "data": {
      "text/plain": [
       "(12, 10)"
      ]
     },
     "execution_count": 48,
     "metadata": {},
     "output_type": "execute_result"
    }
   ],
   "source": [
    "projection_matrix3, proj_dim3 = extract_projections(str(ydf_root.pos_child))\n",
    "projection_matrix3.shape"
   ]
  },
  {
   "cell_type": "code",
   "execution_count": 49,
   "metadata": {},
   "outputs": [
    {
     "data": {
      "text/plain": [
       "(30, 11)"
      ]
     },
     "execution_count": 49,
     "metadata": {},
     "output_type": "execute_result"
    }
   ],
   "source": [
    "proj_dim\n",
    "projection_matrix.shape"
   ]
  },
  {
   "cell_type": "code",
   "execution_count": 42,
   "metadata": {},
   "outputs": [
    {
     "data": {
      "text/plain": [
       "300"
      ]
     },
     "execution_count": 42,
     "metadata": {},
     "output_type": "execute_result"
    }
   ],
   "source": [
    "len(ydf_model.get_all_trees())"
   ]
  },
  {
   "cell_type": "markdown",
   "metadata": {},
   "source": [
    "Do a pipline"
   ]
  },
  {
   "cell_type": "code",
   "execution_count": null,
   "metadata": {},
   "outputs": [],
   "source": []
  }
 ],
 "metadata": {
  "kernelspec": {
   "display_name": "catboost_env",
   "language": "python",
   "name": "python3"
  },
  "language_info": {
   "codemirror_mode": {
    "name": "ipython",
    "version": 3
   },
   "file_extension": ".py",
   "mimetype": "text/x-python",
   "name": "python",
   "nbconvert_exporter": "python",
   "pygments_lexer": "ipython3",
   "version": "3.10.16"
  }
 },
 "nbformat": 4,
 "nbformat_minor": 2
}
