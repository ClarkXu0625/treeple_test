{
 "cells": [
  {
   "cell_type": "code",
   "execution_count": 1,
   "metadata": {},
   "outputs": [],
   "source": [
    "import yggdrasilDecisionForests.yggdrasil_decision_forests as ydf\n"
   ]
  },
  {
   "cell_type": "markdown",
   "metadata": {},
   "source": [
    "treeple1 environment"
   ]
  },
  {
   "cell_type": "code",
   "execution_count": 2,
   "metadata": {},
   "outputs": [
    {
     "name": "stdout",
     "output_type": "stream",
     "text": [
      "Collecting ydf\n",
      "  Downloading ydf-0.11.0-cp310-cp310-macosx_12_0_arm64.whl.metadata (3.5 kB)\n",
      "Requirement already satisfied: numpy in /Users/apple/opt/miniconda3/envs/treeple1/lib/python3.10/site-packages (from ydf) (2.2.4)\n",
      "Collecting absl_py (from ydf)\n",
      "  Downloading absl_py-2.2.2-py3-none-any.whl.metadata (2.6 kB)\n",
      "Collecting protobuf<6.0.0,>=5.29.1 (from ydf)\n",
      "  Downloading protobuf-5.29.4-cp38-abi3-macosx_10_9_universal2.whl.metadata (592 bytes)\n",
      "Downloading ydf-0.11.0-cp310-cp310-macosx_12_0_arm64.whl (8.9 MB)\n",
      "\u001b[2K   \u001b[90m━━━━━━━━━━━━━━━━━━━━━━━━━━━━━━━━━━━━━━━━\u001b[0m \u001b[32m8.9/8.9 MB\u001b[0m \u001b[31m41.5 MB/s\u001b[0m eta \u001b[36m0:00:00\u001b[0ma \u001b[36m0:00:01\u001b[0m\n",
      "\u001b[?25hDownloading protobuf-5.29.4-cp38-abi3-macosx_10_9_universal2.whl (417 kB)\n",
      "Downloading absl_py-2.2.2-py3-none-any.whl (135 kB)\n",
      "Installing collected packages: protobuf, absl_py, ydf\n",
      "Successfully installed absl_py-2.2.2 protobuf-5.29.4 ydf-0.11.0\n"
     ]
    }
   ],
   "source": [
    "! pip install ydf"
   ]
  },
  {
   "cell_type": "code",
   "execution_count": 1,
   "metadata": {},
   "outputs": [],
   "source": [
    "import ydf"
   ]
  },
  {
   "cell_type": "code",
   "execution_count": 4,
   "metadata": {},
   "outputs": [
    {
     "name": "stdout",
     "output_type": "stream",
     "text": [
      "Collecting pandas\n",
      "  Using cached pandas-2.2.3-cp310-cp310-macosx_11_0_arm64.whl.metadata (89 kB)\n",
      "Requirement already satisfied: numpy>=1.22.4 in /Users/apple/opt/miniconda3/envs/treeple1/lib/python3.10/site-packages (from pandas) (2.2.4)\n",
      "Requirement already satisfied: python-dateutil>=2.8.2 in /Users/apple/opt/miniconda3/envs/treeple1/lib/python3.10/site-packages (from pandas) (2.9.0.post0)\n",
      "Collecting pytz>=2020.1 (from pandas)\n",
      "  Using cached pytz-2025.2-py2.py3-none-any.whl.metadata (22 kB)\n",
      "Collecting tzdata>=2022.7 (from pandas)\n",
      "  Using cached tzdata-2025.2-py2.py3-none-any.whl.metadata (1.4 kB)\n",
      "Requirement already satisfied: six>=1.5 in /Users/apple/opt/miniconda3/envs/treeple1/lib/python3.10/site-packages (from python-dateutil>=2.8.2->pandas) (1.17.0)\n",
      "Using cached pandas-2.2.3-cp310-cp310-macosx_11_0_arm64.whl (11.3 MB)\n",
      "Using cached pytz-2025.2-py2.py3-none-any.whl (509 kB)\n",
      "Using cached tzdata-2025.2-py2.py3-none-any.whl (347 kB)\n",
      "Installing collected packages: pytz, tzdata, pandas\n",
      "Successfully installed pandas-2.2.3 pytz-2025.2 tzdata-2025.2\n"
     ]
    }
   ],
   "source": [
    "! pip install pandas"
   ]
  },
  {
   "cell_type": "code",
   "execution_count": 2,
   "metadata": {},
   "outputs": [],
   "source": [
    "import treeple\n",
    "from treeple.datasets import make_trunk_classification\n",
    "import pandas as pd\n",
    "import time\n",
    "from sklearn.metrics import accuracy_score\n",
    "from sklearn.model_selection import train_test_split"
   ]
  },
  {
   "cell_type": "code",
   "execution_count": 3,
   "metadata": {},
   "outputs": [],
   "source": [
    "def prepare_dataframe(X, y):\n",
    "    df = pd.DataFrame(X)\n",
    "    df.columns = [str(i) for i in df.columns]  # Convert column names to strings\n",
    "    df[\"target\"] = y.astype(int)  # Append target column\n",
    "\n",
    "    return df\n",
    "\n",
    "def train_ydf(X_train, y_train, X_test, y_test, params_ydf, n_dim=500):\n",
    "    df_train = prepare_dataframe(X_train, y_train)\n",
    "    df_test = prepare_dataframe(X_test, y_test)\n",
    "\n",
    "    learner = ydf.RandomForestLearner(**params_ydf)\n",
    "    start_time = time.time()\n",
    "    ydf_model = learner.train(df_train)\n",
    "    time_ydf = time.time() - start_time\n",
    "    y_pred = ydf_model.predict(df_test)\n",
    "    y_pred_class = (y_pred >= 0.5).astype(int) \n",
    "\n",
    "    acc_ydf = accuracy_score(y_test, y_pred_class)\n",
    "\n",
    "    print(f\"YDF | n_dim: {n_dim} | n_tree: {params_ydf['num_trees']} | Accuracy: {acc_ydf:.4f} | Train Time: {time_ydf:.4f} sec\")\n",
    "    return acc_ydf, time_ydf, y_pred_class"
   ]
  },
  {
   "cell_type": "code",
   "execution_count": 107,
   "metadata": {},
   "outputs": [],
   "source": [
    "MAX_DEPTH = 10\n",
    "N_ESTIMATORS = 300\n",
    "RANDOM_SEED = 42\n",
    "N_JOBS=-1\n",
    "BOOTSTRAP = True\n",
    "MAX_FEATURE = 100\n",
    "FEATURE_COMBINATIONS = 1.0\n",
    "\n",
    "params_ydf = dict()\n",
    "params_ydf[\"label\"] = \"target\"\n",
    "params_ydf[\"max_depth\"] = MAX_DEPTH\n",
    "params_ydf[\"num_trees\"] = N_ESTIMATORS\n",
    "params_ydf[\"random_seed\"] = RANDOM_SEED\n",
    "params_ydf[\"honest\"] = False\n",
    "params_ydf[\"bootstrap_size_ratio\"] = 1.0\n",
    "params_ydf[\"bootstrap_training_dataset\"] = BOOTSTRAP\n",
    "params_ydf[\"categorical_algorithm\"] = \"ONE_HOT\"\n",
    "params_ydf[\"compute_oob_performances\"] = False  #oob_score\n",
    "params_ydf[\"compute_oob_variable_importances\"] = False  ## oob_score\n",
    "params_ydf[\"in_split_min_examples_check\"] = True\n",
    "params_ydf[\"min_examples\"] = 1    #min_samples_leaf\n",
    "params_ydf[\"keep_non_leaf_label_distribution\"] = True   # not sure\n",
    "params_ydf[\"max_num_nodes\"] = None\n",
    "params_ydf[\"growing_strategy\"] = \"BEST_FIRST_GLOBAL\"\n",
    "# params_ydf[\"num_candidate_attributes\"] = -1  #0 equivalent to sqrt max_features in treeple\n",
    "params_ydf[\"num_candidate_attributes_ratio\"] = 1.0\n",
    "params_ydf[\"sorting_strategy\"] = \"IN_NODE\" ###\n",
    "# sparse oblique params\n",
    "params_ydf[\"split_axis\"] = \"SPARSE_OBLIQUE\"\n",
    "params_ydf[\"sparse_oblique_weights\"] = \"BINARY\"\n",
    "params_ydf[\"sparse_oblique_projection_density_factor\"] = FEATURE_COMBINATIONS\n",
    "params_ydf[\"sparse_oblique_normalization\"] = \"NONE\" #\"MIN_MAX\"\n",
    "params_ydf[\"sparse_oblique_max_num_projections\"] = MAX_FEATURE # modify this, find in sourse code in treeple\n",
    "params_ydf[\"sparse_oblique_num_projections_exponent\"] = 1.0   #2.0\n",
    "params_ydf[\"sampling_with_replacement\"] = False"
   ]
  },
  {
   "cell_type": "code",
   "execution_count": 108,
   "metadata": {},
   "outputs": [
    {
     "name": "stderr",
     "output_type": "stream",
     "text": [
      "c:\\Users\\clark\\anaconda3\\envs\\catboost_env\\lib\\site-packages\\treeple\\datasets\\hyppo.py:515: RuntimeWarning: Number of informative dimensions {n_informative} must be less than number of dimensions, 10. Setting n_informative to n_dim.\n",
      "  warnings.warn(\n"
     ]
    }
   ],
   "source": [
    "n_samples=2000\n",
    "num_dim=10\n",
    "X, y = make_trunk_classification(n_samples=n_samples, n_dim=num_dim, n_informative=600, seed=0)\n",
    "X_train, X_test, y_train, y_test = train_test_split(X, y, test_size=0.2, random_state=42, stratify=y)\n",
    "\n",
    "df_train = prepare_dataframe(X_train, y_train)\n",
    "df_test = prepare_dataframe(X_test, y_test)"
   ]
  },
  {
   "cell_type": "code",
   "execution_count": 109,
   "metadata": {},
   "outputs": [
    {
     "name": "stdout",
     "output_type": "stream",
     "text": [
      "Train model on 1600 examples\n",
      "Model trained in 0:00:00.116596\n"
     ]
    },
    {
     "data": {
      "text/plain": [
       "0.745"
      ]
     },
     "execution_count": 109,
     "metadata": {},
     "output_type": "execute_result"
    }
   ],
   "source": [
    "learner = ydf.RandomForestLearner(**params_ydf)\n",
    "start_time = time.time()\n",
    "ydf_model = learner.train(df_train)\n",
    "time_ydf = time.time() - start_time\n",
    "pred_ydf = ydf_model.predict(df_test)\n",
    "pred_ydf = (pred_ydf >= 0.5).astype(int) \n",
    "\n",
    "acc_ydf = accuracy_score(y_test, pred_ydf)\n",
    "acc_ydf"
   ]
  },
  {
   "cell_type": "code",
   "execution_count": 38,
   "metadata": {},
   "outputs": [
    {
     "data": {
      "text/plain": [
       "{'better_defaultv1': HyperparameterTemplate(name='better_default', version=1, parameters={'winner_take_all': True}, description='A configuration that is generally better than the default parameters without being more expensive.'),\n",
       " 'benchmark_rank1v1': HyperparameterTemplate(name='benchmark_rank1', version=1, parameters={'winner_take_all': True, 'categorical_algorithm': 'RANDOM', 'split_axis': 'SPARSE_OBLIQUE', 'sparse_oblique_normalization': 'MIN_MAX', 'sparse_oblique_num_projections_exponent': 1.0}, description='Top ranking hyper-parameters on our benchmark slightly modified to run in reasonable time.')}"
      ]
     },
     "execution_count": 38,
     "metadata": {},
     "output_type": "execute_result"
    }
   ],
   "source": [
    "learner.hyperparameter_templates()"
   ]
  },
  {
   "cell_type": "code",
   "execution_count": 39,
   "metadata": {},
   "outputs": [
    {
     "data": {
      "text/html": [
       "\n",
       "<style>\n",
       "\n",
       ".tab_block .header {\n",
       "    flex-direction: row;\n",
       "    display: flex;\n",
       "}\n",
       "\n",
       ".tab_block .header .tab {\n",
       "    cursor: pointer;\n",
       "    background-color: #F6F5F5;\n",
       "    text-decoration: none;\n",
       "    text-align: center;\n",
       "    padding: 4px 12px;\n",
       "    color: black;\n",
       "}\n",
       "\n",
       ".tab_block .header .tab.selected {\n",
       "    border-bottom: 2px solid #2F80ED;\n",
       "}\n",
       "\n",
       ".tab_block .header .tab:hover {\n",
       "    text-decoration: none;\n",
       "    background-color: #DCDCDC;\n",
       "}\n",
       "\n",
       ".tab_block .body .tab_content {\n",
       "    display: none;\n",
       "    padding: 5px;\n",
       "}\n",
       "\n",
       ".tab_block .body .tab_content.selected {\n",
       "    display: block;\n",
       "}\n",
       "\n",
       ".ydf_pre {\n",
       "    font-size: medium;\n",
       "}\n",
       "\n",
       "\n",
       "\n",
       ".variable_importance {\n",
       "}\n",
       "\n",
       ".variable_importance select {\n",
       "}\n",
       "\n",
       ".variable_importance .content {\n",
       "  display: none;\n",
       "}\n",
       "\n",
       ".variable_importance .content.selected {\n",
       "  display: block;\n",
       "}\n",
       "\n",
       ".ydf_tuning_table {\n",
       "  border-collapse: collapse;\n",
       "  border: 1px solid lightgray;\n",
       "}\n",
       "\n",
       ".ydf_tuning_table th {\n",
       "  background-color: #ededed;\n",
       "  font-weight: bold;\n",
       "  text-align: left;\n",
       "  padding: 3px 4px;\n",
       "  border: 1px solid lightgray;\n",
       "}\n",
       "\n",
       ".ydf_tuning_table td {\n",
       "  text-align: right;\n",
       "  padding: 3px 4px;\n",
       "  border: 1px solid lightgray;\n",
       "}\n",
       "\n",
       ".ydf_tuning_table .best {\n",
       "  background-color: khaki;\n",
       "}\n",
       "\n",
       "</style>\n",
       "\n",
       "<script>\n",
       "\n",
       "function ydfShowTab(block_id, item) {\n",
       "    const block = document.getElementById(block_id);\n",
       "    \n",
       "    \n",
       "    console.log(\"HIDE first of:\",block.getElementsByClassName(\"tab selected\"));\n",
       "    console.log(\"HIDE first of:\",block.getElementsByClassName(\"tab_content selected\"));\n",
       "    \n",
       "    block.getElementsByClassName(\"tab selected\")[0].classList.remove(\"selected\");\n",
       "    block.getElementsByClassName(\"tab_content selected\")[0].classList.remove(\"selected\");\n",
       "    document.getElementById(block_id + \"_\" + item).classList.add(\"selected\");\n",
       "    document.getElementById(block_id + \"_body_\" + item).classList.add(\"selected\");\n",
       "}\n",
       "  \n",
       "\n",
       "function ydfShowVariableImportance(block_id) {\n",
       "    const block = document.getElementById(block_id);\n",
       "    const item = block.getElementsByTagName(\"select\")[0].value;\n",
       "    block.getElementsByClassName(\"content selected\")[0].classList.remove(\"selected\");\n",
       "    document.getElementById(block_id + \"_body_\" + item).classList.add(\"selected\");\n",
       "}\n",
       "\n",
       "</script>\n",
       "  <div class=\"tab_block\" id=\"8513-7c5f-3afc-c0b5\"><div class=\"header\"><a id=\"8513-7c5f-3afc-c0b5_model\" class=\"tab selected\" onclick=\"ydfShowTab('8513-7c5f-3afc-c0b5', 'model')\">Model</a><a id=\"8513-7c5f-3afc-c0b5_dataspec\" class=\"tab\" onclick=\"ydfShowTab('8513-7c5f-3afc-c0b5', 'dataspec')\">Dataspec</a><a id=\"8513-7c5f-3afc-c0b5_training\" class=\"tab\" onclick=\"ydfShowTab('8513-7c5f-3afc-c0b5', 'training')\">Training</a><a id=\"8513-7c5f-3afc-c0b5_variable_importance\" class=\"tab\" onclick=\"ydfShowTab('8513-7c5f-3afc-c0b5', 'variable_importance')\">Variable importances</a><a id=\"8513-7c5f-3afc-c0b5_structure\" class=\"tab\" onclick=\"ydfShowTab('8513-7c5f-3afc-c0b5', 'structure')\">Structure</a></div><div class=\"body\"><div id=\"8513-7c5f-3afc-c0b5_body_model\" class=\"tab_content selected\"><b>Name</b> : RANDOM_FOREST<br><b>Task</b> : CLASSIFICATION<br><b>Label</b> : target<br><b>Features (10)</b> : 0 1 2 3 4 5 6 7 8 9<br><b>Weights</b> : None<br><b>Trained with tuner</b> : No<br><b>Model size</b> : 5473 kB<br></div><div id=\"8513-7c5f-3afc-c0b5_body_dataspec\" class=\"tab_content\"><pre class=\"ydf_pre\">Number of records: 1600\n",
       "Number of columns: 11\n",
       "\n",
       "Number of columns by type:\n",
       "\tNUMERICAL: 10 (90.9091%)\n",
       "\tCATEGORICAL: 1 (9.09091%)\n",
       "\n",
       "Columns:\n",
       "\n",
       "NUMERICAL: 10 (90.9091%)\n",
       "\t1: &quot;0&quot; NUMERICAL mean:0.502061 min:-3.38852 max:3.77264 sd:1.09263 dtype:DTYPE_FLOAT64\n",
       "\t2: &quot;1&quot; NUMERICAL mean:0.322305 min:-3.55544 max:4.2879 sd:1.05141 dtype:DTYPE_FLOAT64\n",
       "\t3: &quot;2&quot; NUMERICAL mean:0.268462 min:-3.21311 max:3.50855 sd:1.01281 dtype:DTYPE_FLOAT64\n",
       "\t4: &quot;3&quot; NUMERICAL mean:0.286252 min:-3.68027 max:3.75951 sd:1.04368 dtype:DTYPE_FLOAT64\n",
       "\t5: &quot;4&quot; NUMERICAL mean:0.207512 min:-3.22563 max:3.66142 sd:1.03913 dtype:DTYPE_FLOAT64\n",
       "\t6: &quot;5&quot; NUMERICAL mean:0.174191 min:-3.59298 max:3.76071 sd:1.03551 dtype:DTYPE_FLOAT64\n",
       "\t7: &quot;6&quot; NUMERICAL mean:0.231069 min:-3.301 max:4.44457 sd:1.02444 dtype:DTYPE_FLOAT64\n",
       "\t8: &quot;7&quot; NUMERICAL mean:0.131372 min:-2.94063 max:3.27575 sd:1.00651 dtype:DTYPE_FLOAT64\n",
       "\t9: &quot;8&quot; NUMERICAL mean:0.150404 min:-2.8846 max:3.32408 sd:1.02536 dtype:DTYPE_FLOAT64\n",
       "\t10: &quot;9&quot; NUMERICAL mean:0.145796 min:-2.95179 max:3.26021 sd:1.02171 dtype:DTYPE_FLOAT64\n",
       "\n",
       "CATEGORICAL: 1 (9.09091%)\n",
       "\t0: &quot;target&quot; CATEGORICAL has-dict vocab-size:3 zero-ood-items most-frequent:&quot;0&quot; 800 (50%) dtype:DTYPE_INT32\n",
       "\n",
       "Terminology:\n",
       "\tnas: Number of non-available (i.e. missing) values.\n",
       "\tood: Out of dictionary.\n",
       "\tmanually-defined: Attribute whose type is manually defined by the user, i.e., the type was not automatically inferred.\n",
       "\ttokenized: The attribute value is obtained through tokenization.\n",
       "\thas-dict: The attribute is attached to a string dictionary e.g. a categorical attribute stored as a string.\n",
       "\tvocab-size: Number of unique values.\n",
       "</pre></div><div id=\"8513-7c5f-3afc-c0b5_body_training\" class=\"tab_content\"><p>The following evaluation is computed on the validation or out-of-bag dataset.</p><p>The Random Forest does not have out-of-bag evaluation training logs. Train the model with compute_oob_performances=True to compute the training logs. Make sure the training logs have not been removed with pure_serving_model=True.</p></div><div id=\"8513-7c5f-3afc-c0b5_body_variable_importance\" class=\"tab_content\"><p><a target=\"_blank\" href=\"https://ydf.readthedocs.io/en/latest/cli_user_manual#variable-importances\">Variable importances</a> measure the importance of an input feature for a model.</p><div id=\"8513-7c5f-3afc-c0b5_vi\" class=\"variable_importance\"><select onchange=\"ydfShowVariableImportance('8513-7c5f-3afc-c0b5_vi')\"><option value=\"INV_MEAN_MIN_DEPTH\">INV_MEAN_MIN_DEPTH</option><option value=\"NUM_AS_ROOT\">NUM_AS_ROOT</option><option value=\"NUM_NODES\">NUM_NODES</option><option value=\"SUM_SCORE\">SUM_SCORE</option></select><div id=\"8513-7c5f-3afc-c0b5_vi_body_INV_MEAN_MIN_DEPTH\" class=\"content selected\"><pre class=\"ydf_pre\">    1. &quot;0&quot;  0.654561 ################\n",
       "    2. &quot;1&quot;  0.385301 #######\n",
       "    3. &quot;2&quot;  0.217671 #\n",
       "    4. &quot;3&quot;  0.191606 #\n",
       "    5. &quot;5&quot;  0.174546 \n",
       "    6. &quot;4&quot;  0.173178 \n",
       "    7. &quot;8&quot;  0.167113 \n",
       "    8. &quot;6&quot;  0.165219 \n",
       "    9. &quot;7&quot;  0.161307 \n",
       "   10. &quot;9&quot;  0.156584 \n",
       "</pre></div><div id=\"8513-7c5f-3afc-c0b5_vi_body_NUM_AS_ROOT\" class=\"content\"><pre class=\"ydf_pre\">    1. &quot;0&quot; 197.000000 ################\n",
       "    2. &quot;1&quot; 77.000000 ######\n",
       "    3. &quot;2&quot; 16.000000 #\n",
       "    4. &quot;4&quot;  5.000000 \n",
       "    5. &quot;3&quot;  4.000000 \n",
       "    6. &quot;5&quot;  1.000000 \n",
       "</pre></div><div id=\"8513-7c5f-3afc-c0b5_vi_body_NUM_NODES\" class=\"content\"><pre class=\"ydf_pre\">    1. &quot;0&quot; 2141.000000 ################\n",
       "    2. &quot;1&quot; 1667.000000 ############\n",
       "    3. &quot;2&quot; 1216.000000 ########\n",
       "    4. &quot;3&quot; 873.000000 #####\n",
       "    5. &quot;5&quot; 733.000000 ####\n",
       "    6. &quot;4&quot; 711.000000 ####\n",
       "    7. &quot;6&quot; 552.000000 ###\n",
       "    8. &quot;8&quot; 521.000000 ##\n",
       "    9. &quot;7&quot; 404.000000 #\n",
       "   10. &quot;9&quot; 182.000000 \n",
       "</pre></div><div id=\"8513-7c5f-3afc-c0b5_vi_body_SUM_SCORE\" class=\"content\"><pre class=\"ydf_pre\">    1. &quot;0&quot; 52743.649128 ################\n",
       "    2. &quot;1&quot; 29269.989217 ########\n",
       "    3. &quot;2&quot; 12864.732583 ###\n",
       "    4. &quot;3&quot; 9611.201792 ##\n",
       "    5. &quot;5&quot; 6355.380947 #\n",
       "    6. &quot;4&quot; 6071.434080 #\n",
       "    7. &quot;6&quot; 4519.444936 #\n",
       "    8. &quot;8&quot; 4339.849579 \n",
       "    9. &quot;7&quot; 3004.166105 \n",
       "   10. &quot;9&quot; 1174.968443 \n",
       "</pre></div></div><p>Those variable importances are computed during training. More, and possibly more informative, variable importances are available when analyzing a model on a test dataset.</p></div><div id=\"8513-7c5f-3afc-c0b5_body_structure\" class=\"tab_content\"><b>Num trees</b> : 300<br><p>Only printing the first tree.</p><pre class=\"ydf_pre\">Tree #0:\n",
       "    &quot;0&quot;x0.107361+&quot;3&quot;x0.130053&gt;=0.061469 [s:0.0711152 n:1600 np:909 miss:0] ; val:&quot;0&quot; prob:[0.5, 0.5]\n",
       "        ├─(pos)─ &quot;1&quot;x1&gt;=-0.46826 [s:0.0388418 n:909 np:733 miss:0] ; val:&quot;1&quot; prob:[0.337734, 0.662266]\n",
       "        |        ├─(pos)─ &quot;1&quot;x1&gt;=1.42398 [s:0.0231343 n:733 np:147 miss:0] ; val:&quot;1&quot; prob:[0.271487, 0.728513]\n",
       "        |        |        ├─(pos)─ &quot;0&quot;x-0.0283943+&quot;4&quot;x-0.0740031+&quot;7&quot;x-0.0418252&gt;=-0.034061 [s:0.0399877 n:147 np:53 miss:0] ; val:&quot;1&quot; prob:[0.0952381, 0.904762]\n",
       "        |        |        |        ├─(pos)─ &quot;8&quot;x1&gt;=0.497143 [s:0.114369 n:53 np:20 miss:0] ; val:&quot;1&quot; prob:[0.207547, 0.792453]\n",
       "        |        |        |        |        ├─(pos)─ val:&quot;1&quot; prob:[0, 1]\n",
       "        |        |        |        |        └─(neg)─ val:&quot;1&quot; prob:[0.333333, 0.666667]\n",
       "        |        |        |        └─(neg)─ val:&quot;1&quot; prob:[0.0319149, 0.968085]\n",
       "        |        |        └─(neg)─ &quot;0&quot;x1&gt;=1.1825 [s:0.0296487 n:586 np:244 miss:0] ; val:&quot;1&quot; prob:[0.3157, 0.6843]\n",
       "        |        |                 ├─(pos)─ &quot;2&quot;x1&gt;=-1.45857 [s:0.0388832 n:244 np:234 miss:0] ; val:&quot;1&quot; prob:[0.184426, 0.815574]\n",
       "        |        |                 |        ├─(pos)─ &quot;3&quot;x0.0756233+&quot;8&quot;x0.0405004&gt;=-0.00658054 [s:0.040275 n:234 np:187 miss:0] ; val:&quot;1&quot; prob:[0.15812, 0.84188]\n",
       "        |        |                 |        |        ├─(pos)─ &quot;6&quot;x1&gt;=-0.966318 [s:0.0327012 n:187 np:169 miss:0] ; val:&quot;1&quot; prob:[0.101604, 0.898396]\n",
       "        |        |                 |        |        |        ├─(pos)─ val:&quot;1&quot; prob:[0.0710059, 0.928994]\n",
       "        |        |                 |        |        |        └─(neg)─ val:&quot;1&quot; prob:[0.388889, 0.611111]\n",
       "        |        |                 |        |        └─(neg)─ val:&quot;1&quot; prob:[0.382979, 0.617021]\n",
       "        |        |                 |        └─(neg)─ val:&quot;0&quot; prob:[0.8, 0.2]\n",
       "        |        |                 └─(neg)─ &quot;0&quot;x0.0915803+&quot;5&quot;x0.0319958+&quot;9&quot;x0.0298916&gt;=0.00778269 [s:0.033914 n:342 np:244 miss:0] ; val:&quot;1&quot; prob:[0.409357, 0.590643]\n",
       "        |        |                          ├─(pos)─ val:&quot;1&quot; prob:[0.327869, 0.672131]\n",
       "        |        |                          └─(neg)─ val:&quot;0&quot; prob:[0.612245, 0.387755]\n",
       "        |        └─(neg)─ &quot;0&quot;x1&gt;=0.369423 [s:0.0813421 n:176 np:129 miss:0] ; val:&quot;0&quot; prob:[0.613636, 0.386364]\n",
       "        |                 ├─(pos)─ &quot;2&quot;x0.121057+&quot;5&quot;x-0.116783+&quot;6&quot;x-0.083472&gt;=-0.322783 [s:0.0576491 n:129 np:119 miss:0] ; val:&quot;0&quot; prob:[0.503876, 0.496124]\n",
       "        |                 |        ├─(pos)─ &quot;0&quot;x1&gt;=1.80165 [s:0.055733 n:119 np:28 miss:0] ; val:&quot;0&quot; prob:[0.546218, 0.453782]\n",
       "        |                 |        |        ├─(pos)─ val:&quot;1&quot; prob:[0.25, 0.75]\n",
       "        |                 |        |        └─(neg)─ val:&quot;0&quot; prob:[0.637363, 0.362637]\n",
       "        |                 |        └─(neg)─ val:&quot;1&quot; prob:[0, 1]\n",
       "        |                 └─(neg)─ &quot;6&quot;x1&gt;=0.855131 [s:0.137656 n:47 np:11 miss:0] ; val:&quot;0&quot; prob:[0.914894, 0.0851064]\n",
       "        |                          ├─(pos)─ val:&quot;0&quot; prob:[0.636364, 0.363636]\n",
       "        |                          └─(neg)─ val:&quot;0&quot; prob:[1, 0]\n",
       "        └─(neg)─ &quot;0&quot;x-0.03473+&quot;1&quot;x-0.0160048+&quot;3&quot;x0.0159592+&quot;8&quot;x-0.0331171&gt;=-0.0585874 [s:0.0437221 n:691 np:581 miss:0] ; val:&quot;0&quot; prob:[0.713459, 0.286541]\n",
       "                 ├─(pos)─ &quot;1&quot;x1&gt;=0.938739 [s:0.0297888 n:581 np:112 miss:0] ; val:&quot;0&quot; prob:[0.774527, 0.225473]\n",
       "                 |        ├─(pos)─ &quot;2&quot;x1&gt;=0.452205 [s:0.0539254 n:112 np:45 miss:0] ; val:&quot;0&quot; prob:[0.553571, 0.446429]\n",
       "                 |        |        ├─(pos)─ val:&quot;1&quot; prob:[0.355556, 0.644444]\n",
       "                 |        |        └─(neg)─ &quot;0&quot;x0.0553553+&quot;7&quot;x0.106776&gt;=-0.0836261 [s:0.139559 n:67 np:47 miss:0] ; val:&quot;0&quot; prob:[0.686567, 0.313433]\n",
       "                 |        |                 ├─(pos)─ &quot;4&quot;x0.07949+&quot;6&quot;x0.0302014&gt;=0.0710609 [s:0.153902 n:47 np:14 miss:0] ; val:&quot;0&quot; prob:[0.553191, 0.446809]\n",
       "                 |        |                 |        ├─(pos)─ &quot;3&quot;x1&gt;=-0.813719 [s:0.410116 n:14 np:12 miss:0] ; val:&quot;1&quot; prob:[0.142857, 0.857143]\n",
       "                 |        |                 |        |        ├─(pos)─ val:&quot;1&quot; prob:[0, 1]\n",
       "                 |        |                 |        |        └─(neg)─ val:&quot;0&quot; prob:[1, 0]\n",
       "                 |        |                 |        └─(neg)─ &quot;0&quot;x1&gt;=-0.0545769 [s:0.164368 n:33 np:11 miss:0] ; val:&quot;0&quot; prob:[0.727273, 0.272727]\n",
       "                 |        |                 |                 ├─(pos)─ val:&quot;1&quot; prob:[0.363636, 0.636364]\n",
       "                 |        |                 |                 └─(neg)─ val:&quot;0&quot; prob:[0.909091, 0.0909091]\n",
       "                 |        |                 └─(neg)─ val:&quot;0&quot; prob:[1, 0]\n",
       "                 |        └─(neg)─ &quot;0&quot;x1&gt;=0.367218 [s:0.0265581 n:469 np:95 miss:0] ; val:&quot;0&quot; prob:[0.827292, 0.172708]\n",
       "                 |                 ├─(pos)─ &quot;4&quot;x1&gt;=-0.309395 [s:0.0943542 n:95 np:66 miss:0] ; val:&quot;0&quot; prob:[0.642105, 0.357895]\n",
       "                 |                 |        ├─(pos)─ &quot;3&quot;x0.0420187+&quot;5&quot;x0.0594281+&quot;7&quot;x0.0891722&gt;=0.134849 [s:0.0966858 n:66 np:8 miss:0] ; val:&quot;0&quot; prob:[0.515152, 0.484848]\n",
       "                 |                 |        |        ├─(pos)─ val:&quot;1&quot; prob:[0, 1]\n",
       "                 |                 |        |        └─(neg)─ &quot;2&quot;x1&gt;=0.53836 [s:0.107196 n:58 np:17 miss:0] ; val:&quot;0&quot; prob:[0.586207, 0.413793]\n",
       "                 |                 |        |                 ├─(pos)─ val:&quot;1&quot; prob:[0.235294, 0.764706]\n",
       "                 |                 |        |                 └─(neg)─ val:&quot;0&quot; prob:[0.731707, 0.268293]\n",
       "                 |                 |        └─(neg)─ val:&quot;0&quot; prob:[0.931034, 0.0689655]\n",
       "                 |                 └─(neg)─ &quot;1&quot;x1&gt;=-0.297373 [s:0.0239497 n:374 np:208 miss:0] ; val:&quot;0&quot; prob:[0.874332, 0.125668]\n",
       "                 |                          ├─(pos)─ &quot;0&quot;x1&gt;=-1.12092 [s:0.0487767 n:208 np:165 miss:0] ; val:&quot;0&quot; prob:[0.8125, 0.1875]\n",
       "                 |                          |        ├─(pos)─ &quot;4&quot;x1&gt;=0.987311 [s:0.0410343 n:165 np:29 miss:0] ; val:&quot;0&quot; prob:[0.763636, 0.236364]\n",
       "                 |                          |        |        ├─(pos)─ val:&quot;1&quot; prob:[0.482759, 0.517241]\n",
       "                 |                          |        |        └─(neg)─ val:&quot;0&quot; prob:[0.823529, 0.176471]\n",
       "                 |                          |        └─(neg)─ val:&quot;0&quot; prob:[1, 0]\n",
       "                 |                          └─(neg)─ val:&quot;0&quot; prob:[0.951807, 0.0481928]\n",
       "                 └─(neg)─ &quot;2&quot;x1&gt;=-0.914304 [s:0.0554965 n:110 np:95 miss:0] ; val:&quot;1&quot; prob:[0.390909, 0.609091]\n",
       "                          ├─(pos)─ &quot;4&quot;x0.0167804+&quot;8&quot;x0.0510698&gt;=0.0667835 [s:0.0644152 n:95 np:42 miss:0] ; val:&quot;1&quot; prob:[0.326316, 0.673684]\n",
       "                          |        ├─(pos)─ val:&quot;1&quot; prob:[0.142857, 0.857143]\n",
       "                          |        └─(neg)─ val:&quot;1&quot; prob:[0.471698, 0.528302]\n",
       "                          └─(neg)─ val:&quot;0&quot; prob:[0.8, 0.2]\n",
       "</pre></div></div></div>"
      ],
      "text/plain": [
       "<ydf.utils.html.HtmlNotebookDisplay at 0x29e391f4e20>"
      ]
     },
     "execution_count": 39,
     "metadata": {},
     "output_type": "execute_result"
    }
   ],
   "source": [
    "ydf_model.describe()"
   ]
  },
  {
   "cell_type": "code",
   "execution_count": 9,
   "metadata": {},
   "outputs": [],
   "source": [
    "ydf_model.save(\"saved_model/\")"
   ]
  },
  {
   "cell_type": "code",
   "execution_count": 40,
   "metadata": {},
   "outputs": [
    {
     "data": {
      "text/plain": [
       "columns {\n",
       "  type: CATEGORICAL\n",
       "  name: \"target\"\n",
       "  categorical {\n",
       "    number_of_unique_values: 3\n",
       "    items {\n",
       "      key: \"<OOD>\"\n",
       "      value {\n",
       "        index: 0\n",
       "        count: 0\n",
       "      }\n",
       "    }\n",
       "    items {\n",
       "      key: \"1\"\n",
       "      value {\n",
       "        index: 2\n",
       "        count: 800\n",
       "      }\n",
       "    }\n",
       "    items {\n",
       "      key: \"0\"\n",
       "      value {\n",
       "        index: 1\n",
       "        count: 800\n",
       "      }\n",
       "    }\n",
       "  }\n",
       "  count_nas: 0\n",
       "  dtype: DTYPE_INT32\n",
       "}\n",
       "columns {\n",
       "  type: NUMERICAL\n",
       "  name: \"0\"\n",
       "  numerical {\n",
       "    mean: 0.50206137866509382\n",
       "    min_value: -3.38852024\n",
       "    max_value: 3.77264\n",
       "    standard_deviation: 1.0926331375419041\n",
       "  }\n",
       "  count_nas: 0\n",
       "  dtype: DTYPE_FLOAT64\n",
       "}\n",
       "columns {\n",
       "  type: NUMERICAL\n",
       "  name: \"1\"\n",
       "  numerical {\n",
       "    mean: 0.32230514054055676\n",
       "    min_value: -3.55543637\n",
       "    max_value: 4.28789711\n",
       "    standard_deviation: 1.051411575474217\n",
       "  }\n",
       "  count_nas: 0\n",
       "  dtype: DTYPE_FLOAT64\n",
       "}\n",
       "columns {\n",
       "  type: NUMERICAL\n",
       "  name: \"2\"\n",
       "  numerical {\n",
       "    mean: 0.26846194128011119\n",
       "    min_value: -3.21311045\n",
       "    max_value: 3.50855422\n",
       "    standard_deviation: 1.0128059698575358\n",
       "  }\n",
       "  count_nas: 0\n",
       "  dtype: DTYPE_FLOAT64\n",
       "}\n",
       "columns {\n",
       "  type: NUMERICAL\n",
       "  name: \"3\"\n",
       "  numerical {\n",
       "    mean: 0.28625233119288168\n",
       "    min_value: -3.68026924\n",
       "    max_value: 3.75951433\n",
       "    standard_deviation: 1.0436835337427068\n",
       "  }\n",
       "  count_nas: 0\n",
       "  dtype: DTYPE_FLOAT64\n",
       "}\n",
       "columns {\n",
       "  type: NUMERICAL\n",
       "  name: \"4\"\n",
       "  numerical {\n",
       "    mean: 0.20751221119404362\n",
       "    min_value: -3.22562599\n",
       "    max_value: 3.66141701\n",
       "    standard_deviation: 1.03913163614251\n",
       "  }\n",
       "  count_nas: 0\n",
       "  dtype: DTYPE_FLOAT64\n",
       "}\n",
       "columns {\n",
       "  type: NUMERICAL\n",
       "  name: \"5\"\n",
       "  numerical {\n",
       "    mean: 0.17419139885603271\n",
       "    min_value: -3.59297848\n",
       "    max_value: 3.76071167\n",
       "    standard_deviation: 1.0355138971033688\n",
       "  }\n",
       "  count_nas: 0\n",
       "  dtype: DTYPE_FLOAT64\n",
       "}\n",
       "columns {\n",
       "  type: NUMERICAL\n",
       "  name: \"6\"\n",
       "  numerical {\n",
       "    mean: 0.231068709487663\n",
       "    min_value: -3.30099964\n",
       "    max_value: 4.44456625\n",
       "    standard_deviation: 1.0244386802598802\n",
       "  }\n",
       "  count_nas: 0\n",
       "  dtype: DTYPE_FLOAT64\n",
       "}\n",
       "columns {\n",
       "  type: NUMERICAL\n",
       "  name: \"7\"\n",
       "  numerical {\n",
       "    mean: 0.13137161141085016\n",
       "    min_value: -2.94062662\n",
       "    max_value: 3.27574754\n",
       "    standard_deviation: 1.0065058698712079\n",
       "  }\n",
       "  count_nas: 0\n",
       "  dtype: DTYPE_FLOAT64\n",
       "}\n",
       "columns {\n",
       "  type: NUMERICAL\n",
       "  name: \"8\"\n",
       "  numerical {\n",
       "    mean: 0.15040449838524184\n",
       "    min_value: -2.88460422\n",
       "    max_value: 3.32408166\n",
       "    standard_deviation: 1.025363305675411\n",
       "  }\n",
       "  count_nas: 0\n",
       "  dtype: DTYPE_FLOAT64\n",
       "}\n",
       "columns {\n",
       "  type: NUMERICAL\n",
       "  name: \"9\"\n",
       "  numerical {\n",
       "    mean: 0.14579614931055404\n",
       "    min_value: -2.9517889\n",
       "    max_value: 3.26021481\n",
       "    standard_deviation: 1.0217133681736286\n",
       "  }\n",
       "  count_nas: 0\n",
       "  dtype: DTYPE_FLOAT64\n",
       "}\n",
       "created_num_rows: 1600"
      ]
     },
     "execution_count": 40,
     "metadata": {},
     "output_type": "execute_result"
    }
   ],
   "source": [
    "ydf_model.data_spec()"
   ]
  },
  {
   "cell_type": "code",
   "execution_count": 41,
   "metadata": {},
   "outputs": [
    {
     "data": {
      "text/plain": [
       "Tree(root=NonLeaf(value=ProbabilityValue(num_examples=1600.0, probability=[0.5, 0.5]), condition=NumericalSparseObliqueCondition(missing=False, score=0.053251296281814575, attributes=[2, 5, 6], weights=[-0.052857689559459686, -0.12740656733512878, -0.0796140506863594], threshold=-0.044604748487472534), pos_child=NonLeaf(value=ProbabilityValue(num_examples=742.0, probability=[0.6738544474393531, 0.3261455525606469]), condition=NumericalSparseObliqueCondition(missing=False, score=0.040539998561143875, attributes=[1, 3], weights=[-0.0028991461731493473, -0.08910401165485382], threshold=-0.008685402572154999), pos_child=NonLeaf(value=ProbabilityValue(num_examples=342.0, probability=[0.8157894736842105, 0.18421052631578946]), condition=NumericalSparseObliqueCondition(missing=False, score=0.04142618179321289, attributes=[4], weights=[1.0], threshold=0.04757502302527428), pos_child=NonLeaf(value=ProbabilityValue(num_examples=183.0, probability=[0.7158469945355191, 0.28415300546448086]), condition=NumericalSparseObliqueCondition(missing=False, score=0.05151515081524849, attributes=[1], weights=[1.0], threshold=1.35428786277771), pos_child=Leaf(value=ProbabilityValue(num_examples=28.0, probability=[0.35714285714285715, 0.6428571428571429])), neg_child=NonLeaf(value=ProbabilityValue(num_examples=155.0, probability=[0.7806451612903226, 0.21935483870967742]), condition=NumericalSparseObliqueCondition(missing=False, score=0.043083686381578445, attributes=[8], weights=[1.0], threshold=0.16874529421329498), pos_child=Leaf(value=ProbabilityValue(num_examples=67.0, probability=[0.6417910447761194, 0.3582089552238806])), neg_child=Leaf(value=ProbabilityValue(num_examples=88.0, probability=[0.8863636363636364, 0.11363636363636363])))), neg_child=NonLeaf(value=ProbabilityValue(num_examples=159.0, probability=[0.9308176100628931, 0.06918238993710692]), condition=NumericalSparseObliqueCondition(missing=False, score=0.04968751594424248, attributes=[1], weights=[1.0], threshold=0.45125338435173035), pos_child=Leaf(value=ProbabilityValue(num_examples=57.0, probability=[0.8245614035087719, 0.17543859649122806])), neg_child=Leaf(value=ProbabilityValue(num_examples=102.0, probability=[0.9901960784313726, 0.00980392156862745])))), neg_child=NonLeaf(value=ProbabilityValue(num_examples=400.0, probability=[0.5525, 0.4475]), condition=NumericalSparseObliqueCondition(missing=False, score=0.07897112518548965, attributes=[1], weights=[1.0], threshold=-0.016433682292699814), pos_child=NonLeaf(value=ProbabilityValue(num_examples=274.0, probability=[0.4233576642335766, 0.5766423357664233]), condition=NumericalSparseObliqueCondition(missing=False, score=0.037852559238672256, attributes=[4], weights=[1.0], threshold=1.8432660102844238), pos_child=Leaf(value=ProbabilityValue(num_examples=18.0, probability=[0.0, 1.0])), neg_child=NonLeaf(value=ProbabilityValue(num_examples=256.0, probability=[0.453125, 0.546875]), condition=NumericalSparseObliqueCondition(missing=False, score=0.061811093240976334, attributes=[1, 2], weights=[-0.09883705526590347, -0.07697541266679764], threshold=-0.11890518665313721), pos_child=NonLeaf(value=ProbabilityValue(num_examples=146.0, probability=[0.6027397260273972, 0.3972602739726027]), condition=NumericalSparseObliqueCondition(missing=False, score=0.04984378069639206, attributes=[9], weights=[1.0], threshold=0.571755051612854), pos_child=Leaf(value=ProbabilityValue(num_examples=40.0, probability=[0.35, 0.65])), neg_child=NonLeaf(value=ProbabilityValue(num_examples=106.0, probability=[0.6981132075471698, 0.3018867924528302]), condition=NumericalSparseObliqueCondition(missing=False, score=0.06550544500350952, attributes=[6], weights=[1.0], threshold=-0.3191224932670593), pos_child=NonLeaf(value=ProbabilityValue(num_examples=58.0, probability=[0.5517241379310345, 0.4482758620689655]), condition=NumericalSparseObliqueCondition(missing=False, score=0.09043369442224503, attributes=[8], weights=[1.0], threshold=1.4181190729141235), pos_child=Leaf(value=ProbabilityValue(num_examples=6.0, probability=[0.0, 1.0])), neg_child=Leaf(value=ProbabilityValue(num_examples=52.0, probability=[0.6153846153846154, 0.38461538461538464]))), neg_child=Leaf(value=ProbabilityValue(num_examples=48.0, probability=[0.875, 0.125])))), neg_child=Leaf(value=ProbabilityValue(num_examples=110.0, probability=[0.2545454545454545, 0.7454545454545455])))), neg_child=NonLeaf(value=ProbabilityValue(num_examples=126.0, probability=[0.8333333333333334, 0.16666666666666666]), condition=NumericalSparseObliqueCondition(missing=False, score=0.09502603113651276, attributes=[2, 7], weights=[0.07720298320055008, 0.034438133239746094], threshold=-0.03132244944572449), pos_child=Leaf(value=ProbabilityValue(num_examples=76.0, probability=[0.7236842105263158, 0.27631578947368424])), neg_child=Leaf(value=ProbabilityValue(num_examples=50.0, probability=[1.0, 0.0]))))), neg_child=NonLeaf(value=ProbabilityValue(num_examples=858.0, probability=[0.34965034965034963, 0.6503496503496503]), condition=NumericalSparseObliqueCondition(missing=False, score=0.027874784544110298, attributes=[2], weights=[1.0], threshold=0.8453803062438965), pos_child=NonLeaf(value=ProbabilityValue(num_examples=354.0, probability=[0.2175141242937853, 0.7824858757062146]), condition=NumericalSparseObliqueCondition(missing=False, score=0.02652428299188614, attributes=[3], weights=[1.0], threshold=0.36735761165618896), pos_child=NonLeaf(value=ProbabilityValue(num_examples=187.0, probability=[0.12834224598930483, 0.8716577540106952]), condition=NumericalSparseObliqueCondition(missing=False, score=0.034788746386766434, attributes=[8], weights=[1.0], threshold=0.052107613533735275), pos_child=Leaf(value=ProbabilityValue(num_examples=110.0, probability=[0.05454545454545454, 0.9454545454545454])), neg_child=NonLeaf(value=ProbabilityValue(num_examples=77.0, probability=[0.23376623376623376, 0.7662337662337663]), condition=NumericalSparseObliqueCondition(missing=False, score=0.0974007099866867, attributes=[1], weights=[1.0], threshold=1.5059001445770264), pos_child=Leaf(value=ProbabilityValue(num_examples=23.0, probability=[0.0, 1.0])), neg_child=Leaf(value=ProbabilityValue(num_examples=54.0, probability=[0.3333333333333333, 0.6666666666666666])))), neg_child=NonLeaf(value=ProbabilityValue(num_examples=167.0, probability=[0.31736526946107785, 0.6826347305389222]), condition=NumericalSparseObliqueCondition(missing=False, score=0.044118430465459824, attributes=[8], weights=[1.0], threshold=1.3117594718933105), pos_child=Leaf(value=ProbabilityValue(num_examples=18.0, probability=[0.0, 1.0])), neg_child=NonLeaf(value=ProbabilityValue(num_examples=149.0, probability=[0.35570469798657717, 0.6442953020134228]), condition=NumericalSparseObliqueCondition(missing=False, score=0.05618910863995552, attributes=[1], weights=[1.0], threshold=-0.4843793213367462), pos_child=Leaf(value=ProbabilityValue(num_examples=124.0, probability=[0.28225806451612906, 0.717741935483871])), neg_child=NonLeaf(value=ProbabilityValue(num_examples=25.0, probability=[0.72, 0.28]), condition=NumericalSparseObliqueCondition(missing=False, score=0.40225911140441895, attributes=[7], weights=[1.0], threshold=0.1774005889892578), pos_child=Leaf(value=ProbabilityValue(num_examples=9.0, probability=[0.2222222222222222, 0.7777777777777778])), neg_child=Leaf(value=ProbabilityValue(num_examples=16.0, probability=[1.0, 0.0])))))), neg_child=NonLeaf(value=ProbabilityValue(num_examples=504.0, probability=[0.44246031746031744, 0.5575396825396826]), condition=NumericalSparseObliqueCondition(missing=False, score=0.1158423200249672, attributes=[1, 10], weights=[-0.07999606430530548, 0.006484793499112129], threshold=-0.0791228711605072), pos_child=NonLeaf(value=ProbabilityValue(num_examples=328.0, probability=[0.6097560975609756, 0.3902439024390244]), condition=NumericalSparseObliqueCondition(missing=False, score=0.028349151834845543, attributes=[5, 7], weights=[0.009386907331645489, -0.0715119019150734], threshold=-0.03691401332616806), pos_child=NonLeaf(value=ProbabilityValue(num_examples=218.0, probability=[0.6926605504587156, 0.3073394495412844]), condition=NumericalSparseObliqueCondition(missing=False, score=0.03084687888622284, attributes=[3], weights=[1.0], threshold=0.43099790811538696), pos_child=NonLeaf(value=ProbabilityValue(num_examples=90.0, probability=[0.5555555555555556, 0.4444444444444444]), condition=NumericalSparseObliqueCondition(missing=False, score=0.05859161913394928, attributes=[1, 6], weights=[-0.03025365248322487, 0.0007749254582449794], threshold=-0.006809590384364128), pos_child=Leaf(value=ProbabilityValue(num_examples=57.0, probability=[0.6842105263157895, 0.3157894736842105])), neg_child=NonLeaf(value=ProbabilityValue(num_examples=33.0, probability=[0.3333333333333333, 0.6666666666666666]), condition=NumericalSparseObliqueCondition(missing=False, score=0.19565846025943756, attributes=[4, 6], weights=[-0.02392345294356346, -0.03987818583846092], threshold=0.0512404665350914), pos_child=Leaf(value=ProbabilityValue(num_examples=5.0, probability=[1.0, 0.0])), neg_child=Leaf(value=ProbabilityValue(num_examples=28.0, probability=[0.21428571428571427, 0.7857142857142857])))), neg_child=NonLeaf(value=ProbabilityValue(num_examples=128.0, probability=[0.7890625, 0.2109375]), condition=NumericalSparseObliqueCondition(missing=False, score=0.04465324804186821, attributes=[5, 9, 10], weights=[0.06085674837231636, 0.15212242305278778, 0.10847906768321991], threshold=0.294242799282074), pos_child=Leaf(value=ProbabilityValue(num_examples=22.0, probability=[0.5, 0.5])), neg_child=Leaf(value=ProbabilityValue(num_examples=106.0, probability=[0.8490566037735849, 0.1509433962264151])))), neg_child=NonLeaf(value=ProbabilityValue(num_examples=110.0, probability=[0.44545454545454544, 0.5545454545454546]), condition=NumericalSparseObliqueCondition(missing=False, score=0.10557600855827332, attributes=[1], weights=[1.0], threshold=-0.9217144250869751), pos_child=NonLeaf(value=ProbabilityValue(num_examples=97.0, probability=[0.3711340206185567, 0.6288659793814433]), condition=NumericalSparseObliqueCondition(missing=False, score=0.06482472270727158, attributes=[3], weights=[1.0], threshold=-1.5358127355575562), pos_child=Leaf(value=ProbabilityValue(num_examples=91.0, probability=[0.32967032967032966, 0.6703296703296703])), neg_child=Leaf(value=ProbabilityValue(num_examples=6.0, probability=[1.0, 0.0]))), neg_child=Leaf(value=ProbabilityValue(num_examples=13.0, probability=[1.0, 0.0])))), neg_child=NonLeaf(value=ProbabilityValue(num_examples=176.0, probability=[0.13068181818181818, 0.8693181818181818]), condition=NumericalSparseObliqueCondition(missing=False, score=0.0358642041683197, attributes=[1, 4, 9], weights=[0.09697337448596954, 0.10095655918121338, 0.06477552652359009], threshold=0.09215907752513885), pos_child=Leaf(value=ProbabilityValue(num_examples=149.0, probability=[0.087248322147651, 0.912751677852349])), neg_child=NonLeaf(value=ProbabilityValue(num_examples=27.0, probability=[0.37037037037037035, 0.6296296296296297]), condition=NumericalSparseObliqueCondition(missing=False, score=0.2011781483888626, attributes=[3, 6], weights=[0.0841446965932846, -0.05701976642012596], threshold=-0.014998072758316994), pos_child=Leaf(value=ProbabilityValue(num_examples=9.0, probability=[0.0, 1.0])), neg_child=Leaf(value=ProbabilityValue(num_examples=18.0, probability=[0.5555555555555556, 0.4444444444444444]))))))))"
      ]
     },
     "execution_count": 41,
     "metadata": {},
     "output_type": "execute_result"
    }
   ],
   "source": [
    "ydf_tree = ydf_model.get_tree(1)\n",
    "ydf_tree"
   ]
  },
  {
   "cell_type": "code",
   "execution_count": 43,
   "metadata": {},
   "outputs": [
    {
     "data": {
      "text/plain": [
       "NonLeaf(value=ProbabilityValue(num_examples=1600.0, probability=[0.5, 0.5]), condition=NumericalSparseObliqueCondition(missing=False, score=0.053251296281814575, attributes=[2, 5, 6], weights=[-0.052857689559459686, -0.12740656733512878, -0.0796140506863594], threshold=-0.044604748487472534), pos_child=NonLeaf(value=ProbabilityValue(num_examples=742.0, probability=[0.6738544474393531, 0.3261455525606469]), condition=NumericalSparseObliqueCondition(missing=False, score=0.040539998561143875, attributes=[1, 3], weights=[-0.0028991461731493473, -0.08910401165485382], threshold=-0.008685402572154999), pos_child=NonLeaf(value=ProbabilityValue(num_examples=342.0, probability=[0.8157894736842105, 0.18421052631578946]), condition=NumericalSparseObliqueCondition(missing=False, score=0.04142618179321289, attributes=[4], weights=[1.0], threshold=0.04757502302527428), pos_child=NonLeaf(value=ProbabilityValue(num_examples=183.0, probability=[0.7158469945355191, 0.28415300546448086]), condition=NumericalSparseObliqueCondition(missing=False, score=0.05151515081524849, attributes=[1], weights=[1.0], threshold=1.35428786277771), pos_child=Leaf(value=ProbabilityValue(num_examples=28.0, probability=[0.35714285714285715, 0.6428571428571429])), neg_child=NonLeaf(value=ProbabilityValue(num_examples=155.0, probability=[0.7806451612903226, 0.21935483870967742]), condition=NumericalSparseObliqueCondition(missing=False, score=0.043083686381578445, attributes=[8], weights=[1.0], threshold=0.16874529421329498), pos_child=Leaf(value=ProbabilityValue(num_examples=67.0, probability=[0.6417910447761194, 0.3582089552238806])), neg_child=Leaf(value=ProbabilityValue(num_examples=88.0, probability=[0.8863636363636364, 0.11363636363636363])))), neg_child=NonLeaf(value=ProbabilityValue(num_examples=159.0, probability=[0.9308176100628931, 0.06918238993710692]), condition=NumericalSparseObliqueCondition(missing=False, score=0.04968751594424248, attributes=[1], weights=[1.0], threshold=0.45125338435173035), pos_child=Leaf(value=ProbabilityValue(num_examples=57.0, probability=[0.8245614035087719, 0.17543859649122806])), neg_child=Leaf(value=ProbabilityValue(num_examples=102.0, probability=[0.9901960784313726, 0.00980392156862745])))), neg_child=NonLeaf(value=ProbabilityValue(num_examples=400.0, probability=[0.5525, 0.4475]), condition=NumericalSparseObliqueCondition(missing=False, score=0.07897112518548965, attributes=[1], weights=[1.0], threshold=-0.016433682292699814), pos_child=NonLeaf(value=ProbabilityValue(num_examples=274.0, probability=[0.4233576642335766, 0.5766423357664233]), condition=NumericalSparseObliqueCondition(missing=False, score=0.037852559238672256, attributes=[4], weights=[1.0], threshold=1.8432660102844238), pos_child=Leaf(value=ProbabilityValue(num_examples=18.0, probability=[0.0, 1.0])), neg_child=NonLeaf(value=ProbabilityValue(num_examples=256.0, probability=[0.453125, 0.546875]), condition=NumericalSparseObliqueCondition(missing=False, score=0.061811093240976334, attributes=[1, 2], weights=[-0.09883705526590347, -0.07697541266679764], threshold=-0.11890518665313721), pos_child=NonLeaf(value=ProbabilityValue(num_examples=146.0, probability=[0.6027397260273972, 0.3972602739726027]), condition=NumericalSparseObliqueCondition(missing=False, score=0.04984378069639206, attributes=[9], weights=[1.0], threshold=0.571755051612854), pos_child=Leaf(value=ProbabilityValue(num_examples=40.0, probability=[0.35, 0.65])), neg_child=NonLeaf(value=ProbabilityValue(num_examples=106.0, probability=[0.6981132075471698, 0.3018867924528302]), condition=NumericalSparseObliqueCondition(missing=False, score=0.06550544500350952, attributes=[6], weights=[1.0], threshold=-0.3191224932670593), pos_child=NonLeaf(value=ProbabilityValue(num_examples=58.0, probability=[0.5517241379310345, 0.4482758620689655]), condition=NumericalSparseObliqueCondition(missing=False, score=0.09043369442224503, attributes=[8], weights=[1.0], threshold=1.4181190729141235), pos_child=Leaf(value=ProbabilityValue(num_examples=6.0, probability=[0.0, 1.0])), neg_child=Leaf(value=ProbabilityValue(num_examples=52.0, probability=[0.6153846153846154, 0.38461538461538464]))), neg_child=Leaf(value=ProbabilityValue(num_examples=48.0, probability=[0.875, 0.125])))), neg_child=Leaf(value=ProbabilityValue(num_examples=110.0, probability=[0.2545454545454545, 0.7454545454545455])))), neg_child=NonLeaf(value=ProbabilityValue(num_examples=126.0, probability=[0.8333333333333334, 0.16666666666666666]), condition=NumericalSparseObliqueCondition(missing=False, score=0.09502603113651276, attributes=[2, 7], weights=[0.07720298320055008, 0.034438133239746094], threshold=-0.03132244944572449), pos_child=Leaf(value=ProbabilityValue(num_examples=76.0, probability=[0.7236842105263158, 0.27631578947368424])), neg_child=Leaf(value=ProbabilityValue(num_examples=50.0, probability=[1.0, 0.0]))))), neg_child=NonLeaf(value=ProbabilityValue(num_examples=858.0, probability=[0.34965034965034963, 0.6503496503496503]), condition=NumericalSparseObliqueCondition(missing=False, score=0.027874784544110298, attributes=[2], weights=[1.0], threshold=0.8453803062438965), pos_child=NonLeaf(value=ProbabilityValue(num_examples=354.0, probability=[0.2175141242937853, 0.7824858757062146]), condition=NumericalSparseObliqueCondition(missing=False, score=0.02652428299188614, attributes=[3], weights=[1.0], threshold=0.36735761165618896), pos_child=NonLeaf(value=ProbabilityValue(num_examples=187.0, probability=[0.12834224598930483, 0.8716577540106952]), condition=NumericalSparseObliqueCondition(missing=False, score=0.034788746386766434, attributes=[8], weights=[1.0], threshold=0.052107613533735275), pos_child=Leaf(value=ProbabilityValue(num_examples=110.0, probability=[0.05454545454545454, 0.9454545454545454])), neg_child=NonLeaf(value=ProbabilityValue(num_examples=77.0, probability=[0.23376623376623376, 0.7662337662337663]), condition=NumericalSparseObliqueCondition(missing=False, score=0.0974007099866867, attributes=[1], weights=[1.0], threshold=1.5059001445770264), pos_child=Leaf(value=ProbabilityValue(num_examples=23.0, probability=[0.0, 1.0])), neg_child=Leaf(value=ProbabilityValue(num_examples=54.0, probability=[0.3333333333333333, 0.6666666666666666])))), neg_child=NonLeaf(value=ProbabilityValue(num_examples=167.0, probability=[0.31736526946107785, 0.6826347305389222]), condition=NumericalSparseObliqueCondition(missing=False, score=0.044118430465459824, attributes=[8], weights=[1.0], threshold=1.3117594718933105), pos_child=Leaf(value=ProbabilityValue(num_examples=18.0, probability=[0.0, 1.0])), neg_child=NonLeaf(value=ProbabilityValue(num_examples=149.0, probability=[0.35570469798657717, 0.6442953020134228]), condition=NumericalSparseObliqueCondition(missing=False, score=0.05618910863995552, attributes=[1], weights=[1.0], threshold=-0.4843793213367462), pos_child=Leaf(value=ProbabilityValue(num_examples=124.0, probability=[0.28225806451612906, 0.717741935483871])), neg_child=NonLeaf(value=ProbabilityValue(num_examples=25.0, probability=[0.72, 0.28]), condition=NumericalSparseObliqueCondition(missing=False, score=0.40225911140441895, attributes=[7], weights=[1.0], threshold=0.1774005889892578), pos_child=Leaf(value=ProbabilityValue(num_examples=9.0, probability=[0.2222222222222222, 0.7777777777777778])), neg_child=Leaf(value=ProbabilityValue(num_examples=16.0, probability=[1.0, 0.0])))))), neg_child=NonLeaf(value=ProbabilityValue(num_examples=504.0, probability=[0.44246031746031744, 0.5575396825396826]), condition=NumericalSparseObliqueCondition(missing=False, score=0.1158423200249672, attributes=[1, 10], weights=[-0.07999606430530548, 0.006484793499112129], threshold=-0.0791228711605072), pos_child=NonLeaf(value=ProbabilityValue(num_examples=328.0, probability=[0.6097560975609756, 0.3902439024390244]), condition=NumericalSparseObliqueCondition(missing=False, score=0.028349151834845543, attributes=[5, 7], weights=[0.009386907331645489, -0.0715119019150734], threshold=-0.03691401332616806), pos_child=NonLeaf(value=ProbabilityValue(num_examples=218.0, probability=[0.6926605504587156, 0.3073394495412844]), condition=NumericalSparseObliqueCondition(missing=False, score=0.03084687888622284, attributes=[3], weights=[1.0], threshold=0.43099790811538696), pos_child=NonLeaf(value=ProbabilityValue(num_examples=90.0, probability=[0.5555555555555556, 0.4444444444444444]), condition=NumericalSparseObliqueCondition(missing=False, score=0.05859161913394928, attributes=[1, 6], weights=[-0.03025365248322487, 0.0007749254582449794], threshold=-0.006809590384364128), pos_child=Leaf(value=ProbabilityValue(num_examples=57.0, probability=[0.6842105263157895, 0.3157894736842105])), neg_child=NonLeaf(value=ProbabilityValue(num_examples=33.0, probability=[0.3333333333333333, 0.6666666666666666]), condition=NumericalSparseObliqueCondition(missing=False, score=0.19565846025943756, attributes=[4, 6], weights=[-0.02392345294356346, -0.03987818583846092], threshold=0.0512404665350914), pos_child=Leaf(value=ProbabilityValue(num_examples=5.0, probability=[1.0, 0.0])), neg_child=Leaf(value=ProbabilityValue(num_examples=28.0, probability=[0.21428571428571427, 0.7857142857142857])))), neg_child=NonLeaf(value=ProbabilityValue(num_examples=128.0, probability=[0.7890625, 0.2109375]), condition=NumericalSparseObliqueCondition(missing=False, score=0.04465324804186821, attributes=[5, 9, 10], weights=[0.06085674837231636, 0.15212242305278778, 0.10847906768321991], threshold=0.294242799282074), pos_child=Leaf(value=ProbabilityValue(num_examples=22.0, probability=[0.5, 0.5])), neg_child=Leaf(value=ProbabilityValue(num_examples=106.0, probability=[0.8490566037735849, 0.1509433962264151])))), neg_child=NonLeaf(value=ProbabilityValue(num_examples=110.0, probability=[0.44545454545454544, 0.5545454545454546]), condition=NumericalSparseObliqueCondition(missing=False, score=0.10557600855827332, attributes=[1], weights=[1.0], threshold=-0.9217144250869751), pos_child=NonLeaf(value=ProbabilityValue(num_examples=97.0, probability=[0.3711340206185567, 0.6288659793814433]), condition=NumericalSparseObliqueCondition(missing=False, score=0.06482472270727158, attributes=[3], weights=[1.0], threshold=-1.5358127355575562), pos_child=Leaf(value=ProbabilityValue(num_examples=91.0, probability=[0.32967032967032966, 0.6703296703296703])), neg_child=Leaf(value=ProbabilityValue(num_examples=6.0, probability=[1.0, 0.0]))), neg_child=Leaf(value=ProbabilityValue(num_examples=13.0, probability=[1.0, 0.0])))), neg_child=NonLeaf(value=ProbabilityValue(num_examples=176.0, probability=[0.13068181818181818, 0.8693181818181818]), condition=NumericalSparseObliqueCondition(missing=False, score=0.0358642041683197, attributes=[1, 4, 9], weights=[0.09697337448596954, 0.10095655918121338, 0.06477552652359009], threshold=0.09215907752513885), pos_child=Leaf(value=ProbabilityValue(num_examples=149.0, probability=[0.087248322147651, 0.912751677852349])), neg_child=NonLeaf(value=ProbabilityValue(num_examples=27.0, probability=[0.37037037037037035, 0.6296296296296297]), condition=NumericalSparseObliqueCondition(missing=False, score=0.2011781483888626, attributes=[3, 6], weights=[0.0841446965932846, -0.05701976642012596], threshold=-0.014998072758316994), pos_child=Leaf(value=ProbabilityValue(num_examples=9.0, probability=[0.0, 1.0])), neg_child=Leaf(value=ProbabilityValue(num_examples=18.0, probability=[0.5555555555555556, 0.4444444444444444])))))))"
      ]
     },
     "execution_count": 43,
     "metadata": {},
     "output_type": "execute_result"
    }
   ],
   "source": [
    "ydf_root = ydf_tree.root\n",
    "ydf_root"
   ]
  },
  {
   "cell_type": "code",
   "execution_count": 44,
   "metadata": {},
   "outputs": [
    {
     "data": {
      "text/plain": [
       "NonLeaf(value=ProbabilityValue(num_examples=858.0, probability=[0.34965034965034963, 0.6503496503496503]), condition=NumericalSparseObliqueCondition(missing=False, score=0.027874784544110298, attributes=[2], weights=[1.0], threshold=0.8453803062438965), pos_child=NonLeaf(value=ProbabilityValue(num_examples=354.0, probability=[0.2175141242937853, 0.7824858757062146]), condition=NumericalSparseObliqueCondition(missing=False, score=0.02652428299188614, attributes=[3], weights=[1.0], threshold=0.36735761165618896), pos_child=NonLeaf(value=ProbabilityValue(num_examples=187.0, probability=[0.12834224598930483, 0.8716577540106952]), condition=NumericalSparseObliqueCondition(missing=False, score=0.034788746386766434, attributes=[8], weights=[1.0], threshold=0.052107613533735275), pos_child=Leaf(value=ProbabilityValue(num_examples=110.0, probability=[0.05454545454545454, 0.9454545454545454])), neg_child=NonLeaf(value=ProbabilityValue(num_examples=77.0, probability=[0.23376623376623376, 0.7662337662337663]), condition=NumericalSparseObliqueCondition(missing=False, score=0.0974007099866867, attributes=[1], weights=[1.0], threshold=1.5059001445770264), pos_child=Leaf(value=ProbabilityValue(num_examples=23.0, probability=[0.0, 1.0])), neg_child=Leaf(value=ProbabilityValue(num_examples=54.0, probability=[0.3333333333333333, 0.6666666666666666])))), neg_child=NonLeaf(value=ProbabilityValue(num_examples=167.0, probability=[0.31736526946107785, 0.6826347305389222]), condition=NumericalSparseObliqueCondition(missing=False, score=0.044118430465459824, attributes=[8], weights=[1.0], threshold=1.3117594718933105), pos_child=Leaf(value=ProbabilityValue(num_examples=18.0, probability=[0.0, 1.0])), neg_child=NonLeaf(value=ProbabilityValue(num_examples=149.0, probability=[0.35570469798657717, 0.6442953020134228]), condition=NumericalSparseObliqueCondition(missing=False, score=0.05618910863995552, attributes=[1], weights=[1.0], threshold=-0.4843793213367462), pos_child=Leaf(value=ProbabilityValue(num_examples=124.0, probability=[0.28225806451612906, 0.717741935483871])), neg_child=NonLeaf(value=ProbabilityValue(num_examples=25.0, probability=[0.72, 0.28]), condition=NumericalSparseObliqueCondition(missing=False, score=0.40225911140441895, attributes=[7], weights=[1.0], threshold=0.1774005889892578), pos_child=Leaf(value=ProbabilityValue(num_examples=9.0, probability=[0.2222222222222222, 0.7777777777777778])), neg_child=Leaf(value=ProbabilityValue(num_examples=16.0, probability=[1.0, 0.0])))))), neg_child=NonLeaf(value=ProbabilityValue(num_examples=504.0, probability=[0.44246031746031744, 0.5575396825396826]), condition=NumericalSparseObliqueCondition(missing=False, score=0.1158423200249672, attributes=[1, 10], weights=[-0.07999606430530548, 0.006484793499112129], threshold=-0.0791228711605072), pos_child=NonLeaf(value=ProbabilityValue(num_examples=328.0, probability=[0.6097560975609756, 0.3902439024390244]), condition=NumericalSparseObliqueCondition(missing=False, score=0.028349151834845543, attributes=[5, 7], weights=[0.009386907331645489, -0.0715119019150734], threshold=-0.03691401332616806), pos_child=NonLeaf(value=ProbabilityValue(num_examples=218.0, probability=[0.6926605504587156, 0.3073394495412844]), condition=NumericalSparseObliqueCondition(missing=False, score=0.03084687888622284, attributes=[3], weights=[1.0], threshold=0.43099790811538696), pos_child=NonLeaf(value=ProbabilityValue(num_examples=90.0, probability=[0.5555555555555556, 0.4444444444444444]), condition=NumericalSparseObliqueCondition(missing=False, score=0.05859161913394928, attributes=[1, 6], weights=[-0.03025365248322487, 0.0007749254582449794], threshold=-0.006809590384364128), pos_child=Leaf(value=ProbabilityValue(num_examples=57.0, probability=[0.6842105263157895, 0.3157894736842105])), neg_child=NonLeaf(value=ProbabilityValue(num_examples=33.0, probability=[0.3333333333333333, 0.6666666666666666]), condition=NumericalSparseObliqueCondition(missing=False, score=0.19565846025943756, attributes=[4, 6], weights=[-0.02392345294356346, -0.03987818583846092], threshold=0.0512404665350914), pos_child=Leaf(value=ProbabilityValue(num_examples=5.0, probability=[1.0, 0.0])), neg_child=Leaf(value=ProbabilityValue(num_examples=28.0, probability=[0.21428571428571427, 0.7857142857142857])))), neg_child=NonLeaf(value=ProbabilityValue(num_examples=128.0, probability=[0.7890625, 0.2109375]), condition=NumericalSparseObliqueCondition(missing=False, score=0.04465324804186821, attributes=[5, 9, 10], weights=[0.06085674837231636, 0.15212242305278778, 0.10847906768321991], threshold=0.294242799282074), pos_child=Leaf(value=ProbabilityValue(num_examples=22.0, probability=[0.5, 0.5])), neg_child=Leaf(value=ProbabilityValue(num_examples=106.0, probability=[0.8490566037735849, 0.1509433962264151])))), neg_child=NonLeaf(value=ProbabilityValue(num_examples=110.0, probability=[0.44545454545454544, 0.5545454545454546]), condition=NumericalSparseObliqueCondition(missing=False, score=0.10557600855827332, attributes=[1], weights=[1.0], threshold=-0.9217144250869751), pos_child=NonLeaf(value=ProbabilityValue(num_examples=97.0, probability=[0.3711340206185567, 0.6288659793814433]), condition=NumericalSparseObliqueCondition(missing=False, score=0.06482472270727158, attributes=[3], weights=[1.0], threshold=-1.5358127355575562), pos_child=Leaf(value=ProbabilityValue(num_examples=91.0, probability=[0.32967032967032966, 0.6703296703296703])), neg_child=Leaf(value=ProbabilityValue(num_examples=6.0, probability=[1.0, 0.0]))), neg_child=Leaf(value=ProbabilityValue(num_examples=13.0, probability=[1.0, 0.0])))), neg_child=NonLeaf(value=ProbabilityValue(num_examples=176.0, probability=[0.13068181818181818, 0.8693181818181818]), condition=NumericalSparseObliqueCondition(missing=False, score=0.0358642041683197, attributes=[1, 4, 9], weights=[0.09697337448596954, 0.10095655918121338, 0.06477552652359009], threshold=0.09215907752513885), pos_child=Leaf(value=ProbabilityValue(num_examples=149.0, probability=[0.087248322147651, 0.912751677852349])), neg_child=NonLeaf(value=ProbabilityValue(num_examples=27.0, probability=[0.37037037037037035, 0.6296296296296297]), condition=NumericalSparseObliqueCondition(missing=False, score=0.2011781483888626, attributes=[3, 6], weights=[0.0841446965932846, -0.05701976642012596], threshold=-0.014998072758316994), pos_child=Leaf(value=ProbabilityValue(num_examples=9.0, probability=[0.0, 1.0])), neg_child=Leaf(value=ProbabilityValue(num_examples=18.0, probability=[0.5555555555555556, 0.4444444444444444]))))))"
      ]
     },
     "execution_count": 44,
     "metadata": {},
     "output_type": "execute_result"
    }
   ],
   "source": [
    "ydf_root.neg_child"
   ]
  },
  {
   "cell_type": "code",
   "execution_count": 45,
   "metadata": {},
   "outputs": [],
   "source": [
    "root_str = str(ydf_root)"
   ]
  },
  {
   "cell_type": "code",
   "execution_count": 125,
   "metadata": {},
   "outputs": [],
   "source": [
    "import re\n",
    "import numpy as np\n",
    "from scipy.sparse import lil_matrix\n",
    "\n",
    "def extract_projections(tree_str):\n",
    "    \n",
    "    attr_blocks = re.findall(r'attributes=\\[([0-9,\\s]+)\\]\\s*,\\s*weights=\\[([0-9eE+.\\-,\\s]+)\\]', tree_str)\n",
    "    print(len(attr_blocks))\n",
    "    projection_rows = []\n",
    "    max_feature_index = -1\n",
    "\n",
    "    for attr_str, weight_str in attr_blocks:\n",
    "        print(attr_str)\n",
    "        attrs = [int(i.strip()) for i in attr_str.split(',') if i.strip()]\n",
    "        weights = [float(w.strip()) for w in weight_str.split(',') if w.strip()]\n",
    "        \n",
    "        if len(attrs) != len(weights):\n",
    "            raise ValueError(f\"Mismatched attributes and weights: {attrs}, {weights}\")\n",
    "        \n",
    "        # Track the maximum feature index\n",
    "        if attrs:\n",
    "            max_feature_index = max(max_feature_index, max(attrs))\n",
    "        \n",
    "        projection_rows.append((attrs, weights))\n",
    "\n",
    "    # Projection dimension = max feature index + 1\n",
    "    proj_dim = max_feature_index + 1\n",
    "\n",
    "    # Initialize sparse projection matrix\n",
    "    projection_matrix = lil_matrix((len(projection_rows), proj_dim))\n",
    "    for i, (attrs, weights) in enumerate(projection_rows):\n",
    "        for j, attr in enumerate(attrs):\n",
    "            projection_matrix[i, attr] = weights[j]\n",
    "\n",
    "    return projection_matrix, proj_dim\n"
   ]
  },
  {
   "cell_type": "code",
   "execution_count": 204,
   "metadata": {},
   "outputs": [],
   "source": [
    "import re\n",
    "import numpy as np\n",
    "from scipy.sparse import lil_matrix\n",
    "\n",
    "def extract_projections(tree_str):\n",
    "    \"\"\"\n",
    "    Parses a string representation of a YDF decision tree to extract the projection matrix,\n",
    "    compute its dimension (number of input features), and count non-zero weights.\n",
    "\n",
    "    Args:\n",
    "        tree_str (str): Stringified tree structure starting from the root node.\n",
    "\n",
    "    Returns:\n",
    "        projection_matrix (scipy.sparse.lil_matrix): Sparse matrix of projections.\n",
    "        proj_dim (int): Dimensionality of each projection (i.e., number of input features).\n",
    "        num_nonzeros (int): Total number of non-zero weights in the matrix.\n",
    "    \"\"\"\n",
    "    # Find all attribute-weight pairs\n",
    "    attr_blocks = re.findall(\n",
    "        r'attributes=\\[([0-9,\\s]+)\\]\\s*,\\s*weights=\\[([0-9eE+.\\-,\\s]+)\\]',\n",
    "        tree_str\n",
    "    )\n",
    "    # print(\"num of dense vectors: \", len(attr_blocks))\n",
    "\n",
    "    projection_rows = []\n",
    "    max_feature_index = -1\n",
    "    total_nonzeros = 0\n",
    "\n",
    "    for attr_str, weight_str in attr_blocks:\n",
    "        attrs = [int(i.strip()) for i in attr_str.split(',') if i.strip()]\n",
    "        weights = [float(w.strip()) for w in weight_str.split(',') if w.strip()]\n",
    "        \n",
    "        if len(attrs) != len(weights):\n",
    "            raise ValueError(f\"Mismatched attributes and weights: {attrs}, {weights}\")\n",
    "        \n",
    "        total_nonzeros += len(weights)  # Count all weights (assumed non-zero)\n",
    "        if attrs:\n",
    "            max_feature_index = max(max_feature_index, max(attrs))\n",
    "        \n",
    "        projection_rows.append((attrs, weights))\n",
    "\n",
    "    proj_dim = max_feature_index + 1 if max_feature_index >= 0 else 0\n",
    "    projection_matrix = lil_matrix((len(projection_rows), proj_dim))\n",
    "\n",
    "    for i, (attrs, weights) in enumerate(projection_rows):\n",
    "        for j, attr in enumerate(attrs):\n",
    "            projection_matrix[i, attr] = weights[j]\n",
    "\n",
    "    return projection_matrix, proj_dim, total_nonzeros\n"
   ]
  },
  {
   "cell_type": "code",
   "execution_count": 182,
   "metadata": {},
   "outputs": [
    {
     "data": {
      "text/plain": [
       "44"
      ]
     },
     "execution_count": 182,
     "metadata": {},
     "output_type": "execute_result"
    }
   ],
   "source": [
    "projection_matrix, proj_dim, total_nonzeros = extract_projections(root_str)\n",
    "total_nonzeros"
   ]
  },
  {
   "cell_type": "code",
   "execution_count": 183,
   "metadata": {},
   "outputs": [
    {
     "data": {
      "text/plain": [
       "26"
      ]
     },
     "execution_count": 183,
     "metadata": {},
     "output_type": "execute_result"
    }
   ],
   "source": [
    "projection_matrix2, proj_dim2, total_nonzeros2 = extract_projections(str(ydf_root.neg_child))\n",
    "total_nonzeros2"
   ]
  },
  {
   "cell_type": "code",
   "execution_count": 184,
   "metadata": {},
   "outputs": [
    {
     "data": {
      "text/plain": [
       "15"
      ]
     },
     "execution_count": 184,
     "metadata": {},
     "output_type": "execute_result"
    }
   ],
   "source": [
    "projection_matrix3, proj_dim3, total_nonzeros3 = extract_projections(str(ydf_root.pos_child))\n",
    "total_nonzeros3"
   ]
  },
  {
   "cell_type": "code",
   "execution_count": 49,
   "metadata": {},
   "outputs": [
    {
     "data": {
      "text/plain": [
       "(30, 11)"
      ]
     },
     "execution_count": 49,
     "metadata": {},
     "output_type": "execute_result"
    }
   ],
   "source": [
    "proj_dim\n",
    "projection_matrix.shape"
   ]
  },
  {
   "cell_type": "code",
   "execution_count": 42,
   "metadata": {},
   "outputs": [
    {
     "data": {
      "text/plain": [
       "300"
      ]
     },
     "execution_count": 42,
     "metadata": {},
     "output_type": "execute_result"
    }
   ],
   "source": [
    "len(ydf_model.get_all_trees())"
   ]
  },
  {
   "cell_type": "markdown",
   "metadata": {},
   "source": [
    "## Do a pipline"
   ]
  },
  {
   "cell_type": "code",
   "execution_count": 110,
   "metadata": {},
   "outputs": [
    {
     "data": {
      "text/plain": [
       "{'label': 'target',\n",
       " 'max_depth': 10,\n",
       " 'num_trees': 300,\n",
       " 'random_seed': 42,\n",
       " 'honest': False,\n",
       " 'bootstrap_size_ratio': 1.0,\n",
       " 'bootstrap_training_dataset': True,\n",
       " 'categorical_algorithm': 'ONE_HOT',\n",
       " 'compute_oob_performances': False,\n",
       " 'compute_oob_variable_importances': False,\n",
       " 'in_split_min_examples_check': True,\n",
       " 'min_examples': 1,\n",
       " 'keep_non_leaf_label_distribution': True,\n",
       " 'max_num_nodes': None,\n",
       " 'growing_strategy': 'BEST_FIRST_GLOBAL',\n",
       " 'num_candidate_attributes_ratio': 1.0,\n",
       " 'sorting_strategy': 'IN_NODE',\n",
       " 'split_axis': 'SPARSE_OBLIQUE',\n",
       " 'sparse_oblique_weights': 'BINARY',\n",
       " 'sparse_oblique_projection_density_factor': 1.0,\n",
       " 'sparse_oblique_normalization': 'NONE',\n",
       " 'sparse_oblique_max_num_projections': 100,\n",
       " 'sparse_oblique_num_projections_exponent': 1.0,\n",
       " 'sampling_with_replacement': False}"
      ]
     },
     "execution_count": 110,
     "metadata": {},
     "output_type": "execute_result"
    }
   ],
   "source": [
    "params_ydf"
   ]
  },
  {
   "cell_type": "code",
   "execution_count": 226,
   "metadata": {},
   "outputs": [],
   "source": [
    "params_ydf['bootstrap_training_dataset'] = False"
   ]
  },
  {
   "cell_type": "code",
   "execution_count": 225,
   "metadata": {},
   "outputs": [],
   "source": [
    "def get_ydf_model(params_ydf, n_sample=2000, n_estimator=100, n_dim=50, \n",
    "                    max_feature=100, feature_combination=3.0, exponent=1.0):\n",
    "    X, y = make_trunk_classification(n_samples=n_sample, n_dim=n_dim, n_informative=600, seed=0)\n",
    "    X_train, _, y_train, _ = train_test_split(X, y, test_size=0.2, random_state=42, stratify=y)\n",
    "    df_train = prepare_dataframe(X_train, y_train)\n",
    "\n",
    "    params_ydf1 = params_ydf.copy()\n",
    "    params_ydf1[\"num_trees\"] = n_estimator\n",
    "    params_ydf1[\"sparse_oblique_max_num_projections\"] = max_feature\n",
    "    params_ydf1[\"sparse_oblique_projection_density_factor\"] = feature_combination\n",
    "    params_ydf1[\"sparse_oblique_num_projections_exponent\"] = exponent\n",
    "\n",
    "\n",
    "    learner = ydf.RandomForestLearner(**params_ydf1)\n",
    "    start_time = time.time()\n",
    "    ydf_model = learner.train(df_train)\n",
    "    time_taken = time.time() - start_time\n",
    "    return ydf_model, time_taken"
   ]
  },
  {
   "cell_type": "code",
   "execution_count": 194,
   "metadata": {},
   "outputs": [],
   "source": [
    "def extract_projections_pipline(params_ydf, n_sample=2000, n_estimator=100, n_dim=50, \n",
    "                                max_feature=100, feature_combination=3.0, exponent=1.0,\n",
    "                                tree_id=0):\n",
    "    \n",
    "    X, y = make_trunk_classification(n_samples=n_sample, n_dim=n_dim, n_informative=600, seed=0)\n",
    "    X_train, _, y_train, _ = train_test_split(X, y, test_size=0.2, random_state=42, stratify=y)\n",
    "    df_train = prepare_dataframe(X_train, y_train)\n",
    "\n",
    "    params_ydf1 = params_ydf.copy()\n",
    "    params_ydf1[\"num_trees\"] = n_estimator\n",
    "    params_ydf1[\"sparse_oblique_max_num_projections\"] = max_feature\n",
    "    params_ydf1[\"sparse_oblique_projection_density_factor\"] = feature_combination\n",
    "    params_ydf1[\"sparse_oblique_num_projections_exponent\"] = exponent\n",
    "\n",
    "\n",
    "    learner = ydf.RandomForestLearner(**params_ydf1)\n",
    "    start_time = time.time()\n",
    "    ydf_model = learner.train(df_train)\n",
    "    time_taken = time.time() - start_time\n",
    "\n",
    "    root_str = str(ydf_model.get_tree(tree_id).root)\n",
    "    print(\"*\",root_str)\n",
    "    projection_matrix, proj_dim, n_nonzeros = extract_projections(root_str)\n",
    "\n",
    "    print(\"nonzeros number:\", n_nonzeros)\n",
    "    print(\"projection matrix shape:\", projection_matrix.shape)\n",
    "\n",
    "    return projection_matrix, proj_dim, n_nonzeros, time_taken, ydf_model"
   ]
  },
  {
   "cell_type": "markdown",
   "metadata": {},
   "source": [
    "get average n_nonzeros"
   ]
  },
  {
   "cell_type": "code",
   "execution_count": 215,
   "metadata": {},
   "outputs": [],
   "source": [
    "def extract_avg_projection(params_ydf, n_sample=2000, n_estimator=100, n_dim=50, \n",
    "                                max_feature=100, feature_combination=3.0, exponent=1.0):\n",
    "    X, y = make_trunk_classification(n_samples=n_sample, n_dim=n_dim, n_informative=600, seed=0)\n",
    "    X_train, _, y_train, _ = train_test_split(X, y, test_size=0.2, random_state=42, stratify=y)\n",
    "    df_train = prepare_dataframe(X_train, y_train)\n",
    "\n",
    "    params_ydf1 = params_ydf.copy()\n",
    "    params_ydf1[\"num_trees\"] = n_estimator\n",
    "    params_ydf1[\"sparse_oblique_max_num_projections\"] = max_feature\n",
    "    params_ydf1[\"sparse_oblique_projection_density_factor\"] = feature_combination\n",
    "    params_ydf1[\"sparse_oblique_num_projections_exponent\"] = exponent\n",
    "\n",
    "\n",
    "    learner = ydf.RandomForestLearner(**params_ydf1)\n",
    "    start_time = time.time()\n",
    "    ydf_model = learner.train(df_train)\n",
    "    time_taken = time.time() - start_time\n",
    "\n",
    "    non_zeros = np.zeros((n_estimator,))\n",
    "    proj_dim1 = np.zeros((n_estimator,))\n",
    "    proj_dim2 = np.zeros((n_estimator,))\n",
    "    for tree_id in range(n_estimator):\n",
    "        root_str = str(ydf_model.get_tree(tree_id).root)\n",
    "        #print(\"*\",root_str)\n",
    "        projection_matrix, proj_dim, n_nonzeros = extract_projections(root_str)\n",
    "\n",
    "        non_zeros[tree_id] = n_nonzeros\n",
    "        proj_dim1[tree_id] = projection_matrix.shape[0]\n",
    "        proj_dim2[tree_id] = projection_matrix.shape[1]\n",
    "\n",
    "    avg_non_zeros = np.mean(non_zeros)\n",
    "    avg_proj_dim1 = np.mean(proj_dim1)\n",
    "    avg_proj_dim2 = np.mean(proj_dim2)\n",
    "    print(\"Average projection matrix shape:\", avg_proj_dim1, avg_proj_dim2)\n",
    "    print(\"Average nonzeros number:\", avg_non_zeros)\n",
    "\n",
    "    return avg_proj_dim1, avg_proj_dim2, avg_non_zeros, time_taken, ydf_model"
   ]
  },
  {
   "cell_type": "code",
   "execution_count": 228,
   "metadata": {},
   "outputs": [
    {
     "name": "stdout",
     "output_type": "stream",
     "text": [
      "Train model on 1600 examples\n",
      "Model trained in 0:00:00.012003\n",
      "Average projection matrix shape: 30.0 100.34\n",
      "Average nonzeros number: 90.14\n"
     ]
    },
    {
     "name": "stderr",
     "output_type": "stream",
     "text": [
      "c:\\Users\\clark\\anaconda3\\envs\\catboost_env\\lib\\site-packages\\treeple\\datasets\\hyppo.py:515: RuntimeWarning: Number of informative dimensions {n_informative} must be less than number of dimensions, 100. Setting n_informative to n_dim.\n",
      "  warnings.warn(\n"
     ]
    }
   ],
   "source": [
    "_,_,avg_non_zeros,_,_ = extract_avg_projection(params_ydf, n_sample=2000, n_estimator=100, n_dim=100,\n",
    "                                max_feature=10, feature_combination=3.0, exponent=10.0)"
   ]
  },
  {
   "cell_type": "code",
   "execution_count": 240,
   "metadata": {},
   "outputs": [
    {
     "name": "stdout",
     "output_type": "stream",
     "text": [
      "Train model on 1600 examples\n",
      "Model trained in 0:00:00.014001\n",
      "Average projection matrix shape: 30.0 3.0\n",
      "Average nonzeros number: 30.09\n"
     ]
    },
    {
     "name": "stderr",
     "output_type": "stream",
     "text": [
      "c:\\Users\\clark\\anaconda3\\envs\\catboost_env\\lib\\site-packages\\treeple\\datasets\\hyppo.py:515: RuntimeWarning: Number of informative dimensions {n_informative} must be less than number of dimensions, 2. Setting n_informative to n_dim.\n",
      "  warnings.warn(\n"
     ]
    }
   ],
   "source": [
    "_,_,avg_non_zeros,_,_ = extract_avg_projection(params_ydf, n_sample=2000, n_estimator=100, n_dim=2,\n",
    "                                max_feature=20, feature_combination=0.1, exponent=1.0)"
   ]
  },
  {
   "cell_type": "code",
   "execution_count": 241,
   "metadata": {},
   "outputs": [
    {
     "name": "stdout",
     "output_type": "stream",
     "text": [
      "Train model on 1600 examples\n"
     ]
    },
    {
     "name": "stderr",
     "output_type": "stream",
     "text": [
      "c:\\Users\\clark\\anaconda3\\envs\\catboost_env\\lib\\site-packages\\treeple\\datasets\\hyppo.py:515: RuntimeWarning: Number of informative dimensions {n_informative} must be less than number of dimensions, 50. Setting n_informative to n_dim.\n",
      "  warnings.warn(\n"
     ]
    },
    {
     "name": "stdout",
     "output_type": "stream",
     "text": [
      "Model trained in 0:00:00.249013\n",
      "* NonLeaf(value=ProbabilityValue(num_examples=1600.0, probability=[0.5, 0.5]), condition=NumericalSparseObliqueCondition(missing=False, score=0.04539964348077774, attributes=[1, 22, 24, 36], weights=[1.0, 1.0, 1.0, -1.0], threshold=0.20489168167114258), pos_child=NonLeaf(value=ProbabilityValue(num_examples=945.0, probability=[0.37566137566137564, 0.6243386243386243]), condition=NumericalSparseObliqueCondition(missing=False, score=0.05753398314118385, attributes=[2, 4, 19, 25], weights=[1.0, 1.0, 1.0, 1.0], threshold=1.6286503076553345), pos_child=NonLeaf(value=ProbabilityValue(num_examples=384.0, probability=[0.18229166666666666, 0.8177083333333334]), condition=NumericalSparseObliqueCondition(missing=False, score=0.027746761217713356, attributes=[1, 25, 37, 40], weights=[-1.0, -1.0, -1.0, -1.0], threshold=-0.22032347321510315), pos_child=Leaf(value=ProbabilityValue(num_examples=61.0, probability=[0.4098360655737705, 0.5901639344262295])), neg_child=NonLeaf(value=ProbabilityValue(num_examples=323.0, probability=[0.1393188854489164, 0.8606811145510835]), condition=NumericalSparseObliqueCondition(missing=False, score=0.059749312698841095, attributes=[5], weights=[1.0], threshold=0.35400837659835815), pos_child=Leaf(value=ProbabilityValue(num_examples=148.0, probability=[0.02027027027027027, 0.9797297297297297])), neg_child=NonLeaf(value=ProbabilityValue(num_examples=175.0, probability=[0.24, 0.76]), condition=NumericalSparseObliqueCondition(missing=False, score=0.05676635727286339, attributes=[1], weights=[1.0], threshold=1.4854402542114258), pos_child=NonLeaf(value=ProbabilityValue(num_examples=69.0, probability=[0.07246376811594203, 0.927536231884058]), condition=NumericalSparseObliqueCondition(missing=False, score=0.11071132868528366, attributes=[2], weights=[1.0], threshold=0.4412052035331726), pos_child=Leaf(value=ProbabilityValue(num_examples=52.0, probability=[0.0, 1.0])), neg_child=Leaf(value=ProbabilityValue(num_examples=17.0, probability=[0.29411764705882354, 0.7058823529411765]))), neg_child=Leaf(value=ProbabilityValue(num_examples=106.0, probability=[0.3490566037735849, 0.6509433962264151]))))), neg_child=NonLeaf(value=ProbabilityValue(num_examples=561.0, probability=[0.5080213903743316, 0.4919786096256685]), condition=NumericalSparseObliqueCondition(missing=False, score=0.03417209908366203, attributes=[12, 13, 36, 45], weights=[-1.0, -1.0, -1.0, -1.0], threshold=-0.542012095451355), pos_child=NonLeaf(value=ProbabilityValue(num_examples=331.0, probability=[0.6163141993957704, 0.38368580060422963]), condition=NumericalSparseObliqueCondition(missing=False, score=0.044181227684020996, attributes=[5, 22, 34], weights=[1.0, -1.0, 1.0], threshold=-0.964127779006958), pos_child=NonLeaf(value=ProbabilityValue(num_examples=216.0, probability=[0.5138888888888888, 0.4861111111111111]), condition=NumericalSparseObliqueCondition(missing=False, score=0.05211623013019562, attributes=[2, 42], weights=[1.0, 1.0], threshold=-2.403242826461792), pos_child=NonLeaf(value=ProbabilityValue(num_examples=200.0, probability=[0.475, 0.525]), condition=NumericalSparseObliqueCondition(missing=False, score=0.05166171118617058, attributes=[10, 17, 22, 26, 37, 48], weights=[-1.0, -1.0, -1.0, 1.0, -1.0, 1.0], threshold=0.5312408208847046), pos_child=Leaf(value=ProbabilityValue(num_examples=73.0, probability=[0.684931506849315, 0.3150684931506849])), neg_child=NonLeaf(value=ProbabilityValue(num_examples=127.0, probability=[0.3543307086614173, 0.6456692913385826]), condition=NumericalSparseObliqueCondition(missing=False, score=0.07044846564531326, attributes=[4, 8, 20, 36, 41], weights=[-1.0, -1.0, -1.0, -1.0, -1.0], threshold=-0.41284120082855225), pos_child=NonLeaf(value=ProbabilityValue(num_examples=77.0, probability=[0.4935064935064935, 0.5064935064935064]), condition=NumericalSparseObliqueCondition(missing=False, score=0.1204499900341034, attributes=[2, 5, 8, 40, 43], weights=[-1.0, -1.0, -1.0, 1.0, -1.0], threshold=-1.4484835863113403), pos_child=Leaf(value=ProbabilityValue(num_examples=49.0, probability=[0.673469387755102, 0.32653061224489793])), neg_child=Leaf(value=ProbabilityValue(num_examples=28.0, probability=[0.17857142857142858, 0.8214285714285714]))), neg_child=Leaf(value=ProbabilityValue(num_examples=50.0, probability=[0.14, 0.86])))), neg_child=Leaf(value=ProbabilityValue(num_examples=16.0, probability=[1.0, 0.0]))), neg_child=Leaf(value=ProbabilityValue(num_examples=115.0, probability=[0.808695652173913, 0.19130434782608696]))), neg_child=NonLeaf(value=ProbabilityValue(num_examples=230.0, probability=[0.3521739130434783, 0.6478260869565218]), condition=NumericalSparseObliqueCondition(missing=False, score=0.043682754039764404, attributes=[2, 8, 29, 40], weights=[-1.0, -1.0, -1.0, -1.0], threshold=-0.31520962715148926), pos_child=NonLeaf(value=ProbabilityValue(num_examples=102.0, probability=[0.5098039215686274, 0.49019607843137253]), condition=NumericalSparseObliqueCondition(missing=False, score=0.08369379490613937, attributes=[4, 25, 42], weights=[-1.0, 1.0, -1.0], threshold=-2.389388084411621), pos_child=Leaf(value=ProbabilityValue(num_examples=91.0, probability=[0.5714285714285714, 0.42857142857142855])), neg_child=Leaf(value=ProbabilityValue(num_examples=11.0, probability=[0.0, 1.0]))), neg_child=NonLeaf(value=ProbabilityValue(num_examples=128.0, probability=[0.2265625, 0.7734375]), condition=NumericalSparseObliqueCondition(missing=False, score=0.061998408287763596, attributes=[34, 45], weights=[-1.0, 1.0], threshold=-1.0230650901794434), pos_child=NonLeaf(value=ProbabilityValue(num_examples=101.0, probability=[0.2871287128712871, 0.7128712871287128]), condition=NumericalSparseObliqueCondition(missing=False, score=0.1040901467204094, attributes=[1, 11, 23, 31], weights=[-1.0, -1.0, 1.0, -1.0], threshold=-2.2028861045837402), pos_child=NonLeaf(value=ProbabilityValue(num_examples=75.0, probability=[0.38666666666666666, 0.6133333333333333]), condition=NumericalSparseObliqueCondition(missing=False, score=0.16117151081562042, attributes=[1], weights=[1.0], threshold=0.5584416389465332), pos_child=Leaf(value=ProbabilityValue(num_examples=44.0, probability=[0.1590909090909091, 0.8409090909090909])), neg_child=Leaf(value=ProbabilityValue(num_examples=31.0, probability=[0.7096774193548387, 0.2903225806451613]))), neg_child=Leaf(value=ProbabilityValue(num_examples=26.0, probability=[0.0, 1.0]))), neg_child=Leaf(value=ProbabilityValue(num_examples=27.0, probability=[0.0, 1.0])))))), neg_child=NonLeaf(value=ProbabilityValue(num_examples=655.0, probability=[0.6793893129770993, 0.32061068702290074]), condition=NumericalSparseObliqueCondition(missing=False, score=0.04428175091743469, attributes=[4, 19, 29, 31, 32, 33, 37, 38], weights=[-1.0, -1.0, -1.0, -1.0, -1.0, -1.0, -1.0, 1.0], threshold=-0.922802209854126), pos_child=NonLeaf(value=ProbabilityValue(num_examples=362.0, probability=[0.8038674033149171, 0.19613259668508287]), condition=NumericalSparseObliqueCondition(missing=False, score=0.04742227494716644, attributes=[1, 5, 7, 17, 22, 28, 36, 39], weights=[-1.0, -1.0, -1.0, 1.0, 1.0, -1.0, -1.0, -1.0], threshold=-4.77344274520874), pos_child=NonLeaf(value=ProbabilityValue(num_examples=334.0, probability=[0.844311377245509, 0.15568862275449102]), condition=NumericalSparseObliqueCondition(missing=False, score=0.0472375713288784, attributes=[15, 17, 41], weights=[1.0, 1.0, 1.0], threshold=0.04072338342666626), pos_child=NonLeaf(value=ProbabilityValue(num_examples=184.0, probability=[0.75, 0.25]), condition=NumericalSparseObliqueCondition(missing=False, score=0.06574492156505585, attributes=[2, 3, 22, 43, 47], weights=[-1.0, -1.0, -1.0, -1.0, -1.0], threshold=0.18727880716323853), pos_child=NonLeaf(value=ProbabilityValue(num_examples=83.0, probability=[0.9156626506024096, 0.08433734939759036]), condition=NumericalSparseObliqueCondition(missing=False, score=0.10676948726177216, attributes=[42], weights=[1.0], threshold=0.4168055057525635), pos_child=Leaf(value=ProbabilityValue(num_examples=26.0, probability=[0.7307692307692307, 0.2692307692307692])), neg_child=Leaf(value=ProbabilityValue(num_examples=57.0, probability=[1.0, 0.0]))), neg_child=NonLeaf(value=ProbabilityValue(num_examples=101.0, probability=[0.6138613861386139, 0.38613861386138615]), condition=NumericalSparseObliqueCondition(missing=False, score=0.0804743617773056, attributes=[34], weights=[1.0], threshold=-0.8345862627029419), pos_child=NonLeaf(value=ProbabilityValue(num_examples=86.0, probability=[0.5465116279069767, 0.45348837209302323]), condition=NumericalSparseObliqueCondition(missing=False, score=0.12201731652021408, attributes=[9, 25, 28, 33], weights=[1.0, 1.0, 1.0, 1.0], threshold=1.0212266445159912), pos_child=Leaf(value=ProbabilityValue(num_examples=16.0, probability=[0.0625, 0.9375])), neg_child=Leaf(value=ProbabilityValue(num_examples=70.0, probability=[0.6571428571428571, 0.34285714285714286]))), neg_child=Leaf(value=ProbabilityValue(num_examples=15.0, probability=[1.0, 0.0])))), neg_child=Leaf(value=ProbabilityValue(num_examples=150.0, probability=[0.96, 0.04]))), neg_child=Leaf(value=ProbabilityValue(num_examples=28.0, probability=[0.32142857142857145, 0.6785714285714286]))), neg_child=NonLeaf(value=ProbabilityValue(num_examples=293.0, probability=[0.5255972696245734, 0.47440273037542663]), condition=NumericalSparseObliqueCondition(missing=False, score=0.08150842040777206, attributes=[3, 8, 11, 12, 29, 30, 38, 43, 50], weights=[1.0, 1.0, 1.0, 1.0, -1.0, 1.0, 1.0, 1.0, -1.0], threshold=-0.716566801071167), pos_child=NonLeaf(value=ProbabilityValue(num_examples=174.0, probability=[0.3620689655172414, 0.6379310344827587]), condition=NumericalSparseObliqueCondition(missing=False, score=0.07287231087684631, attributes=[2, 9, 24], weights=[-1.0, -1.0, -1.0], threshold=-1.4840116500854492), pos_child=NonLeaf(value=ProbabilityValue(num_examples=131.0, probability=[0.4580152671755725, 0.5419847328244275]), condition=NumericalSparseObliqueCondition(missing=False, score=0.07894979417324066, attributes=[18], weights=[1.0], threshold=-0.4294774532318115), pos_child=NonLeaf(value=ProbabilityValue(num_examples=93.0, probability=[0.3333333333333333, 0.6666666666666666]), condition=NumericalSparseObliqueCondition(missing=False, score=0.08849048614501953, attributes=[7, 18, 34, 36, 44], weights=[1.0, -1.0, 1.0, 1.0, 1.0], threshold=1.1310309171676636), pos_child=Leaf(value=ProbabilityValue(num_examples=34.0, probability=[0.08823529411764706, 0.9117647058823529])), neg_child=Leaf(value=ProbabilityValue(num_examples=59.0, probability=[0.4745762711864407, 0.5254237288135594]))), neg_child=Leaf(value=ProbabilityValue(num_examples=38.0, probability=[0.7631578947368421, 0.23684210526315788]))), neg_child=Leaf(value=ProbabilityValue(num_examples=43.0, probability=[0.06976744186046512, 0.9302325581395349]))), neg_child=NonLeaf(value=ProbabilityValue(num_examples=119.0, probability=[0.7647058823529411, 0.23529411764705882]), condition=NumericalSparseObliqueCondition(missing=False, score=0.07370740175247192, attributes=[9, 27, 42], weights=[-1.0, -1.0, -1.0], threshold=0.14868956804275513), pos_child=Leaf(value=ProbabilityValue(num_examples=45.0, probability=[0.9555555555555556, 0.044444444444444446])), neg_child=NonLeaf(value=ProbabilityValue(num_examples=74.0, probability=[0.6486486486486487, 0.35135135135135137]), condition=NumericalSparseObliqueCondition(missing=False, score=0.11791037768125534, attributes=[1, 36], weights=[-1.0, -1.0], threshold=-0.43874049186706543), pos_child=Leaf(value=ProbabilityValue(num_examples=38.0, probability=[0.868421052631579, 0.13157894736842105])), neg_child=Leaf(value=ProbabilityValue(num_examples=36.0, probability=[0.4166666666666667, 0.5833333333333334])))))))\n",
      "nonzeros number: 107\n",
      "projection matrix shape: (30, 51)\n"
     ]
    }
   ],
   "source": [
    "projection_matrix, proj_dim, n_nonzeros, time_taken, ydf_model = extract_projections_pipline(params_ydf,\n",
    "                                                n_sample=2000, \n",
    "                                                n_estimator=100, \n",
    "                                                n_dim=50, \n",
    "                                                max_feature=100, \n",
    "                                                feature_combination=3.0,\n",
    "                                                tree_id=10)\n",
    "#projection_matrix.shape"
   ]
  },
  {
   "cell_type": "code",
   "execution_count": 246,
   "metadata": {},
   "outputs": [
    {
     "data": {
      "text/plain": [
       "NumericalSparseObliqueCondition(missing=False, score=0.05753398314118385, attributes=[2, 4, 19, 25], weights=[1.0, 1.0, 1.0, 1.0], threshold=1.6286503076553345)"
      ]
     },
     "execution_count": 246,
     "metadata": {},
     "output_type": "execute_result"
    }
   ],
   "source": [
    "ydf_model.get_tree(10).root.pos_child.condition"
   ]
  },
  {
   "cell_type": "code",
   "execution_count": null,
   "metadata": {},
   "outputs": [],
   "source": []
  },
  {
   "cell_type": "code",
   "execution_count": 253,
   "metadata": {},
   "outputs": [
    {
     "name": "stdout",
     "output_type": "stream",
     "text": [
      "==========\n",
      "feature combination =  1\n",
      "Train model on 1600 examples\n",
      "Model trained in 0:00:00.099124\n",
      "Average projection matrix shape: 30.0 96.65\n",
      "Average nonzeros number: 42.12\n",
      "==========\n",
      "feature combination =  2\n",
      "Train model on 1600 examples\n"
     ]
    },
    {
     "name": "stderr",
     "output_type": "stream",
     "text": [
      "c:\\Users\\clark\\anaconda3\\envs\\catboost_env\\lib\\site-packages\\treeple\\datasets\\hyppo.py:515: RuntimeWarning: Number of informative dimensions {n_informative} must be less than number of dimensions, 100. Setting n_informative to n_dim.\n",
      "  warnings.warn(\n",
      "c:\\Users\\clark\\anaconda3\\envs\\catboost_env\\lib\\site-packages\\treeple\\datasets\\hyppo.py:515: RuntimeWarning: Number of informative dimensions {n_informative} must be less than number of dimensions, 100. Setting n_informative to n_dim.\n",
      "  warnings.warn(\n"
     ]
    },
    {
     "name": "stdout",
     "output_type": "stream",
     "text": [
      "Model trained in 0:00:00.133806\n",
      "Average projection matrix shape: 30.0 99.22\n",
      "Average nonzeros number: 65.1\n",
      "==========\n",
      "feature combination =  3\n",
      "Train model on 1600 examples\n",
      "Model trained in 0:00:00.096644\n",
      "Average projection matrix shape: 30.0 99.98\n",
      "Average nonzeros number: 91.22\n",
      "==========\n",
      "feature combination =  4\n",
      "Train model on 1600 examples\n"
     ]
    },
    {
     "name": "stderr",
     "output_type": "stream",
     "text": [
      "c:\\Users\\clark\\anaconda3\\envs\\catboost_env\\lib\\site-packages\\treeple\\datasets\\hyppo.py:515: RuntimeWarning: Number of informative dimensions {n_informative} must be less than number of dimensions, 100. Setting n_informative to n_dim.\n",
      "  warnings.warn(\n",
      "c:\\Users\\clark\\anaconda3\\envs\\catboost_env\\lib\\site-packages\\treeple\\datasets\\hyppo.py:515: RuntimeWarning: Number of informative dimensions {n_informative} must be less than number of dimensions, 100. Setting n_informative to n_dim.\n",
      "  warnings.warn(\n"
     ]
    },
    {
     "name": "stdout",
     "output_type": "stream",
     "text": [
      "Model trained in 0:00:00.096125\n",
      "Average projection matrix shape: 30.0 100.44\n",
      "Average nonzeros number: 120.87\n"
     ]
    }
   ],
   "source": [
    "avg_nonzero_element_num = np.zeros((5,))\n",
    "for i in range(1, 5):\n",
    "    print(\"==========\")\n",
    "    print(\"feature combination = \", i)\n",
    "    _,_,avg_non_zeros,_,_ = extract_avg_projection(params_ydf, n_sample=2000, n_estimator=100, n_dim=100,\n",
    "                                max_feature=20, feature_combination=float(i), exponent=2.0)\n",
    "    avg_nonzero_element_num[i] = avg_non_zeros/30\n",
    "    #print(\"nonzeros number:\", n_nonzeros)\n",
    "    #print(\"projection matrix shape:\", projection_matrix.shape)"
   ]
  },
  {
   "cell_type": "code",
   "execution_count": 255,
   "metadata": {},
   "outputs": [
    {
     "data": {
      "image/png": "[encoded data removed]",
      "text/plain": [
       "<Figure size 640x480 with 1 Axes>"
      ]
     },
     "metadata": {},
     "output_type": "display_data"
    }
   ],
   "source": [
    "import matplotlib.pyplot as plt\n",
    "\n",
    "feature_combinations = range(1, 5)  # Corresponding to the feature combination values used\n",
    "plt.plot(feature_combinations, avg_nonzero_element_num[1:], marker='o', label='Avg Nonzero Elements')\n",
    "plt.xlabel('Feature Combination')\n",
    "plt.ylabel('Avg Nonzero Elements over nodes in one tree')\n",
    "plt.title('Avg Nonzero Element Num vs Feature Combination')\n",
    "plt.legend()\n",
    "plt.grid(True)\n",
    "plt.show()"
   ]
  },
  {
   "cell_type": "code",
   "execution_count": null,
   "metadata": {},
   "outputs": [],
   "source": []
  },
  {
   "cell_type": "code",
   "execution_count": null,
   "metadata": {},
   "outputs": [
    {
     "name": "stdout",
     "output_type": "stream",
     "text": [
      "Train model on 1600 examples\n",
      "Model trained in 0:00:00.827913\n",
      "* NonLeaf(value=ProbabilityValue(num_examples=1600.0, probability=[0.5, 0.5]), condition=NumericalSparseObliqueCondition(missing=False, score=0.010048951022326946, attributes=[7, 56, 721, 783], weights=[1.0, 1.0, 1.0, -1.0], threshold=-0.30478930473327637), pos_child=NonLeaf(value=ProbabilityValue(num_examples=1015.0, probability=[0.4463054187192118, 0.5536945812807882]), condition=NumericalSparseObliqueCondition(missing=False, score=0.019703904166817665, attributes=[3, 552], weights=[1.0, -1.0], threshold=0.25874432921409607), pos_child=NonLeaf(value=ProbabilityValue(num_examples=533.0, probability=[0.3527204502814259, 0.6472795497185742]), condition=NumericalSparseObliqueCondition(missing=False, score=0.016616256907582283, attributes=[24], weights=[1.0], threshold=-0.34425655007362366), pos_child=Leaf(value=ProbabilityValue(num_examples=352.0, probability=[0.2897727272727273, 0.7102272727272727])), neg_child=NonLeaf(value=ProbabilityValue(num_examples=181.0, probability=[0.47513812154696133, 0.5248618784530387]), condition=NumericalSparseObliqueCondition(missing=False, score=0.05699736624956131, attributes=[8, 32, 850], weights=[-1.0, -1.0, -1.0], threshold=0.7766491174697876), pos_child=NonLeaf(value=ProbabilityValue(num_examples=55.0, probability=[0.7272727272727273, 0.2727272727272727]), condition=NumericalSparseObliqueCondition(missing=False, score=0.14731429517269135, attributes=[306, 322], weights=[-1.0, 1.0], threshold=1.2884206771850586), pos_child=Leaf(value=ProbabilityValue(num_examples=12.0, probability=[0.25, 0.75])), neg_child=NonLeaf(value=ProbabilityValue(num_examples=43.0, probability=[0.8604651162790697, 0.13953488372093023]), condition=NumericalSparseObliqueCondition(missing=False, score=0.16934673488140106, attributes=[469, 530, 538], weights=[-1.0, -1.0, 1.0], threshold=-0.6045588254928589), pos_child=Leaf(value=ProbabilityValue(num_examples=28.0, probability=[1.0, 0.0])), neg_child=NonLeaf(value=ProbabilityValue(num_examples=15.0, probability=[0.6, 0.4]), condition=NumericalSparseObliqueCondition(missing=False, score=0.481624037027359, attributes=[749, 831], weights=[1.0, -1.0], threshold=0.4880139231681824), pos_child=Leaf(value=ProbabilityValue(num_examples=8.0, probability=[1.0, 0.0])), neg_child=Leaf(value=ProbabilityValue(num_examples=7.0, probability=[0.14285714285714285, 0.8571428571428571]))))), neg_child=NonLeaf(value=ProbabilityValue(num_examples=126.0, probability=[0.36507936507936506, 0.6349206349206349]), condition=NumericalSparseObliqueCondition(missing=False, score=0.07603181153535843, attributes=[110], weights=[1.0], threshold=1.2787368297576904), pos_child=Leaf(value=ProbabilityValue(num_examples=19.0, probability=[0.0, 1.0])), neg_child=NonLeaf(value=ProbabilityValue(num_examples=107.0, probability=[0.42990654205607476, 0.5700934579439252]), condition=NumericalSparseObliqueCondition(missing=False, score=0.07104864716529846, attributes=[20, 160, 332], weights=[-1.0, -1.0, 1.0], threshold=1.262285590171814), pos_child=NonLeaf(value=ProbabilityValue(num_examples=23.0, probability=[0.782608695652174, 0.21739130434782608]), condition=NumericalSparseObliqueCondition(missing=False, score=0.40604862570762634, attributes=[240, 415, 754, 757], weights=[1.0, -1.0, -1.0, -1.0], threshold=0.7735531330108643), pos_child=Leaf(value=ProbabilityValue(num_examples=6.0, probability=[0.16666666666666666, 0.8333333333333334])), neg_child=Leaf(value=ProbabilityValue(num_examples=17.0, probability=[1.0, 0.0]))), neg_child=NonLeaf(value=ProbabilityValue(num_examples=84.0, probability=[0.3333333333333333, 0.6666666666666666]), condition=NumericalSparseObliqueCondition(missing=False, score=0.08897977322340012, attributes=[11], weights=[1.0], threshold=0.8386682271957397), pos_child=Leaf(value=ProbabilityValue(num_examples=23.0, probability=[0.043478260869565216, 0.9565217391304348])), neg_child=NonLeaf(value=ProbabilityValue(num_examples=61.0, probability=[0.4426229508196721, 0.5573770491803278]), condition=NumericalSparseObliqueCondition(missing=False, score=0.12284957617521286, attributes=[158, 461, 694], weights=[1.0, 1.0, 1.0], threshold=1.322736382484436), pos_child=Leaf(value=ProbabilityValue(num_examples=16.0, probability=[0.0625, 0.9375])), neg_child=Leaf(value=ProbabilityValue(num_examples=45.0, probability=[0.5777777777777777, 0.4222222222222222])))))))), neg_child=NonLeaf(value=ProbabilityValue(num_examples=482.0, probability=[0.549792531120332, 0.45020746887966806]), condition=NumericalSparseObliqueCondition(missing=False, score=0.019118623808026314, attributes=[299, 570, 738], weights=[1.0, 1.0, 1.0], threshold=0.11387088149785995), pos_child=Leaf(value=ProbabilityValue(num_examples=248.0, probability=[0.45564516129032256, 0.5443548387096774])), neg_child=Leaf(value=ProbabilityValue(num_examples=234.0, probability=[0.6495726495726496, 0.3504273504273504])))), neg_child=NonLeaf(value=ProbabilityValue(num_examples=585.0, probability=[0.5931623931623932, 0.40683760683760684]), condition=NumericalSparseObliqueCondition(missing=False, score=0.013112610206007957, attributes=[89, 164, 221, 351, 393, 437, 571], weights=[1.0, 1.0, 1.0, 1.0, 1.0, -1.0, -1.0], threshold=4.2122344970703125), pos_child=Leaf(value=ProbabilityValue(num_examples=38.0, probability=[0.2894736842105263, 0.7105263157894737])), neg_child=NonLeaf(value=ProbabilityValue(num_examples=547.0, probability=[0.6142595978062158, 0.3857404021937843]), condition=NumericalSparseObliqueCondition(missing=False, score=0.015893256291747093, attributes=[185, 987], weights=[1.0, 1.0], threshold=2.877923011779785), pos_child=Leaf(value=ProbabilityValue(num_examples=9.0, probability=[0.0, 1.0])), neg_child=NonLeaf(value=ProbabilityValue(num_examples=538.0, probability=[0.6245353159851301, 0.3754646840148699]), condition=NumericalSparseObliqueCondition(missing=False, score=0.0173035841435194, attributes=[409, 622], weights=[-1.0, -1.0], threshold=-0.47431591153144836), pos_child=NonLeaf(value=ProbabilityValue(num_examples=357.0, probability=[0.6890756302521008, 0.31092436974789917]), condition=NumericalSparseObliqueCondition(missing=False, score=0.026546873152256012, attributes=[193], weights=[1.0], threshold=0.5854974985122681), pos_child=NonLeaf(value=ProbabilityValue(num_examples=93.0, probability=[0.5053763440860215, 0.4946236559139785]), condition=NumericalSparseObliqueCondition(missing=False, score=0.08164776861667633, attributes=[669, 673], weights=[1.0, -1.0], threshold=-0.17788487672805786), pos_child=NonLeaf(value=ProbabilityValue(num_examples=45.0, probability=[0.7111111111111111, 0.28888888888888886]), condition=NumericalSparseObliqueCondition(missing=False, score=0.15491411089897156, attributes=[35, 104, 552], weights=[1.0, 1.0, -1.0], threshold=1.6116909980773926), pos_child=Leaf(value=ProbabilityValue(num_examples=13.0, probability=[0.3076923076923077, 0.6923076923076923])), neg_child=Leaf(value=ProbabilityValue(num_examples=32.0, probability=[0.875, 0.125]))), neg_child=Leaf(value=ProbabilityValue(num_examples=48.0, probability=[0.3125, 0.6875]))), neg_child=NonLeaf(value=ProbabilityValue(num_examples=264.0, probability=[0.7537878787878788, 0.24621212121212122]), condition=NumericalSparseObliqueCondition(missing=False, score=0.027443023398518562, attributes=[498, 513, 821], weights=[1.0, 1.0, -1.0], threshold=3.0328621864318848), pos_child=Leaf(value=ProbabilityValue(num_examples=14.0, probability=[0.2857142857142857, 0.7142857142857143])), neg_child=NonLeaf(value=ProbabilityValue(num_examples=250.0, probability=[0.78, 0.22]), condition=NumericalSparseObliqueCondition(missing=False, score=0.03155696392059326, attributes=[2, 399], weights=[1.0, -1.0], threshold=-1.2968785762786865), pos_child=NonLeaf(value=ProbabilityValue(num_examples=208.0, probability=[0.7403846153846154, 0.25961538461538464]), condition=NumericalSparseObliqueCondition(missing=False, score=0.10425931960344315, attributes=[1, 507], weights=[-1.0, -1.0], threshold=-0.018774278461933136), pos_child=NonLeaf(value=ProbabilityValue(num_examples=94.0, probability=[0.9468085106382979, 0.05319148936170213]), condition=NumericalSparseObliqueCondition(missing=False, score=0.07017459720373154, attributes=[149, 167, 960], weights=[-1.0, 1.0, -1.0], threshold=-1.0810866355895996), pos_child=Leaf(value=ProbabilityValue(num_examples=67.0, probability=[1.0, 0.0])), neg_child=NonLeaf(value=ProbabilityValue(num_examples=27.0, probability=[0.8148148148148148, 0.18518518518518517]), condition=NumericalSparseObliqueCondition(missing=False, score=0.25017842650413513, attributes=[364, 804, 873, 898], weights=[-1.0, -1.0, 1.0, 1.0], threshold=0.9896422624588013), pos_child=Leaf(value=ProbabilityValue(num_examples=9.0, probability=[0.4444444444444444, 0.5555555555555556])), neg_child=Leaf(value=ProbabilityValue(num_examples=18.0, probability=[1.0, 0.0])))), neg_child=NonLeaf(value=ProbabilityValue(num_examples=114.0, probability=[0.5701754385964912, 0.4298245614035088]), condition=NumericalSparseObliqueCondition(missing=False, score=0.07857085764408112, attributes=[20, 280, 536, 651], weights=[-1.0, -1.0, -1.0, 1.0], threshold=1.0551190376281738), pos_child=NonLeaf(value=ProbabilityValue(num_examples=28.0, probability=[0.8928571428571429, 0.10714285714285714]), condition=NumericalSparseObliqueCondition(missing=False, score=0.34049978852272034, attributes=[232, 693], weights=[-1.0, -1.0], threshold=-1.7715328931808472), pos_child=Leaf(value=ProbabilityValue(num_examples=25.0, probability=[1.0, 0.0])), neg_child=Leaf(value=ProbabilityValue(num_examples=3.0, probability=[0.0, 1.0]))), neg_child=NonLeaf(value=ProbabilityValue(num_examples=86.0, probability=[0.46511627906976744, 0.5348837209302325]), condition=NumericalSparseObliqueCondition(missing=False, score=0.17615890502929688, attributes=[1], weights=[1.0], threshold=1.4171953201293945), pos_child=Leaf(value=ProbabilityValue(num_examples=20.0, probability=[0.0, 1.0])), neg_child=Leaf(value=ProbabilityValue(num_examples=66.0, probability=[0.6060606060606061, 0.3939393939393939]))))), neg_child=Leaf(value=ProbabilityValue(num_examples=42.0, probability=[0.9761904761904762, 0.023809523809523808]))))), neg_child=NonLeaf(value=ProbabilityValue(num_examples=181.0, probability=[0.4972375690607735, 0.5027624309392266]), condition=NumericalSparseObliqueCondition(missing=False, score=0.046814143657684326, attributes=[13, 54, 425, 523], weights=[-1.0, -1.0, 1.0, -1.0], threshold=-2.31270694732666), pos_child=NonLeaf(value=ProbabilityValue(num_examples=151.0, probability=[0.5629139072847682, 0.4370860927152318]), condition=NumericalSparseObliqueCondition(missing=False, score=0.05177826061844826, attributes=[417, 611, 739, 744], weights=[1.0, 1.0, 1.0, -1.0], threshold=-3.3482112884521484), pos_child=NonLeaf(value=ProbabilityValue(num_examples=142.0, probability=[0.5985915492957746, 0.4014084507042254]), condition=NumericalSparseObliqueCondition(missing=False, score=0.07655954360961914, attributes=[1, 328], weights=[-1.0, 1.0], threshold=0.5428827404975891), pos_child=Leaf(value=ProbabilityValue(num_examples=45.0, probability=[0.8666666666666667, 0.13333333333333333])), neg_child=Leaf(value=ProbabilityValue(num_examples=97.0, probability=[0.4742268041237113, 0.5257731958762887]))), neg_child=Leaf(value=ProbabilityValue(num_examples=9.0, probability=[0.0, 1.0]))), neg_child=Leaf(value=ProbabilityValue(num_examples=30.0, probability=[0.16666666666666666, 0.8333333333333334])))))))\n"
     ]
    },
    {
     "data": {
      "text/plain": [
       "(30, 988)"
      ]
     },
     "execution_count": 120,
     "metadata": {},
     "output_type": "execute_result"
    }
   ],
   "source": [
    "projection_matrix, proj_dim, _, _, _ = extract_projections_pipline(params_ydf,\n",
    "                                                n_sample=2000, \n",
    "                                                n_estimator=100, \n",
    "                                                n_dim=1000, \n",
    "                                                max_feature=100, \n",
    "                                                feature_combination=3.0)\n",
    "projection_matrix.shape"
   ]
  },
  {
   "cell_type": "code",
   "execution_count": null,
   "metadata": {},
   "outputs": [
    {
     "name": "stdout",
     "output_type": "stream",
     "text": [
      "Train model on 1600 examples\n",
      "Model trained in 0:00:02.350682\n",
      "* NonLeaf(value=ProbabilityValue(num_examples=1600.0, probability=[0.5, 0.5]), condition=NumericalSparseObliqueCondition(missing=False, score=0.02640022709965706, attributes=[4], weights=[1.0], threshold=-0.0243707075715065), pos_child=NonLeaf(value=ProbabilityValue(num_examples=942.0, probability=[0.40445859872611467, 0.5955414012738853]), condition=NumericalSparseObliqueCondition(missing=False, score=0.04424554854631424, attributes=[2], weights=[1.0], threshold=1.0494449138641357), pos_child=NonLeaf(value=ProbabilityValue(num_examples=260.0, probability=[0.17692307692307693, 0.823076923076923]), condition=NumericalSparseObliqueCondition(missing=False, score=0.07184826582670212, attributes=[1], weights=[1.0], threshold=0.3606805205345154), pos_child=Leaf(value=ProbabilityValue(num_examples=176.0, probability=[0.07386363636363637, 0.9261363636363636])), neg_child=Leaf(value=ProbabilityValue(num_examples=84.0, probability=[0.39285714285714285, 0.6071428571428571]))), neg_child=NonLeaf(value=ProbabilityValue(num_examples=682.0, probability=[0.4912023460410557, 0.5087976539589443]), condition=NumericalSparseObliqueCondition(missing=False, score=0.06450138241052628, attributes=[1, 42, 60], weights=[1.0, 1.0, 1.0], threshold=-0.12563511729240417), pos_child=NonLeaf(value=ProbabilityValue(num_examples=443.0, probability=[0.3611738148984199, 0.6388261851015802]), condition=NumericalSparseObliqueCondition(missing=False, score=0.028853705152869225, attributes=[1, 637, 709], weights=[1.0, 1.0, -1.0], threshold=1.3276968002319336), pos_child=NonLeaf(value=ProbabilityValue(num_examples=188.0, probability=[0.22872340425531915, 0.7712765957446809]), condition=NumericalSparseObliqueCondition(missing=False, score=0.04620034992694855, attributes=[263], weights=[1.0], threshold=-0.24789604544639587), pos_child=Leaf(value=ProbabilityValue(num_examples=125.0, probability=[0.136, 0.864])), neg_child=Leaf(value=ProbabilityValue(num_examples=63.0, probability=[0.4126984126984127, 0.5873015873015873]))), neg_child=NonLeaf(value=ProbabilityValue(num_examples=255.0, probability=[0.4588235294117647, 0.5411764705882353]), condition=NumericalSparseObliqueCondition(missing=False, score=0.04921594262123108, attributes=[1, 90], weights=[-1.0, -1.0], threshold=-1.3784074783325195), pos_child=NonLeaf(value=ProbabilityValue(num_examples=174.0, probability=[0.5632183908045977, 0.4367816091954023]), condition=NumericalSparseObliqueCondition(missing=False, score=0.06746494024991989, attributes=[13], weights=[1.0], threshold=-0.9426386952400208), pos_child=NonLeaf(value=ProbabilityValue(num_examples=149.0, probability=[0.4966442953020134, 0.5033557046979866]), condition=NumericalSparseObliqueCondition(missing=False, score=0.05284235626459122, attributes=[226, 576], weights=[1.0, 1.0], threshold=-0.6184226274490356), pos_child=NonLeaf(value=ProbabilityValue(num_examples=101.0, probability=[0.38613861386138615, 0.6138613861386139]), condition=NumericalSparseObliqueCondition(missing=False, score=0.07890944182872772, attributes=[126, 401], weights=[1.0, 1.0], threshold=-0.49113529920578003), pos_child=Leaf(value=ProbabilityValue(num_examples=70.0, probability=[0.2571428571428571, 0.7428571428571429])), neg_child=Leaf(value=ProbabilityValue(num_examples=31.0, probability=[0.6774193548387096, 0.3225806451612903]))), neg_child=NonLeaf(value=ProbabilityValue(num_examples=48.0, probability=[0.7291666666666666, 0.2708333333333333]), condition=NumericalSparseObliqueCondition(missing=False, score=0.16854813694953918, attributes=[464], weights=[1.0], threshold=-0.3205205798149109), pos_child=Leaf(value=ProbabilityValue(num_examples=29.0, probability=[0.5517241379310345, 0.4482758620689655])), neg_child=Leaf(value=ProbabilityValue(num_examples=19.0, probability=[1.0, 0.0])))), neg_child=Leaf(value=ProbabilityValue(num_examples=25.0, probability=[0.96, 0.04]))), neg_child=NonLeaf(value=ProbabilityValue(num_examples=81.0, probability=[0.2345679012345679, 0.7654320987654321]), condition=NumericalSparseObliqueCondition(missing=False, score=0.11776256561279297, attributes=[106], weights=[1.0], threshold=-1.348179817199707), pos_child=NonLeaf(value=ProbabilityValue(num_examples=75.0, probability=[0.17333333333333334, 0.8266666666666667]), condition=NumericalSparseObliqueCondition(missing=False, score=0.12642884254455566, attributes=[3], weights=[1.0], threshold=-0.3716108798980713), pos_child=Leaf(value=ProbabilityValue(num_examples=63.0, probability=[0.07936507936507936, 0.9206349206349206])), neg_child=Leaf(value=ProbabilityValue(num_examples=12.0, probability=[0.6666666666666666, 0.3333333333333333]))), neg_child=Leaf(value=ProbabilityValue(num_examples=6.0, probability=[1.0, 0.0]))))), neg_child=NonLeaf(value=ProbabilityValue(num_examples=239.0, probability=[0.7322175732217573, 0.26778242677824265]), condition=NumericalSparseObliqueCondition(missing=False, score=0.043115850538015366, attributes=[1, 207], weights=[-1.0, -1.0], threshold=-0.6656056642532349), pos_child=NonLeaf(value=ProbabilityValue(num_examples=185.0, probability=[0.8054054054054054, 0.1945945945945946]), condition=NumericalSparseObliqueCondition(missing=False, score=0.061877842992544174, attributes=[8], weights=[1.0], threshold=0.248174250125885), pos_child=NonLeaf(value=ProbabilityValue(num_examples=79.0, probability=[0.6455696202531646, 0.35443037974683544]), condition=NumericalSparseObliqueCondition(missing=False, score=0.11581052094697952, attributes=[792], weights=[1.0], threshold=-1.0100141763687134), pos_child=NonLeaf(value=ProbabilityValue(num_examples=71.0, probability=[0.7183098591549296, 0.28169014084507044]), condition=NumericalSparseObliqueCondition(missing=False, score=0.11641038209199905, attributes=[816], weights=[1.0], threshold=-0.5273430347442627), pos_child=Leaf(value=ProbabilityValue(num_examples=53.0, probability=[0.8490566037735849, 0.1509433962264151])), neg_child=NonLeaf(value=ProbabilityValue(num_examples=18.0, probability=[0.3333333333333333, 0.6666666666666666]), condition=NumericalSparseObliqueCondition(missing=False, score=0.4770244359970093, attributes=[191, 282, 728], weights=[-1.0, -1.0, -1.0], threshold=0.5970795154571533), pos_child=Leaf(value=ProbabilityValue(num_examples=7.0, probability=[0.8571428571428571, 0.14285714285714285])), neg_child=Leaf(value=ProbabilityValue(num_examples=11.0, probability=[0.0, 1.0])))), neg_child=Leaf(value=ProbabilityValue(num_examples=8.0, probability=[0.0, 1.0]))), neg_child=NonLeaf(value=ProbabilityValue(num_examples=106.0, probability=[0.9245283018867925, 0.07547169811320754]), condition=NumericalSparseObliqueCondition(missing=False, score=0.12161514163017273, attributes=[736], weights=[1.0], threshold=1.3151929378509521), pos_child=Leaf(value=ProbabilityValue(num_examples=9.0, probability=[0.3333333333333333, 0.6666666666666666])), neg_child=Leaf(value=ProbabilityValue(num_examples=97.0, probability=[0.979381443298969, 0.020618556701030927])))), neg_child=Leaf(value=ProbabilityValue(num_examples=54.0, probability=[0.48148148148148145, 0.5185185185185185]))))), neg_child=NonLeaf(value=ProbabilityValue(num_examples=658.0, probability=[0.6367781155015197, 0.36322188449848025]), condition=NumericalSparseObliqueCondition(missing=False, score=0.054257992655038834, attributes=[2], weights=[1.0], threshold=0.16593676805496216), pos_child=NonLeaf(value=ProbabilityValue(num_examples=364.0, probability=[0.49725274725274726, 0.5027472527472527]), condition=NumericalSparseObliqueCondition(missing=False, score=0.025073783472180367, attributes=[73], weights=[1.0], threshold=-1.407599925994873), pos_child=NonLeaf(value=ProbabilityValue(num_examples=342.0, probability=[0.47076023391812866, 0.5292397660818714]), condition=NumericalSparseObliqueCondition(missing=False, score=0.025790970772504807, attributes=[7], weights=[1.0], threshold=0.3640874922275543), pos_child=NonLeaf(value=ProbabilityValue(num_examples=162.0, probability=[0.35185185185185186, 0.6481481481481481]), condition=NumericalSparseObliqueCondition(missing=False, score=0.05063760280609131, attributes=[235], weights=[1.0], threshold=0.19507071375846863), pos_child=Leaf(value=ProbabilityValue(num_examples=74.0, probability=[0.1891891891891892, 0.8108108108108109])), neg_child=NonLeaf(value=ProbabilityValue(num_examples=88.0, probability=[0.48863636363636365, 0.5113636363636364]), condition=NumericalSparseObliqueCondition(missing=False, score=0.09958625584840775, attributes=[62, 544, 654], weights=[1.0, 1.0, 1.0], threshold=-0.7608557939529419), pos_child=Leaf(value=ProbabilityValue(num_examples=61.0, probability=[0.3442622950819672, 0.6557377049180327])), neg_child=Leaf(value=ProbabilityValue(num_examples=27.0, probability=[0.8148148148148148, 0.18518518518518517])))), neg_child=NonLeaf(value=ProbabilityValue(num_examples=180.0, probability=[0.5777777777777777, 0.4222222222222222]), condition=NumericalSparseObliqueCondition(missing=False, score=0.0566757470369339, attributes=[10], weights=[1.0], threshold=0.7022637128829956), pos_child=Leaf(value=ProbabilityValue(num_examples=51.0, probability=[0.3137254901960784, 0.6862745098039216])), neg_child=NonLeaf(value=ProbabilityValue(num_examples=129.0, probability=[0.6821705426356589, 0.3178294573643411]), condition=NumericalSparseObliqueCondition(missing=False, score=0.06562048941850662, attributes=[493], weights=[1.0], threshold=-1.3735785484313965), pos_child=NonLeaf(value=ProbabilityValue(num_examples=122.0, probability=[0.7213114754098361, 0.2786885245901639]), condition=NumericalSparseObliqueCondition(missing=False, score=0.06969866156578064, attributes=[123, 226], weights=[-1.0, -1.0], threshold=1.1929162740707397), pos_child=Leaf(value=ProbabilityValue(num_examples=23.0, probability=[1.0, 0.0])), neg_child=NonLeaf(value=ProbabilityValue(num_examples=99.0, probability=[0.6565656565656566, 0.3434343434343434]), condition=NumericalSparseObliqueCondition(missing=False, score=0.1001545712351799, attributes=[3], weights=[1.0], threshold=0.49025699496269226), pos_child=Leaf(value=ProbabilityValue(num_examples=40.0, probability=[0.4, 0.6])), neg_child=NonLeaf(value=ProbabilityValue(num_examples=59.0, probability=[0.8305084745762712, 0.1694915254237288]), condition=NumericalSparseObliqueCondition(missing=False, score=0.15435655415058136, attributes=[1], weights=[1.0], threshold=0.9343903660774231), pos_child=Leaf(value=ProbabilityValue(num_examples=14.0, probability=[0.42857142857142855, 0.5714285714285714])), neg_child=NonLeaf(value=ProbabilityValue(num_examples=45.0, probability=[0.9555555555555556, 0.044444444444444446]), condition=NumericalSparseObliqueCondition(missing=False, score=0.18182028830051422, attributes=[348, 916], weights=[-1.0, 1.0], threshold=-1.8285043239593506), pos_child=Leaf(value=ProbabilityValue(num_examples=43.0, probability=[1.0, 0.0])), neg_child=Leaf(value=ProbabilityValue(num_examples=2.0, probability=[0.0, 1.0])))))), neg_child=Leaf(value=ProbabilityValue(num_examples=7.0, probability=[0.0, 1.0]))))), neg_child=Leaf(value=ProbabilityValue(num_examples=22.0, probability=[0.9090909090909091, 0.09090909090909091]))), neg_child=Leaf(value=ProbabilityValue(num_examples=294.0, probability=[0.8095238095238095, 0.19047619047619047]))))\n"
     ]
    },
    {
     "data": {
      "text/plain": [
       "(30, 917)"
      ]
     },
     "execution_count": 114,
     "metadata": {},
     "output_type": "execute_result"
    }
   ],
   "source": [
    "projection_matrix, proj_dim, _, _, _  = extract_projections_pipline(params_ydf,\n",
    "                                                n_sample=2000, \n",
    "                                                n_estimator=100, \n",
    "                                                n_dim=1000, \n",
    "                                                max_feature=300, \n",
    "                                                feature_combination=1.0)\n",
    "projection_matrix.shape"
   ]
  },
  {
   "cell_type": "code",
   "execution_count": null,
   "metadata": {},
   "outputs": [
    {
     "name": "stdout",
     "output_type": "stream",
     "text": [
      "Train model on 1600 examples\n",
      "Model trained in 0:00:00.036036\n",
      "* NonLeaf(value=ProbabilityValue(num_examples=1600.0, probability=[0.5, 0.5]), condition=NumericalSparseObliqueCondition(missing=False, score=0.0023543008137494326, attributes=[513], weights=[1.0], threshold=-0.20640619099140167), pos_child=NonLeaf(value=ProbabilityValue(num_examples=942.0, probability=[0.4713375796178344, 0.5286624203821656]), condition=NumericalSparseObliqueCondition(missing=False, score=0.01493818685412407, attributes=[6], weights=[1.0], threshold=0.8464932441711426), pos_child=NonLeaf(value=ProbabilityValue(num_examples=247.0, probability=[0.32793522267206476, 0.6720647773279352]), condition=NumericalSparseObliqueCondition(missing=False, score=0.010234867222607136, attributes=[263, 321], weights=[1.0, -1.0], threshold=-1.3090343475341797), pos_child=NonLeaf(value=ProbabilityValue(num_examples=208.0, probability=[0.3557692307692308, 0.6442307692307693]), condition=NumericalSparseObliqueCondition(missing=False, score=0.01171811856329441, attributes=[608], weights=[1.0], threshold=-1.1482467651367188), pos_child=Leaf(value=ProbabilityValue(num_examples=180.0, probability=[0.38333333333333336, 0.6166666666666667])), neg_child=Leaf(value=ProbabilityValue(num_examples=28.0, probability=[0.17857142857142858, 0.8214285714285714]))), neg_child=Leaf(value=ProbabilityValue(num_examples=39.0, probability=[0.1794871794871795, 0.8205128205128205]))), neg_child=NonLeaf(value=ProbabilityValue(num_examples=695.0, probability=[0.5223021582733813, 0.4776978417266187]), condition=NumericalSparseObliqueCondition(missing=False, score=0.00658867321908474, attributes=[236, 246], weights=[-1.0, 1.0], threshold=-3.4276561737060547), pos_child=NonLeaf(value=ProbabilityValue(num_examples=688.0, probability=[0.5174418604651163, 0.48255813953488375]), condition=NumericalSparseObliqueCondition(missing=False, score=0.003187498776242137, attributes=[607], weights=[1.0], threshold=-2.76998233795166), pos_child=NonLeaf(value=ProbabilityValue(num_examples=685.0, probability=[0.5197080291970803, 0.4802919708029197]), condition=NumericalSparseObliqueCondition(missing=False, score=0.004423387348651886, attributes=[403, 598, 707], weights=[1.0, 1.0, -1.0], threshold=-1.8613362312316895), pos_child=Leaf(value=ProbabilityValue(num_examples=596.0, probability=[0.5016778523489933, 0.4983221476510067])), neg_child=NonLeaf(value=ProbabilityValue(num_examples=89.0, probability=[0.6404494382022472, 0.3595505617977528]), condition=NumericalSparseObliqueCondition(missing=False, score=0.03553708642721176, attributes=[1000], weights=[1.0], threshold=-1.9389662742614746), pos_child=NonLeaf(value=ProbabilityValue(num_examples=86.0, probability=[0.6627906976744186, 0.3372093023255814]), condition=NumericalSparseObliqueCondition(missing=False, score=0.03681502863764763, attributes=[887], weights=[1.0], threshold=1.230372667312622), pos_child=Leaf(value=ProbabilityValue(num_examples=8.0, probability=[0.25, 0.75])), neg_child=NonLeaf(value=ProbabilityValue(num_examples=78.0, probability=[0.7051282051282052, 0.2948717948717949]), condition=NumericalSparseObliqueCondition(missing=False, score=0.03213025629520416, attributes=[426], weights=[1.0], threshold=-2.018284559249878), pos_child=NonLeaf(value=ProbabilityValue(num_examples=76.0, probability=[0.7236842105263158, 0.27631578947368424]), condition=NumericalSparseObliqueCondition(missing=False, score=0.07121124863624573, attributes=[150, 175, 611], weights=[-1.0, 1.0, 1.0], threshold=0.07663007080554962), pos_child=NonLeaf(value=ProbabilityValue(num_examples=37.0, probability=[0.8918918918918919, 0.10810810810810811]), condition=NumericalSparseObliqueCondition(missing=False, score=0.06369176506996155, attributes=[241], weights=[1.0], threshold=1.0342001914978027), pos_child=Leaf(value=ProbabilityValue(num_examples=4.0, probability=[0.5, 0.5])), neg_child=Leaf(value=ProbabilityValue(num_examples=33.0, probability=[0.9393939393939394, 0.06060606060606061]))), neg_child=Leaf(value=ProbabilityValue(num_examples=39.0, probability=[0.5641025641025641, 0.4358974358974359]))), neg_child=Leaf(value=ProbabilityValue(num_examples=2.0, probability=[0.0, 1.0])))), neg_child=Leaf(value=ProbabilityValue(num_examples=3.0, probability=[0.0, 1.0])))), neg_child=Leaf(value=ProbabilityValue(num_examples=3.0, probability=[0.0, 1.0]))), neg_child=Leaf(value=ProbabilityValue(num_examples=7.0, probability=[1.0, 0.0])))), neg_child=NonLeaf(value=ProbabilityValue(num_examples=658.0, probability=[0.541033434650456, 0.45896656534954405]), condition=NumericalSparseObliqueCondition(missing=False, score=0.00636454951018095, attributes=[857], weights=[1.0], threshold=1.7113196849822998), pos_child=NonLeaf(value=ProbabilityValue(num_examples=32.0, probability=[0.78125, 0.21875]), condition=NumericalSparseObliqueCondition(missing=False, score=0.12066715955734253, attributes=[709], weights=[1.0], threshold=-0.31766098737716675), pos_child=Leaf(value=ProbabilityValue(num_examples=20.0, probability=[0.65, 0.35])), neg_child=Leaf(value=ProbabilityValue(num_examples=12.0, probability=[1.0, 0.0]))), neg_child=NonLeaf(value=ProbabilityValue(num_examples=626.0, probability=[0.5287539936102237, 0.4712460063897764]), condition=NumericalSparseObliqueCondition(missing=False, score=0.007878945209085941, attributes=[667, 682, 989], weights=[1.0, -1.0, 1.0], threshold=0.17230165004730225), pos_child=NonLeaf(value=ProbabilityValue(num_examples=298.0, probability=[0.46308724832214765, 0.5369127516778524]), condition=NumericalSparseObliqueCondition(missing=False, score=0.021096812561154366, attributes=[137], weights=[1.0], threshold=-1.9301471710205078), pos_child=NonLeaf(value=ProbabilityValue(num_examples=290.0, probability=[0.4482758620689655, 0.5517241379310345]), condition=NumericalSparseObliqueCondition(missing=False, score=0.007277560420334339, attributes=[466], weights=[1.0], threshold=1.295762300491333), pos_child=Leaf(value=ProbabilityValue(num_examples=32.0, probability=[0.28125, 0.71875])), neg_child=NonLeaf(value=ProbabilityValue(num_examples=258.0, probability=[0.4689922480620155, 0.5310077519379846]), condition=NumericalSparseObliqueCondition(missing=False, score=0.01054127886891365, attributes=[428], weights=[1.0], threshold=0.204135924577713), pos_child=NonLeaf(value=ProbabilityValue(num_examples=107.0, probability=[0.38317757009345793, 0.616822429906542]), condition=NumericalSparseObliqueCondition(missing=False, score=0.029042549431324005, attributes=[750], weights=[1.0], threshold=0.3430514335632324), pos_child=NonLeaf(value=ProbabilityValue(num_examples=39.0, probability=[0.5384615384615384, 0.46153846153846156]), condition=NumericalSparseObliqueCondition(missing=False, score=0.08620084077119827, attributes=[587], weights=[1.0], threshold=1.1561814546585083), pos_child=Leaf(value=ProbabilityValue(num_examples=4.0, probability=[0.0, 1.0])), neg_child=NonLeaf(value=ProbabilityValue(num_examples=35.0, probability=[0.6, 0.4]), condition=NumericalSparseObliqueCondition(missing=False, score=0.09918238967657089, attributes=[670], weights=[1.0], threshold=-0.746901273727417), pos_child=Leaf(value=ProbabilityValue(num_examples=29.0, probability=[0.5172413793103449, 0.4827586206896552])), neg_child=Leaf(value=ProbabilityValue(num_examples=6.0, probability=[1.0, 0.0])))), neg_child=Leaf(value=ProbabilityValue(num_examples=68.0, probability=[0.29411764705882354, 0.7058823529411765]))), neg_child=NonLeaf(value=ProbabilityValue(num_examples=151.0, probability=[0.5298013245033113, 0.47019867549668876]), condition=NumericalSparseObliqueCondition(missing=False, score=0.029092805460095406, attributes=[461, 787], weights=[-1.0, 1.0], threshold=-0.6906915903091431), pos_child=NonLeaf(value=ProbabilityValue(num_examples=103.0, probability=[0.6116504854368932, 0.3883495145631068]), condition=NumericalSparseObliqueCondition(missing=False, score=0.022578001022338867, attributes=[823, 859], weights=[1.0, 1.0], threshold=1.72316312789917), pos_child=Leaf(value=ProbabilityValue(num_examples=14.0, probability=[0.8571428571428571, 0.14285714285714285])), neg_child=NonLeaf(value=ProbabilityValue(num_examples=89.0, probability=[0.5730337078651685, 0.42696629213483145]), condition=NumericalSparseObliqueCondition(missing=False, score=0.025810277089476585, attributes=[635], weights=[1.0], threshold=-1.857432246208191), pos_child=Leaf(value=ProbabilityValue(num_examples=85.0, probability=[0.5529411764705883, 0.4470588235294118])), neg_child=Leaf(value=ProbabilityValue(num_examples=4.0, probability=[1.0, 0.0])))), neg_child=Leaf(value=ProbabilityValue(num_examples=48.0, probability=[0.3541666666666667, 0.6458333333333334]))))), neg_child=Leaf(value=ProbabilityValue(num_examples=8.0, probability=[1.0, 0.0]))), neg_child=NonLeaf(value=ProbabilityValue(num_examples=328.0, probability=[0.5884146341463414, 0.4115853658536585]), condition=NumericalSparseObliqueCondition(missing=False, score=0.0161764994263649, attributes=[175], weights=[1.0], threshold=-1.515151023864746), pos_child=NonLeaf(value=ProbabilityValue(num_examples=310.0, probability=[0.6096774193548387, 0.3903225806451613]), condition=NumericalSparseObliqueCondition(missing=False, score=0.007589307613670826, attributes=[908], weights=[1.0], threshold=-0.8496256470680237), pos_child=NonLeaf(value=ProbabilityValue(num_examples=261.0, probability=[0.6360153256704981, 0.36398467432950193]), condition=NumericalSparseObliqueCondition(missing=False, score=0.01491538155823946, attributes=[49], weights=[1.0], threshold=1.6963577270507812), pos_child=Leaf(value=ProbabilityValue(num_examples=12.0, probability=[0.25, 0.75])), neg_child=NonLeaf(value=ProbabilityValue(num_examples=249.0, probability=[0.6546184738955824, 0.3453815261044177]), condition=NumericalSparseObliqueCondition(missing=False, score=0.010224800556898117, attributes=[973], weights=[1.0], threshold=0.47377872467041016), pos_child=NonLeaf(value=ProbabilityValue(num_examples=73.0, probability=[0.547945205479452, 0.4520547945205479]), condition=NumericalSparseObliqueCondition(missing=False, score=0.030172277241945267, attributes=[980], weights=[1.0], threshold=-1.3272653818130493), pos_child=NonLeaf(value=ProbabilityValue(num_examples=65.0, probability=[0.5076923076923077, 0.49230769230769234]), condition=NumericalSparseObliqueCondition(missing=False, score=0.03236936777830124, attributes=[935], weights=[1.0], threshold=-1.5837185382843018), pos_child=Leaf(value=ProbabilityValue(num_examples=62.0, probability=[0.4838709677419355, 0.5161290322580645])), neg_child=Leaf(value=ProbabilityValue(num_examples=3.0, probability=[1.0, 0.0]))), neg_child=Leaf(value=ProbabilityValue(num_examples=8.0, probability=[0.875, 0.125]))), neg_child=Leaf(value=ProbabilityValue(num_examples=176.0, probability=[0.6988636363636364, 0.30113636363636365])))), neg_child=Leaf(value=ProbabilityValue(num_examples=49.0, probability=[0.46938775510204084, 0.5306122448979592]))), neg_child=Leaf(value=ProbabilityValue(num_examples=18.0, probability=[0.2222222222222222, 0.7777777777777778]))))))\n"
     ]
    },
    {
     "data": {
      "text/plain": [
       "(30, 1001)"
      ]
     },
     "execution_count": 115,
     "metadata": {},
     "output_type": "execute_result"
    }
   ],
   "source": [
    "projection_matrix, proj_dim, _, _, _ = extract_projections_pipline(params_ydf,\n",
    "                                                n_sample=2000, \n",
    "                                                n_estimator=100, \n",
    "                                                n_dim=1000, \n",
    "                                                max_feature=300, \n",
    "                                                feature_combination=1.0,\n",
    "                                                exponent=100.0)\n",
    "projection_matrix.shape"
   ]
  },
  {
   "cell_type": "code",
   "execution_count": 180,
   "metadata": {},
   "outputs": [
    {
     "name": "stdout",
     "output_type": "stream",
     "text": [
      "Train model on 1600 examples\n",
      "Model trained in 0:00:00.003998\n",
      "* NonLeaf(value=ProbabilityValue(num_examples=1600.0, probability=[0.5, 0.5]), condition=NumericalSparseObliqueCondition(missing=False, score=0.10298066586256027, attributes=[1], weights=[1.0], threshold=0.40478795766830444), pos_child=NonLeaf(value=ProbabilityValue(num_examples=846.0, probability=[0.2895981087470449, 0.710401891252955]), condition=NumericalSparseObliqueCondition(missing=False, score=0.0385918952524662, attributes=[3, 4, 31], weights=[1.0, 1.0, 1.0], threshold=0.25276243686676025), pos_child=NonLeaf(value=ProbabilityValue(num_examples=557.0, probability=[0.19748653500897667, 0.8025134649910234]), condition=NumericalSparseObliqueCondition(missing=False, score=0.007645494304597378, attributes=[33, 41], weights=[-1.0, -1.0], threshold=3.1825172901153564), pos_child=Leaf(value=ProbabilityValue(num_examples=5.0, probability=[0.8, 0.2])), neg_child=Leaf(value=ProbabilityValue(num_examples=552.0, probability=[0.19202898550724637, 0.8079710144927537]))), neg_child=NonLeaf(value=ProbabilityValue(num_examples=289.0, probability=[0.4671280276816609, 0.532871972318339]), condition=NumericalSparseObliqueCondition(missing=False, score=0.024517584592103958, attributes=[31], weights=[1.0], threshold=0.4699402451515198), pos_child=Leaf(value=ProbabilityValue(num_examples=34.0, probability=[0.7647058823529411, 0.23529411764705882])), neg_child=NonLeaf(value=ProbabilityValue(num_examples=255.0, probability=[0.42745098039215684, 0.5725490196078431]), condition=NumericalSparseObliqueCondition(missing=False, score=0.0234394371509552, attributes=[15], weights=[1.0], threshold=1.2561700344085693), pos_child=NonLeaf(value=ProbabilityValue(num_examples=35.0, probability=[0.17142857142857143, 0.8285714285714286]), condition=NumericalSparseObliqueCondition(missing=False, score=0.14279498159885406, attributes=[12], weights=[1.0], threshold=-0.12486439943313599), pos_child=Leaf(value=ProbabilityValue(num_examples=18.0, probability=[0.0, 1.0])), neg_child=NonLeaf(value=ProbabilityValue(num_examples=17.0, probability=[0.35294117647058826, 0.6470588235294118]), condition=NumericalSparseObliqueCondition(missing=False, score=0.20341885089874268, attributes=[36], weights=[1.0], threshold=0.44248729944229126), pos_child=Leaf(value=ProbabilityValue(num_examples=6.0, probability=[0.0, 1.0])), neg_child=NonLeaf(value=ProbabilityValue(num_examples=11.0, probability=[0.5454545454545454, 0.45454545454545453]), condition=NumericalSparseObliqueCondition(missing=False, score=0.44324856996536255, attributes=[23, 36, 47], weights=[1.0, -1.0, 1.0], threshold=0.49145805835723877), pos_child=Leaf(value=ProbabilityValue(num_examples=5.0, probability=[1.0, 0.0])), neg_child=Leaf(value=ProbabilityValue(num_examples=6.0, probability=[0.16666666666666666, 0.8333333333333334]))))), neg_child=NonLeaf(value=ProbabilityValue(num_examples=220.0, probability=[0.4681818181818182, 0.5318181818181819]), condition=NumericalSparseObliqueCondition(missing=False, score=0.04177757725119591, attributes=[1, 45], weights=[1.0, 1.0], threshold=1.3038599491119385), pos_child=NonLeaf(value=ProbabilityValue(num_examples=119.0, probability=[0.33613445378151263, 0.6638655462184874]), condition=NumericalSparseObliqueCondition(missing=False, score=0.048083893954753876, attributes=[45], weights=[1.0], threshold=-0.23275096714496613), pos_child=NonLeaf(value=ProbabilityValue(num_examples=106.0, probability=[0.37735849056603776, 0.6226415094339622]), condition=NumericalSparseObliqueCondition(missing=False, score=0.0428793765604496, attributes=[16, 42], weights=[-1.0, -1.0], threshold=1.1077957153320312), pos_child=Leaf(value=ProbabilityValue(num_examples=21.0, probability=[0.6666666666666666, 0.3333333333333333])), neg_child=NonLeaf(value=ProbabilityValue(num_examples=85.0, probability=[0.3058823529411765, 0.6941176470588235]), condition=NumericalSparseObliqueCondition(missing=False, score=0.06370188295841217, attributes=[2, 3, 10, 38], weights=[1.0, 1.0, 1.0, -1.0], threshold=0.28792309761047363), pos_child=Leaf(value=ProbabilityValue(num_examples=42.0, probability=[0.14285714285714285, 0.8571428571428571])), neg_child=Leaf(value=ProbabilityValue(num_examples=43.0, probability=[0.46511627906976744, 0.5348837209302325])))), neg_child=Leaf(value=ProbabilityValue(num_examples=13.0, probability=[0.0, 1.0]))), neg_child=NonLeaf(value=ProbabilityValue(num_examples=101.0, probability=[0.6237623762376238, 0.37623762376237624]), condition=NumericalSparseObliqueCondition(missing=False, score=0.057067908346652985, attributes=[2, 9, 20, 22], weights=[-1.0, -1.0, 1.0, -1.0], threshold=1.000396966934204), pos_child=Leaf(value=ProbabilityValue(num_examples=26.0, probability=[0.8846153846153846, 0.11538461538461539])), neg_child=Leaf(value=ProbabilityValue(num_examples=75.0, probability=[0.5333333333333333, 0.4666666666666667]))))))), neg_child=NonLeaf(value=ProbabilityValue(num_examples=754.0, probability=[0.7360742705570292, 0.2639257294429708]), condition=NumericalSparseObliqueCondition(missing=False, score=0.010930984281003475, attributes=[26], weights=[1.0], threshold=0.23298601806163788), pos_child=NonLeaf(value=ProbabilityValue(num_examples=328.0, probability=[0.6615853658536586, 0.3384146341463415]), condition=NumericalSparseObliqueCondition(missing=False, score=0.03808388113975525, attributes=[4, 29], weights=[-1.0, -1.0], threshold=-0.15971523523330688), pos_child=NonLeaf(value=ProbabilityValue(num_examples=157.0, probability=[0.7961783439490446, 0.20382165605095542]), condition=NumericalSparseObliqueCondition(missing=False, score=0.04781448096036911, attributes=[5], weights=[1.0], threshold=-0.4354361891746521), pos_child=NonLeaf(value=ProbabilityValue(num_examples=107.0, probability=[0.719626168224299, 0.2803738317757009]), condition=NumericalSparseObliqueCondition(missing=False, score=0.04200979694724083, attributes=[38], weights=[1.0], threshold=-0.7135832905769348), pos_child=Leaf(value=ProbabilityValue(num_examples=86.0, probability=[0.6627906976744186, 0.3372093023255814])), neg_child=NonLeaf(value=ProbabilityValue(num_examples=21.0, probability=[0.9523809523809523, 0.047619047619047616]), condition=NumericalSparseObliqueCondition(missing=False, score=0.19144409894943237, attributes=[12, 22, 24], weights=[-1.0, 1.0, -1.0], threshold=-2.839346408843994), pos_child=Leaf(value=ProbabilityValue(num_examples=20.0, probability=[1.0, 0.0])), neg_child=Leaf(value=ProbabilityValue(num_examples=1.0, probability=[0.0, 1.0])))), neg_child=NonLeaf(value=ProbabilityValue(num_examples=50.0, probability=[0.96, 0.04]), condition=NumericalSparseObliqueCondition(missing=False, score=0.12975332140922546, attributes=[2], weights=[1.0], threshold=1.8122159242630005), pos_child=Leaf(value=ProbabilityValue(num_examples=3.0, probability=[0.3333333333333333, 0.6666666666666666])), neg_child=Leaf(value=ProbabilityValue(num_examples=47.0, probability=[1.0, 0.0])))), neg_child=NonLeaf(value=ProbabilityValue(num_examples=171.0, probability=[0.5380116959064327, 0.4619883040935672]), condition=NumericalSparseObliqueCondition(missing=False, score=0.030835624784231186, attributes=[5, 22], weights=[-1.0, -1.0], threshold=0.33037063479423523), pos_child=Leaf(value=ProbabilityValue(num_examples=63.0, probability=[0.6984126984126984, 0.30158730158730157])), neg_child=NonLeaf(value=ProbabilityValue(num_examples=108.0, probability=[0.4444444444444444, 0.5555555555555556]), condition=NumericalSparseObliqueCondition(missing=False, score=0.07619568705558777, attributes=[2, 14], weights=[-1.0, -1.0], threshold=-0.5214592218399048), pos_child=NonLeaf(value=ProbabilityValue(num_examples=51.0, probability=[0.6470588235294118, 0.35294117647058826]), condition=NumericalSparseObliqueCondition(missing=False, score=0.08796630054712296, attributes=[3], weights=[1.0], threshold=1.3549079895019531), pos_child=Leaf(value=ProbabilityValue(num_examples=4.0, probability=[0.0, 1.0])), neg_child=Leaf(value=ProbabilityValue(num_examples=47.0, probability=[0.7021276595744681, 0.2978723404255319]))), neg_child=NonLeaf(value=ProbabilityValue(num_examples=57.0, probability=[0.2631578947368421, 0.7368421052631579]), condition=NumericalSparseObliqueCondition(missing=False, score=0.0745072141289711, attributes=[22, 23, 25], weights=[-1.0, 1.0, 1.0], threshold=-2.695805072784424), pos_child=NonLeaf(value=ProbabilityValue(num_examples=54.0, probability=[0.2222222222222222, 0.7777777777777778]), condition=NumericalSparseObliqueCondition(missing=False, score=0.09177027642726898, attributes=[3], weights=[1.0], threshold=0.6679322123527527), pos_child=NonLeaf(value=ProbabilityValue(num_examples=30.0, probability=[0.06666666666666667, 0.9333333333333333]), condition=NumericalSparseObliqueCondition(missing=False, score=0.1327614039182663, attributes=[6, 25], weights=[-1.0, 1.0], threshold=-1.9397896528244019), pos_child=Leaf(value=ProbabilityValue(num_examples=25.0, probability=[0.0, 1.0])), neg_child=NonLeaf(value=ProbabilityValue(num_examples=5.0, probability=[0.4, 0.6]), condition=NumericalSparseObliqueCondition(missing=False, score=0.6730116605758667, attributes=[29], weights=[1.0], threshold=1.1135663986206055), pos_child=Leaf(value=ProbabilityValue(num_examples=2.0, probability=[1.0, 0.0])), neg_child=Leaf(value=ProbabilityValue(num_examples=3.0, probability=[0.0, 1.0])))), neg_child=Leaf(value=ProbabilityValue(num_examples=24.0, probability=[0.4166666666666667, 0.5833333333333334]))), neg_child=Leaf(value=ProbabilityValue(num_examples=3.0, probability=[1.0, 0.0])))))), neg_child=NonLeaf(value=ProbabilityValue(num_examples=426.0, probability=[0.7934272300469484, 0.20657276995305165]), condition=NumericalSparseObliqueCondition(missing=False, score=0.023248229175806046, attributes=[7, 23], weights=[-1.0, -1.0], threshold=0.01499667763710022), pos_child=Leaf(value=ProbabilityValue(num_examples=178.0, probability=[0.8932584269662921, 0.10674157303370786])), neg_child=NonLeaf(value=ProbabilityValue(num_examples=248.0, probability=[0.7217741935483871, 0.2782258064516129]), condition=NumericalSparseObliqueCondition(missing=False, score=0.028096351772546768, attributes=[10], weights=[1.0], threshold=-0.0010148943401873112), pos_child=NonLeaf(value=ProbabilityValue(num_examples=141.0, probability=[0.6312056737588653, 0.36879432624113473]), condition=NumericalSparseObliqueCondition(missing=False, score=0.02915658801794052, attributes=[13, 33], weights=[-1.0, -1.0], threshold=1.7719850540161133), pos_child=Leaf(value=ProbabilityValue(num_examples=15.0, probability=[0.9333333333333333, 0.06666666666666667])), neg_child=Leaf(value=ProbabilityValue(num_examples=126.0, probability=[0.5952380952380952, 0.40476190476190477]))), neg_child=NonLeaf(value=ProbabilityValue(num_examples=107.0, probability=[0.8411214953271028, 0.1588785046728972]), condition=NumericalSparseObliqueCondition(missing=False, score=0.04885939136147499, attributes=[13], weights=[1.0], threshold=-0.5069157481193542), pos_child=Leaf(value=ProbabilityValue(num_examples=81.0, probability=[0.7901234567901234, 0.20987654320987653])), neg_child=Leaf(value=ProbabilityValue(num_examples=26.0, probability=[1.0, 0.0])))))))\n",
      "53\n"
     ]
    },
    {
     "name": "stderr",
     "output_type": "stream",
     "text": [
      "c:\\Users\\clark\\anaconda3\\envs\\catboost_env\\lib\\site-packages\\treeple\\datasets\\hyppo.py:515: RuntimeWarning: Number of informative dimensions {n_informative} must be less than number of dimensions, 50. Setting n_informative to n_dim.\n",
      "  warnings.warn(\n"
     ]
    },
    {
     "data": {
      "text/plain": [
       "(30, 48)"
      ]
     },
     "execution_count": 180,
     "metadata": {},
     "output_type": "execute_result"
    }
   ],
   "source": [
    "projection_matrix, proj_dim, n_nonzeros , _, sample_model = extract_projections_pipline(params_ydf,\n",
    "                                                n_sample=2000, \n",
    "                                                n_estimator=5, \n",
    "                                                n_dim=50, \n",
    "                                                max_feature=3, \n",
    "                                                feature_combination=1.5,\n",
    "                                                exponent=1.0)\n",
    "print(n_nonzeros)\n",
    "projection_matrix.shape"
   ]
  },
  {
   "cell_type": "code",
   "execution_count": 181,
   "metadata": {},
   "outputs": [
    {
     "data": {
      "text/plain": [
       "NonLeaf(value=ProbabilityValue(num_examples=1600.0, probability=[0.5, 0.5]), condition=NumericalSparseObliqueCondition(missing=False, score=0.10298066586256027, attributes=[1], weights=[1.0], threshold=0.40478795766830444), pos_child=NonLeaf(value=ProbabilityValue(num_examples=846.0, probability=[0.2895981087470449, 0.710401891252955]), condition=NumericalSparseObliqueCondition(missing=False, score=0.0385918952524662, attributes=[3, 4, 31], weights=[1.0, 1.0, 1.0], threshold=0.25276243686676025), pos_child=NonLeaf(value=ProbabilityValue(num_examples=557.0, probability=[0.19748653500897667, 0.8025134649910234]), condition=NumericalSparseObliqueCondition(missing=False, score=0.007645494304597378, attributes=[33, 41], weights=[-1.0, -1.0], threshold=3.1825172901153564), pos_child=Leaf(value=ProbabilityValue(num_examples=5.0, probability=[0.8, 0.2])), neg_child=Leaf(value=ProbabilityValue(num_examples=552.0, probability=[0.19202898550724637, 0.8079710144927537]))), neg_child=NonLeaf(value=ProbabilityValue(num_examples=289.0, probability=[0.4671280276816609, 0.532871972318339]), condition=NumericalSparseObliqueCondition(missing=False, score=0.024517584592103958, attributes=[31], weights=[1.0], threshold=0.4699402451515198), pos_child=Leaf(value=ProbabilityValue(num_examples=34.0, probability=[0.7647058823529411, 0.23529411764705882])), neg_child=NonLeaf(value=ProbabilityValue(num_examples=255.0, probability=[0.42745098039215684, 0.5725490196078431]), condition=NumericalSparseObliqueCondition(missing=False, score=0.0234394371509552, attributes=[15], weights=[1.0], threshold=1.2561700344085693), pos_child=NonLeaf(value=ProbabilityValue(num_examples=35.0, probability=[0.17142857142857143, 0.8285714285714286]), condition=NumericalSparseObliqueCondition(missing=False, score=0.14279498159885406, attributes=[12], weights=[1.0], threshold=-0.12486439943313599), pos_child=Leaf(value=ProbabilityValue(num_examples=18.0, probability=[0.0, 1.0])), neg_child=NonLeaf(value=ProbabilityValue(num_examples=17.0, probability=[0.35294117647058826, 0.6470588235294118]), condition=NumericalSparseObliqueCondition(missing=False, score=0.20341885089874268, attributes=[36], weights=[1.0], threshold=0.44248729944229126), pos_child=Leaf(value=ProbabilityValue(num_examples=6.0, probability=[0.0, 1.0])), neg_child=NonLeaf(value=ProbabilityValue(num_examples=11.0, probability=[0.5454545454545454, 0.45454545454545453]), condition=NumericalSparseObliqueCondition(missing=False, score=0.44324856996536255, attributes=[23, 36, 47], weights=[1.0, -1.0, 1.0], threshold=0.49145805835723877), pos_child=Leaf(value=ProbabilityValue(num_examples=5.0, probability=[1.0, 0.0])), neg_child=Leaf(value=ProbabilityValue(num_examples=6.0, probability=[0.16666666666666666, 0.8333333333333334]))))), neg_child=NonLeaf(value=ProbabilityValue(num_examples=220.0, probability=[0.4681818181818182, 0.5318181818181819]), condition=NumericalSparseObliqueCondition(missing=False, score=0.04177757725119591, attributes=[1, 45], weights=[1.0, 1.0], threshold=1.3038599491119385), pos_child=NonLeaf(value=ProbabilityValue(num_examples=119.0, probability=[0.33613445378151263, 0.6638655462184874]), condition=NumericalSparseObliqueCondition(missing=False, score=0.048083893954753876, attributes=[45], weights=[1.0], threshold=-0.23275096714496613), pos_child=NonLeaf(value=ProbabilityValue(num_examples=106.0, probability=[0.37735849056603776, 0.6226415094339622]), condition=NumericalSparseObliqueCondition(missing=False, score=0.0428793765604496, attributes=[16, 42], weights=[-1.0, -1.0], threshold=1.1077957153320312), pos_child=Leaf(value=ProbabilityValue(num_examples=21.0, probability=[0.6666666666666666, 0.3333333333333333])), neg_child=NonLeaf(value=ProbabilityValue(num_examples=85.0, probability=[0.3058823529411765, 0.6941176470588235]), condition=NumericalSparseObliqueCondition(missing=False, score=0.06370188295841217, attributes=[2, 3, 10, 38], weights=[1.0, 1.0, 1.0, -1.0], threshold=0.28792309761047363), pos_child=Leaf(value=ProbabilityValue(num_examples=42.0, probability=[0.14285714285714285, 0.8571428571428571])), neg_child=Leaf(value=ProbabilityValue(num_examples=43.0, probability=[0.46511627906976744, 0.5348837209302325])))), neg_child=Leaf(value=ProbabilityValue(num_examples=13.0, probability=[0.0, 1.0]))), neg_child=NonLeaf(value=ProbabilityValue(num_examples=101.0, probability=[0.6237623762376238, 0.37623762376237624]), condition=NumericalSparseObliqueCondition(missing=False, score=0.057067908346652985, attributes=[2, 9, 20, 22], weights=[-1.0, -1.0, 1.0, -1.0], threshold=1.000396966934204), pos_child=Leaf(value=ProbabilityValue(num_examples=26.0, probability=[0.8846153846153846, 0.11538461538461539])), neg_child=Leaf(value=ProbabilityValue(num_examples=75.0, probability=[0.5333333333333333, 0.4666666666666667]))))))), neg_child=NonLeaf(value=ProbabilityValue(num_examples=754.0, probability=[0.7360742705570292, 0.2639257294429708]), condition=NumericalSparseObliqueCondition(missing=False, score=0.010930984281003475, attributes=[26], weights=[1.0], threshold=0.23298601806163788), pos_child=NonLeaf(value=ProbabilityValue(num_examples=328.0, probability=[0.6615853658536586, 0.3384146341463415]), condition=NumericalSparseObliqueCondition(missing=False, score=0.03808388113975525, attributes=[4, 29], weights=[-1.0, -1.0], threshold=-0.15971523523330688), pos_child=NonLeaf(value=ProbabilityValue(num_examples=157.0, probability=[0.7961783439490446, 0.20382165605095542]), condition=NumericalSparseObliqueCondition(missing=False, score=0.04781448096036911, attributes=[5], weights=[1.0], threshold=-0.4354361891746521), pos_child=NonLeaf(value=ProbabilityValue(num_examples=107.0, probability=[0.719626168224299, 0.2803738317757009]), condition=NumericalSparseObliqueCondition(missing=False, score=0.04200979694724083, attributes=[38], weights=[1.0], threshold=-0.7135832905769348), pos_child=Leaf(value=ProbabilityValue(num_examples=86.0, probability=[0.6627906976744186, 0.3372093023255814])), neg_child=NonLeaf(value=ProbabilityValue(num_examples=21.0, probability=[0.9523809523809523, 0.047619047619047616]), condition=NumericalSparseObliqueCondition(missing=False, score=0.19144409894943237, attributes=[12, 22, 24], weights=[-1.0, 1.0, -1.0], threshold=-2.839346408843994), pos_child=Leaf(value=ProbabilityValue(num_examples=20.0, probability=[1.0, 0.0])), neg_child=Leaf(value=ProbabilityValue(num_examples=1.0, probability=[0.0, 1.0])))), neg_child=NonLeaf(value=ProbabilityValue(num_examples=50.0, probability=[0.96, 0.04]), condition=NumericalSparseObliqueCondition(missing=False, score=0.12975332140922546, attributes=[2], weights=[1.0], threshold=1.8122159242630005), pos_child=Leaf(value=ProbabilityValue(num_examples=3.0, probability=[0.3333333333333333, 0.6666666666666666])), neg_child=Leaf(value=ProbabilityValue(num_examples=47.0, probability=[1.0, 0.0])))), neg_child=NonLeaf(value=ProbabilityValue(num_examples=171.0, probability=[0.5380116959064327, 0.4619883040935672]), condition=NumericalSparseObliqueCondition(missing=False, score=0.030835624784231186, attributes=[5, 22], weights=[-1.0, -1.0], threshold=0.33037063479423523), pos_child=Leaf(value=ProbabilityValue(num_examples=63.0, probability=[0.6984126984126984, 0.30158730158730157])), neg_child=NonLeaf(value=ProbabilityValue(num_examples=108.0, probability=[0.4444444444444444, 0.5555555555555556]), condition=NumericalSparseObliqueCondition(missing=False, score=0.07619568705558777, attributes=[2, 14], weights=[-1.0, -1.0], threshold=-0.5214592218399048), pos_child=NonLeaf(value=ProbabilityValue(num_examples=51.0, probability=[0.6470588235294118, 0.35294117647058826]), condition=NumericalSparseObliqueCondition(missing=False, score=0.08796630054712296, attributes=[3], weights=[1.0], threshold=1.3549079895019531), pos_child=Leaf(value=ProbabilityValue(num_examples=4.0, probability=[0.0, 1.0])), neg_child=Leaf(value=ProbabilityValue(num_examples=47.0, probability=[0.7021276595744681, 0.2978723404255319]))), neg_child=NonLeaf(value=ProbabilityValue(num_examples=57.0, probability=[0.2631578947368421, 0.7368421052631579]), condition=NumericalSparseObliqueCondition(missing=False, score=0.0745072141289711, attributes=[22, 23, 25], weights=[-1.0, 1.0, 1.0], threshold=-2.695805072784424), pos_child=NonLeaf(value=ProbabilityValue(num_examples=54.0, probability=[0.2222222222222222, 0.7777777777777778]), condition=NumericalSparseObliqueCondition(missing=False, score=0.09177027642726898, attributes=[3], weights=[1.0], threshold=0.6679322123527527), pos_child=NonLeaf(value=ProbabilityValue(num_examples=30.0, probability=[0.06666666666666667, 0.9333333333333333]), condition=NumericalSparseObliqueCondition(missing=False, score=0.1327614039182663, attributes=[6, 25], weights=[-1.0, 1.0], threshold=-1.9397896528244019), pos_child=Leaf(value=ProbabilityValue(num_examples=25.0, probability=[0.0, 1.0])), neg_child=NonLeaf(value=ProbabilityValue(num_examples=5.0, probability=[0.4, 0.6]), condition=NumericalSparseObliqueCondition(missing=False, score=0.6730116605758667, attributes=[29], weights=[1.0], threshold=1.1135663986206055), pos_child=Leaf(value=ProbabilityValue(num_examples=2.0, probability=[1.0, 0.0])), neg_child=Leaf(value=ProbabilityValue(num_examples=3.0, probability=[0.0, 1.0])))), neg_child=Leaf(value=ProbabilityValue(num_examples=24.0, probability=[0.4166666666666667, 0.5833333333333334]))), neg_child=Leaf(value=ProbabilityValue(num_examples=3.0, probability=[1.0, 0.0])))))), neg_child=NonLeaf(value=ProbabilityValue(num_examples=426.0, probability=[0.7934272300469484, 0.20657276995305165]), condition=NumericalSparseObliqueCondition(missing=False, score=0.023248229175806046, attributes=[7, 23], weights=[-1.0, -1.0], threshold=0.01499667763710022), pos_child=Leaf(value=ProbabilityValue(num_examples=178.0, probability=[0.8932584269662921, 0.10674157303370786])), neg_child=NonLeaf(value=ProbabilityValue(num_examples=248.0, probability=[0.7217741935483871, 0.2782258064516129]), condition=NumericalSparseObliqueCondition(missing=False, score=0.028096351772546768, attributes=[10], weights=[1.0], threshold=-0.0010148943401873112), pos_child=NonLeaf(value=ProbabilityValue(num_examples=141.0, probability=[0.6312056737588653, 0.36879432624113473]), condition=NumericalSparseObliqueCondition(missing=False, score=0.02915658801794052, attributes=[13, 33], weights=[-1.0, -1.0], threshold=1.7719850540161133), pos_child=Leaf(value=ProbabilityValue(num_examples=15.0, probability=[0.9333333333333333, 0.06666666666666667])), neg_child=Leaf(value=ProbabilityValue(num_examples=126.0, probability=[0.5952380952380952, 0.40476190476190477]))), neg_child=NonLeaf(value=ProbabilityValue(num_examples=107.0, probability=[0.8411214953271028, 0.1588785046728972]), condition=NumericalSparseObliqueCondition(missing=False, score=0.04885939136147499, attributes=[13], weights=[1.0], threshold=-0.5069157481193542), pos_child=Leaf(value=ProbabilityValue(num_examples=81.0, probability=[0.7901234567901234, 0.20987654320987653])), neg_child=Leaf(value=ProbabilityValue(num_examples=26.0, probability=[1.0, 0.0])))))))"
      ]
     },
     "execution_count": 181,
     "metadata": {},
     "output_type": "execute_result"
    }
   ],
   "source": [
    "sample_model.get_all_trees()[0].root"
   ]
  },
  {
   "cell_type": "code",
   "execution_count": null,
   "metadata": {},
   "outputs": [],
   "source": [
    "sample_model.get_all_trees()"
   ]
  },
  {
   "cell_type": "markdown",
   "metadata": {},
   "source": [
    "## Let's look at treeple"
   ]
  },
  {
   "cell_type": "code",
   "execution_count": 153,
   "metadata": {},
   "outputs": [],
   "source": [
    "from treeple import ObliqueRandomForestClassifier"
   ]
  },
  {
   "cell_type": "code",
   "execution_count": 154,
   "metadata": {},
   "outputs": [],
   "source": [
    "\n",
    "### treeple ObliqueRandomForestClassifier ###\n",
    "params_treeple = {}\n",
    "params_treeple[\"n_estimators\"] = N_ESTIMATORS\n",
    "params_treeple[\"criterion\"] = \"entropy\"\n",
    "params_treeple[\"max_depth\"] = MAX_DEPTH\n",
    "params_treeple[\"min_samples_split\"] = 2\n",
    "params_treeple[\"min_samples_leaf\"] = 1\n",
    "params_treeple[\"min_weight_fraction_leaf\"] = 0.0\n",
    "params_treeple[\"max_features\"] = MAX_FEATURE\n",
    "params_treeple[\"max_leaf_nodes\"] = None\n",
    "params_treeple[\"min_impurity_decrease\"] = 0.0\n",
    "params_treeple[\"bootstrap\"] = BOOTSTRAP\n",
    "params_treeple[\"oob_score\"] = False\n",
    "params_treeple[\"n_jobs\"] = N_JOBS\n",
    "params_treeple[\"random_state\"] = RANDOM_SEED\n",
    "params_treeple[\"verbose\"] = 0\n",
    "params_treeple[\"warm_start\"] = False\n",
    "params_treeple[\"class_weight\"] = None\n",
    "params_treeple[\"max_samples\"] = None\n",
    "params_treeple[\"feature_combinations\"] = FEATURE_COMBINATIONS\n"
   ]
  },
  {
   "cell_type": "code",
   "execution_count": 156,
   "metadata": {},
   "outputs": [],
   "source": [
    "treeple_model = ObliqueRandomForestClassifier(**params_treeple)\n",
    "treeple_model.fit(X_train, y_train)\n",
    "treeple_estimators = treeple_model.estimators_"
   ]
  },
  {
   "cell_type": "code",
   "execution_count": 166,
   "metadata": {},
   "outputs": [],
   "source": [
    "import sklearn"
   ]
  },
  {
   "cell_type": "code",
   "execution_count": 167,
   "metadata": {},
   "outputs": [
    {
     "name": "stdout",
     "output_type": "stream",
     "text": [
      "Help on class Tree in module sklearn.tree._tree:\n",
      "\n",
      "class Tree(builtins.object)\n",
      " |  Array-based representation of a binary decision tree.\n",
      " |  \n",
      " |  The binary tree is represented as a number of parallel arrays. The i-th\n",
      " |  element of each array holds information about the node `i`. Node 0 is the\n",
      " |  tree's root. You can find a detailed description of all arrays in\n",
      " |  `_tree.pxd`. NOTE: Some of the arrays only apply to either leaves or split\n",
      " |  nodes, resp. In this case the values of nodes of the other type are\n",
      " |  arbitrary!\n",
      " |  \n",
      " |  Attributes\n",
      " |  ----------\n",
      " |  node_count : intp_t\n",
      " |      The number of nodes (internal nodes + leaves) in the tree.\n",
      " |  \n",
      " |  capacity : intp_t\n",
      " |      The current capacity (i.e., size) of the arrays, which is at least as\n",
      " |      great as `node_count`.\n",
      " |  \n",
      " |  max_depth : intp_t\n",
      " |      The depth of the tree, i.e. the maximum depth of its leaves.\n",
      " |  \n",
      " |  children_left : array of intp_t, shape [node_count]\n",
      " |      children_left[i] holds the node id of the left child of node i.\n",
      " |      For leaves, children_left[i] == TREE_LEAF. Otherwise,\n",
      " |      children_left[i] > i. This child handles the case where\n",
      " |      X[:, feature[i]] <= threshold[i].\n",
      " |  \n",
      " |  children_right : array of intp_t, shape [node_count]\n",
      " |      children_right[i] holds the node id of the right child of node i.\n",
      " |      For leaves, children_right[i] == TREE_LEAF. Otherwise,\n",
      " |      children_right[i] > i. This child handles the case where\n",
      " |      X[:, feature[i]] > threshold[i].\n",
      " |  \n",
      " |  n_leaves : intp_t\n",
      " |      Number of leaves in the tree.\n",
      " |  \n",
      " |  feature : array of intp_t, shape [node_count]\n",
      " |      feature[i] holds the feature to split on, for the internal node i.\n",
      " |  \n",
      " |  threshold : array of float64_t, shape [node_count]\n",
      " |      threshold[i] holds the threshold for the internal node i.\n",
      " |  \n",
      " |  value : array of float64_t, shape [node_count, n_outputs, max_n_classes]\n",
      " |      Contains the constant prediction value of each node.\n",
      " |  \n",
      " |  impurity : array of float64_t, shape [node_count]\n",
      " |      impurity[i] holds the impurity (i.e., the value of the splitting\n",
      " |      criterion) at node i.\n",
      " |  \n",
      " |  n_node_samples : array of intp_t, shape [node_count]\n",
      " |      n_node_samples[i] holds the number of training samples reaching node i.\n",
      " |  \n",
      " |  weighted_n_node_samples : array of float64_t, shape [node_count]\n",
      " |      weighted_n_node_samples[i] holds the weighted number of training samples\n",
      " |      reaching node i.\n",
      " |  \n",
      " |  missing_go_to_left : array of bool, shape [node_count]\n",
      " |      missing_go_to_left[i] holds a bool indicating whether or not there were\n",
      " |      missing values at node i.\n",
      " |  \n",
      " |  Methods defined here:\n",
      " |  \n",
      " |  __getstate__(self)\n",
      " |      Getstate re-implementation, for pickling.\n",
      " |  \n",
      " |  __reduce__(self)\n",
      " |      Reduce re-implementation, for pickling.\n",
      " |  \n",
      " |  __setstate__(self, d)\n",
      " |      Setstate re-implementation, for unpickling.\n",
      " |  \n",
      " |  apply(self, X)\n",
      " |      Finds the terminal region (=leaf node) for each sample in X.\n",
      " |  \n",
      " |  compute_feature_importances(self, normalize=True)\n",
      " |      Computes the importance of each feature (aka variable).\n",
      " |  \n",
      " |  compute_node_depths(self)\n",
      " |      Compute the depth of each node in a tree.\n",
      " |      \n",
      " |      .. versionadded:: 1.3\n",
      " |      \n",
      " |      Returns\n",
      " |      -------\n",
      " |      depths : ndarray of shape (self.node_count,), dtype=np.int64\n",
      " |          The depth of each node in the tree.\n",
      " |  \n",
      " |  compute_partial_dependence(self, X, target_features, out)\n",
      " |      Partial dependence of the response on the ``target_feature`` set.\n",
      " |      \n",
      " |      For each sample in ``X`` a tree traversal is performed.\n",
      " |      Each traversal starts from the root with weight 1.0.\n",
      " |      \n",
      " |      At each non-leaf node that splits on a target feature, either\n",
      " |      the left child or the right child is visited based on the feature\n",
      " |      value of the current sample, and the weight is not modified.\n",
      " |      At each non-leaf node that splits on a complementary feature,\n",
      " |      both children are visited and the weight is multiplied by the fraction\n",
      " |      of training samples which went to each child.\n",
      " |      \n",
      " |      At each leaf, the value of the node is multiplied by the current\n",
      " |      weight (weights sum to 1 for all visited terminal nodes).\n",
      " |      \n",
      " |      Parameters\n",
      " |      ----------\n",
      " |      X : view on 2d ndarray, shape (n_samples, n_target_features)\n",
      " |          The grid points on which the partial dependence should be\n",
      " |          evaluated.\n",
      " |      target_features : view on 1d ndarray, shape (n_target_features)\n",
      " |          The set of target features for which the partial dependence\n",
      " |          should be evaluated.\n",
      " |      out : view on 1d ndarray, shape (n_samples)\n",
      " |          The value of the partial dependence function on each grid\n",
      " |          point.\n",
      " |  \n",
      " |  decision_path(self, X)\n",
      " |      Finds the decision path (=node) for each sample in X.\n",
      " |  \n",
      " |  predict(self, X)\n",
      " |      Predict target for X.\n",
      " |  \n",
      " |  ----------------------------------------------------------------------\n",
      " |  Static methods defined here:\n",
      " |  \n",
      " |  __new__(*args, **kwargs) from builtins.type\n",
      " |      Create and return a new object.  See help(type) for accurate signature.\n",
      " |  \n",
      " |  ----------------------------------------------------------------------\n",
      " |  Data descriptors defined here:\n",
      " |  \n",
      " |  capacity\n",
      " |  \n",
      " |  children_left\n",
      " |  \n",
      " |  children_right\n",
      " |  \n",
      " |  feature\n",
      " |  \n",
      " |  impurity\n",
      " |  \n",
      " |  max_depth\n",
      " |  \n",
      " |  max_n_classes\n",
      " |  \n",
      " |  missing_go_to_left\n",
      " |  \n",
      " |  n_classes\n",
      " |  \n",
      " |  n_features\n",
      " |  \n",
      " |  n_leaves\n",
      " |  \n",
      " |  n_node_samples\n",
      " |  \n",
      " |  n_outputs\n",
      " |  \n",
      " |  node_count\n",
      " |  \n",
      " |  threshold\n",
      " |  \n",
      " |  value\n",
      " |  \n",
      " |  weighted_n_node_samples\n",
      " |  \n",
      " |  ----------------------------------------------------------------------\n",
      " |  Data and other attributes defined here:\n",
      " |  \n",
      " |  __pyx_vtable__ = <capsule object NULL>\n",
      "\n"
     ]
    }
   ],
   "source": [
    "help(sklearn.tree._tree.Tree)"
   ]
  },
  {
   "cell_type": "code",
   "execution_count": 258,
   "metadata": {},
   "outputs": [
    {
     "data": {
      "text/plain": [
       "-0.770844429731369"
      ]
     },
     "execution_count": 258,
     "metadata": {},
     "output_type": "execute_result"
    }
   ],
   "source": [
    "treeple_estimators[0].tree_.threshold[0]"
   ]
  },
  {
   "cell_type": "code",
   "execution_count": 171,
   "metadata": {},
   "outputs": [
    {
     "data": {
      "text/plain": [
       "8"
      ]
     },
     "execution_count": 171,
     "metadata": {},
     "output_type": "execute_result"
    }
   ],
   "source": [
    "treeple_estimators[0].tree_.feature[1]"
   ]
  }
 ],
 "metadata": {
  "kernelspec": {
   "display_name": "catboost_env",
   "language": "python",
   "name": "python3"
  },
  "language_info": {
   "codemirror_mode": {
    "name": "ipython",
    "version": 3
   },
   "file_extension": ".py",
   "mimetype": "text/x-python",
   "name": "python",
   "nbconvert_exporter": "python",
   "pygments_lexer": "ipython3",
   "version": "3.10.16"
  }
 },
 "nbformat": 4,
 "nbformat_minor": 2
}
