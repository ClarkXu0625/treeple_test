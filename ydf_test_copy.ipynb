{
 "cells": [
  {
   "cell_type": "code",
   "execution_count": 1,
   "metadata": {},
   "outputs": [],
   "source": [
    "import yggdrasilDecisionForests.yggdrasil_decision_forests as ydf\n"
   ]
  },
  {
   "cell_type": "markdown",
   "metadata": {},
   "source": [
    "treeple1 environment"
   ]
  },
  {
   "cell_type": "code",
   "execution_count": 2,
   "metadata": {},
   "outputs": [
    {
     "name": "stdout",
     "output_type": "stream",
     "text": [
      "Collecting ydf\n",
      "  Downloading ydf-0.11.0-cp310-cp310-macosx_12_0_arm64.whl.metadata (3.5 kB)\n",
      "Requirement already satisfied: numpy in /Users/apple/opt/miniconda3/envs/treeple1/lib/python3.10/site-packages (from ydf) (2.2.4)\n",
      "Collecting absl_py (from ydf)\n",
      "  Downloading absl_py-2.2.2-py3-none-any.whl.metadata (2.6 kB)\n",
      "Collecting protobuf<6.0.0,>=5.29.1 (from ydf)\n",
      "  Downloading protobuf-5.29.4-cp38-abi3-macosx_10_9_universal2.whl.metadata (592 bytes)\n",
      "Downloading ydf-0.11.0-cp310-cp310-macosx_12_0_arm64.whl (8.9 MB)\n",
      "\u001b[2K   \u001b[90m━━━━━━━━━━━━━━━━━━━━━━━━━━━━━━━━━━━━━━━━\u001b[0m \u001b[32m8.9/8.9 MB\u001b[0m \u001b[31m41.5 MB/s\u001b[0m eta \u001b[36m0:00:00\u001b[0ma \u001b[36m0:00:01\u001b[0m\n",
      "\u001b[?25hDownloading protobuf-5.29.4-cp38-abi3-macosx_10_9_universal2.whl (417 kB)\n",
      "Downloading absl_py-2.2.2-py3-none-any.whl (135 kB)\n",
      "Installing collected packages: protobuf, absl_py, ydf\n",
      "Successfully installed absl_py-2.2.2 protobuf-5.29.4 ydf-0.11.0\n"
     ]
    }
   ],
   "source": [
    "! pip install ydf"
   ]
  },
  {
   "cell_type": "code",
   "execution_count": 1,
   "metadata": {},
   "outputs": [],
   "source": [
    "import ydf"
   ]
  },
  {
   "cell_type": "code",
   "execution_count": 4,
   "metadata": {},
   "outputs": [
    {
     "name": "stdout",
     "output_type": "stream",
     "text": [
      "Collecting pandas\n",
      "  Using cached pandas-2.2.3-cp310-cp310-macosx_11_0_arm64.whl.metadata (89 kB)\n",
      "Requirement already satisfied: numpy>=1.22.4 in /Users/apple/opt/miniconda3/envs/treeple1/lib/python3.10/site-packages (from pandas) (2.2.4)\n",
      "Requirement already satisfied: python-dateutil>=2.8.2 in /Users/apple/opt/miniconda3/envs/treeple1/lib/python3.10/site-packages (from pandas) (2.9.0.post0)\n",
      "Collecting pytz>=2020.1 (from pandas)\n",
      "  Using cached pytz-2025.2-py2.py3-none-any.whl.metadata (22 kB)\n",
      "Collecting tzdata>=2022.7 (from pandas)\n",
      "  Using cached tzdata-2025.2-py2.py3-none-any.whl.metadata (1.4 kB)\n",
      "Requirement already satisfied: six>=1.5 in /Users/apple/opt/miniconda3/envs/treeple1/lib/python3.10/site-packages (from python-dateutil>=2.8.2->pandas) (1.17.0)\n",
      "Using cached pandas-2.2.3-cp310-cp310-macosx_11_0_arm64.whl (11.3 MB)\n",
      "Using cached pytz-2025.2-py2.py3-none-any.whl (509 kB)\n",
      "Using cached tzdata-2025.2-py2.py3-none-any.whl (347 kB)\n",
      "Installing collected packages: pytz, tzdata, pandas\n",
      "Successfully installed pandas-2.2.3 pytz-2025.2 tzdata-2025.2\n"
     ]
    }
   ],
   "source": [
    "! pip install pandas"
   ]
  },
  {
   "cell_type": "code",
   "execution_count": 2,
   "metadata": {},
   "outputs": [],
   "source": [
    "import treeple\n",
    "from treeple.datasets import make_trunk_classification\n",
    "import pandas as pd\n",
    "import time\n",
    "from sklearn.metrics import accuracy_score\n",
    "from sklearn.model_selection import train_test_split"
   ]
  },
  {
   "cell_type": "code",
   "execution_count": 3,
   "metadata": {},
   "outputs": [],
   "source": [
    "def prepare_dataframe(X, y):\n",
    "    df = pd.DataFrame(X)\n",
    "    df.columns = [str(i) for i in df.columns]  # Convert column names to strings\n",
    "    df[\"target\"] = y.astype(int)  # Append target column\n",
    "\n",
    "    return df\n",
    "\n",
    "def train_ydf(X_train, y_train, X_test, y_test, params_ydf, n_dim=500):\n",
    "    df_train = prepare_dataframe(X_train, y_train)\n",
    "    df_test = prepare_dataframe(X_test, y_test)\n",
    "\n",
    "    learner = ydf.RandomForestLearner(**params_ydf)\n",
    "    start_time = time.time()\n",
    "    ydf_model = learner.train(df_train)\n",
    "    time_ydf = time.time() - start_time\n",
    "    y_pred = ydf_model.predict(df_test)\n",
    "    y_pred_class = (y_pred >= 0.5).astype(int) \n",
    "\n",
    "    acc_ydf = accuracy_score(y_test, y_pred_class)\n",
    "\n",
    "    print(f\"YDF | n_dim: {n_dim} | n_tree: {params_ydf['num_trees']} | Accuracy: {acc_ydf:.4f} | Train Time: {time_ydf:.4f} sec\")\n",
    "    return acc_ydf, time_ydf, y_pred_class"
   ]
  },
  {
   "cell_type": "code",
   "execution_count": 4,
   "metadata": {},
   "outputs": [],
   "source": [
    "MAX_DEPTH = 10\n",
    "N_ESTIMATORS = 300\n",
    "RANDOM_SEED = 42\n",
    "N_JOBS=-1\n",
    "BOOTSTRAP = True\n",
    "MAX_FEATURE = 100\n",
    "FEATURE_COMBINATIONS = 1.0\n",
    "\n",
    "params_ydf = dict()\n",
    "params_ydf[\"label\"] = \"target\"\n",
    "params_ydf[\"max_depth\"] = MAX_DEPTH\n",
    "params_ydf[\"num_trees\"] = N_ESTIMATORS\n",
    "params_ydf[\"random_seed\"] = RANDOM_SEED\n",
    "params_ydf[\"honest\"] = False\n",
    "params_ydf[\"bootstrap_size_ratio\"] = 1.0\n",
    "params_ydf[\"bootstrap_training_dataset\"] = BOOTSTRAP\n",
    "params_ydf[\"categorical_algorithm\"] = \"ONE_HOT\"\n",
    "params_ydf[\"compute_oob_performances\"] = False  #oob_score\n",
    "params_ydf[\"compute_oob_variable_importances\"] = False  ## oob_score\n",
    "params_ydf[\"in_split_min_examples_check\"] = True\n",
    "params_ydf[\"min_examples\"] = 1    #min_samples_leaf\n",
    "params_ydf[\"keep_non_leaf_label_distribution\"] = True   # not sure\n",
    "params_ydf[\"max_num_nodes\"] = None\n",
    "params_ydf[\"growing_strategy\"] = \"BEST_FIRST_GLOBAL\"\n",
    "# params_ydf[\"num_candidate_attributes\"] = -1  #0 equivalent to sqrt max_features in treeple\n",
    "params_ydf[\"num_candidate_attributes_ratio\"] = 1.0\n",
    "params_ydf[\"sorting_strategy\"] = \"IN_NODE\" ###\n",
    "# sparse oblique params\n",
    "params_ydf[\"split_axis\"] = \"SPARSE_OBLIQUE\"\n",
    "params_ydf[\"sparse_oblique_weights\"] = \"CONTINUOUS\"\n",
    "params_ydf[\"sparse_oblique_projection_density_factor\"] = FEATURE_COMBINATIONS\n",
    "params_ydf[\"sparse_oblique_normalization\"] = \"MIN_MAX\"\n",
    "params_ydf[\"sparse_oblique_max_num_projections\"] = MAX_FEATURE # modify this, find in sourse code in treeple\n",
    "params_ydf[\"sparse_oblique_num_projections_exponent\"] = 1.0   #2.0\n",
    "params_ydf[\"sampling_with_replacement\"] = False"
   ]
  },
  {
   "cell_type": "code",
   "execution_count": 36,
   "metadata": {},
   "outputs": [
    {
     "name": "stderr",
     "output_type": "stream",
     "text": [
      "c:\\Users\\clark\\anaconda3\\envs\\catboost_env\\lib\\site-packages\\treeple\\datasets\\hyppo.py:515: RuntimeWarning: Number of informative dimensions {n_informative} must be less than number of dimensions, 10. Setting n_informative to n_dim.\n",
      "  warnings.warn(\n"
     ]
    }
   ],
   "source": [
    "n_samples=2000\n",
    "num_dim=10\n",
    "X, y = make_trunk_classification(n_samples=n_samples, n_dim=num_dim, n_informative=600, seed=0)\n",
    "X_train, X_test, y_train, y_test = train_test_split(X, y, test_size=0.2, random_state=42, stratify=y)\n",
    "\n",
    "df_train = prepare_dataframe(X_train, y_train)\n",
    "df_test = prepare_dataframe(X_test, y_test)"
   ]
  },
  {
   "cell_type": "code",
   "execution_count": 37,
   "metadata": {},
   "outputs": [
    {
     "name": "stdout",
     "output_type": "stream",
     "text": [
      "Train model on 1600 examples\n",
      "Model trained in 0:00:00.122748\n"
     ]
    },
    {
     "data": {
      "text/plain": [
       "0.74"
      ]
     },
     "execution_count": 37,
     "metadata": {},
     "output_type": "execute_result"
    }
   ],
   "source": [
    "learner = ydf.RandomForestLearner(**params_ydf)\n",
    "start_time = time.time()\n",
    "ydf_model = learner.train(df_train)\n",
    "time_ydf = time.time() - start_time\n",
    "pred_ydf = ydf_model.predict(df_test)\n",
    "pred_ydf = (pred_ydf >= 0.5).astype(int) \n",
    "\n",
    "acc_ydf = accuracy_score(y_test, pred_ydf)\n",
    "acc_ydf"
   ]
  },
  {
   "cell_type": "code",
   "execution_count": 38,
   "metadata": {},
   "outputs": [
    {
     "data": {
      "text/plain": [
       "{'better_defaultv1': HyperparameterTemplate(name='better_default', version=1, parameters={'winner_take_all': True}, description='A configuration that is generally better than the default parameters without being more expensive.'),\n",
       " 'benchmark_rank1v1': HyperparameterTemplate(name='benchmark_rank1', version=1, parameters={'winner_take_all': True, 'categorical_algorithm': 'RANDOM', 'split_axis': 'SPARSE_OBLIQUE', 'sparse_oblique_normalization': 'MIN_MAX', 'sparse_oblique_num_projections_exponent': 1.0}, description='Top ranking hyper-parameters on our benchmark slightly modified to run in reasonable time.')}"
      ]
     },
     "execution_count": 38,
     "metadata": {},
     "output_type": "execute_result"
    }
   ],
   "source": [
    "learner.hyperparameter_templates()"
   ]
  },
  {
   "cell_type": "code",
   "execution_count": 39,
   "metadata": {},
   "outputs": [
    {
     "data": {
      "text/html": [
       "\n",
       "<style>\n",
       "\n",
       ".tab_block .header {\n",
       "    flex-direction: row;\n",
       "    display: flex;\n",
       "}\n",
       "\n",
       ".tab_block .header .tab {\n",
       "    cursor: pointer;\n",
       "    background-color: #F6F5F5;\n",
       "    text-decoration: none;\n",
       "    text-align: center;\n",
       "    padding: 4px 12px;\n",
       "    color: black;\n",
       "}\n",
       "\n",
       ".tab_block .header .tab.selected {\n",
       "    border-bottom: 2px solid #2F80ED;\n",
       "}\n",
       "\n",
       ".tab_block .header .tab:hover {\n",
       "    text-decoration: none;\n",
       "    background-color: #DCDCDC;\n",
       "}\n",
       "\n",
       ".tab_block .body .tab_content {\n",
       "    display: none;\n",
       "    padding: 5px;\n",
       "}\n",
       "\n",
       ".tab_block .body .tab_content.selected {\n",
       "    display: block;\n",
       "}\n",
       "\n",
       ".ydf_pre {\n",
       "    font-size: medium;\n",
       "}\n",
       "\n",
       "\n",
       "\n",
       ".variable_importance {\n",
       "}\n",
       "\n",
       ".variable_importance select {\n",
       "}\n",
       "\n",
       ".variable_importance .content {\n",
       "  display: none;\n",
       "}\n",
       "\n",
       ".variable_importance .content.selected {\n",
       "  display: block;\n",
       "}\n",
       "\n",
       ".ydf_tuning_table {\n",
       "  border-collapse: collapse;\n",
       "  border: 1px solid lightgray;\n",
       "}\n",
       "\n",
       ".ydf_tuning_table th {\n",
       "  background-color: #ededed;\n",
       "  font-weight: bold;\n",
       "  text-align: left;\n",
       "  padding: 3px 4px;\n",
       "  border: 1px solid lightgray;\n",
       "}\n",
       "\n",
       ".ydf_tuning_table td {\n",
       "  text-align: right;\n",
       "  padding: 3px 4px;\n",
       "  border: 1px solid lightgray;\n",
       "}\n",
       "\n",
       ".ydf_tuning_table .best {\n",
       "  background-color: khaki;\n",
       "}\n",
       "\n",
       "</style>\n",
       "\n",
       "<script>\n",
       "\n",
       "function ydfShowTab(block_id, item) {\n",
       "    const block = document.getElementById(block_id);\n",
       "    \n",
       "    \n",
       "    console.log(\"HIDE first of:\",block.getElementsByClassName(\"tab selected\"));\n",
       "    console.log(\"HIDE first of:\",block.getElementsByClassName(\"tab_content selected\"));\n",
       "    \n",
       "    block.getElementsByClassName(\"tab selected\")[0].classList.remove(\"selected\");\n",
       "    block.getElementsByClassName(\"tab_content selected\")[0].classList.remove(\"selected\");\n",
       "    document.getElementById(block_id + \"_\" + item).classList.add(\"selected\");\n",
       "    document.getElementById(block_id + \"_body_\" + item).classList.add(\"selected\");\n",
       "}\n",
       "  \n",
       "\n",
       "function ydfShowVariableImportance(block_id) {\n",
       "    const block = document.getElementById(block_id);\n",
       "    const item = block.getElementsByTagName(\"select\")[0].value;\n",
       "    block.getElementsByClassName(\"content selected\")[0].classList.remove(\"selected\");\n",
       "    document.getElementById(block_id + \"_body_\" + item).classList.add(\"selected\");\n",
       "}\n",
       "\n",
       "</script>\n",
       "  <div class=\"tab_block\" id=\"8513-7c5f-3afc-c0b5\"><div class=\"header\"><a id=\"8513-7c5f-3afc-c0b5_model\" class=\"tab selected\" onclick=\"ydfShowTab('8513-7c5f-3afc-c0b5', 'model')\">Model</a><a id=\"8513-7c5f-3afc-c0b5_dataspec\" class=\"tab\" onclick=\"ydfShowTab('8513-7c5f-3afc-c0b5', 'dataspec')\">Dataspec</a><a id=\"8513-7c5f-3afc-c0b5_training\" class=\"tab\" onclick=\"ydfShowTab('8513-7c5f-3afc-c0b5', 'training')\">Training</a><a id=\"8513-7c5f-3afc-c0b5_variable_importance\" class=\"tab\" onclick=\"ydfShowTab('8513-7c5f-3afc-c0b5', 'variable_importance')\">Variable importances</a><a id=\"8513-7c5f-3afc-c0b5_structure\" class=\"tab\" onclick=\"ydfShowTab('8513-7c5f-3afc-c0b5', 'structure')\">Structure</a></div><div class=\"body\"><div id=\"8513-7c5f-3afc-c0b5_body_model\" class=\"tab_content selected\"><b>Name</b> : RANDOM_FOREST<br><b>Task</b> : CLASSIFICATION<br><b>Label</b> : target<br><b>Features (10)</b> : 0 1 2 3 4 5 6 7 8 9<br><b>Weights</b> : None<br><b>Trained with tuner</b> : No<br><b>Model size</b> : 5473 kB<br></div><div id=\"8513-7c5f-3afc-c0b5_body_dataspec\" class=\"tab_content\"><pre class=\"ydf_pre\">Number of records: 1600\n",
       "Number of columns: 11\n",
       "\n",
       "Number of columns by type:\n",
       "\tNUMERICAL: 10 (90.9091%)\n",
       "\tCATEGORICAL: 1 (9.09091%)\n",
       "\n",
       "Columns:\n",
       "\n",
       "NUMERICAL: 10 (90.9091%)\n",
       "\t1: &quot;0&quot; NUMERICAL mean:0.502061 min:-3.38852 max:3.77264 sd:1.09263 dtype:DTYPE_FLOAT64\n",
       "\t2: &quot;1&quot; NUMERICAL mean:0.322305 min:-3.55544 max:4.2879 sd:1.05141 dtype:DTYPE_FLOAT64\n",
       "\t3: &quot;2&quot; NUMERICAL mean:0.268462 min:-3.21311 max:3.50855 sd:1.01281 dtype:DTYPE_FLOAT64\n",
       "\t4: &quot;3&quot; NUMERICAL mean:0.286252 min:-3.68027 max:3.75951 sd:1.04368 dtype:DTYPE_FLOAT64\n",
       "\t5: &quot;4&quot; NUMERICAL mean:0.207512 min:-3.22563 max:3.66142 sd:1.03913 dtype:DTYPE_FLOAT64\n",
       "\t6: &quot;5&quot; NUMERICAL mean:0.174191 min:-3.59298 max:3.76071 sd:1.03551 dtype:DTYPE_FLOAT64\n",
       "\t7: &quot;6&quot; NUMERICAL mean:0.231069 min:-3.301 max:4.44457 sd:1.02444 dtype:DTYPE_FLOAT64\n",
       "\t8: &quot;7&quot; NUMERICAL mean:0.131372 min:-2.94063 max:3.27575 sd:1.00651 dtype:DTYPE_FLOAT64\n",
       "\t9: &quot;8&quot; NUMERICAL mean:0.150404 min:-2.8846 max:3.32408 sd:1.02536 dtype:DTYPE_FLOAT64\n",
       "\t10: &quot;9&quot; NUMERICAL mean:0.145796 min:-2.95179 max:3.26021 sd:1.02171 dtype:DTYPE_FLOAT64\n",
       "\n",
       "CATEGORICAL: 1 (9.09091%)\n",
       "\t0: &quot;target&quot; CATEGORICAL has-dict vocab-size:3 zero-ood-items most-frequent:&quot;0&quot; 800 (50%) dtype:DTYPE_INT32\n",
       "\n",
       "Terminology:\n",
       "\tnas: Number of non-available (i.e. missing) values.\n",
       "\tood: Out of dictionary.\n",
       "\tmanually-defined: Attribute whose type is manually defined by the user, i.e., the type was not automatically inferred.\n",
       "\ttokenized: The attribute value is obtained through tokenization.\n",
       "\thas-dict: The attribute is attached to a string dictionary e.g. a categorical attribute stored as a string.\n",
       "\tvocab-size: Number of unique values.\n",
       "</pre></div><div id=\"8513-7c5f-3afc-c0b5_body_training\" class=\"tab_content\"><p>The following evaluation is computed on the validation or out-of-bag dataset.</p><p>The Random Forest does not have out-of-bag evaluation training logs. Train the model with compute_oob_performances=True to compute the training logs. Make sure the training logs have not been removed with pure_serving_model=True.</p></div><div id=\"8513-7c5f-3afc-c0b5_body_variable_importance\" class=\"tab_content\"><p><a target=\"_blank\" href=\"https://ydf.readthedocs.io/en/latest/cli_user_manual#variable-importances\">Variable importances</a> measure the importance of an input feature for a model.</p><div id=\"8513-7c5f-3afc-c0b5_vi\" class=\"variable_importance\"><select onchange=\"ydfShowVariableImportance('8513-7c5f-3afc-c0b5_vi')\"><option value=\"INV_MEAN_MIN_DEPTH\">INV_MEAN_MIN_DEPTH</option><option value=\"NUM_AS_ROOT\">NUM_AS_ROOT</option><option value=\"NUM_NODES\">NUM_NODES</option><option value=\"SUM_SCORE\">SUM_SCORE</option></select><div id=\"8513-7c5f-3afc-c0b5_vi_body_INV_MEAN_MIN_DEPTH\" class=\"content selected\"><pre class=\"ydf_pre\">    1. &quot;0&quot;  0.654561 ################\n",
       "    2. &quot;1&quot;  0.385301 #######\n",
       "    3. &quot;2&quot;  0.217671 #\n",
       "    4. &quot;3&quot;  0.191606 #\n",
       "    5. &quot;5&quot;  0.174546 \n",
       "    6. &quot;4&quot;  0.173178 \n",
       "    7. &quot;8&quot;  0.167113 \n",
       "    8. &quot;6&quot;  0.165219 \n",
       "    9. &quot;7&quot;  0.161307 \n",
       "   10. &quot;9&quot;  0.156584 \n",
       "</pre></div><div id=\"8513-7c5f-3afc-c0b5_vi_body_NUM_AS_ROOT\" class=\"content\"><pre class=\"ydf_pre\">    1. &quot;0&quot; 197.000000 ################\n",
       "    2. &quot;1&quot; 77.000000 ######\n",
       "    3. &quot;2&quot; 16.000000 #\n",
       "    4. &quot;4&quot;  5.000000 \n",
       "    5. &quot;3&quot;  4.000000 \n",
       "    6. &quot;5&quot;  1.000000 \n",
       "</pre></div><div id=\"8513-7c5f-3afc-c0b5_vi_body_NUM_NODES\" class=\"content\"><pre class=\"ydf_pre\">    1. &quot;0&quot; 2141.000000 ################\n",
       "    2. &quot;1&quot; 1667.000000 ############\n",
       "    3. &quot;2&quot; 1216.000000 ########\n",
       "    4. &quot;3&quot; 873.000000 #####\n",
       "    5. &quot;5&quot; 733.000000 ####\n",
       "    6. &quot;4&quot; 711.000000 ####\n",
       "    7. &quot;6&quot; 552.000000 ###\n",
       "    8. &quot;8&quot; 521.000000 ##\n",
       "    9. &quot;7&quot; 404.000000 #\n",
       "   10. &quot;9&quot; 182.000000 \n",
       "</pre></div><div id=\"8513-7c5f-3afc-c0b5_vi_body_SUM_SCORE\" class=\"content\"><pre class=\"ydf_pre\">    1. &quot;0&quot; 52743.649128 ################\n",
       "    2. &quot;1&quot; 29269.989217 ########\n",
       "    3. &quot;2&quot; 12864.732583 ###\n",
       "    4. &quot;3&quot; 9611.201792 ##\n",
       "    5. &quot;5&quot; 6355.380947 #\n",
       "    6. &quot;4&quot; 6071.434080 #\n",
       "    7. &quot;6&quot; 4519.444936 #\n",
       "    8. &quot;8&quot; 4339.849579 \n",
       "    9. &quot;7&quot; 3004.166105 \n",
       "   10. &quot;9&quot; 1174.968443 \n",
       "</pre></div></div><p>Those variable importances are computed during training. More, and possibly more informative, variable importances are available when analyzing a model on a test dataset.</p></div><div id=\"8513-7c5f-3afc-c0b5_body_structure\" class=\"tab_content\"><b>Num trees</b> : 300<br><p>Only printing the first tree.</p><pre class=\"ydf_pre\">Tree #0:\n",
       "    &quot;0&quot;x0.107361+&quot;3&quot;x0.130053&gt;=0.061469 [s:0.0711152 n:1600 np:909 miss:0] ; val:&quot;0&quot; prob:[0.5, 0.5]\n",
       "        ├─(pos)─ &quot;1&quot;x1&gt;=-0.46826 [s:0.0388418 n:909 np:733 miss:0] ; val:&quot;1&quot; prob:[0.337734, 0.662266]\n",
       "        |        ├─(pos)─ &quot;1&quot;x1&gt;=1.42398 [s:0.0231343 n:733 np:147 miss:0] ; val:&quot;1&quot; prob:[0.271487, 0.728513]\n",
       "        |        |        ├─(pos)─ &quot;0&quot;x-0.0283943+&quot;4&quot;x-0.0740031+&quot;7&quot;x-0.0418252&gt;=-0.034061 [s:0.0399877 n:147 np:53 miss:0] ; val:&quot;1&quot; prob:[0.0952381, 0.904762]\n",
       "        |        |        |        ├─(pos)─ &quot;8&quot;x1&gt;=0.497143 [s:0.114369 n:53 np:20 miss:0] ; val:&quot;1&quot; prob:[0.207547, 0.792453]\n",
       "        |        |        |        |        ├─(pos)─ val:&quot;1&quot; prob:[0, 1]\n",
       "        |        |        |        |        └─(neg)─ val:&quot;1&quot; prob:[0.333333, 0.666667]\n",
       "        |        |        |        └─(neg)─ val:&quot;1&quot; prob:[0.0319149, 0.968085]\n",
       "        |        |        └─(neg)─ &quot;0&quot;x1&gt;=1.1825 [s:0.0296487 n:586 np:244 miss:0] ; val:&quot;1&quot; prob:[0.3157, 0.6843]\n",
       "        |        |                 ├─(pos)─ &quot;2&quot;x1&gt;=-1.45857 [s:0.0388832 n:244 np:234 miss:0] ; val:&quot;1&quot; prob:[0.184426, 0.815574]\n",
       "        |        |                 |        ├─(pos)─ &quot;3&quot;x0.0756233+&quot;8&quot;x0.0405004&gt;=-0.00658054 [s:0.040275 n:234 np:187 miss:0] ; val:&quot;1&quot; prob:[0.15812, 0.84188]\n",
       "        |        |                 |        |        ├─(pos)─ &quot;6&quot;x1&gt;=-0.966318 [s:0.0327012 n:187 np:169 miss:0] ; val:&quot;1&quot; prob:[0.101604, 0.898396]\n",
       "        |        |                 |        |        |        ├─(pos)─ val:&quot;1&quot; prob:[0.0710059, 0.928994]\n",
       "        |        |                 |        |        |        └─(neg)─ val:&quot;1&quot; prob:[0.388889, 0.611111]\n",
       "        |        |                 |        |        └─(neg)─ val:&quot;1&quot; prob:[0.382979, 0.617021]\n",
       "        |        |                 |        └─(neg)─ val:&quot;0&quot; prob:[0.8, 0.2]\n",
       "        |        |                 └─(neg)─ &quot;0&quot;x0.0915803+&quot;5&quot;x0.0319958+&quot;9&quot;x0.0298916&gt;=0.00778269 [s:0.033914 n:342 np:244 miss:0] ; val:&quot;1&quot; prob:[0.409357, 0.590643]\n",
       "        |        |                          ├─(pos)─ val:&quot;1&quot; prob:[0.327869, 0.672131]\n",
       "        |        |                          └─(neg)─ val:&quot;0&quot; prob:[0.612245, 0.387755]\n",
       "        |        └─(neg)─ &quot;0&quot;x1&gt;=0.369423 [s:0.0813421 n:176 np:129 miss:0] ; val:&quot;0&quot; prob:[0.613636, 0.386364]\n",
       "        |                 ├─(pos)─ &quot;2&quot;x0.121057+&quot;5&quot;x-0.116783+&quot;6&quot;x-0.083472&gt;=-0.322783 [s:0.0576491 n:129 np:119 miss:0] ; val:&quot;0&quot; prob:[0.503876, 0.496124]\n",
       "        |                 |        ├─(pos)─ &quot;0&quot;x1&gt;=1.80165 [s:0.055733 n:119 np:28 miss:0] ; val:&quot;0&quot; prob:[0.546218, 0.453782]\n",
       "        |                 |        |        ├─(pos)─ val:&quot;1&quot; prob:[0.25, 0.75]\n",
       "        |                 |        |        └─(neg)─ val:&quot;0&quot; prob:[0.637363, 0.362637]\n",
       "        |                 |        └─(neg)─ val:&quot;1&quot; prob:[0, 1]\n",
       "        |                 └─(neg)─ &quot;6&quot;x1&gt;=0.855131 [s:0.137656 n:47 np:11 miss:0] ; val:&quot;0&quot; prob:[0.914894, 0.0851064]\n",
       "        |                          ├─(pos)─ val:&quot;0&quot; prob:[0.636364, 0.363636]\n",
       "        |                          └─(neg)─ val:&quot;0&quot; prob:[1, 0]\n",
       "        └─(neg)─ &quot;0&quot;x-0.03473+&quot;1&quot;x-0.0160048+&quot;3&quot;x0.0159592+&quot;8&quot;x-0.0331171&gt;=-0.0585874 [s:0.0437221 n:691 np:581 miss:0] ; val:&quot;0&quot; prob:[0.713459, 0.286541]\n",
       "                 ├─(pos)─ &quot;1&quot;x1&gt;=0.938739 [s:0.0297888 n:581 np:112 miss:0] ; val:&quot;0&quot; prob:[0.774527, 0.225473]\n",
       "                 |        ├─(pos)─ &quot;2&quot;x1&gt;=0.452205 [s:0.0539254 n:112 np:45 miss:0] ; val:&quot;0&quot; prob:[0.553571, 0.446429]\n",
       "                 |        |        ├─(pos)─ val:&quot;1&quot; prob:[0.355556, 0.644444]\n",
       "                 |        |        └─(neg)─ &quot;0&quot;x0.0553553+&quot;7&quot;x0.106776&gt;=-0.0836261 [s:0.139559 n:67 np:47 miss:0] ; val:&quot;0&quot; prob:[0.686567, 0.313433]\n",
       "                 |        |                 ├─(pos)─ &quot;4&quot;x0.07949+&quot;6&quot;x0.0302014&gt;=0.0710609 [s:0.153902 n:47 np:14 miss:0] ; val:&quot;0&quot; prob:[0.553191, 0.446809]\n",
       "                 |        |                 |        ├─(pos)─ &quot;3&quot;x1&gt;=-0.813719 [s:0.410116 n:14 np:12 miss:0] ; val:&quot;1&quot; prob:[0.142857, 0.857143]\n",
       "                 |        |                 |        |        ├─(pos)─ val:&quot;1&quot; prob:[0, 1]\n",
       "                 |        |                 |        |        └─(neg)─ val:&quot;0&quot; prob:[1, 0]\n",
       "                 |        |                 |        └─(neg)─ &quot;0&quot;x1&gt;=-0.0545769 [s:0.164368 n:33 np:11 miss:0] ; val:&quot;0&quot; prob:[0.727273, 0.272727]\n",
       "                 |        |                 |                 ├─(pos)─ val:&quot;1&quot; prob:[0.363636, 0.636364]\n",
       "                 |        |                 |                 └─(neg)─ val:&quot;0&quot; prob:[0.909091, 0.0909091]\n",
       "                 |        |                 └─(neg)─ val:&quot;0&quot; prob:[1, 0]\n",
       "                 |        └─(neg)─ &quot;0&quot;x1&gt;=0.367218 [s:0.0265581 n:469 np:95 miss:0] ; val:&quot;0&quot; prob:[0.827292, 0.172708]\n",
       "                 |                 ├─(pos)─ &quot;4&quot;x1&gt;=-0.309395 [s:0.0943542 n:95 np:66 miss:0] ; val:&quot;0&quot; prob:[0.642105, 0.357895]\n",
       "                 |                 |        ├─(pos)─ &quot;3&quot;x0.0420187+&quot;5&quot;x0.0594281+&quot;7&quot;x0.0891722&gt;=0.134849 [s:0.0966858 n:66 np:8 miss:0] ; val:&quot;0&quot; prob:[0.515152, 0.484848]\n",
       "                 |                 |        |        ├─(pos)─ val:&quot;1&quot; prob:[0, 1]\n",
       "                 |                 |        |        └─(neg)─ &quot;2&quot;x1&gt;=0.53836 [s:0.107196 n:58 np:17 miss:0] ; val:&quot;0&quot; prob:[0.586207, 0.413793]\n",
       "                 |                 |        |                 ├─(pos)─ val:&quot;1&quot; prob:[0.235294, 0.764706]\n",
       "                 |                 |        |                 └─(neg)─ val:&quot;0&quot; prob:[0.731707, 0.268293]\n",
       "                 |                 |        └─(neg)─ val:&quot;0&quot; prob:[0.931034, 0.0689655]\n",
       "                 |                 └─(neg)─ &quot;1&quot;x1&gt;=-0.297373 [s:0.0239497 n:374 np:208 miss:0] ; val:&quot;0&quot; prob:[0.874332, 0.125668]\n",
       "                 |                          ├─(pos)─ &quot;0&quot;x1&gt;=-1.12092 [s:0.0487767 n:208 np:165 miss:0] ; val:&quot;0&quot; prob:[0.8125, 0.1875]\n",
       "                 |                          |        ├─(pos)─ &quot;4&quot;x1&gt;=0.987311 [s:0.0410343 n:165 np:29 miss:0] ; val:&quot;0&quot; prob:[0.763636, 0.236364]\n",
       "                 |                          |        |        ├─(pos)─ val:&quot;1&quot; prob:[0.482759, 0.517241]\n",
       "                 |                          |        |        └─(neg)─ val:&quot;0&quot; prob:[0.823529, 0.176471]\n",
       "                 |                          |        └─(neg)─ val:&quot;0&quot; prob:[1, 0]\n",
       "                 |                          └─(neg)─ val:&quot;0&quot; prob:[0.951807, 0.0481928]\n",
       "                 └─(neg)─ &quot;2&quot;x1&gt;=-0.914304 [s:0.0554965 n:110 np:95 miss:0] ; val:&quot;1&quot; prob:[0.390909, 0.609091]\n",
       "                          ├─(pos)─ &quot;4&quot;x0.0167804+&quot;8&quot;x0.0510698&gt;=0.0667835 [s:0.0644152 n:95 np:42 miss:0] ; val:&quot;1&quot; prob:[0.326316, 0.673684]\n",
       "                          |        ├─(pos)─ val:&quot;1&quot; prob:[0.142857, 0.857143]\n",
       "                          |        └─(neg)─ val:&quot;1&quot; prob:[0.471698, 0.528302]\n",
       "                          └─(neg)─ val:&quot;0&quot; prob:[0.8, 0.2]\n",
       "</pre></div></div></div>"
      ],
      "text/plain": [
       "<ydf.utils.html.HtmlNotebookDisplay at 0x29e391f4e20>"
      ]
     },
     "execution_count": 39,
     "metadata": {},
     "output_type": "execute_result"
    }
   ],
   "source": [
    "ydf_model.describe()"
   ]
  },
  {
   "cell_type": "code",
   "execution_count": 9,
   "metadata": {},
   "outputs": [],
   "source": [
    "ydf_model.save(\"saved_model/\")"
   ]
  },
  {
   "cell_type": "code",
   "execution_count": 40,
   "metadata": {},
   "outputs": [
    {
     "data": {
      "text/plain": [
       "columns {\n",
       "  type: CATEGORICAL\n",
       "  name: \"target\"\n",
       "  categorical {\n",
       "    number_of_unique_values: 3\n",
       "    items {\n",
       "      key: \"<OOD>\"\n",
       "      value {\n",
       "        index: 0\n",
       "        count: 0\n",
       "      }\n",
       "    }\n",
       "    items {\n",
       "      key: \"1\"\n",
       "      value {\n",
       "        index: 2\n",
       "        count: 800\n",
       "      }\n",
       "    }\n",
       "    items {\n",
       "      key: \"0\"\n",
       "      value {\n",
       "        index: 1\n",
       "        count: 800\n",
       "      }\n",
       "    }\n",
       "  }\n",
       "  count_nas: 0\n",
       "  dtype: DTYPE_INT32\n",
       "}\n",
       "columns {\n",
       "  type: NUMERICAL\n",
       "  name: \"0\"\n",
       "  numerical {\n",
       "    mean: 0.50206137866509382\n",
       "    min_value: -3.38852024\n",
       "    max_value: 3.77264\n",
       "    standard_deviation: 1.0926331375419041\n",
       "  }\n",
       "  count_nas: 0\n",
       "  dtype: DTYPE_FLOAT64\n",
       "}\n",
       "columns {\n",
       "  type: NUMERICAL\n",
       "  name: \"1\"\n",
       "  numerical {\n",
       "    mean: 0.32230514054055676\n",
       "    min_value: -3.55543637\n",
       "    max_value: 4.28789711\n",
       "    standard_deviation: 1.051411575474217\n",
       "  }\n",
       "  count_nas: 0\n",
       "  dtype: DTYPE_FLOAT64\n",
       "}\n",
       "columns {\n",
       "  type: NUMERICAL\n",
       "  name: \"2\"\n",
       "  numerical {\n",
       "    mean: 0.26846194128011119\n",
       "    min_value: -3.21311045\n",
       "    max_value: 3.50855422\n",
       "    standard_deviation: 1.0128059698575358\n",
       "  }\n",
       "  count_nas: 0\n",
       "  dtype: DTYPE_FLOAT64\n",
       "}\n",
       "columns {\n",
       "  type: NUMERICAL\n",
       "  name: \"3\"\n",
       "  numerical {\n",
       "    mean: 0.28625233119288168\n",
       "    min_value: -3.68026924\n",
       "    max_value: 3.75951433\n",
       "    standard_deviation: 1.0436835337427068\n",
       "  }\n",
       "  count_nas: 0\n",
       "  dtype: DTYPE_FLOAT64\n",
       "}\n",
       "columns {\n",
       "  type: NUMERICAL\n",
       "  name: \"4\"\n",
       "  numerical {\n",
       "    mean: 0.20751221119404362\n",
       "    min_value: -3.22562599\n",
       "    max_value: 3.66141701\n",
       "    standard_deviation: 1.03913163614251\n",
       "  }\n",
       "  count_nas: 0\n",
       "  dtype: DTYPE_FLOAT64\n",
       "}\n",
       "columns {\n",
       "  type: NUMERICAL\n",
       "  name: \"5\"\n",
       "  numerical {\n",
       "    mean: 0.17419139885603271\n",
       "    min_value: -3.59297848\n",
       "    max_value: 3.76071167\n",
       "    standard_deviation: 1.0355138971033688\n",
       "  }\n",
       "  count_nas: 0\n",
       "  dtype: DTYPE_FLOAT64\n",
       "}\n",
       "columns {\n",
       "  type: NUMERICAL\n",
       "  name: \"6\"\n",
       "  numerical {\n",
       "    mean: 0.231068709487663\n",
       "    min_value: -3.30099964\n",
       "    max_value: 4.44456625\n",
       "    standard_deviation: 1.0244386802598802\n",
       "  }\n",
       "  count_nas: 0\n",
       "  dtype: DTYPE_FLOAT64\n",
       "}\n",
       "columns {\n",
       "  type: NUMERICAL\n",
       "  name: \"7\"\n",
       "  numerical {\n",
       "    mean: 0.13137161141085016\n",
       "    min_value: -2.94062662\n",
       "    max_value: 3.27574754\n",
       "    standard_deviation: 1.0065058698712079\n",
       "  }\n",
       "  count_nas: 0\n",
       "  dtype: DTYPE_FLOAT64\n",
       "}\n",
       "columns {\n",
       "  type: NUMERICAL\n",
       "  name: \"8\"\n",
       "  numerical {\n",
       "    mean: 0.15040449838524184\n",
       "    min_value: -2.88460422\n",
       "    max_value: 3.32408166\n",
       "    standard_deviation: 1.025363305675411\n",
       "  }\n",
       "  count_nas: 0\n",
       "  dtype: DTYPE_FLOAT64\n",
       "}\n",
       "columns {\n",
       "  type: NUMERICAL\n",
       "  name: \"9\"\n",
       "  numerical {\n",
       "    mean: 0.14579614931055404\n",
       "    min_value: -2.9517889\n",
       "    max_value: 3.26021481\n",
       "    standard_deviation: 1.0217133681736286\n",
       "  }\n",
       "  count_nas: 0\n",
       "  dtype: DTYPE_FLOAT64\n",
       "}\n",
       "created_num_rows: 1600"
      ]
     },
     "execution_count": 40,
     "metadata": {},
     "output_type": "execute_result"
    }
   ],
   "source": [
    "ydf_model.data_spec()"
   ]
  },
  {
   "cell_type": "code",
   "execution_count": 41,
   "metadata": {},
   "outputs": [
    {
     "data": {
      "text/plain": [
       "Tree(root=NonLeaf(value=ProbabilityValue(num_examples=1600.0, probability=[0.5, 0.5]), condition=NumericalSparseObliqueCondition(missing=False, score=0.053251296281814575, attributes=[2, 5, 6], weights=[-0.052857689559459686, -0.12740656733512878, -0.0796140506863594], threshold=-0.044604748487472534), pos_child=NonLeaf(value=ProbabilityValue(num_examples=742.0, probability=[0.6738544474393531, 0.3261455525606469]), condition=NumericalSparseObliqueCondition(missing=False, score=0.040539998561143875, attributes=[1, 3], weights=[-0.0028991461731493473, -0.08910401165485382], threshold=-0.008685402572154999), pos_child=NonLeaf(value=ProbabilityValue(num_examples=342.0, probability=[0.8157894736842105, 0.18421052631578946]), condition=NumericalSparseObliqueCondition(missing=False, score=0.04142618179321289, attributes=[4], weights=[1.0], threshold=0.04757502302527428), pos_child=NonLeaf(value=ProbabilityValue(num_examples=183.0, probability=[0.7158469945355191, 0.28415300546448086]), condition=NumericalSparseObliqueCondition(missing=False, score=0.05151515081524849, attributes=[1], weights=[1.0], threshold=1.35428786277771), pos_child=Leaf(value=ProbabilityValue(num_examples=28.0, probability=[0.35714285714285715, 0.6428571428571429])), neg_child=NonLeaf(value=ProbabilityValue(num_examples=155.0, probability=[0.7806451612903226, 0.21935483870967742]), condition=NumericalSparseObliqueCondition(missing=False, score=0.043083686381578445, attributes=[8], weights=[1.0], threshold=0.16874529421329498), pos_child=Leaf(value=ProbabilityValue(num_examples=67.0, probability=[0.6417910447761194, 0.3582089552238806])), neg_child=Leaf(value=ProbabilityValue(num_examples=88.0, probability=[0.8863636363636364, 0.11363636363636363])))), neg_child=NonLeaf(value=ProbabilityValue(num_examples=159.0, probability=[0.9308176100628931, 0.06918238993710692]), condition=NumericalSparseObliqueCondition(missing=False, score=0.04968751594424248, attributes=[1], weights=[1.0], threshold=0.45125338435173035), pos_child=Leaf(value=ProbabilityValue(num_examples=57.0, probability=[0.8245614035087719, 0.17543859649122806])), neg_child=Leaf(value=ProbabilityValue(num_examples=102.0, probability=[0.9901960784313726, 0.00980392156862745])))), neg_child=NonLeaf(value=ProbabilityValue(num_examples=400.0, probability=[0.5525, 0.4475]), condition=NumericalSparseObliqueCondition(missing=False, score=0.07897112518548965, attributes=[1], weights=[1.0], threshold=-0.016433682292699814), pos_child=NonLeaf(value=ProbabilityValue(num_examples=274.0, probability=[0.4233576642335766, 0.5766423357664233]), condition=NumericalSparseObliqueCondition(missing=False, score=0.037852559238672256, attributes=[4], weights=[1.0], threshold=1.8432660102844238), pos_child=Leaf(value=ProbabilityValue(num_examples=18.0, probability=[0.0, 1.0])), neg_child=NonLeaf(value=ProbabilityValue(num_examples=256.0, probability=[0.453125, 0.546875]), condition=NumericalSparseObliqueCondition(missing=False, score=0.061811093240976334, attributes=[1, 2], weights=[-0.09883705526590347, -0.07697541266679764], threshold=-0.11890518665313721), pos_child=NonLeaf(value=ProbabilityValue(num_examples=146.0, probability=[0.6027397260273972, 0.3972602739726027]), condition=NumericalSparseObliqueCondition(missing=False, score=0.04984378069639206, attributes=[9], weights=[1.0], threshold=0.571755051612854), pos_child=Leaf(value=ProbabilityValue(num_examples=40.0, probability=[0.35, 0.65])), neg_child=NonLeaf(value=ProbabilityValue(num_examples=106.0, probability=[0.6981132075471698, 0.3018867924528302]), condition=NumericalSparseObliqueCondition(missing=False, score=0.06550544500350952, attributes=[6], weights=[1.0], threshold=-0.3191224932670593), pos_child=NonLeaf(value=ProbabilityValue(num_examples=58.0, probability=[0.5517241379310345, 0.4482758620689655]), condition=NumericalSparseObliqueCondition(missing=False, score=0.09043369442224503, attributes=[8], weights=[1.0], threshold=1.4181190729141235), pos_child=Leaf(value=ProbabilityValue(num_examples=6.0, probability=[0.0, 1.0])), neg_child=Leaf(value=ProbabilityValue(num_examples=52.0, probability=[0.6153846153846154, 0.38461538461538464]))), neg_child=Leaf(value=ProbabilityValue(num_examples=48.0, probability=[0.875, 0.125])))), neg_child=Leaf(value=ProbabilityValue(num_examples=110.0, probability=[0.2545454545454545, 0.7454545454545455])))), neg_child=NonLeaf(value=ProbabilityValue(num_examples=126.0, probability=[0.8333333333333334, 0.16666666666666666]), condition=NumericalSparseObliqueCondition(missing=False, score=0.09502603113651276, attributes=[2, 7], weights=[0.07720298320055008, 0.034438133239746094], threshold=-0.03132244944572449), pos_child=Leaf(value=ProbabilityValue(num_examples=76.0, probability=[0.7236842105263158, 0.27631578947368424])), neg_child=Leaf(value=ProbabilityValue(num_examples=50.0, probability=[1.0, 0.0]))))), neg_child=NonLeaf(value=ProbabilityValue(num_examples=858.0, probability=[0.34965034965034963, 0.6503496503496503]), condition=NumericalSparseObliqueCondition(missing=False, score=0.027874784544110298, attributes=[2], weights=[1.0], threshold=0.8453803062438965), pos_child=NonLeaf(value=ProbabilityValue(num_examples=354.0, probability=[0.2175141242937853, 0.7824858757062146]), condition=NumericalSparseObliqueCondition(missing=False, score=0.02652428299188614, attributes=[3], weights=[1.0], threshold=0.36735761165618896), pos_child=NonLeaf(value=ProbabilityValue(num_examples=187.0, probability=[0.12834224598930483, 0.8716577540106952]), condition=NumericalSparseObliqueCondition(missing=False, score=0.034788746386766434, attributes=[8], weights=[1.0], threshold=0.052107613533735275), pos_child=Leaf(value=ProbabilityValue(num_examples=110.0, probability=[0.05454545454545454, 0.9454545454545454])), neg_child=NonLeaf(value=ProbabilityValue(num_examples=77.0, probability=[0.23376623376623376, 0.7662337662337663]), condition=NumericalSparseObliqueCondition(missing=False, score=0.0974007099866867, attributes=[1], weights=[1.0], threshold=1.5059001445770264), pos_child=Leaf(value=ProbabilityValue(num_examples=23.0, probability=[0.0, 1.0])), neg_child=Leaf(value=ProbabilityValue(num_examples=54.0, probability=[0.3333333333333333, 0.6666666666666666])))), neg_child=NonLeaf(value=ProbabilityValue(num_examples=167.0, probability=[0.31736526946107785, 0.6826347305389222]), condition=NumericalSparseObliqueCondition(missing=False, score=0.044118430465459824, attributes=[8], weights=[1.0], threshold=1.3117594718933105), pos_child=Leaf(value=ProbabilityValue(num_examples=18.0, probability=[0.0, 1.0])), neg_child=NonLeaf(value=ProbabilityValue(num_examples=149.0, probability=[0.35570469798657717, 0.6442953020134228]), condition=NumericalSparseObliqueCondition(missing=False, score=0.05618910863995552, attributes=[1], weights=[1.0], threshold=-0.4843793213367462), pos_child=Leaf(value=ProbabilityValue(num_examples=124.0, probability=[0.28225806451612906, 0.717741935483871])), neg_child=NonLeaf(value=ProbabilityValue(num_examples=25.0, probability=[0.72, 0.28]), condition=NumericalSparseObliqueCondition(missing=False, score=0.40225911140441895, attributes=[7], weights=[1.0], threshold=0.1774005889892578), pos_child=Leaf(value=ProbabilityValue(num_examples=9.0, probability=[0.2222222222222222, 0.7777777777777778])), neg_child=Leaf(value=ProbabilityValue(num_examples=16.0, probability=[1.0, 0.0])))))), neg_child=NonLeaf(value=ProbabilityValue(num_examples=504.0, probability=[0.44246031746031744, 0.5575396825396826]), condition=NumericalSparseObliqueCondition(missing=False, score=0.1158423200249672, attributes=[1, 10], weights=[-0.07999606430530548, 0.006484793499112129], threshold=-0.0791228711605072), pos_child=NonLeaf(value=ProbabilityValue(num_examples=328.0, probability=[0.6097560975609756, 0.3902439024390244]), condition=NumericalSparseObliqueCondition(missing=False, score=0.028349151834845543, attributes=[5, 7], weights=[0.009386907331645489, -0.0715119019150734], threshold=-0.03691401332616806), pos_child=NonLeaf(value=ProbabilityValue(num_examples=218.0, probability=[0.6926605504587156, 0.3073394495412844]), condition=NumericalSparseObliqueCondition(missing=False, score=0.03084687888622284, attributes=[3], weights=[1.0], threshold=0.43099790811538696), pos_child=NonLeaf(value=ProbabilityValue(num_examples=90.0, probability=[0.5555555555555556, 0.4444444444444444]), condition=NumericalSparseObliqueCondition(missing=False, score=0.05859161913394928, attributes=[1, 6], weights=[-0.03025365248322487, 0.0007749254582449794], threshold=-0.006809590384364128), pos_child=Leaf(value=ProbabilityValue(num_examples=57.0, probability=[0.6842105263157895, 0.3157894736842105])), neg_child=NonLeaf(value=ProbabilityValue(num_examples=33.0, probability=[0.3333333333333333, 0.6666666666666666]), condition=NumericalSparseObliqueCondition(missing=False, score=0.19565846025943756, attributes=[4, 6], weights=[-0.02392345294356346, -0.03987818583846092], threshold=0.0512404665350914), pos_child=Leaf(value=ProbabilityValue(num_examples=5.0, probability=[1.0, 0.0])), neg_child=Leaf(value=ProbabilityValue(num_examples=28.0, probability=[0.21428571428571427, 0.7857142857142857])))), neg_child=NonLeaf(value=ProbabilityValue(num_examples=128.0, probability=[0.7890625, 0.2109375]), condition=NumericalSparseObliqueCondition(missing=False, score=0.04465324804186821, attributes=[5, 9, 10], weights=[0.06085674837231636, 0.15212242305278778, 0.10847906768321991], threshold=0.294242799282074), pos_child=Leaf(value=ProbabilityValue(num_examples=22.0, probability=[0.5, 0.5])), neg_child=Leaf(value=ProbabilityValue(num_examples=106.0, probability=[0.8490566037735849, 0.1509433962264151])))), neg_child=NonLeaf(value=ProbabilityValue(num_examples=110.0, probability=[0.44545454545454544, 0.5545454545454546]), condition=NumericalSparseObliqueCondition(missing=False, score=0.10557600855827332, attributes=[1], weights=[1.0], threshold=-0.9217144250869751), pos_child=NonLeaf(value=ProbabilityValue(num_examples=97.0, probability=[0.3711340206185567, 0.6288659793814433]), condition=NumericalSparseObliqueCondition(missing=False, score=0.06482472270727158, attributes=[3], weights=[1.0], threshold=-1.5358127355575562), pos_child=Leaf(value=ProbabilityValue(num_examples=91.0, probability=[0.32967032967032966, 0.6703296703296703])), neg_child=Leaf(value=ProbabilityValue(num_examples=6.0, probability=[1.0, 0.0]))), neg_child=Leaf(value=ProbabilityValue(num_examples=13.0, probability=[1.0, 0.0])))), neg_child=NonLeaf(value=ProbabilityValue(num_examples=176.0, probability=[0.13068181818181818, 0.8693181818181818]), condition=NumericalSparseObliqueCondition(missing=False, score=0.0358642041683197, attributes=[1, 4, 9], weights=[0.09697337448596954, 0.10095655918121338, 0.06477552652359009], threshold=0.09215907752513885), pos_child=Leaf(value=ProbabilityValue(num_examples=149.0, probability=[0.087248322147651, 0.912751677852349])), neg_child=NonLeaf(value=ProbabilityValue(num_examples=27.0, probability=[0.37037037037037035, 0.6296296296296297]), condition=NumericalSparseObliqueCondition(missing=False, score=0.2011781483888626, attributes=[3, 6], weights=[0.0841446965932846, -0.05701976642012596], threshold=-0.014998072758316994), pos_child=Leaf(value=ProbabilityValue(num_examples=9.0, probability=[0.0, 1.0])), neg_child=Leaf(value=ProbabilityValue(num_examples=18.0, probability=[0.5555555555555556, 0.4444444444444444]))))))))"
      ]
     },
     "execution_count": 41,
     "metadata": {},
     "output_type": "execute_result"
    }
   ],
   "source": [
    "ydf_tree = ydf_model.get_tree(1)\n",
    "ydf_tree"
   ]
  },
  {
   "cell_type": "code",
   "execution_count": 43,
   "metadata": {},
   "outputs": [
    {
     "data": {
      "text/plain": [
       "NonLeaf(value=ProbabilityValue(num_examples=1600.0, probability=[0.5, 0.5]), condition=NumericalSparseObliqueCondition(missing=False, score=0.053251296281814575, attributes=[2, 5, 6], weights=[-0.052857689559459686, -0.12740656733512878, -0.0796140506863594], threshold=-0.044604748487472534), pos_child=NonLeaf(value=ProbabilityValue(num_examples=742.0, probability=[0.6738544474393531, 0.3261455525606469]), condition=NumericalSparseObliqueCondition(missing=False, score=0.040539998561143875, attributes=[1, 3], weights=[-0.0028991461731493473, -0.08910401165485382], threshold=-0.008685402572154999), pos_child=NonLeaf(value=ProbabilityValue(num_examples=342.0, probability=[0.8157894736842105, 0.18421052631578946]), condition=NumericalSparseObliqueCondition(missing=False, score=0.04142618179321289, attributes=[4], weights=[1.0], threshold=0.04757502302527428), pos_child=NonLeaf(value=ProbabilityValue(num_examples=183.0, probability=[0.7158469945355191, 0.28415300546448086]), condition=NumericalSparseObliqueCondition(missing=False, score=0.05151515081524849, attributes=[1], weights=[1.0], threshold=1.35428786277771), pos_child=Leaf(value=ProbabilityValue(num_examples=28.0, probability=[0.35714285714285715, 0.6428571428571429])), neg_child=NonLeaf(value=ProbabilityValue(num_examples=155.0, probability=[0.7806451612903226, 0.21935483870967742]), condition=NumericalSparseObliqueCondition(missing=False, score=0.043083686381578445, attributes=[8], weights=[1.0], threshold=0.16874529421329498), pos_child=Leaf(value=ProbabilityValue(num_examples=67.0, probability=[0.6417910447761194, 0.3582089552238806])), neg_child=Leaf(value=ProbabilityValue(num_examples=88.0, probability=[0.8863636363636364, 0.11363636363636363])))), neg_child=NonLeaf(value=ProbabilityValue(num_examples=159.0, probability=[0.9308176100628931, 0.06918238993710692]), condition=NumericalSparseObliqueCondition(missing=False, score=0.04968751594424248, attributes=[1], weights=[1.0], threshold=0.45125338435173035), pos_child=Leaf(value=ProbabilityValue(num_examples=57.0, probability=[0.8245614035087719, 0.17543859649122806])), neg_child=Leaf(value=ProbabilityValue(num_examples=102.0, probability=[0.9901960784313726, 0.00980392156862745])))), neg_child=NonLeaf(value=ProbabilityValue(num_examples=400.0, probability=[0.5525, 0.4475]), condition=NumericalSparseObliqueCondition(missing=False, score=0.07897112518548965, attributes=[1], weights=[1.0], threshold=-0.016433682292699814), pos_child=NonLeaf(value=ProbabilityValue(num_examples=274.0, probability=[0.4233576642335766, 0.5766423357664233]), condition=NumericalSparseObliqueCondition(missing=False, score=0.037852559238672256, attributes=[4], weights=[1.0], threshold=1.8432660102844238), pos_child=Leaf(value=ProbabilityValue(num_examples=18.0, probability=[0.0, 1.0])), neg_child=NonLeaf(value=ProbabilityValue(num_examples=256.0, probability=[0.453125, 0.546875]), condition=NumericalSparseObliqueCondition(missing=False, score=0.061811093240976334, attributes=[1, 2], weights=[-0.09883705526590347, -0.07697541266679764], threshold=-0.11890518665313721), pos_child=NonLeaf(value=ProbabilityValue(num_examples=146.0, probability=[0.6027397260273972, 0.3972602739726027]), condition=NumericalSparseObliqueCondition(missing=False, score=0.04984378069639206, attributes=[9], weights=[1.0], threshold=0.571755051612854), pos_child=Leaf(value=ProbabilityValue(num_examples=40.0, probability=[0.35, 0.65])), neg_child=NonLeaf(value=ProbabilityValue(num_examples=106.0, probability=[0.6981132075471698, 0.3018867924528302]), condition=NumericalSparseObliqueCondition(missing=False, score=0.06550544500350952, attributes=[6], weights=[1.0], threshold=-0.3191224932670593), pos_child=NonLeaf(value=ProbabilityValue(num_examples=58.0, probability=[0.5517241379310345, 0.4482758620689655]), condition=NumericalSparseObliqueCondition(missing=False, score=0.09043369442224503, attributes=[8], weights=[1.0], threshold=1.4181190729141235), pos_child=Leaf(value=ProbabilityValue(num_examples=6.0, probability=[0.0, 1.0])), neg_child=Leaf(value=ProbabilityValue(num_examples=52.0, probability=[0.6153846153846154, 0.38461538461538464]))), neg_child=Leaf(value=ProbabilityValue(num_examples=48.0, probability=[0.875, 0.125])))), neg_child=Leaf(value=ProbabilityValue(num_examples=110.0, probability=[0.2545454545454545, 0.7454545454545455])))), neg_child=NonLeaf(value=ProbabilityValue(num_examples=126.0, probability=[0.8333333333333334, 0.16666666666666666]), condition=NumericalSparseObliqueCondition(missing=False, score=0.09502603113651276, attributes=[2, 7], weights=[0.07720298320055008, 0.034438133239746094], threshold=-0.03132244944572449), pos_child=Leaf(value=ProbabilityValue(num_examples=76.0, probability=[0.7236842105263158, 0.27631578947368424])), neg_child=Leaf(value=ProbabilityValue(num_examples=50.0, probability=[1.0, 0.0]))))), neg_child=NonLeaf(value=ProbabilityValue(num_examples=858.0, probability=[0.34965034965034963, 0.6503496503496503]), condition=NumericalSparseObliqueCondition(missing=False, score=0.027874784544110298, attributes=[2], weights=[1.0], threshold=0.8453803062438965), pos_child=NonLeaf(value=ProbabilityValue(num_examples=354.0, probability=[0.2175141242937853, 0.7824858757062146]), condition=NumericalSparseObliqueCondition(missing=False, score=0.02652428299188614, attributes=[3], weights=[1.0], threshold=0.36735761165618896), pos_child=NonLeaf(value=ProbabilityValue(num_examples=187.0, probability=[0.12834224598930483, 0.8716577540106952]), condition=NumericalSparseObliqueCondition(missing=False, score=0.034788746386766434, attributes=[8], weights=[1.0], threshold=0.052107613533735275), pos_child=Leaf(value=ProbabilityValue(num_examples=110.0, probability=[0.05454545454545454, 0.9454545454545454])), neg_child=NonLeaf(value=ProbabilityValue(num_examples=77.0, probability=[0.23376623376623376, 0.7662337662337663]), condition=NumericalSparseObliqueCondition(missing=False, score=0.0974007099866867, attributes=[1], weights=[1.0], threshold=1.5059001445770264), pos_child=Leaf(value=ProbabilityValue(num_examples=23.0, probability=[0.0, 1.0])), neg_child=Leaf(value=ProbabilityValue(num_examples=54.0, probability=[0.3333333333333333, 0.6666666666666666])))), neg_child=NonLeaf(value=ProbabilityValue(num_examples=167.0, probability=[0.31736526946107785, 0.6826347305389222]), condition=NumericalSparseObliqueCondition(missing=False, score=0.044118430465459824, attributes=[8], weights=[1.0], threshold=1.3117594718933105), pos_child=Leaf(value=ProbabilityValue(num_examples=18.0, probability=[0.0, 1.0])), neg_child=NonLeaf(value=ProbabilityValue(num_examples=149.0, probability=[0.35570469798657717, 0.6442953020134228]), condition=NumericalSparseObliqueCondition(missing=False, score=0.05618910863995552, attributes=[1], weights=[1.0], threshold=-0.4843793213367462), pos_child=Leaf(value=ProbabilityValue(num_examples=124.0, probability=[0.28225806451612906, 0.717741935483871])), neg_child=NonLeaf(value=ProbabilityValue(num_examples=25.0, probability=[0.72, 0.28]), condition=NumericalSparseObliqueCondition(missing=False, score=0.40225911140441895, attributes=[7], weights=[1.0], threshold=0.1774005889892578), pos_child=Leaf(value=ProbabilityValue(num_examples=9.0, probability=[0.2222222222222222, 0.7777777777777778])), neg_child=Leaf(value=ProbabilityValue(num_examples=16.0, probability=[1.0, 0.0])))))), neg_child=NonLeaf(value=ProbabilityValue(num_examples=504.0, probability=[0.44246031746031744, 0.5575396825396826]), condition=NumericalSparseObliqueCondition(missing=False, score=0.1158423200249672, attributes=[1, 10], weights=[-0.07999606430530548, 0.006484793499112129], threshold=-0.0791228711605072), pos_child=NonLeaf(value=ProbabilityValue(num_examples=328.0, probability=[0.6097560975609756, 0.3902439024390244]), condition=NumericalSparseObliqueCondition(missing=False, score=0.028349151834845543, attributes=[5, 7], weights=[0.009386907331645489, -0.0715119019150734], threshold=-0.03691401332616806), pos_child=NonLeaf(value=ProbabilityValue(num_examples=218.0, probability=[0.6926605504587156, 0.3073394495412844]), condition=NumericalSparseObliqueCondition(missing=False, score=0.03084687888622284, attributes=[3], weights=[1.0], threshold=0.43099790811538696), pos_child=NonLeaf(value=ProbabilityValue(num_examples=90.0, probability=[0.5555555555555556, 0.4444444444444444]), condition=NumericalSparseObliqueCondition(missing=False, score=0.05859161913394928, attributes=[1, 6], weights=[-0.03025365248322487, 0.0007749254582449794], threshold=-0.006809590384364128), pos_child=Leaf(value=ProbabilityValue(num_examples=57.0, probability=[0.6842105263157895, 0.3157894736842105])), neg_child=NonLeaf(value=ProbabilityValue(num_examples=33.0, probability=[0.3333333333333333, 0.6666666666666666]), condition=NumericalSparseObliqueCondition(missing=False, score=0.19565846025943756, attributes=[4, 6], weights=[-0.02392345294356346, -0.03987818583846092], threshold=0.0512404665350914), pos_child=Leaf(value=ProbabilityValue(num_examples=5.0, probability=[1.0, 0.0])), neg_child=Leaf(value=ProbabilityValue(num_examples=28.0, probability=[0.21428571428571427, 0.7857142857142857])))), neg_child=NonLeaf(value=ProbabilityValue(num_examples=128.0, probability=[0.7890625, 0.2109375]), condition=NumericalSparseObliqueCondition(missing=False, score=0.04465324804186821, attributes=[5, 9, 10], weights=[0.06085674837231636, 0.15212242305278778, 0.10847906768321991], threshold=0.294242799282074), pos_child=Leaf(value=ProbabilityValue(num_examples=22.0, probability=[0.5, 0.5])), neg_child=Leaf(value=ProbabilityValue(num_examples=106.0, probability=[0.8490566037735849, 0.1509433962264151])))), neg_child=NonLeaf(value=ProbabilityValue(num_examples=110.0, probability=[0.44545454545454544, 0.5545454545454546]), condition=NumericalSparseObliqueCondition(missing=False, score=0.10557600855827332, attributes=[1], weights=[1.0], threshold=-0.9217144250869751), pos_child=NonLeaf(value=ProbabilityValue(num_examples=97.0, probability=[0.3711340206185567, 0.6288659793814433]), condition=NumericalSparseObliqueCondition(missing=False, score=0.06482472270727158, attributes=[3], weights=[1.0], threshold=-1.5358127355575562), pos_child=Leaf(value=ProbabilityValue(num_examples=91.0, probability=[0.32967032967032966, 0.6703296703296703])), neg_child=Leaf(value=ProbabilityValue(num_examples=6.0, probability=[1.0, 0.0]))), neg_child=Leaf(value=ProbabilityValue(num_examples=13.0, probability=[1.0, 0.0])))), neg_child=NonLeaf(value=ProbabilityValue(num_examples=176.0, probability=[0.13068181818181818, 0.8693181818181818]), condition=NumericalSparseObliqueCondition(missing=False, score=0.0358642041683197, attributes=[1, 4, 9], weights=[0.09697337448596954, 0.10095655918121338, 0.06477552652359009], threshold=0.09215907752513885), pos_child=Leaf(value=ProbabilityValue(num_examples=149.0, probability=[0.087248322147651, 0.912751677852349])), neg_child=NonLeaf(value=ProbabilityValue(num_examples=27.0, probability=[0.37037037037037035, 0.6296296296296297]), condition=NumericalSparseObliqueCondition(missing=False, score=0.2011781483888626, attributes=[3, 6], weights=[0.0841446965932846, -0.05701976642012596], threshold=-0.014998072758316994), pos_child=Leaf(value=ProbabilityValue(num_examples=9.0, probability=[0.0, 1.0])), neg_child=Leaf(value=ProbabilityValue(num_examples=18.0, probability=[0.5555555555555556, 0.4444444444444444])))))))"
      ]
     },
     "execution_count": 43,
     "metadata": {},
     "output_type": "execute_result"
    }
   ],
   "source": [
    "ydf_root = ydf_tree.root\n",
    "ydf_root"
   ]
  },
  {
   "cell_type": "code",
   "execution_count": 44,
   "metadata": {},
   "outputs": [
    {
     "data": {
      "text/plain": [
       "NonLeaf(value=ProbabilityValue(num_examples=858.0, probability=[0.34965034965034963, 0.6503496503496503]), condition=NumericalSparseObliqueCondition(missing=False, score=0.027874784544110298, attributes=[2], weights=[1.0], threshold=0.8453803062438965), pos_child=NonLeaf(value=ProbabilityValue(num_examples=354.0, probability=[0.2175141242937853, 0.7824858757062146]), condition=NumericalSparseObliqueCondition(missing=False, score=0.02652428299188614, attributes=[3], weights=[1.0], threshold=0.36735761165618896), pos_child=NonLeaf(value=ProbabilityValue(num_examples=187.0, probability=[0.12834224598930483, 0.8716577540106952]), condition=NumericalSparseObliqueCondition(missing=False, score=0.034788746386766434, attributes=[8], weights=[1.0], threshold=0.052107613533735275), pos_child=Leaf(value=ProbabilityValue(num_examples=110.0, probability=[0.05454545454545454, 0.9454545454545454])), neg_child=NonLeaf(value=ProbabilityValue(num_examples=77.0, probability=[0.23376623376623376, 0.7662337662337663]), condition=NumericalSparseObliqueCondition(missing=False, score=0.0974007099866867, attributes=[1], weights=[1.0], threshold=1.5059001445770264), pos_child=Leaf(value=ProbabilityValue(num_examples=23.0, probability=[0.0, 1.0])), neg_child=Leaf(value=ProbabilityValue(num_examples=54.0, probability=[0.3333333333333333, 0.6666666666666666])))), neg_child=NonLeaf(value=ProbabilityValue(num_examples=167.0, probability=[0.31736526946107785, 0.6826347305389222]), condition=NumericalSparseObliqueCondition(missing=False, score=0.044118430465459824, attributes=[8], weights=[1.0], threshold=1.3117594718933105), pos_child=Leaf(value=ProbabilityValue(num_examples=18.0, probability=[0.0, 1.0])), neg_child=NonLeaf(value=ProbabilityValue(num_examples=149.0, probability=[0.35570469798657717, 0.6442953020134228]), condition=NumericalSparseObliqueCondition(missing=False, score=0.05618910863995552, attributes=[1], weights=[1.0], threshold=-0.4843793213367462), pos_child=Leaf(value=ProbabilityValue(num_examples=124.0, probability=[0.28225806451612906, 0.717741935483871])), neg_child=NonLeaf(value=ProbabilityValue(num_examples=25.0, probability=[0.72, 0.28]), condition=NumericalSparseObliqueCondition(missing=False, score=0.40225911140441895, attributes=[7], weights=[1.0], threshold=0.1774005889892578), pos_child=Leaf(value=ProbabilityValue(num_examples=9.0, probability=[0.2222222222222222, 0.7777777777777778])), neg_child=Leaf(value=ProbabilityValue(num_examples=16.0, probability=[1.0, 0.0])))))), neg_child=NonLeaf(value=ProbabilityValue(num_examples=504.0, probability=[0.44246031746031744, 0.5575396825396826]), condition=NumericalSparseObliqueCondition(missing=False, score=0.1158423200249672, attributes=[1, 10], weights=[-0.07999606430530548, 0.006484793499112129], threshold=-0.0791228711605072), pos_child=NonLeaf(value=ProbabilityValue(num_examples=328.0, probability=[0.6097560975609756, 0.3902439024390244]), condition=NumericalSparseObliqueCondition(missing=False, score=0.028349151834845543, attributes=[5, 7], weights=[0.009386907331645489, -0.0715119019150734], threshold=-0.03691401332616806), pos_child=NonLeaf(value=ProbabilityValue(num_examples=218.0, probability=[0.6926605504587156, 0.3073394495412844]), condition=NumericalSparseObliqueCondition(missing=False, score=0.03084687888622284, attributes=[3], weights=[1.0], threshold=0.43099790811538696), pos_child=NonLeaf(value=ProbabilityValue(num_examples=90.0, probability=[0.5555555555555556, 0.4444444444444444]), condition=NumericalSparseObliqueCondition(missing=False, score=0.05859161913394928, attributes=[1, 6], weights=[-0.03025365248322487, 0.0007749254582449794], threshold=-0.006809590384364128), pos_child=Leaf(value=ProbabilityValue(num_examples=57.0, probability=[0.6842105263157895, 0.3157894736842105])), neg_child=NonLeaf(value=ProbabilityValue(num_examples=33.0, probability=[0.3333333333333333, 0.6666666666666666]), condition=NumericalSparseObliqueCondition(missing=False, score=0.19565846025943756, attributes=[4, 6], weights=[-0.02392345294356346, -0.03987818583846092], threshold=0.0512404665350914), pos_child=Leaf(value=ProbabilityValue(num_examples=5.0, probability=[1.0, 0.0])), neg_child=Leaf(value=ProbabilityValue(num_examples=28.0, probability=[0.21428571428571427, 0.7857142857142857])))), neg_child=NonLeaf(value=ProbabilityValue(num_examples=128.0, probability=[0.7890625, 0.2109375]), condition=NumericalSparseObliqueCondition(missing=False, score=0.04465324804186821, attributes=[5, 9, 10], weights=[0.06085674837231636, 0.15212242305278778, 0.10847906768321991], threshold=0.294242799282074), pos_child=Leaf(value=ProbabilityValue(num_examples=22.0, probability=[0.5, 0.5])), neg_child=Leaf(value=ProbabilityValue(num_examples=106.0, probability=[0.8490566037735849, 0.1509433962264151])))), neg_child=NonLeaf(value=ProbabilityValue(num_examples=110.0, probability=[0.44545454545454544, 0.5545454545454546]), condition=NumericalSparseObliqueCondition(missing=False, score=0.10557600855827332, attributes=[1], weights=[1.0], threshold=-0.9217144250869751), pos_child=NonLeaf(value=ProbabilityValue(num_examples=97.0, probability=[0.3711340206185567, 0.6288659793814433]), condition=NumericalSparseObliqueCondition(missing=False, score=0.06482472270727158, attributes=[3], weights=[1.0], threshold=-1.5358127355575562), pos_child=Leaf(value=ProbabilityValue(num_examples=91.0, probability=[0.32967032967032966, 0.6703296703296703])), neg_child=Leaf(value=ProbabilityValue(num_examples=6.0, probability=[1.0, 0.0]))), neg_child=Leaf(value=ProbabilityValue(num_examples=13.0, probability=[1.0, 0.0])))), neg_child=NonLeaf(value=ProbabilityValue(num_examples=176.0, probability=[0.13068181818181818, 0.8693181818181818]), condition=NumericalSparseObliqueCondition(missing=False, score=0.0358642041683197, attributes=[1, 4, 9], weights=[0.09697337448596954, 0.10095655918121338, 0.06477552652359009], threshold=0.09215907752513885), pos_child=Leaf(value=ProbabilityValue(num_examples=149.0, probability=[0.087248322147651, 0.912751677852349])), neg_child=NonLeaf(value=ProbabilityValue(num_examples=27.0, probability=[0.37037037037037035, 0.6296296296296297]), condition=NumericalSparseObliqueCondition(missing=False, score=0.2011781483888626, attributes=[3, 6], weights=[0.0841446965932846, -0.05701976642012596], threshold=-0.014998072758316994), pos_child=Leaf(value=ProbabilityValue(num_examples=9.0, probability=[0.0, 1.0])), neg_child=Leaf(value=ProbabilityValue(num_examples=18.0, probability=[0.5555555555555556, 0.4444444444444444]))))))"
      ]
     },
     "execution_count": 44,
     "metadata": {},
     "output_type": "execute_result"
    }
   ],
   "source": [
    "ydf_root.neg_child"
   ]
  },
  {
   "cell_type": "code",
   "execution_count": 45,
   "metadata": {},
   "outputs": [],
   "source": [
    "root_str = str(ydf_root)"
   ]
  },
  {
   "cell_type": "code",
   "execution_count": 71,
   "metadata": {},
   "outputs": [],
   "source": [
    "import re\n",
    "import numpy as np\n",
    "from scipy.sparse import lil_matrix\n",
    "\n",
    "def extract_projections(tree_str):\n",
    "    \n",
    "    attr_blocks = re.findall(r'attributes=\\[([0-9,\\s]+)\\]\\s*,\\s*weights=\\[([0-9eE+.\\-,\\s]+)\\]', tree_str)\n",
    "\n",
    "    projection_rows = []\n",
    "    max_feature_index = -1\n",
    "\n",
    "    for attr_str, weight_str in attr_blocks:\n",
    "        attrs = [int(i.strip()) for i in attr_str.split(',') if i.strip()]\n",
    "        weights = [float(w.strip()) for w in weight_str.split(',') if w.strip()]\n",
    "        \n",
    "        if len(attrs) != len(weights):\n",
    "            raise ValueError(f\"Mismatched attributes and weights: {attrs}, {weights}\")\n",
    "        \n",
    "        # Track the maximum feature index\n",
    "        if attrs:\n",
    "            max_feature_index = max(max_feature_index, max(attrs))\n",
    "        \n",
    "        projection_rows.append((attrs, weights))\n",
    "\n",
    "    # Projection dimension = max feature index + 1\n",
    "    proj_dim = max_feature_index + 1\n",
    "\n",
    "    # Initialize sparse projection matrix\n",
    "    projection_matrix = lil_matrix((len(projection_rows), proj_dim))\n",
    "    for i, (attrs, weights) in enumerate(projection_rows):\n",
    "        for j, attr in enumerate(attrs):\n",
    "            projection_matrix[i, attr] = weights[j]\n",
    "\n",
    "    return projection_matrix, proj_dim\n"
   ]
  },
  {
   "cell_type": "code",
   "execution_count": 46,
   "metadata": {},
   "outputs": [
    {
     "data": {
      "text/plain": [
       "(30, 11)"
      ]
     },
     "execution_count": 46,
     "metadata": {},
     "output_type": "execute_result"
    }
   ],
   "source": [
    "projection_matrix, proj_dim = extract_projections(root_str)\n",
    "projection_matrix.shape"
   ]
  },
  {
   "cell_type": "code",
   "execution_count": 47,
   "metadata": {},
   "outputs": [
    {
     "data": {
      "text/plain": [
       "(17, 11)"
      ]
     },
     "execution_count": 47,
     "metadata": {},
     "output_type": "execute_result"
    }
   ],
   "source": [
    "projection_matrix2, proj_dim2 = extract_projections(str(ydf_root.neg_child))\n",
    "projection_matrix2.shape"
   ]
  },
  {
   "cell_type": "code",
   "execution_count": 48,
   "metadata": {},
   "outputs": [
    {
     "data": {
      "text/plain": [
       "(12, 10)"
      ]
     },
     "execution_count": 48,
     "metadata": {},
     "output_type": "execute_result"
    }
   ],
   "source": [
    "projection_matrix3, proj_dim3 = extract_projections(str(ydf_root.pos_child))\n",
    "projection_matrix3.shape"
   ]
  },
  {
   "cell_type": "code",
   "execution_count": 49,
   "metadata": {},
   "outputs": [
    {
     "data": {
      "text/plain": [
       "(30, 11)"
      ]
     },
     "execution_count": 49,
     "metadata": {},
     "output_type": "execute_result"
    }
   ],
   "source": [
    "proj_dim\n",
    "projection_matrix.shape"
   ]
  },
  {
   "cell_type": "code",
   "execution_count": 42,
   "metadata": {},
   "outputs": [
    {
     "data": {
      "text/plain": [
       "300"
      ]
     },
     "execution_count": 42,
     "metadata": {},
     "output_type": "execute_result"
    }
   ],
   "source": [
    "len(ydf_model.get_all_trees())"
   ]
  },
  {
   "cell_type": "markdown",
   "metadata": {},
   "source": [
    "Do a pipline"
   ]
  },
  {
   "cell_type": "code",
   "execution_count": 56,
   "metadata": {},
   "outputs": [
    {
     "data": {
      "text/plain": [
       "{'label': 'target',\n",
       " 'max_depth': 10,\n",
       " 'num_trees': 300,\n",
       " 'random_seed': 42,\n",
       " 'honest': False,\n",
       " 'bootstrap_size_ratio': 1.0,\n",
       " 'bootstrap_training_dataset': True,\n",
       " 'categorical_algorithm': 'ONE_HOT',\n",
       " 'compute_oob_performances': False,\n",
       " 'compute_oob_variable_importances': False,\n",
       " 'in_split_min_examples_check': True,\n",
       " 'min_examples': 1,\n",
       " 'keep_non_leaf_label_distribution': True,\n",
       " 'max_num_nodes': None,\n",
       " 'growing_strategy': 'BEST_FIRST_GLOBAL',\n",
       " 'num_candidate_attributes_ratio': 1.0,\n",
       " 'sorting_strategy': 'IN_NODE',\n",
       " 'split_axis': 'SPARSE_OBLIQUE',\n",
       " 'sparse_oblique_weights': 'CONTINUOUS',\n",
       " 'sparse_oblique_projection_density_factor': 1.0,\n",
       " 'sparse_oblique_normalization': 'MIN_MAX',\n",
       " 'sparse_oblique_max_num_projections': 100,\n",
       " 'sparse_oblique_num_projections_exponent': 1.0,\n",
       " 'sampling_with_replacement': False}"
      ]
     },
     "execution_count": 56,
     "metadata": {},
     "output_type": "execute_result"
    }
   ],
   "source": [
    "params_ydf"
   ]
  },
  {
   "cell_type": "code",
   "execution_count": null,
   "metadata": {},
   "outputs": [],
   "source": [
    "def extract_projections_pipline(params_ydf, n_sample=2000, n_estimator=100, n_dim=50, max_feature=100, feature_combination=3.0, exponent=1.0):\n",
    "    \n",
    "    X, y = make_trunk_classification(n_samples=n_sample, n_dim=n_dim, n_informative=600, seed=0)\n",
    "    X_train, _, y_train, _ = train_test_split(X, y, test_size=0.2, random_state=42, stratify=y)\n",
    "    df_train = prepare_dataframe(X_train, y_train)\n",
    "\n",
    "    params_ydf1 = params_ydf.copy()\n",
    "    params_ydf1[\"num_trees\"] = n_estimator\n",
    "    params_ydf1[\"sparse_oblique_max_num_projections\"] = max_feature\n",
    "    params_ydf1[\"sparse_oblique_projection_density_factor\"] = feature_combination\n",
    "    params_ydf1[\"sparse_oblique_num_projections_exponent\"] = exponent\n",
    "\n",
    "\n",
    "    learner = ydf.RandomForestLearner(**params_ydf1)\n",
    "    start_time = time.time()\n",
    "    ydf_model = learner.train(df_train)\n",
    "    time_taken = time.time() - start_time\n",
    "\n",
    "    root_str = str(ydf_model.get_tree(0).root)\n",
    "    print(\"*\",root_str)\n",
    "    projection_matrix, proj_dim = extract_projections(root_str)\n",
    "\n",
    "    return projection_matrix, proj_dim, time_taken, ydf_model"
   ]
  },
  {
   "cell_type": "code",
   "execution_count": null,
   "metadata": {},
   "outputs": [
    {
     "name": "stdout",
     "output_type": "stream",
     "text": [
      "Train model on 1600 examples\n"
     ]
    },
    {
     "name": "stderr",
     "output_type": "stream",
     "text": [
      "c:\\Users\\clark\\anaconda3\\envs\\catboost_env\\lib\\site-packages\\treeple\\datasets\\hyppo.py:515: RuntimeWarning: Number of informative dimensions {n_informative} must be less than number of dimensions, 50. Setting n_informative to n_dim.\n",
      "  warnings.warn(\n"
     ]
    },
    {
     "name": "stdout",
     "output_type": "stream",
     "text": [
      "Model trained in 0:00:00.233449\n",
      "* NonLeaf(value=ProbabilityValue(num_examples=1600.0, probability=[0.5, 0.5]), condition=NumericalSparseObliqueCondition(missing=False, score=0.10298066586256027, attributes=[1], weights=[1.0], threshold=0.40478795766830444), pos_child=NonLeaf(value=ProbabilityValue(num_examples=846.0, probability=[0.2895981087470449, 0.710401891252955]), condition=NumericalSparseObliqueCondition(missing=False, score=0.050919171422719955, attributes=[2], weights=[1.0], threshold=0.702617883682251), pos_child=NonLeaf(value=ProbabilityValue(num_examples=361.0, probability=[0.12742382271468145, 0.8725761772853186]), condition=NumericalSparseObliqueCondition(missing=False, score=0.03299005702137947, attributes=[1], weights=[1.0], threshold=1.014682650566101), pos_child=NonLeaf(value=ProbabilityValue(num_examples=229.0, probability=[0.0611353711790393, 0.9388646288209607]), condition=NumericalSparseObliqueCondition(missing=False, score=0.04389900341629982, attributes=[3, 12, 36, 45], weights=[0.1311311572790146, 0.0578899048268795, 0.0331183522939682, 0.12415806204080582], threshold=-0.05111448094248772), pos_child=Leaf(value=ProbabilityValue(num_examples=186.0, probability=[0.021505376344086023, 0.978494623655914])), neg_child=NonLeaf(value=ProbabilityValue(num_examples=43.0, probability=[0.23255813953488372, 0.7674418604651163]), condition=NumericalSparseObliqueCondition(missing=False, score=0.16326437890529633, attributes=[45], weights=[1.0], threshold=-0.8143545985221863), pos_child=Leaf(value=ProbabilityValue(num_examples=24.0, probability=[0.4166666666666667, 0.5833333333333334])), neg_child=Leaf(value=ProbabilityValue(num_examples=19.0, probability=[0.0, 1.0])))), neg_child=NonLeaf(value=ProbabilityValue(num_examples=132.0, probability=[0.24242424242424243, 0.7575757575757576]), condition=NumericalSparseObliqueCondition(missing=False, score=0.08788668364286423, attributes=[1, 14, 16, 22], weights=[-0.05659477412700653, -0.08192336559295654, -0.01018742099404335, -0.10580632090568542], threshold=-0.16936683654785156), pos_child=NonLeaf(value=ProbabilityValue(num_examples=97.0, probability=[0.32989690721649484, 0.6701030927835051]), condition=NumericalSparseObliqueCondition(missing=False, score=0.0775788426399231, attributes=[1, 8, 13, 26], weights=[-0.12267959862947464, -0.1287887692451477, -0.08568156510591507, 0.040777675807476044], threshold=-0.142290860414505), pos_child=Leaf(value=ProbabilityValue(num_examples=56.0, probability=[0.48214285714285715, 0.5178571428571429])), neg_child=Leaf(value=ProbabilityValue(num_examples=41.0, probability=[0.12195121951219512, 0.8780487804878049]))), neg_child=Leaf(value=ProbabilityValue(num_examples=35.0, probability=[0.0, 1.0])))), neg_child=NonLeaf(value=ProbabilityValue(num_examples=485.0, probability=[0.41030927835051545, 0.5896907216494846]), condition=NumericalSparseObliqueCondition(missing=False, score=0.04655832797288895, attributes=[9, 17, 20, 36], weights=[-0.06414729356765747, -0.029757577925920486, -0.10052506625652313, -0.09849251806735992], threshold=0.002262814436107874), pos_child=NonLeaf(value=ProbabilityValue(num_examples=180.0, probability=[0.6055555555555555, 0.39444444444444443]), condition=NumericalSparseObliqueCondition(missing=False, score=0.054134562611579895, attributes=[11, 24], weights=[0.048615675419569016, 0.117714062333107], threshold=0.15650826692581177), pos_child=Leaf(value=ProbabilityValue(num_examples=27.0, probability=[0.2222222222222222, 0.7777777777777778])), neg_child=NonLeaf(value=ProbabilityValue(num_examples=153.0, probability=[0.673202614379085, 0.32679738562091504]), condition=NumericalSparseObliqueCondition(missing=False, score=0.06652515381574631, attributes=[9, 19, 27, 45], weights=[-0.02986583299934864, -0.1258382946252823, -0.10197383910417557, -0.12832951545715332], threshold=-0.08527807891368866), pos_child=NonLeaf(value=ProbabilityValue(num_examples=105.0, probability=[0.7904761904761904, 0.20952380952380953]), condition=NumericalSparseObliqueCondition(missing=False, score=0.06656517088413239, attributes=[5, 40, 44], weights=[0.06000445410609245, 0.08198093622922897, -0.08055708557367325], threshold=0.05587640404701233), pos_child=Leaf(value=ProbabilityValue(num_examples=24.0, probability=[0.5, 0.5])), neg_child=Leaf(value=ProbabilityValue(num_examples=81.0, probability=[0.8765432098765432, 0.12345679012345678]))), neg_child=NonLeaf(value=ProbabilityValue(num_examples=48.0, probability=[0.4166666666666667, 0.5833333333333334]), condition=NumericalSparseObliqueCondition(missing=False, score=0.1509529948234558, attributes=[3, 20, 37], weights=[-0.07528208941221237, 0.09728880226612091, -0.028981300070881844], threshold=-0.16706308722496033), pos_child=Leaf(value=ProbabilityValue(num_examples=32.0, probability=[0.59375, 0.40625])), neg_child=Leaf(value=ProbabilityValue(num_examples=16.0, probability=[0.0625, 0.9375]))))), neg_child=NonLeaf(value=ProbabilityValue(num_examples=305.0, probability=[0.29508196721311475, 0.7049180327868853]), condition=NumericalSparseObliqueCondition(missing=False, score=0.04773642122745514, attributes=[1, 4, 27], weights=[0.1454419195652008, -0.002112429356202483, -0.03953002393245697], threshold=0.20609763264656067), pos_child=Leaf(value=ProbabilityValue(num_examples=115.0, probability=[0.12173913043478261, 0.8782608695652174])), neg_child=NonLeaf(value=ProbabilityValue(num_examples=190.0, probability=[0.4, 0.6]), condition=NumericalSparseObliqueCondition(missing=False, score=0.07592198997735977, attributes=[1, 2, 8, 28], weights=[-0.0719890296459198, -0.13517358899116516, -0.11177613586187363, 0.04726843163371086], threshold=-0.07573699951171875), pos_child=NonLeaf(value=ProbabilityValue(num_examples=106.0, probability=[0.5660377358490566, 0.4339622641509434]), condition=NumericalSparseObliqueCondition(missing=False, score=0.10175134241580963, attributes=[5, 29], weights=[0.14218167960643768, 0.13230013847351074], threshold=0.03399277850985527), pos_child=NonLeaf(value=ProbabilityValue(num_examples=47.0, probability=[0.3191489361702128, 0.6808510638297872]), condition=NumericalSparseObliqueCondition(missing=False, score=0.20035192370414734, attributes=[9, 16, 32, 39, 44], weights=[-0.11125605553388596, -0.04904933646321297, -0.13349828124046326, -0.14166313409805298, -0.04518931731581688], threshold=0.10903680324554443), pos_child=Leaf(value=ProbabilityValue(num_examples=7.0, probability=[1.0, 0.0])), neg_child=Leaf(value=ProbabilityValue(num_examples=40.0, probability=[0.2, 0.8]))), neg_child=NonLeaf(value=ProbabilityValue(num_examples=59.0, probability=[0.7627118644067796, 0.23728813559322035]), condition=NumericalSparseObliqueCondition(missing=False, score=0.1355556845664978, attributes=[22, 38, 41], weights=[-0.07177091389894485, 0.11054572463035583, -0.09358026832342148], threshold=-0.2537059783935547), pos_child=Leaf(value=ProbabilityValue(num_examples=54.0, probability=[0.8333333333333334, 0.16666666666666666])), neg_child=Leaf(value=ProbabilityValue(num_examples=5.0, probability=[0.0, 1.0])))), neg_child=Leaf(value=ProbabilityValue(num_examples=84.0, probability=[0.19047619047619047, 0.8095238095238095])))))), neg_child=NonLeaf(value=ProbabilityValue(num_examples=754.0, probability=[0.7360742705570292, 0.2639257294429708]), condition=NumericalSparseObliqueCondition(missing=False, score=0.048373665660619736, attributes=[2, 12, 42], weights=[-0.1162201538681984, -0.05695783719420433, -0.07197189331054688], threshold=-0.02652764692902565), pos_child=NonLeaf(value=ProbabilityValue(num_examples=378.0, probability=[0.8703703703703703, 0.12962962962962962]), condition=NumericalSparseObliqueCondition(missing=False, score=0.037674568593502045, attributes=[1], weights=[1.0], threshold=0.07970018684864044), pos_child=NonLeaf(value=ProbabilityValue(num_examples=86.0, probability=[0.686046511627907, 0.313953488372093]), condition=NumericalSparseObliqueCondition(missing=False, score=0.12155766785144806, attributes=[24, 37], weights=[-0.13533765077590942, -0.07650602608919144], threshold=0.06173987686634064), pos_child=Leaf(value=ProbabilityValue(num_examples=30.0, probability=[0.9666666666666667, 0.03333333333333333])), neg_child=NonLeaf(value=ProbabilityValue(num_examples=56.0, probability=[0.5357142857142857, 0.4642857142857143]), condition=NumericalSparseObliqueCondition(missing=False, score=0.1791093498468399, attributes=[3, 8, 17, 23, 29, 31], weights=[0.0541238859295845, -0.06762413680553436, -0.09555350989103317, -0.03258047252893448, -0.11586106568574905, -0.1079929918050766], threshold=-0.2636469602584839), pos_child=Leaf(value=ProbabilityValue(num_examples=45.0, probability=[0.6666666666666666, 0.3333333333333333])), neg_child=Leaf(value=ProbabilityValue(num_examples=11.0, probability=[0.0, 1.0])))), neg_child=NonLeaf(value=ProbabilityValue(num_examples=292.0, probability=[0.9246575342465754, 0.07534246575342465]), condition=NumericalSparseObliqueCondition(missing=False, score=0.02516327053308487, attributes=[5], weights=[1.0], threshold=0.7874295711517334), pos_child=NonLeaf(value=ProbabilityValue(num_examples=77.0, probability=[0.8181818181818182, 0.18181818181818182]), condition=NumericalSparseObliqueCondition(missing=False, score=0.09826766699552536, attributes=[1, 4, 12, 16], weights=[-0.0325150340795517, 0.06536614894866943, -0.06281974911689758, 0.11281619966030121], threshold=0.12098360061645508), pos_child=Leaf(value=ProbabilityValue(num_examples=21.0, probability=[0.5238095238095238, 0.47619047619047616])), neg_child=NonLeaf(value=ProbabilityValue(num_examples=56.0, probability=[0.9285714285714286, 0.07142857142857142]), condition=NumericalSparseObliqueCondition(missing=False, score=0.1289096176624298, attributes=[2, 9, 10, 14], weights=[-0.07546105235815048, -0.07881223410367966, -0.09201828390359879, 0.1371692717075348], threshold=-0.239564910531044), pos_child=Leaf(value=ProbabilityValue(num_examples=52.0, probability=[0.9807692307692307, 0.019230769230769232])), neg_child=Leaf(value=ProbabilityValue(num_examples=4.0, probability=[0.25, 0.75])))), neg_child=Leaf(value=ProbabilityValue(num_examples=215.0, probability=[0.9627906976744186, 0.037209302325581395])))), neg_child=NonLeaf(value=ProbabilityValue(num_examples=376.0, probability=[0.601063829787234, 0.39893617021276595]), condition=NumericalSparseObliqueCondition(missing=False, score=0.05458693951368332, attributes=[1, 3], weights=[0.10632432997226715, 0.06311127543449402], threshold=-0.09261337667703629), pos_child=NonLeaf(value=ProbabilityValue(num_examples=284.0, probability=[0.5140845070422535, 0.4859154929577465]), condition=NumericalSparseObliqueCondition(missing=False, score=0.06790007650852203, attributes=[4, 13], weights=[-0.07732191681861877, -0.025810349732637405], threshold=-0.07538634538650513), pos_child=NonLeaf(value=ProbabilityValue(num_examples=209.0, probability=[0.6220095693779905, 0.37799043062200954]), condition=NumericalSparseObliqueCondition(missing=False, score=0.05940460041165352, attributes=[5, 10], weights=[0.02986379899084568, -0.08621413260698318], threshold=0.04795043170452118), pos_child=Leaf(value=ProbabilityValue(num_examples=61.0, probability=[0.8688524590163934, 0.13114754098360656])), neg_child=NonLeaf(value=ProbabilityValue(num_examples=148.0, probability=[0.5202702702702703, 0.4797297297297297]), condition=NumericalSparseObliqueCondition(missing=False, score=0.0981055423617363, attributes=[6], weights=[1.0], threshold=0.303017258644104), pos_child=Leaf(value=ProbabilityValue(num_examples=57.0, probability=[0.24561403508771928, 0.7543859649122807])), neg_child=NonLeaf(value=ProbabilityValue(num_examples=91.0, probability=[0.6923076923076923, 0.3076923076923077]), condition=NumericalSparseObliqueCondition(missing=False, score=0.09116653352975845, attributes=[23, 24, 32, 37, 44], weights=[-0.03806651756167412, 0.1368131935596466, 0.1337375044822693, 0.09747105836868286, 0.0960213914513588], threshold=0.229112446308136), pos_child=Leaf(value=ProbabilityValue(num_examples=16.0, probability=[0.25, 0.75])), neg_child=Leaf(value=ProbabilityValue(num_examples=75.0, probability=[0.7866666666666666, 0.21333333333333335]))))), neg_child=Leaf(value=ProbabilityValue(num_examples=75.0, probability=[0.21333333333333335, 0.7866666666666666]))), neg_child=NonLeaf(value=ProbabilityValue(num_examples=92.0, probability=[0.8695652173913043, 0.13043478260869565]), condition=NumericalSparseObliqueCondition(missing=False, score=0.12161914259195328, attributes=[33, 49], weights=[-0.05267729237675667, -0.1273234635591507], threshold=-0.02899809554219246), pos_child=Leaf(value=ProbabilityValue(num_examples=52.0, probability=[1.0, 0.0])), neg_child=Leaf(value=ProbabilityValue(num_examples=40.0, probability=[0.7, 0.3]))))))\n"
     ]
    },
    {
     "data": {
      "text/plain": [
       "(30, 50)"
      ]
     },
     "execution_count": 84,
     "metadata": {},
     "output_type": "execute_result"
    }
   ],
   "source": [
    "projection_matrix, proj_dim, _, _ = extract_projections_pipline(params_ydf,\n",
    "                                                n_sample=2000, \n",
    "                                                n_estimator=100, \n",
    "                                                n_dim=50, \n",
    "                                                max_feature=100, \n",
    "                                                feature_combination=3.0)\n",
    "projection_matrix.shape"
   ]
  },
  {
   "cell_type": "code",
   "execution_count": null,
   "metadata": {},
   "outputs": [
    {
     "name": "stdout",
     "output_type": "stream",
     "text": [
      "Train model on 1600 examples\n"
     ]
    },
    {
     "name": "stderr",
     "output_type": "stream",
     "text": [
      "c:\\Users\\clark\\anaconda3\\envs\\catboost_env\\lib\\site-packages\\treeple\\datasets\\hyppo.py:515: RuntimeWarning: Number of informative dimensions {n_informative} must be less than number of dimensions, 200. Setting n_informative to n_dim.\n",
      "  warnings.warn(\n"
     ]
    },
    {
     "name": "stdout",
     "output_type": "stream",
     "text": [
      "Model trained in 0:00:00.524940\n",
      "* NonLeaf(value=ProbabilityValue(num_examples=1600.0, probability=[0.5, 0.5]), condition=NumericalSparseObliqueCondition(missing=False, score=0.09011893719434738, attributes=[1], weights=[1.0], threshold=0.39532381296157837), pos_child=NonLeaf(value=ProbabilityValue(num_examples=838.0, probability=[0.30071599045346065, 0.6992840095465394]), condition=NumericalSparseObliqueCondition(missing=False, score=0.018235361203551292, attributes=[2, 107, 127, 167], weights=[0.14494670927524567, 0.13897280395030975, 0.07349523156881332, 0.0880846455693245], threshold=0.1965847909450531), pos_child=NonLeaf(value=ProbabilityValue(num_examples=278.0, probability=[0.17985611510791366, 0.8201438848920863]), condition=NumericalSparseObliqueCondition(missing=False, score=0.03449970856308937, attributes=[37, 42, 111, 146, 193], weights=[0.008129679597914219, 0.09601710736751556, 0.14890573918819427, 0.11647744476795197, 0.047354381531476974], threshold=0.2536314129829407), pos_child=Leaf(value=ProbabilityValue(num_examples=44.0, probability=[0.0, 1.0])), neg_child=NonLeaf(value=ProbabilityValue(num_examples=234.0, probability=[0.21367521367521367, 0.7863247863247863]), condition=NumericalSparseObliqueCondition(missing=False, score=0.04237057641148567, attributes=[7, 60, 100, 145], weights=[0.13582761585712433, -0.044199611991643906, 0.04191521182656288, 0.06615838408470154], threshold=0.03570769354701042), pos_child=Leaf(value=ProbabilityValue(num_examples=110.0, probability=[0.09090909090909091, 0.9090909090909091])), neg_child=NonLeaf(value=ProbabilityValue(num_examples=124.0, probability=[0.3225806451612903, 0.6774193548387096]), condition=NumericalSparseObliqueCondition(missing=False, score=0.06512448936700821, attributes=[189], weights=[1.0], threshold=-0.4397394061088562), pos_child=NonLeaf(value=ProbabilityValue(num_examples=78.0, probability=[0.19230769230769232, 0.8076923076923077]), condition=NumericalSparseObliqueCondition(missing=False, score=0.1417640596628189, attributes=[59, 82, 169], weights=[0.12369513511657715, -0.11126907169818878, 0.04892943426966667], threshold=-0.2684440314769745), pos_child=Leaf(value=ProbabilityValue(num_examples=72.0, probability=[0.125, 0.875])), neg_child=Leaf(value=ProbabilityValue(num_examples=6.0, probability=[1.0, 0.0]))), neg_child=NonLeaf(value=ProbabilityValue(num_examples=46.0, probability=[0.5434782608695652, 0.45652173913043476]), condition=NumericalSparseObliqueCondition(missing=False, score=0.19768895208835602, attributes=[58], weights=[1.0], threshold=-0.3568452298641205), pos_child=Leaf(value=ProbabilityValue(num_examples=34.0, probability=[0.38235294117647056, 0.6176470588235294])), neg_child=Leaf(value=ProbabilityValue(num_examples=12.0, probability=[1.0, 0.0])))))), neg_child=NonLeaf(value=ProbabilityValue(num_examples=560.0, probability=[0.3607142857142857, 0.6392857142857142]), condition=NumericalSparseObliqueCondition(missing=False, score=0.03335917741060257, attributes=[14, 97, 136, 169], weights=[-0.14261873066425323, 0.0020204142201691866, -0.04497618228197098, -0.12629243731498718], threshold=-0.20340710878372192), pos_child=NonLeaf(value=ProbabilityValue(num_examples=434.0, probability=[0.423963133640553, 0.576036866359447]), condition=NumericalSparseObliqueCondition(missing=False, score=0.03755186125636101, attributes=[8, 16, 33, 54, 169, 197], weights=[0.15404771268367767, 0.0406593456864357, 0.13715830445289612, 0.11589718610048294, 0.13351985812187195, 0.1267888844013214], threshold=0.10658103972673416), pos_child=NonLeaf(value=ProbabilityValue(num_examples=203.0, probability=[0.28078817733990147, 0.7192118226600985]), condition=NumericalSparseObliqueCondition(missing=False, score=0.0661030188202858, attributes=[18], weights=[1.0], threshold=0.7712419033050537), pos_child=Leaf(value=ProbabilityValue(num_examples=46.0, probability=[0.021739130434782608, 0.9782608695652174])), neg_child=Leaf(value=ProbabilityValue(num_examples=157.0, probability=[0.35668789808917195, 0.643312101910828]))), neg_child=NonLeaf(value=ProbabilityValue(num_examples=231.0, probability=[0.5497835497835498, 0.45021645021645024]), condition=NumericalSparseObliqueCondition(missing=False, score=0.04686921089887619, attributes=[13], weights=[1.0], threshold=0.6442173719406128), pos_child=NonLeaf(value=ProbabilityValue(num_examples=65.0, probability=[0.3076923076923077, 0.6923076923076923]), condition=NumericalSparseObliqueCondition(missing=False, score=0.1523219645023346, attributes=[3, 92, 109], weights=[-0.06605926156044006, -0.04568815603852272, -0.09101048856973648], threshold=-0.0009533688426017761), pos_child=Leaf(value=ProbabilityValue(num_examples=26.0, probability=[0.6153846153846154, 0.38461538461538464])), neg_child=Leaf(value=ProbabilityValue(num_examples=39.0, probability=[0.10256410256410256, 0.8974358974358975]))), neg_child=NonLeaf(value=ProbabilityValue(num_examples=166.0, probability=[0.6445783132530121, 0.35542168674698793]), condition=NumericalSparseObliqueCondition(missing=False, score=0.07456260919570923, attributes=[45, 180, 196], weights=[-0.01727389171719551, -0.04390314593911171, 0.06469041109085083], threshold=-0.043476663529872894), pos_child=NonLeaf(value=ProbabilityValue(num_examples=123.0, probability=[0.5447154471544715, 0.45528455284552843]), condition=NumericalSparseObliqueCondition(missing=False, score=0.07159202545881271, attributes=[107], weights=[1.0], threshold=-0.30274254083633423), pos_child=Leaf(value=ProbabilityValue(num_examples=58.0, probability=[0.7413793103448276, 0.25862068965517243])), neg_child=NonLeaf(value=ProbabilityValue(num_examples=65.0, probability=[0.36923076923076925, 0.6307692307692307]), condition=NumericalSparseObliqueCondition(missing=False, score=0.15889476239681244, attributes=[34, 54, 101, 154, 173], weights=[-0.1210162416100502, 0.05300618335604668, 0.004586011171340942, 0.1407984048128128, 0.07093384861946106], threshold=0.013999385759234428), pos_child=Leaf(value=ProbabilityValue(num_examples=34.0, probability=[0.11764705882352941, 0.8823529411764706])), neg_child=Leaf(value=ProbabilityValue(num_examples=31.0, probability=[0.6451612903225806, 0.3548387096774194])))), neg_child=Leaf(value=ProbabilityValue(num_examples=43.0, probability=[0.9302325581395349, 0.06976744186046512]))))), neg_child=NonLeaf(value=ProbabilityValue(num_examples=126.0, probability=[0.14285714285714285, 0.8571428571428571]), condition=NumericalSparseObliqueCondition(missing=False, score=0.11478913575410843, attributes=[5, 17, 167], weights=[-0.10412374138832092, 0.05903979390859604, -0.02791702188551426], threshold=0.07065438479185104), pos_child=Leaf(value=ProbabilityValue(num_examples=25.0, probability=[0.52, 0.48])), neg_child=NonLeaf(value=ProbabilityValue(num_examples=101.0, probability=[0.04950495049504951, 0.9504950495049505]), condition=NumericalSparseObliqueCondition(missing=False, score=0.08863567560911179, attributes=[52], weights=[1.0], threshold=1.0895750522613525), pos_child=Leaf(value=ProbabilityValue(num_examples=19.0, probability=[0.2631578947368421, 0.7368421052631579])), neg_child=Leaf(value=ProbabilityValue(num_examples=82.0, probability=[0.0, 1.0])))))), neg_child=NonLeaf(value=ProbabilityValue(num_examples=762.0, probability=[0.7191601049868767, 0.28083989501312334]), condition=NumericalSparseObliqueCondition(missing=False, score=0.029306987300515175, attributes=[3], weights=[1.0], threshold=-0.3797904849052429), pos_child=NonLeaf(value=ProbabilityValue(num_examples=534.0, probability=[0.651685393258427, 0.34831460674157305]), condition=NumericalSparseObliqueCondition(missing=False, score=0.030977249145507812, attributes=[4, 12], weights=[-0.11481186002492905, -0.03100310079753399], threshold=-0.19216719269752502), pos_child=NonLeaf(value=ProbabilityValue(num_examples=494.0, probability=[0.6862348178137652, 0.31376518218623484]), condition=NumericalSparseObliqueCondition(missing=False, score=0.020077843219041824, attributes=[12, 190], weights=[-0.06309021264314651, -0.0481981597840786], threshold=0.11264152079820633), pos_child=Leaf(value=ProbabilityValue(num_examples=35.0, probability=[0.9714285714285714, 0.02857142857142857])), neg_child=NonLeaf(value=ProbabilityValue(num_examples=459.0, probability=[0.664488017429194, 0.3355119825708061]), condition=NumericalSparseObliqueCondition(missing=False, score=0.04692836105823517, attributes=[1, 32, 183], weights=[0.1166202500462532, 0.012548536993563175, 0.0023739724420011044], threshold=-0.04619748890399933), pos_child=NonLeaf(value=ProbabilityValue(num_examples=249.0, probability=[0.5341365461847389, 0.46586345381526106]), condition=NumericalSparseObliqueCondition(missing=False, score=0.051189180463552475, attributes=[19, 23, 156, 173], weights=[-0.009310519322752953, -0.09346889704465866, -0.04777873679995537, -0.07412868738174438], threshold=-0.018354227766394615), pos_child=Leaf(value=ProbabilityValue(num_examples=126.0, probability=[0.6904761904761905, 0.30952380952380953])), neg_child=NonLeaf(value=ProbabilityValue(num_examples=123.0, probability=[0.37398373983739835, 0.6260162601626016]), condition=NumericalSparseObliqueCondition(missing=False, score=0.077301025390625, attributes=[54, 62, 84], weights=[-0.019146928563714027, -0.051875799894332886, -0.08607044070959091], threshold=-0.1071658506989479), pos_child=NonLeaf(value=ProbabilityValue(num_examples=98.0, probability=[0.45918367346938777, 0.5408163265306123]), condition=NumericalSparseObliqueCondition(missing=False, score=0.09061378985643387, attributes=[24, 30, 40, 91], weights=[-0.06250743567943573, 0.00030261490610428154, -0.06835689395666122, -0.008443443104624748], threshold=-0.09096042811870575), pos_child=Leaf(value=ProbabilityValue(num_examples=76.0, probability=[0.5657894736842105, 0.4342105263157895])), neg_child=Leaf(value=ProbabilityValue(num_examples=22.0, probability=[0.09090909090909091, 0.9090909090909091]))), neg_child=Leaf(value=ProbabilityValue(num_examples=25.0, probability=[0.04, 0.96])))), neg_child=NonLeaf(value=ProbabilityValue(num_examples=210.0, probability=[0.819047619047619, 0.18095238095238095]), condition=NumericalSparseObliqueCondition(missing=False, score=0.050816088914871216, attributes=[25, 28, 32, 93, 103], weights=[-0.039118438959121704, 0.011768038384616375, -0.09738720953464508, 0.11026304215192795, 0.13700976967811584], threshold=0.3959951400756836), pos_child=Leaf(value=ProbabilityValue(num_examples=6.0, probability=[0.0, 1.0])), neg_child=NonLeaf(value=ProbabilityValue(num_examples=204.0, probability=[0.8431372549019608, 0.1568627450980392]), condition=NumericalSparseObliqueCondition(missing=False, score=0.05350572243332863, attributes=[74, 97, 102, 196], weights=[-0.05072932690382004, 0.11484017968177795, -0.03306439146399498, 0.013237486593425274], threshold=0.026744015514850616), pos_child=Leaf(value=ProbabilityValue(num_examples=81.0, probability=[0.9753086419753086, 0.024691358024691357])), neg_child=NonLeaf(value=ProbabilityValue(num_examples=123.0, probability=[0.7560975609756098, 0.24390243902439024]), condition=NumericalSparseObliqueCondition(missing=False, score=0.06512785702943802, attributes=[13, 40, 61, 100, 164, 191], weights=[0.022865964099764824, -0.002008279552683234, -0.14614929258823395, -0.1363418698310852, -0.1267876923084259, 0.050268594175577164], threshold=0.12373711913824081), pos_child=Leaf(value=ProbabilityValue(num_examples=35.0, probability=[0.9714285714285714, 0.02857142857142857])), neg_child=NonLeaf(value=ProbabilityValue(num_examples=88.0, probability=[0.6704545454545454, 0.32954545454545453]), condition=NumericalSparseObliqueCondition(missing=False, score=0.08991824090480804, attributes=[4, 28, 41, 135], weights=[0.007094581611454487, 0.026522738859057426, 0.13144183158874512, 0.11461394280195236], threshold=0.11875280737876892), pos_child=Leaf(value=ProbabilityValue(num_examples=22.0, probability=[0.3181818181818182, 0.6818181818181818])), neg_child=Leaf(value=ProbabilityValue(num_examples=66.0, probability=[0.7878787878787878, 0.21212121212121213])))))))), neg_child=NonLeaf(value=ProbabilityValue(num_examples=40.0, probability=[0.225, 0.775]), condition=NumericalSparseObliqueCondition(missing=False, score=0.2707764804363251, attributes=[48, 113], weights=[0.08378281444311142, 0.0015611684648320079], threshold=-0.05993067845702171), pos_child=Leaf(value=ProbabilityValue(num_examples=32.0, probability=[0.0625, 0.9375])), neg_child=Leaf(value=ProbabilityValue(num_examples=8.0, probability=[0.875, 0.125])))), neg_child=NonLeaf(value=ProbabilityValue(num_examples=228.0, probability=[0.8771929824561403, 0.12280701754385964]), condition=NumericalSparseObliqueCondition(missing=False, score=0.0412905290722847, attributes=[6], weights=[1.0], threshold=-0.6114353537559509), pos_child=Leaf(value=ProbabilityValue(num_examples=167.0, probability=[0.8323353293413174, 0.16766467065868262])), neg_child=Leaf(value=ProbabilityValue(num_examples=61.0, probability=[1.0, 0.0])))))\n"
     ]
    },
    {
     "data": {
      "text/plain": [
       "(30, 198)"
      ]
     },
     "execution_count": 85,
     "metadata": {},
     "output_type": "execute_result"
    }
   ],
   "source": [
    "projection_matrix, proj_dim, _, _ = extract_projections_pipline(params_ydf,\n",
    "                                                n_sample=2000, \n",
    "                                                n_estimator=100, \n",
    "                                                n_dim=200, \n",
    "                                                max_feature=100, \n",
    "                                                feature_combination=3.0)\n",
    "projection_matrix.shape"
   ]
  },
  {
   "cell_type": "code",
   "execution_count": null,
   "metadata": {},
   "outputs": [
    {
     "name": "stdout",
     "output_type": "stream",
     "text": [
      "Train model on 1600 examples\n",
      "Model trained in 0:00:02.524466\n",
      "* NonLeaf(value=ProbabilityValue(num_examples=1600.0, probability=[0.5, 0.5]), condition=NumericalSparseObliqueCondition(missing=False, score=0.02640022709965706, attributes=[4], weights=[1.0], threshold=-0.0243707075715065), pos_child=NonLeaf(value=ProbabilityValue(num_examples=942.0, probability=[0.40445859872611467, 0.5955414012738853]), condition=NumericalSparseObliqueCondition(missing=False, score=0.04424554854631424, attributes=[2], weights=[1.0], threshold=1.0494449138641357), pos_child=NonLeaf(value=ProbabilityValue(num_examples=260.0, probability=[0.17692307692307693, 0.823076923076923]), condition=NumericalSparseObliqueCondition(missing=False, score=0.07184826582670212, attributes=[1], weights=[1.0], threshold=0.3606805205345154), pos_child=Leaf(value=ProbabilityValue(num_examples=176.0, probability=[0.07386363636363637, 0.9261363636363636])), neg_child=NonLeaf(value=ProbabilityValue(num_examples=84.0, probability=[0.39285714285714285, 0.6071428571428571]), condition=NumericalSparseObliqueCondition(missing=False, score=0.0926026776432991, attributes=[237, 581, 955], weights=[-0.06267405301332474, -0.08773020654916763, -0.09019780904054642], threshold=0.14212258160114288), pos_child=Leaf(value=ProbabilityValue(num_examples=14.0, probability=[0.8571428571428571, 0.14285714285714285])), neg_child=NonLeaf(value=ProbabilityValue(num_examples=70.0, probability=[0.3, 0.7]), condition=NumericalSparseObliqueCondition(missing=False, score=0.10977723449468613, attributes=[586], weights=[1.0], threshold=0.9464734196662903), pos_child=Leaf(value=ProbabilityValue(num_examples=18.0, probability=[0.0, 1.0])), neg_child=Leaf(value=ProbabilityValue(num_examples=52.0, probability=[0.40384615384615385, 0.5961538461538461]))))), neg_child=NonLeaf(value=ProbabilityValue(num_examples=682.0, probability=[0.4912023460410557, 0.5087976539589443]), condition=NumericalSparseObliqueCondition(missing=False, score=0.06284630298614502, attributes=[1, 42, 60], weights=[0.11831370741128922, 0.15238431096076965, 0.052037160843610764], threshold=-0.031263090670108795), pos_child=NonLeaf(value=ProbabilityValue(num_examples=465.0, probability=[0.3720430107526882, 0.6279569892473118]), condition=NumericalSparseObliqueCondition(missing=False, score=0.06924077868461609, attributes=[1, 637, 709], weights=[0.0971047654747963, 0.05459684133529663, -0.008782182820141315], threshold=0.16146230697631836), pos_child=Leaf(value=ProbabilityValue(num_examples=125.0, probability=[0.096, 0.904])), neg_child=NonLeaf(value=ProbabilityValue(num_examples=340.0, probability=[0.47352941176470587, 0.5264705882352941]), condition=NumericalSparseObliqueCondition(missing=False, score=0.05392057076096535, attributes=[10], weights=[1.0], threshold=-0.045631006360054016), pos_child=NonLeaf(value=ProbabilityValue(num_examples=193.0, probability=[0.3316062176165803, 0.6683937823834197]), condition=NumericalSparseObliqueCondition(missing=False, score=0.047169752418994904, attributes=[576], weights=[1.0], threshold=-0.677926242351532), pos_child=NonLeaf(value=ProbabilityValue(num_examples=148.0, probability=[0.25, 0.75]), condition=NumericalSparseObliqueCondition(missing=False, score=0.06158878281712532, attributes=[536, 867], weights=[0.15205329656600952, 0.12948398292064667], threshold=-0.029039541259407997), pos_child=Leaf(value=ProbabilityValue(num_examples=76.0, probability=[0.10526315789473684, 0.8947368421052632])), neg_child=NonLeaf(value=ProbabilityValue(num_examples=72.0, probability=[0.4027777777777778, 0.5972222222222222]), condition=NumericalSparseObliqueCondition(missing=False, score=0.1496134102344513, attributes=[218, 302, 433], weights=[-0.07888620346784592, -0.062222693115472794, -0.012360826134681702], threshold=-0.09392710775136948), pos_child=Leaf(value=ProbabilityValue(num_examples=58.0, probability=[0.27586206896551724, 0.7241379310344828])), neg_child=Leaf(value=ProbabilityValue(num_examples=14.0, probability=[0.9285714285714286, 0.07142857142857142])))), neg_child=NonLeaf(value=ProbabilityValue(num_examples=45.0, probability=[0.6, 0.4]), condition=NumericalSparseObliqueCondition(missing=False, score=0.17542318999767303, attributes=[351], weights=[1.0], threshold=0.6471355557441711), pos_child=Leaf(value=ProbabilityValue(num_examples=13.0, probability=[0.15384615384615385, 0.8461538461538461])), neg_child=Leaf(value=ProbabilityValue(num_examples=32.0, probability=[0.78125, 0.21875])))), neg_child=NonLeaf(value=ProbabilityValue(num_examples=147.0, probability=[0.6598639455782312, 0.3401360544217687]), condition=NumericalSparseObliqueCondition(missing=False, score=0.07717511057853699, attributes=[13, 485], weights=[0.1452566236257553, 0.03957904502749443], threshold=-0.09685563296079636), pos_child=NonLeaf(value=ProbabilityValue(num_examples=115.0, probability=[0.5739130434782609, 0.4260869565217391]), condition=NumericalSparseObliqueCondition(missing=False, score=0.09218672662973404, attributes=[883], weights=[1.0], threshold=0.5867944955825806), pos_child=NonLeaf(value=ProbabilityValue(num_examples=33.0, probability=[0.24242424242424243, 0.7575757575757576]), condition=NumericalSparseObliqueCondition(missing=False, score=0.2531995475292206, attributes=[873], weights=[1.0], threshold=0.9145400524139404), pos_child=Leaf(value=ProbabilityValue(num_examples=7.0, probability=[0.8571428571428571, 0.14285714285714285])), neg_child=Leaf(value=ProbabilityValue(num_examples=26.0, probability=[0.07692307692307693, 0.9230769230769231]))), neg_child=NonLeaf(value=ProbabilityValue(num_examples=82.0, probability=[0.7073170731707317, 0.2926829268292683]), condition=NumericalSparseObliqueCondition(missing=False, score=0.09839722514152527, attributes=[219], weights=[1.0], threshold=-0.22244365513324738), pos_child=Leaf(value=ProbabilityValue(num_examples=45.0, probability=[0.5333333333333333, 0.4666666666666667])), neg_child=Leaf(value=ProbabilityValue(num_examples=37.0, probability=[0.918918918918919, 0.08108108108108109])))), neg_child=Leaf(value=ProbabilityValue(num_examples=32.0, probability=[0.96875, 0.03125]))))), neg_child=NonLeaf(value=ProbabilityValue(num_examples=217.0, probability=[0.7465437788018433, 0.2534562211981567]), condition=NumericalSparseObliqueCondition(missing=False, score=0.04890298470854759, attributes=[1, 207], weights=[-0.10427117347717285, -0.10869433730840683], threshold=-0.07015642523765564), pos_child=NonLeaf(value=ProbabilityValue(num_examples=172.0, probability=[0.8197674418604651, 0.18023255813953487]), condition=NumericalSparseObliqueCondition(missing=False, score=0.055920328944921494, attributes=[8], weights=[1.0], threshold=0.2454000562429428), pos_child=Leaf(value=ProbabilityValue(num_examples=73.0, probability=[0.6712328767123288, 0.3287671232876712])), neg_child=NonLeaf(value=ProbabilityValue(num_examples=99.0, probability=[0.9292929292929293, 0.0707070707070707]), condition=NumericalSparseObliqueCondition(missing=False, score=0.0986962616443634, attributes=[284], weights=[1.0], threshold=-0.946825385093689), pos_child=Leaf(value=ProbabilityValue(num_examples=84.0, probability=[0.9880952380952381, 0.011904761904761904])), neg_child=Leaf(value=ProbabilityValue(num_examples=15.0, probability=[0.6, 0.4])))), neg_child=Leaf(value=ProbabilityValue(num_examples=45.0, probability=[0.4666666666666667, 0.5333333333333333]))))), neg_child=NonLeaf(value=ProbabilityValue(num_examples=658.0, probability=[0.6367781155015197, 0.36322188449848025]), condition=NumericalSparseObliqueCondition(missing=False, score=0.054257992655038834, attributes=[2], weights=[1.0], threshold=0.16593676805496216), pos_child=NonLeaf(value=ProbabilityValue(num_examples=364.0, probability=[0.49725274725274726, 0.5027472527472527]), condition=NumericalSparseObliqueCondition(missing=False, score=0.030271559953689575, attributes=[41, 507, 703], weights=[-0.06038974970579147, 0.010651357471942902, -0.03414766862988472], threshold=-0.0865655243396759), pos_child=NonLeaf(value=ProbabilityValue(num_examples=311.0, probability=[0.5466237942122186, 0.4533762057877814]), condition=NumericalSparseObliqueCondition(missing=False, score=0.0645177885890007, attributes=[1, 438, 470], weights=[-0.08786353468894958, 0.021636193618178368, -0.011484009213745594], threshold=-0.059909723699092865), pos_child=NonLeaf(value=ProbabilityValue(num_examples=175.0, probability=[0.7028571428571428, 0.29714285714285715]), condition=NumericalSparseObliqueCondition(missing=False, score=0.06808438152074814, attributes=[3], weights=[1.0], threshold=0.5434269905090332), pos_child=NonLeaf(value=ProbabilityValue(num_examples=66.0, probability=[0.48484848484848486, 0.5151515151515151]), condition=NumericalSparseObliqueCondition(missing=False, score=0.13967807590961456, attributes=[16, 869], weights=[0.1495613157749176, 0.03351472690701485], threshold=0.15985405445098877), pos_child=Leaf(value=ProbabilityValue(num_examples=12.0, probability=[0.0, 1.0])), neg_child=Leaf(value=ProbabilityValue(num_examples=54.0, probability=[0.5925925925925926, 0.4074074074074074]))), neg_child=Leaf(value=ProbabilityValue(num_examples=109.0, probability=[0.8348623853211009, 0.1651376146788991]))), neg_child=Leaf(value=ProbabilityValue(num_examples=136.0, probability=[0.34558823529411764, 0.6544117647058824]))), neg_child=NonLeaf(value=ProbabilityValue(num_examples=53.0, probability=[0.20754716981132076, 0.7924528301886793]), condition=NumericalSparseObliqueCondition(missing=False, score=0.1581476926803589, attributes=[156], weights=[1.0], threshold=-0.9308976531028748), pos_child=NonLeaf(value=ProbabilityValue(num_examples=46.0, probability=[0.10869565217391304, 0.8913043478260869]), condition=NumericalSparseObliqueCondition(missing=False, score=0.16793476045131683, attributes=[396], weights=[1.0], threshold=-1.5519450902938843), pos_child=NonLeaf(value=ProbabilityValue(num_examples=43.0, probability=[0.046511627906976744, 0.9534883720930233]), condition=NumericalSparseObliqueCondition(missing=False, score=0.1881129890680313, attributes=[397], weights=[1.0], threshold=2.0519254207611084), pos_child=Leaf(value=ProbabilityValue(num_examples=2.0, probability=[1.0, 0.0])), neg_child=Leaf(value=ProbabilityValue(num_examples=41.0, probability=[0.0, 1.0]))), neg_child=Leaf(value=ProbabilityValue(num_examples=3.0, probability=[1.0, 0.0]))), neg_child=Leaf(value=ProbabilityValue(num_examples=7.0, probability=[0.8571428571428571, 0.14285714285714285])))), neg_child=NonLeaf(value=ProbabilityValue(num_examples=294.0, probability=[0.8095238095238095, 0.19047619047619047]), condition=NumericalSparseObliqueCondition(missing=False, score=0.028446001932024956, attributes=[261, 899], weights=[0.08475074917078018, -0.12443503737449646], threshold=0.19301877915859222), pos_child=Leaf(value=ProbabilityValue(num_examples=30.0, probability=[0.5, 0.5])), neg_child=NonLeaf(value=ProbabilityValue(num_examples=264.0, probability=[0.8446969696969697, 0.1553030303030303]), condition=NumericalSparseObliqueCondition(missing=False, score=0.0650898814201355, attributes=[1], weights=[1.0], threshold=1.264369249343872), pos_child=Leaf(value=ProbabilityValue(num_examples=39.0, probability=[0.48717948717948717, 0.5128205128205128])), neg_child=NonLeaf(value=ProbabilityValue(num_examples=225.0, probability=[0.9066666666666666, 0.09333333333333334]), condition=NumericalSparseObliqueCondition(missing=False, score=0.036269642412662506, attributes=[746], weights=[1.0], threshold=-0.6429868936538696), pos_child=Leaf(value=ProbabilityValue(num_examples=156.0, probability=[0.8653846153846154, 0.1346153846153846])), neg_child=Leaf(value=ProbabilityValue(num_examples=69.0, probability=[1.0, 0.0])))))))\n"
     ]
    },
    {
     "data": {
      "text/plain": [
       "(30, 956)"
      ]
     },
     "execution_count": 86,
     "metadata": {},
     "output_type": "execute_result"
    }
   ],
   "source": [
    "projection_matrix, proj_dim, _, _ = extract_projections_pipline(params_ydf,\n",
    "                                                n_sample=2000, \n",
    "                                                n_estimator=100, \n",
    "                                                n_dim=1000, \n",
    "                                                max_feature=300, \n",
    "                                                feature_combination=1.0)\n",
    "projection_matrix.shape"
   ]
  },
  {
   "cell_type": "code",
   "execution_count": null,
   "metadata": {},
   "outputs": [
    {
     "name": "stdout",
     "output_type": "stream",
     "text": [
      "Train model on 1600 examples\n",
      "Model trained in 0:00:00.038572\n",
      "* NonLeaf(value=ProbabilityValue(num_examples=1600.0, probability=[0.5, 0.5]), condition=NumericalSparseObliqueCondition(missing=False, score=0.0023543008137494326, attributes=[513], weights=[1.0], threshold=-0.20640619099140167), pos_child=NonLeaf(value=ProbabilityValue(num_examples=942.0, probability=[0.4713375796178344, 0.5286624203821656]), condition=NumericalSparseObliqueCondition(missing=False, score=0.01493818685412407, attributes=[6], weights=[1.0], threshold=0.8464932441711426), pos_child=Leaf(value=ProbabilityValue(num_examples=247.0, probability=[0.32793522267206476, 0.6720647773279352])), neg_child=NonLeaf(value=ProbabilityValue(num_examples=695.0, probability=[0.5223021582733813, 0.4776978417266187]), condition=NumericalSparseObliqueCondition(missing=False, score=0.0037507221568375826, attributes=[236, 246], weights=[-0.12089046090841293, 0.0034681425895541906], threshold=-0.2745153605937958), pos_child=NonLeaf(value=ProbabilityValue(num_examples=683.0, probability=[0.5168374816983895, 0.48316251830161056]), condition=NumericalSparseObliqueCondition(missing=False, score=0.004278551321476698, attributes=[838], weights=[1.0], threshold=-2.3361597061157227), pos_child=NonLeaf(value=ProbabilityValue(num_examples=679.0, probability=[0.5198821796759941, 0.4801178203240059]), condition=NumericalSparseObliqueCondition(missing=False, score=0.0028992057777941227, attributes=[608], weights=[1.0], threshold=2.229501485824585), pos_child=Leaf(value=ProbabilityValue(num_examples=3.0, probability=[1.0, 0.0])), neg_child=NonLeaf(value=ProbabilityValue(num_examples=676.0, probability=[0.5177514792899408, 0.4822485207100592]), condition=NumericalSparseObliqueCondition(missing=False, score=0.004334325902163982, attributes=[1000], weights=[1.0], threshold=-2.546962261199951), pos_child=NonLeaf(value=ProbabilityValue(num_examples=672.0, probability=[0.5208333333333334, 0.4791666666666667]), condition=NumericalSparseObliqueCondition(missing=False, score=0.009952099062502384, attributes=[887], weights=[1.0], threshold=-2.276521682739258), pos_child=NonLeaf(value=ProbabilityValue(num_examples=663.0, probability=[0.5279034690799397, 0.4720965309200603]), condition=NumericalSparseObliqueCondition(missing=False, score=0.0033602023031562567, attributes=[72, 146], weights=[0.06847585737705231, 0.007370115257799625], threshold=0.08779461681842804), pos_child=NonLeaf(value=ProbabilityValue(num_examples=75.0, probability=[0.41333333333333333, 0.5866666666666667]), condition=NumericalSparseObliqueCondition(missing=False, score=0.0258816909044981, attributes=[150, 175, 611], weights=[-0.01668616756796837, 0.08335210382938385, 0.0059683374129235744], threshold=-0.032575733959674835), pos_child=NonLeaf(value=ProbabilityValue(num_examples=55.0, probability=[0.34545454545454546, 0.6545454545454545]), condition=NumericalSparseObliqueCondition(missing=False, score=0.07757697999477386, attributes=[241], weights=[1.0], threshold=1.1884138584136963), pos_child=Leaf(value=ProbabilityValue(num_examples=9.0, probability=[0.0, 1.0])), neg_child=Leaf(value=ProbabilityValue(num_examples=46.0, probability=[0.41304347826086957, 0.5869565217391305]))), neg_child=NonLeaf(value=ProbabilityValue(num_examples=20.0, probability=[0.6, 0.4]), condition=NumericalSparseObliqueCondition(missing=False, score=0.11849391460418701, attributes=[444], weights=[1.0], threshold=0.3358156681060791), pos_child=Leaf(value=ProbabilityValue(num_examples=4.0, probability=[1.0, 0.0])), neg_child=Leaf(value=ProbabilityValue(num_examples=16.0, probability=[0.5, 0.5])))), neg_child=Leaf(value=ProbabilityValue(num_examples=588.0, probability=[0.5425170068027211, 0.4574829931972789]))), neg_child=Leaf(value=ProbabilityValue(num_examples=9.0, probability=[0.0, 1.0]))), neg_child=Leaf(value=ProbabilityValue(num_examples=4.0, probability=[0.0, 1.0])))), neg_child=Leaf(value=ProbabilityValue(num_examples=4.0, probability=[0.0, 1.0]))), neg_child=Leaf(value=ProbabilityValue(num_examples=12.0, probability=[0.8333333333333334, 0.16666666666666666])))), neg_child=NonLeaf(value=ProbabilityValue(num_examples=658.0, probability=[0.541033434650456, 0.45896656534954405]), condition=NumericalSparseObliqueCondition(missing=False, score=0.00636454951018095, attributes=[857], weights=[1.0], threshold=1.7113196849822998), pos_child=NonLeaf(value=ProbabilityValue(num_examples=32.0, probability=[0.78125, 0.21875]), condition=NumericalSparseObliqueCondition(missing=False, score=0.08364704251289368, attributes=[607], weights=[1.0], threshold=-0.5861915349960327), pos_child=Leaf(value=ProbabilityValue(num_examples=23.0, probability=[0.6956521739130435, 0.30434782608695654])), neg_child=Leaf(value=ProbabilityValue(num_examples=9.0, probability=[1.0, 0.0]))), neg_child=NonLeaf(value=ProbabilityValue(num_examples=626.0, probability=[0.5287539936102237, 0.4712460063897764]), condition=NumericalSparseObliqueCondition(missing=False, score=0.006045446265488863, attributes=[992], weights=[1.0], threshold=2.4943087100982666), pos_child=Leaf(value=ProbabilityValue(num_examples=5.0, probability=[0.0, 1.0])), neg_child=NonLeaf(value=ProbabilityValue(num_examples=621.0, probability=[0.533011272141707, 0.4669887278582931]), condition=NumericalSparseObliqueCondition(missing=False, score=0.005785769317299128, attributes=[667, 682, 989], weights=[0.1474156528711319, -0.13607515394687653, 0.024331245571374893], threshold=0.10169918090105057), pos_child=NonLeaf(value=ProbabilityValue(num_examples=198.0, probability=[0.45454545454545453, 0.5454545454545454]), condition=NumericalSparseObliqueCondition(missing=False, score=0.012086346745491028, attributes=[137], weights=[1.0], threshold=-1.9301471710205078), pos_child=Leaf(value=ProbabilityValue(num_examples=195.0, probability=[0.4461538461538462, 0.5538461538461539])), neg_child=Leaf(value=ProbabilityValue(num_examples=3.0, probability=[1.0, 0.0]))), neg_child=NonLeaf(value=ProbabilityValue(num_examples=423.0, probability=[0.5697399527186762, 0.4302600472813239]), condition=NumericalSparseObliqueCondition(missing=False, score=0.009920187294483185, attributes=[175], weights=[1.0], threshold=-1.6357883214950562), pos_child=NonLeaf(value=ProbabilityValue(num_examples=401.0, probability=[0.5860349127182045, 0.4139650872817955]), condition=NumericalSparseObliqueCondition(missing=False, score=0.005059289745986462, attributes=[466], weights=[1.0], threshold=1.2754491567611694), pos_child=NonLeaf(value=ProbabilityValue(num_examples=43.0, probability=[0.4418604651162791, 0.5581395348837209]), condition=NumericalSparseObliqueCondition(missing=False, score=0.07612022757530212, attributes=[49], weights=[1.0], threshold=-0.9875667095184326), pos_child=Leaf(value=ProbabilityValue(num_examples=31.0, probability=[0.3225806451612903, 0.6774193548387096])), neg_child=Leaf(value=ProbabilityValue(num_examples=12.0, probability=[0.75, 0.25]))), neg_child=NonLeaf(value=ProbabilityValue(num_examples=358.0, probability=[0.6033519553072626, 0.39664804469273746]), condition=NumericalSparseObliqueCondition(missing=False, score=0.007986540906131268, attributes=[369], weights=[1.0], threshold=0.4053261876106262), pos_child=NonLeaf(value=ProbabilityValue(num_examples=127.0, probability=[0.5196850393700787, 0.48031496062992124]), condition=NumericalSparseObliqueCondition(missing=False, score=0.02365114912390709, attributes=[980], weights=[1.0], threshold=2.3676083087921143), pos_child=Leaf(value=ProbabilityValue(num_examples=4.0, probability=[0.0, 1.0])), neg_child=NonLeaf(value=ProbabilityValue(num_examples=123.0, probability=[0.5365853658536586, 0.4634146341463415]), condition=NumericalSparseObliqueCondition(missing=False, score=0.03316923975944519, attributes=[776], weights=[1.0], threshold=0.947577714920044), pos_child=Leaf(value=ProbabilityValue(num_examples=21.0, probability=[0.8095238095238095, 0.19047619047619047])), neg_child=NonLeaf(value=ProbabilityValue(num_examples=102.0, probability=[0.4803921568627451, 0.5196078431372549]), condition=NumericalSparseObliqueCondition(missing=False, score=0.022045806050300598, attributes=[265], weights=[1.0], threshold=1.6875306367874146), pos_child=Leaf(value=ProbabilityValue(num_examples=3.0, probability=[1.0, 0.0])), neg_child=Leaf(value=ProbabilityValue(num_examples=99.0, probability=[0.46464646464646464, 0.5353535353535354]))))), neg_child=NonLeaf(value=ProbabilityValue(num_examples=231.0, probability=[0.6493506493506493, 0.35064935064935066]), condition=NumericalSparseObliqueCondition(missing=False, score=0.00757032772526145, attributes=[380, 938], weights=[-0.10263656824827194, -0.0017239206936210394], threshold=-0.08482588827610016), pos_child=NonLeaf(value=ProbabilityValue(num_examples=178.0, probability=[0.6179775280898876, 0.38202247191011235]), condition=NumericalSparseObliqueCondition(missing=False, score=0.009850114583969116, attributes=[883], weights=[1.0], threshold=0.9332033395767212), pos_child=Leaf(value=ProbabilityValue(num_examples=21.0, probability=[0.42857142857142855, 0.5714285714285714])), neg_child=NonLeaf(value=ProbabilityValue(num_examples=157.0, probability=[0.643312101910828, 0.35668789808917195]), condition=NumericalSparseObliqueCondition(missing=False, score=0.026245512068271637, attributes=[357], weights=[1.0], threshold=-1.3659694194793701), pos_child=Leaf(value=ProbabilityValue(num_examples=148.0, probability=[0.6216216216216216, 0.3783783783783784])), neg_child=Leaf(value=ProbabilityValue(num_examples=9.0, probability=[1.0, 0.0])))), neg_child=Leaf(value=ProbabilityValue(num_examples=53.0, probability=[0.7547169811320755, 0.24528301886792453]))))), neg_child=NonLeaf(value=ProbabilityValue(num_examples=22.0, probability=[0.2727272727272727, 0.7272727272727273]), condition=NumericalSparseObliqueCondition(missing=False, score=0.08426066488027573, attributes=[194], weights=[1.0], threshold=1.0976123809814453), pos_child=Leaf(value=ProbabilityValue(num_examples=5.0, probability=[0.0, 1.0])), neg_child=NonLeaf(value=ProbabilityValue(num_examples=17.0, probability=[0.35294117647058826, 0.6470588235294118]), condition=NumericalSparseObliqueCondition(missing=False, score=0.15996800363063812, attributes=[428], weights=[1.0], threshold=-0.7580550909042358), pos_child=NonLeaf(value=ProbabilityValue(num_examples=12.0, probability=[0.5, 0.5]), condition=NumericalSparseObliqueCondition(missing=False, score=0.21576158702373505, attributes=[750], weights=[1.0], threshold=0.8698679208755493), pos_child=Leaf(value=ProbabilityValue(num_examples=3.0, probability=[1.0, 0.0])), neg_child=NonLeaf(value=ProbabilityValue(num_examples=9.0, probability=[0.3333333333333333, 0.6666666666666666]), condition=NumericalSparseObliqueCondition(missing=False, score=0.3865874111652374, attributes=[292], weights=[1.0], threshold=0.37842676043510437), pos_child=Leaf(value=ProbabilityValue(num_examples=4.0, probability=[0.75, 0.25])), neg_child=Leaf(value=ProbabilityValue(num_examples=5.0, probability=[0.0, 1.0])))), neg_child=Leaf(value=ProbabilityValue(num_examples=5.0, probability=[0.0, 1.0])))))))))\n"
     ]
    },
    {
     "data": {
      "text/plain": [
       "(30, 1001)"
      ]
     },
     "execution_count": 88,
     "metadata": {},
     "output_type": "execute_result"
    }
   ],
   "source": [
    "projection_matrix, proj_dim, _, _ = extract_projections_pipline(params_ydf,\n",
    "                                                n_sample=2000, \n",
    "                                                n_estimator=100, \n",
    "                                                n_dim=1000, \n",
    "                                                max_feature=300, \n",
    "                                                feature_combination=1.0,\n",
    "                                                exponent=100.0)\n",
    "projection_matrix.shape"
   ]
  }
 ],
 "metadata": {
  "kernelspec": {
   "display_name": "catboost_env",
   "language": "python",
   "name": "python3"
  },
  "language_info": {
   "codemirror_mode": {
    "name": "ipython",
    "version": 3
   },
   "file_extension": ".py",
   "mimetype": "text/x-python",
   "name": "python",
   "nbconvert_exporter": "python",
   "pygments_lexer": "ipython3",
   "version": "3.10.16"
  }
 },
 "nbformat": 4,
 "nbformat_minor": 2
}
